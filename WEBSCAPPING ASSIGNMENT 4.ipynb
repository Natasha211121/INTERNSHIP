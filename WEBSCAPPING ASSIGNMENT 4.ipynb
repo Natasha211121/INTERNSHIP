{
 "cells": [
  {
   "cell_type": "markdown",
   "id": "680a7829",
   "metadata": {},
   "source": [
    "# WEBSCAPPING ASSIGNMENT 4"
   ]
  },
  {
   "cell_type": "code",
   "execution_count": 2,
   "id": "821ad187",
   "metadata": {},
   "outputs": [],
   "source": [
    "import pandas as pd\n",
    "import selenium\n",
    "from selenium import webdriver\n",
    "import warnings\n",
    "warnings.filterwarnings('ignore')\n",
    "import requests\n",
    "from selenium.common.exceptions import StaleElementReferenceException, NoSuchElementException, NoSuchWindowException,ElementNotInteractableException,InvalidArgumentException\n",
    "from selenium.webdriver.common.by import By\n",
    "import time"
   ]
  },
  {
   "cell_type": "code",
   "execution_count": 3,
   "id": "45593353",
   "metadata": {},
   "outputs": [],
   "source": [
    "driver=webdriver.Chrome(r\"C:\\Users\\DELL\\Downloads\\chromedriver_win32 (1)\\chromedriver.exe\")"
   ]
  },
  {
   "cell_type": "markdown",
   "id": "8c3a8d72",
   "metadata": {},
   "source": [
    "1. Scrape the details of most viewed videos on YouTube from Wikipedia.\n",
    "Url = https://en.wikipedia.org/wiki/List_of_most-viewed_YouTube_videos\n",
    "You need to find following details:\n",
    "A) Rank\n",
    "B) Name\n",
    "C) Artist\n",
    "D) Upload date\n",
    "E) Views"
   ]
  },
  {
   "cell_type": "code",
   "execution_count": 224,
   "id": "37dc9831",
   "metadata": {},
   "outputs": [],
   "source": [
    "driver.get('https://en.wikipedia.org/wiki/List_of_most-viewed_YouTube_videos')"
   ]
  },
  {
   "cell_type": "code",
   "execution_count": 232,
   "id": "f6f9d8bd",
   "metadata": {},
   "outputs": [],
   "source": [
    "namee=[]\n",
    "try:\n",
    "    ns=driver.find_elements(By.XPATH,'//td')\n",
    "    for i in ns[2:182]:\n",
    "        namee.append(i.text)\n",
    "except NoSuchElementException:\n",
    "    namee.append('-')"
   ]
  },
  {
   "cell_type": "code",
   "execution_count": 233,
   "id": "551b71ad",
   "metadata": {},
   "outputs": [
    {
     "data": {
      "text/plain": [
       "['1.',\n",
       " '\"Baby Shark Dance\"[3]',\n",
       " \"Pinkfong Baby Shark - Kids' Songs & Stories\",\n",
       " '11.24',\n",
       " 'June 17, 2016',\n",
       " '[A]',\n",
       " '2.',\n",
       " '\"Despacito\"[6]',\n",
       " 'Luis Fonsi',\n",
       " '7.96',\n",
       " 'January 12, 2017',\n",
       " '[B]',\n",
       " '3.',\n",
       " '\"Johny Johny Yes Papa\"[12]',\n",
       " 'LooLoo Kids',\n",
       " '6.44',\n",
       " 'October 8, 2016',\n",
       " '[C]',\n",
       " '4.',\n",
       " '\"Shape of You\"[13]',\n",
       " 'Ed Sheeran',\n",
       " '5.80',\n",
       " 'January 30, 2017',\n",
       " '[D]',\n",
       " '5.',\n",
       " '\"See You Again\"[15]',\n",
       " 'Wiz Khalifa',\n",
       " '5.62',\n",
       " 'April 6, 2015',\n",
       " '[E]',\n",
       " '6.',\n",
       " '\"Bath Song\"[20]',\n",
       " 'Cocomelon – Nursery Rhymes',\n",
       " '5.59',\n",
       " 'May 2, 2018',\n",
       " '[F]',\n",
       " '7.',\n",
       " '\"Phonics Song with Two Words\"[21]',\n",
       " 'ChuChu TV',\n",
       " '4.85',\n",
       " 'March 6, 2014',\n",
       " '[G]',\n",
       " '8.',\n",
       " '\"Uptown Funk\"[22]',\n",
       " 'Mark Ronson',\n",
       " '4.68',\n",
       " 'November 19, 2014',\n",
       " '[H]',\n",
       " '9.',\n",
       " '\"Learning Colors – Colorful Eggs on a Farm\"[23]',\n",
       " 'Miroshka TV',\n",
       " '4.61',\n",
       " 'February 27, 2018',\n",
       " '[I]',\n",
       " '10.',\n",
       " '\"Gangnam Style\"[24]',\n",
       " 'Psy',\n",
       " '4.53',\n",
       " 'July 15, 2012',\n",
       " '[J]',\n",
       " '11.',\n",
       " '\"Masha and the Bear – Recipe for Disaster\"[29]',\n",
       " 'Get Movies',\n",
       " '4.51',\n",
       " 'January 31, 2012',\n",
       " '[K]',\n",
       " '12.',\n",
       " '\"Wheels on the Bus\"[30]',\n",
       " 'Cocomelon – Nursery Rhymes',\n",
       " '4.31',\n",
       " 'May 24, 2018',\n",
       " '',\n",
       " '13.',\n",
       " '\"Dame Tu Cosita\"[31]',\n",
       " 'El Chombo',\n",
       " '4.05',\n",
       " 'April 5, 2018',\n",
       " '',\n",
       " '14.',\n",
       " '\"Sugar\"[32]',\n",
       " 'Maroon 5',\n",
       " '3.75',\n",
       " 'January 14, 2015',\n",
       " '',\n",
       " '15.',\n",
       " '\"Roar\"[33]',\n",
       " 'Katy Perry',\n",
       " '3.64',\n",
       " 'September 5, 2013',\n",
       " '',\n",
       " '16.',\n",
       " '\"Counting Stars\"[34]',\n",
       " 'OneRepublic',\n",
       " '3.63',\n",
       " 'May 31, 2013',\n",
       " '',\n",
       " '17.',\n",
       " '\"Sorry\"[35]',\n",
       " 'Justin Bieber',\n",
       " '3.58',\n",
       " 'October 22, 2015',\n",
       " '',\n",
       " '18.',\n",
       " '\"Axel F\"[36]',\n",
       " 'Crazy Frog',\n",
       " '3.49',\n",
       " 'June 16, 2009',\n",
       " '',\n",
       " '18.',\n",
       " '\"Thinking Out Loud\"[37]',\n",
       " 'Ed Sheeran',\n",
       " '3.49',\n",
       " 'October 7, 2014',\n",
       " '',\n",
       " '20.',\n",
       " '\"Baa Baa Black Sheep\"[38]',\n",
       " 'Cocomelon – Nursery Rhymes',\n",
       " '3.35',\n",
       " 'June 25, 2018',\n",
       " '',\n",
       " '21.',\n",
       " '\"Dark Horse\"[39]',\n",
       " 'Katy Perry',\n",
       " '3.34',\n",
       " 'February 20, 2014',\n",
       " '',\n",
       " '22.',\n",
       " '\"Faded\"[40]',\n",
       " 'Alan Walker',\n",
       " '3.33',\n",
       " 'December 3, 2015',\n",
       " '',\n",
       " '23.',\n",
       " '\"Girls Like You\"[41]',\n",
       " 'Maroon 5',\n",
       " '3.33',\n",
       " 'May 31, 2018',\n",
       " '',\n",
       " '24.',\n",
       " '\"Let Her Go\"[42]',\n",
       " 'Passenger',\n",
       " '3.29',\n",
       " 'July 25, 2012',\n",
       " '',\n",
       " '25.',\n",
       " '\"Bailando\"[43]',\n",
       " 'Enrique Iglesias',\n",
       " '3.26',\n",
       " 'April 11, 2014',\n",
       " '',\n",
       " '26.',\n",
       " '\"Lean On\"[44]',\n",
       " 'Major Lazer',\n",
       " '3.25',\n",
       " 'March 22, 2015',\n",
       " '',\n",
       " '27.',\n",
       " '\"Perfect\"[45]',\n",
       " 'Ed Sheeran',\n",
       " '3.24',\n",
       " 'November 9, 2017',\n",
       " '',\n",
       " '28.',\n",
       " '\"Waka Waka (This Time for Africa)\"[46]',\n",
       " 'Shakira',\n",
       " '3.23',\n",
       " 'June 4, 2010',\n",
       " '',\n",
       " '29.',\n",
       " '\"Shake It Off\"[47]',\n",
       " 'Taylor Swift',\n",
       " '3.20',\n",
       " 'August 18, 2014',\n",
       " '',\n",
       " '30.',\n",
       " '\"Humpty the train on a fruits ride\"[48]',\n",
       " 'Kiddiestv Hindi – Nursery Rhymes & Kids Songs',\n",
       " '3.14',\n",
       " 'January 26, 2018',\n",
       " '']"
      ]
     },
     "execution_count": 233,
     "metadata": {},
     "output_type": "execute_result"
    }
   ],
   "source": [
    "namee"
   ]
  },
  {
   "cell_type": "code",
   "execution_count": 239,
   "id": "b82ba2d9",
   "metadata": {},
   "outputs": [],
   "source": [
    "rkk=namee[0:182:6]"
   ]
  },
  {
   "cell_type": "code",
   "execution_count": 240,
   "id": "60bb7e63",
   "metadata": {},
   "outputs": [],
   "source": [
    "nm=namee[1:182:6]"
   ]
  },
  {
   "cell_type": "code",
   "execution_count": 241,
   "id": "28fdd99c",
   "metadata": {},
   "outputs": [],
   "source": [
    "arttist=namee[2:182:6]"
   ]
  },
  {
   "cell_type": "code",
   "execution_count": 242,
   "id": "617e2114",
   "metadata": {},
   "outputs": [],
   "source": [
    "uploaddate=namee[3:182:6]"
   ]
  },
  {
   "cell_type": "code",
   "execution_count": 243,
   "id": "d16bdf32",
   "metadata": {},
   "outputs": [],
   "source": [
    "views=namee[4:182:6]"
   ]
  },
  {
   "cell_type": "code",
   "execution_count": 244,
   "id": "68bf493b",
   "metadata": {},
   "outputs": [
    {
     "data": {
      "text/plain": [
       "(30, 30, 30, 30, 30)"
      ]
     },
     "execution_count": 244,
     "metadata": {},
     "output_type": "execute_result"
    }
   ],
   "source": [
    "len(rkk),len(nm),len(arttist),len(uploaddate),len(views)"
   ]
  },
  {
   "cell_type": "code",
   "execution_count": 246,
   "id": "9da636e1",
   "metadata": {},
   "outputs": [],
   "source": [
    "DATA1=pd.DataFrame({'RANK':rkk,'NAME':nm,'ARTIST':arttist,'UPLOAD_DATE':uploaddate,'VIEWS':views})"
   ]
  },
  {
   "cell_type": "code",
   "execution_count": 247,
   "id": "1b8b8bb4",
   "metadata": {},
   "outputs": [
    {
     "data": {
      "text/html": [
       "<div>\n",
       "<style scoped>\n",
       "    .dataframe tbody tr th:only-of-type {\n",
       "        vertical-align: middle;\n",
       "    }\n",
       "\n",
       "    .dataframe tbody tr th {\n",
       "        vertical-align: top;\n",
       "    }\n",
       "\n",
       "    .dataframe thead th {\n",
       "        text-align: right;\n",
       "    }\n",
       "</style>\n",
       "<table border=\"1\" class=\"dataframe\">\n",
       "  <thead>\n",
       "    <tr style=\"text-align: right;\">\n",
       "      <th></th>\n",
       "      <th>RANK</th>\n",
       "      <th>NAME</th>\n",
       "      <th>ARTIST</th>\n",
       "      <th>UPLOAD_DATE</th>\n",
       "      <th>VIEWS</th>\n",
       "    </tr>\n",
       "  </thead>\n",
       "  <tbody>\n",
       "    <tr>\n",
       "      <th>0</th>\n",
       "      <td>1.</td>\n",
       "      <td>\"Baby Shark Dance\"[3]</td>\n",
       "      <td>Pinkfong Baby Shark - Kids' Songs &amp; Stories</td>\n",
       "      <td>11.24</td>\n",
       "      <td>June 17, 2016</td>\n",
       "    </tr>\n",
       "    <tr>\n",
       "      <th>1</th>\n",
       "      <td>2.</td>\n",
       "      <td>\"Despacito\"[6]</td>\n",
       "      <td>Luis Fonsi</td>\n",
       "      <td>7.96</td>\n",
       "      <td>January 12, 2017</td>\n",
       "    </tr>\n",
       "    <tr>\n",
       "      <th>2</th>\n",
       "      <td>3.</td>\n",
       "      <td>\"Johny Johny Yes Papa\"[12]</td>\n",
       "      <td>LooLoo Kids</td>\n",
       "      <td>6.44</td>\n",
       "      <td>October 8, 2016</td>\n",
       "    </tr>\n",
       "    <tr>\n",
       "      <th>3</th>\n",
       "      <td>4.</td>\n",
       "      <td>\"Shape of You\"[13]</td>\n",
       "      <td>Ed Sheeran</td>\n",
       "      <td>5.80</td>\n",
       "      <td>January 30, 2017</td>\n",
       "    </tr>\n",
       "    <tr>\n",
       "      <th>4</th>\n",
       "      <td>5.</td>\n",
       "      <td>\"See You Again\"[15]</td>\n",
       "      <td>Wiz Khalifa</td>\n",
       "      <td>5.62</td>\n",
       "      <td>April 6, 2015</td>\n",
       "    </tr>\n",
       "    <tr>\n",
       "      <th>5</th>\n",
       "      <td>6.</td>\n",
       "      <td>\"Bath Song\"[20]</td>\n",
       "      <td>Cocomelon – Nursery Rhymes</td>\n",
       "      <td>5.59</td>\n",
       "      <td>May 2, 2018</td>\n",
       "    </tr>\n",
       "    <tr>\n",
       "      <th>6</th>\n",
       "      <td>7.</td>\n",
       "      <td>\"Phonics Song with Two Words\"[21]</td>\n",
       "      <td>ChuChu TV</td>\n",
       "      <td>4.85</td>\n",
       "      <td>March 6, 2014</td>\n",
       "    </tr>\n",
       "    <tr>\n",
       "      <th>7</th>\n",
       "      <td>8.</td>\n",
       "      <td>\"Uptown Funk\"[22]</td>\n",
       "      <td>Mark Ronson</td>\n",
       "      <td>4.68</td>\n",
       "      <td>November 19, 2014</td>\n",
       "    </tr>\n",
       "    <tr>\n",
       "      <th>8</th>\n",
       "      <td>9.</td>\n",
       "      <td>\"Learning Colors – Colorful Eggs on a Farm\"[23]</td>\n",
       "      <td>Miroshka TV</td>\n",
       "      <td>4.61</td>\n",
       "      <td>February 27, 2018</td>\n",
       "    </tr>\n",
       "    <tr>\n",
       "      <th>9</th>\n",
       "      <td>10.</td>\n",
       "      <td>\"Gangnam Style\"[24]</td>\n",
       "      <td>Psy</td>\n",
       "      <td>4.53</td>\n",
       "      <td>July 15, 2012</td>\n",
       "    </tr>\n",
       "    <tr>\n",
       "      <th>10</th>\n",
       "      <td>11.</td>\n",
       "      <td>\"Masha and the Bear – Recipe for Disaster\"[29]</td>\n",
       "      <td>Get Movies</td>\n",
       "      <td>4.51</td>\n",
       "      <td>January 31, 2012</td>\n",
       "    </tr>\n",
       "    <tr>\n",
       "      <th>11</th>\n",
       "      <td>12.</td>\n",
       "      <td>\"Wheels on the Bus\"[30]</td>\n",
       "      <td>Cocomelon – Nursery Rhymes</td>\n",
       "      <td>4.31</td>\n",
       "      <td>May 24, 2018</td>\n",
       "    </tr>\n",
       "    <tr>\n",
       "      <th>12</th>\n",
       "      <td>13.</td>\n",
       "      <td>\"Dame Tu Cosita\"[31]</td>\n",
       "      <td>El Chombo</td>\n",
       "      <td>4.05</td>\n",
       "      <td>April 5, 2018</td>\n",
       "    </tr>\n",
       "    <tr>\n",
       "      <th>13</th>\n",
       "      <td>14.</td>\n",
       "      <td>\"Sugar\"[32]</td>\n",
       "      <td>Maroon 5</td>\n",
       "      <td>3.75</td>\n",
       "      <td>January 14, 2015</td>\n",
       "    </tr>\n",
       "    <tr>\n",
       "      <th>14</th>\n",
       "      <td>15.</td>\n",
       "      <td>\"Roar\"[33]</td>\n",
       "      <td>Katy Perry</td>\n",
       "      <td>3.64</td>\n",
       "      <td>September 5, 2013</td>\n",
       "    </tr>\n",
       "    <tr>\n",
       "      <th>15</th>\n",
       "      <td>16.</td>\n",
       "      <td>\"Counting Stars\"[34]</td>\n",
       "      <td>OneRepublic</td>\n",
       "      <td>3.63</td>\n",
       "      <td>May 31, 2013</td>\n",
       "    </tr>\n",
       "    <tr>\n",
       "      <th>16</th>\n",
       "      <td>17.</td>\n",
       "      <td>\"Sorry\"[35]</td>\n",
       "      <td>Justin Bieber</td>\n",
       "      <td>3.58</td>\n",
       "      <td>October 22, 2015</td>\n",
       "    </tr>\n",
       "    <tr>\n",
       "      <th>17</th>\n",
       "      <td>18.</td>\n",
       "      <td>\"Axel F\"[36]</td>\n",
       "      <td>Crazy Frog</td>\n",
       "      <td>3.49</td>\n",
       "      <td>June 16, 2009</td>\n",
       "    </tr>\n",
       "    <tr>\n",
       "      <th>18</th>\n",
       "      <td>18.</td>\n",
       "      <td>\"Thinking Out Loud\"[37]</td>\n",
       "      <td>Ed Sheeran</td>\n",
       "      <td>3.49</td>\n",
       "      <td>October 7, 2014</td>\n",
       "    </tr>\n",
       "    <tr>\n",
       "      <th>19</th>\n",
       "      <td>20.</td>\n",
       "      <td>\"Baa Baa Black Sheep\"[38]</td>\n",
       "      <td>Cocomelon – Nursery Rhymes</td>\n",
       "      <td>3.35</td>\n",
       "      <td>June 25, 2018</td>\n",
       "    </tr>\n",
       "    <tr>\n",
       "      <th>20</th>\n",
       "      <td>21.</td>\n",
       "      <td>\"Dark Horse\"[39]</td>\n",
       "      <td>Katy Perry</td>\n",
       "      <td>3.34</td>\n",
       "      <td>February 20, 2014</td>\n",
       "    </tr>\n",
       "    <tr>\n",
       "      <th>21</th>\n",
       "      <td>22.</td>\n",
       "      <td>\"Faded\"[40]</td>\n",
       "      <td>Alan Walker</td>\n",
       "      <td>3.33</td>\n",
       "      <td>December 3, 2015</td>\n",
       "    </tr>\n",
       "    <tr>\n",
       "      <th>22</th>\n",
       "      <td>23.</td>\n",
       "      <td>\"Girls Like You\"[41]</td>\n",
       "      <td>Maroon 5</td>\n",
       "      <td>3.33</td>\n",
       "      <td>May 31, 2018</td>\n",
       "    </tr>\n",
       "    <tr>\n",
       "      <th>23</th>\n",
       "      <td>24.</td>\n",
       "      <td>\"Let Her Go\"[42]</td>\n",
       "      <td>Passenger</td>\n",
       "      <td>3.29</td>\n",
       "      <td>July 25, 2012</td>\n",
       "    </tr>\n",
       "    <tr>\n",
       "      <th>24</th>\n",
       "      <td>25.</td>\n",
       "      <td>\"Bailando\"[43]</td>\n",
       "      <td>Enrique Iglesias</td>\n",
       "      <td>3.26</td>\n",
       "      <td>April 11, 2014</td>\n",
       "    </tr>\n",
       "    <tr>\n",
       "      <th>25</th>\n",
       "      <td>26.</td>\n",
       "      <td>\"Lean On\"[44]</td>\n",
       "      <td>Major Lazer</td>\n",
       "      <td>3.25</td>\n",
       "      <td>March 22, 2015</td>\n",
       "    </tr>\n",
       "    <tr>\n",
       "      <th>26</th>\n",
       "      <td>27.</td>\n",
       "      <td>\"Perfect\"[45]</td>\n",
       "      <td>Ed Sheeran</td>\n",
       "      <td>3.24</td>\n",
       "      <td>November 9, 2017</td>\n",
       "    </tr>\n",
       "    <tr>\n",
       "      <th>27</th>\n",
       "      <td>28.</td>\n",
       "      <td>\"Waka Waka (This Time for Africa)\"[46]</td>\n",
       "      <td>Shakira</td>\n",
       "      <td>3.23</td>\n",
       "      <td>June 4, 2010</td>\n",
       "    </tr>\n",
       "    <tr>\n",
       "      <th>28</th>\n",
       "      <td>29.</td>\n",
       "      <td>\"Shake It Off\"[47]</td>\n",
       "      <td>Taylor Swift</td>\n",
       "      <td>3.20</td>\n",
       "      <td>August 18, 2014</td>\n",
       "    </tr>\n",
       "    <tr>\n",
       "      <th>29</th>\n",
       "      <td>30.</td>\n",
       "      <td>\"Humpty the train on a fruits ride\"[48]</td>\n",
       "      <td>Kiddiestv Hindi – Nursery Rhymes &amp; Kids Songs</td>\n",
       "      <td>3.14</td>\n",
       "      <td>January 26, 2018</td>\n",
       "    </tr>\n",
       "  </tbody>\n",
       "</table>\n",
       "</div>"
      ],
      "text/plain": [
       "   RANK                                             NAME  \\\n",
       "0    1.                            \"Baby Shark Dance\"[3]   \n",
       "1    2.                                   \"Despacito\"[6]   \n",
       "2    3.                       \"Johny Johny Yes Papa\"[12]   \n",
       "3    4.                               \"Shape of You\"[13]   \n",
       "4    5.                              \"See You Again\"[15]   \n",
       "5    6.                                  \"Bath Song\"[20]   \n",
       "6    7.                \"Phonics Song with Two Words\"[21]   \n",
       "7    8.                                \"Uptown Funk\"[22]   \n",
       "8    9.  \"Learning Colors – Colorful Eggs on a Farm\"[23]   \n",
       "9   10.                              \"Gangnam Style\"[24]   \n",
       "10  11.   \"Masha and the Bear – Recipe for Disaster\"[29]   \n",
       "11  12.                          \"Wheels on the Bus\"[30]   \n",
       "12  13.                             \"Dame Tu Cosita\"[31]   \n",
       "13  14.                                      \"Sugar\"[32]   \n",
       "14  15.                                       \"Roar\"[33]   \n",
       "15  16.                             \"Counting Stars\"[34]   \n",
       "16  17.                                      \"Sorry\"[35]   \n",
       "17  18.                                     \"Axel F\"[36]   \n",
       "18  18.                          \"Thinking Out Loud\"[37]   \n",
       "19  20.                        \"Baa Baa Black Sheep\"[38]   \n",
       "20  21.                                 \"Dark Horse\"[39]   \n",
       "21  22.                                      \"Faded\"[40]   \n",
       "22  23.                             \"Girls Like You\"[41]   \n",
       "23  24.                                 \"Let Her Go\"[42]   \n",
       "24  25.                                   \"Bailando\"[43]   \n",
       "25  26.                                    \"Lean On\"[44]   \n",
       "26  27.                                    \"Perfect\"[45]   \n",
       "27  28.           \"Waka Waka (This Time for Africa)\"[46]   \n",
       "28  29.                               \"Shake It Off\"[47]   \n",
       "29  30.          \"Humpty the train on a fruits ride\"[48]   \n",
       "\n",
       "                                           ARTIST UPLOAD_DATE  \\\n",
       "0     Pinkfong Baby Shark - Kids' Songs & Stories       11.24   \n",
       "1                                      Luis Fonsi        7.96   \n",
       "2                                     LooLoo Kids        6.44   \n",
       "3                                      Ed Sheeran        5.80   \n",
       "4                                     Wiz Khalifa        5.62   \n",
       "5                      Cocomelon – Nursery Rhymes        5.59   \n",
       "6                                       ChuChu TV        4.85   \n",
       "7                                     Mark Ronson        4.68   \n",
       "8                                     Miroshka TV        4.61   \n",
       "9                                             Psy        4.53   \n",
       "10                                     Get Movies        4.51   \n",
       "11                     Cocomelon – Nursery Rhymes        4.31   \n",
       "12                                      El Chombo        4.05   \n",
       "13                                       Maroon 5        3.75   \n",
       "14                                     Katy Perry        3.64   \n",
       "15                                    OneRepublic        3.63   \n",
       "16                                  Justin Bieber        3.58   \n",
       "17                                     Crazy Frog        3.49   \n",
       "18                                     Ed Sheeran        3.49   \n",
       "19                     Cocomelon – Nursery Rhymes        3.35   \n",
       "20                                     Katy Perry        3.34   \n",
       "21                                    Alan Walker        3.33   \n",
       "22                                       Maroon 5        3.33   \n",
       "23                                      Passenger        3.29   \n",
       "24                               Enrique Iglesias        3.26   \n",
       "25                                    Major Lazer        3.25   \n",
       "26                                     Ed Sheeran        3.24   \n",
       "27                                        Shakira        3.23   \n",
       "28                                   Taylor Swift        3.20   \n",
       "29  Kiddiestv Hindi – Nursery Rhymes & Kids Songs        3.14   \n",
       "\n",
       "                VIEWS  \n",
       "0       June 17, 2016  \n",
       "1    January 12, 2017  \n",
       "2     October 8, 2016  \n",
       "3    January 30, 2017  \n",
       "4       April 6, 2015  \n",
       "5         May 2, 2018  \n",
       "6       March 6, 2014  \n",
       "7   November 19, 2014  \n",
       "8   February 27, 2018  \n",
       "9       July 15, 2012  \n",
       "10   January 31, 2012  \n",
       "11       May 24, 2018  \n",
       "12      April 5, 2018  \n",
       "13   January 14, 2015  \n",
       "14  September 5, 2013  \n",
       "15       May 31, 2013  \n",
       "16   October 22, 2015  \n",
       "17      June 16, 2009  \n",
       "18    October 7, 2014  \n",
       "19      June 25, 2018  \n",
       "20  February 20, 2014  \n",
       "21   December 3, 2015  \n",
       "22       May 31, 2018  \n",
       "23      July 25, 2012  \n",
       "24     April 11, 2014  \n",
       "25     March 22, 2015  \n",
       "26   November 9, 2017  \n",
       "27       June 4, 2010  \n",
       "28    August 18, 2014  \n",
       "29   January 26, 2018  "
      ]
     },
     "execution_count": 247,
     "metadata": {},
     "output_type": "execute_result"
    }
   ],
   "source": [
    "DATA1"
   ]
  },
  {
   "cell_type": "markdown",
   "id": "483563dc",
   "metadata": {},
   "source": [
    "2. Scrape the details team India’s international fixtures from bcci.tv.\n",
    "Url = https://www.bcci.tv/.\n",
    "You need to find following details:\n",
    "A) Match title (I.e. 1\n",
    "st ODI)\n",
    "B) Series\n",
    "C) Place\n",
    "D) Date\n",
    "E) Time\n",
    "Note: - From bcci.tv home page you have reach to the international fixture page through code.\n"
   ]
  },
  {
   "cell_type": "code",
   "execution_count": 25,
   "id": "10e8d9fe",
   "metadata": {},
   "outputs": [],
   "source": [
    "driver.get('https://www.bcci.tv/.')"
   ]
  },
  {
   "cell_type": "code",
   "execution_count": 27,
   "id": "fc941faf",
   "metadata": {},
   "outputs": [],
   "source": [
    "intt=driver.find_element(By.XPATH,'//a[@class=\"nav-link \"]')\n",
    "intt.click()"
   ]
  },
  {
   "cell_type": "code",
   "execution_count": 33,
   "id": "289e39b5",
   "metadata": {},
   "outputs": [],
   "source": [
    "matchtitle=[]\n",
    "ds=driver.find_elements(By.XPATH,'//span[@class=\"matchOrderText ng-binding ng-scope\"]')\n",
    "for i in ds:\n",
    "    matchtitle.append(i.text)"
   ]
  },
  {
   "cell_type": "code",
   "execution_count": 29,
   "id": "add30536",
   "metadata": {},
   "outputs": [],
   "source": [
    "series=[]\n",
    "ft=driver.find_elements(By.XPATH,'//span[@class=\"ng-binding\"]')\n",
    "for i in ft:\n",
    "    series.append(i.text)"
   ]
  },
  {
   "cell_type": "code",
   "execution_count": 30,
   "id": "2f51498a",
   "metadata": {},
   "outputs": [],
   "source": [
    "place=[]\n",
    "pl=driver.find_elements(By.XPATH,'//div[@class=\"fix-place ng-binding ng-scope\"]')\n",
    "for i in pl:\n",
    "    place.append(i.text)"
   ]
  },
  {
   "cell_type": "code",
   "execution_count": 31,
   "id": "62ddd648",
   "metadata": {},
   "outputs": [],
   "source": [
    "date=[]\n",
    "dt=driver.find_elements(By.XPATH,'//h5[@class=\"ng-binding\"]')\n",
    "for i in dt:\n",
    "    date.append(i.text)"
   ]
  },
  {
   "cell_type": "code",
   "execution_count": 32,
   "id": "062b7970",
   "metadata": {},
   "outputs": [],
   "source": [
    "time=[]\n",
    "tm=driver.find_elements(By.XPATH,'//h5[@class=\"text-right ng-binding\"]')\n",
    "for i in tm:\n",
    "    time.append(i.text)"
   ]
  },
  {
   "cell_type": "code",
   "execution_count": 35,
   "id": "e4df3207",
   "metadata": {},
   "outputs": [
    {
     "data": {
      "text/plain": [
       "(8, 8, 8, 8, 8)"
      ]
     },
     "execution_count": 35,
     "metadata": {},
     "output_type": "execute_result"
    }
   ],
   "source": [
    "len(time),len(date),len(place),len(series),len(matchtitle)"
   ]
  },
  {
   "cell_type": "code",
   "execution_count": 36,
   "id": "1428075e",
   "metadata": {},
   "outputs": [],
   "source": [
    "DATA=pd.DataFrame({'MATCHTITLE':matchtitle,'SERIES':series,'DATE':date,'PLACE':place,'TIME':time})"
   ]
  },
  {
   "cell_type": "code",
   "execution_count": 37,
   "id": "5a2e19fa",
   "metadata": {},
   "outputs": [
    {
     "data": {
      "text/html": [
       "<div>\n",
       "<style scoped>\n",
       "    .dataframe tbody tr th:only-of-type {\n",
       "        vertical-align: middle;\n",
       "    }\n",
       "\n",
       "    .dataframe tbody tr th {\n",
       "        vertical-align: top;\n",
       "    }\n",
       "\n",
       "    .dataframe thead th {\n",
       "        text-align: right;\n",
       "    }\n",
       "</style>\n",
       "<table border=\"1\" class=\"dataframe\">\n",
       "  <thead>\n",
       "    <tr style=\"text-align: right;\">\n",
       "      <th></th>\n",
       "      <th>MATCHTITLE</th>\n",
       "      <th>SERIES</th>\n",
       "      <th>DATE</th>\n",
       "      <th>PLACE</th>\n",
       "      <th>TIME</th>\n",
       "    </tr>\n",
       "  </thead>\n",
       "  <tbody>\n",
       "    <tr>\n",
       "      <th>0</th>\n",
       "      <td>1st T20I -</td>\n",
       "      <td>INDIA WOMEN TOUR OF ENGLAND T20 SERIES 2022</td>\n",
       "      <td>10 SEP 2022</td>\n",
       "      <td>1st T20I - Riverside Ground, Chester-le-Street</td>\n",
       "      <td>11:30 PM IST</td>\n",
       "    </tr>\n",
       "    <tr>\n",
       "      <th>1</th>\n",
       "      <td>2nd T20I -</td>\n",
       "      <td>INDIA WOMEN TOUR OF ENGLAND T20 SERIES 2022</td>\n",
       "      <td>13 SEP 2022</td>\n",
       "      <td>2nd T20I - County Ground, Derby</td>\n",
       "      <td>10:30 PM IST</td>\n",
       "    </tr>\n",
       "    <tr>\n",
       "      <th>2</th>\n",
       "      <td>3rd T20I -</td>\n",
       "      <td>INDIA WOMEN TOUR OF ENGLAND T20 SERIES 2022</td>\n",
       "      <td>15 SEP 2022</td>\n",
       "      <td>3rd T20I - County Ground, Bristol</td>\n",
       "      <td>11:00 PM IST</td>\n",
       "    </tr>\n",
       "    <tr>\n",
       "      <th>3</th>\n",
       "      <td>1st ODI -</td>\n",
       "      <td>INDIA WOMEN TOUR OF ENGLAND ODI SERIES 2022</td>\n",
       "      <td>18 SEP 2022</td>\n",
       "      <td>1st ODI - County Ground, Hove</td>\n",
       "      <td>3:30 PM IST</td>\n",
       "    </tr>\n",
       "    <tr>\n",
       "      <th>4</th>\n",
       "      <td>1st T20I -</td>\n",
       "      <td>AUSTRALIA TOUR OF INDIA T20 SERIES 2022</td>\n",
       "      <td>20 SEP 2022</td>\n",
       "      <td>1st T20I - Punjab Cricket Association IS Bindr...</td>\n",
       "      <td>7:30 PM IST</td>\n",
       "    </tr>\n",
       "    <tr>\n",
       "      <th>5</th>\n",
       "      <td>2nd ODI -</td>\n",
       "      <td>INDIA WOMEN TOUR OF ENGLAND ODI SERIES 2022</td>\n",
       "      <td>21 SEP 2022</td>\n",
       "      <td>2nd ODI - St Lawrence Ground, Canterbury</td>\n",
       "      <td>5:30 PM IST</td>\n",
       "    </tr>\n",
       "    <tr>\n",
       "      <th>6</th>\n",
       "      <td>2nd T20I -</td>\n",
       "      <td>AUSTRALIA TOUR OF INDIA T20 SERIES 2022</td>\n",
       "      <td>23 SEP 2022</td>\n",
       "      <td>2nd T20I - Vidarbha Cricket Association Stadiu...</td>\n",
       "      <td>7:30 PM IST</td>\n",
       "    </tr>\n",
       "    <tr>\n",
       "      <th>7</th>\n",
       "      <td>3rd ODI -</td>\n",
       "      <td>INDIA WOMEN TOUR OF ENGLAND ODI SERIES 2022</td>\n",
       "      <td>24 SEP 2022</td>\n",
       "      <td>3rd ODI - Lord's Cricket Ground, London</td>\n",
       "      <td>3:30 PM IST</td>\n",
       "    </tr>\n",
       "  </tbody>\n",
       "</table>\n",
       "</div>"
      ],
      "text/plain": [
       "   MATCHTITLE                                       SERIES         DATE  \\\n",
       "0  1st T20I -  INDIA WOMEN TOUR OF ENGLAND T20 SERIES 2022  10 SEP 2022   \n",
       "1  2nd T20I -  INDIA WOMEN TOUR OF ENGLAND T20 SERIES 2022  13 SEP 2022   \n",
       "2  3rd T20I -  INDIA WOMEN TOUR OF ENGLAND T20 SERIES 2022  15 SEP 2022   \n",
       "3   1st ODI -  INDIA WOMEN TOUR OF ENGLAND ODI SERIES 2022  18 SEP 2022   \n",
       "4  1st T20I -      AUSTRALIA TOUR OF INDIA T20 SERIES 2022  20 SEP 2022   \n",
       "5   2nd ODI -  INDIA WOMEN TOUR OF ENGLAND ODI SERIES 2022  21 SEP 2022   \n",
       "6  2nd T20I -      AUSTRALIA TOUR OF INDIA T20 SERIES 2022  23 SEP 2022   \n",
       "7   3rd ODI -  INDIA WOMEN TOUR OF ENGLAND ODI SERIES 2022  24 SEP 2022   \n",
       "\n",
       "                                               PLACE          TIME  \n",
       "0     1st T20I - Riverside Ground, Chester-le-Street  11:30 PM IST  \n",
       "1                    2nd T20I - County Ground, Derby  10:30 PM IST  \n",
       "2                  3rd T20I - County Ground, Bristol  11:00 PM IST  \n",
       "3                      1st ODI - County Ground, Hove   3:30 PM IST  \n",
       "4  1st T20I - Punjab Cricket Association IS Bindr...   7:30 PM IST  \n",
       "5           2nd ODI - St Lawrence Ground, Canterbury   5:30 PM IST  \n",
       "6  2nd T20I - Vidarbha Cricket Association Stadiu...   7:30 PM IST  \n",
       "7            3rd ODI - Lord's Cricket Ground, London   3:30 PM IST  "
      ]
     },
     "execution_count": 37,
     "metadata": {},
     "output_type": "execute_result"
    }
   ],
   "source": [
    "DATA"
   ]
  },
  {
   "cell_type": "markdown",
   "id": "ad632937",
   "metadata": {},
   "source": [
    "3. Scrape the details of selenium exception from guru99.com.\n",
    "Url = https://www.guru99.com/\n",
    "You need to find following details:\n",
    "A) Name\n",
    "B) Description\n",
    "Note: - From guru99 home page you have to reach to selenium exception handling page through code"
   ]
  },
  {
   "cell_type": "code",
   "execution_count": 140,
   "id": "62533d17",
   "metadata": {},
   "outputs": [],
   "source": [
    "driver.get('https://www.guru99.com/')"
   ]
  },
  {
   "cell_type": "code",
   "execution_count": 141,
   "id": "1c8409b0",
   "metadata": {},
   "outputs": [],
   "source": [
    "search=driver.find_element(By.XPATH,'//input[@autocomplete=\"off\"]')\n",
    "search.send_keys('SELENIUM EXCEPTION HANDLING')"
   ]
  },
  {
   "cell_type": "code",
   "execution_count": 142,
   "id": "f51c2ea7",
   "metadata": {},
   "outputs": [],
   "source": [
    "btn=driver.find_element(By.XPATH,'//button[@class=\"gsc-search-button gsc-search-button-v2\"]')\n",
    "btn.click()"
   ]
  },
  {
   "cell_type": "code",
   "execution_count": 143,
   "id": "f0d24eee",
   "metadata": {},
   "outputs": [],
   "source": [
    "lk=driver.find_element(By.XPATH,'/html/body/div[1]/div/div/div/main/div/article/div/div[1]/div[1]/div[2]/div/div[1]/div/div/div/div[1]/div[6]/div[2]/div/div/div[1]/div[1]/div[1]/div[1]/div/a')\n",
    "driver.get(lk.get_attribute('href'))"
   ]
  },
  {
   "cell_type": "code",
   "execution_count": 160,
   "id": "cd7ddc65",
   "metadata": {},
   "outputs": [],
   "source": [
    "nam=[]\n",
    "mn=driver.find_elements(By.XPATH,'//strong')\n",
    "for i in mn[2:43]:\n",
    "    nam.append(i.text)"
   ]
  },
  {
   "cell_type": "code",
   "execution_count": 162,
   "id": "b9901f63",
   "metadata": {},
   "outputs": [],
   "source": [
    "dscc=[]\n",
    "dc=driver.find_elements(By.XPATH,'//p')\n",
    "for i in dc:\n",
    "    dscc.append(i.text)"
   ]
  },
  {
   "cell_type": "code",
   "execution_count": 170,
   "id": "89d2ce77",
   "metadata": {},
   "outputs": [],
   "source": [
    "dscc1=dscc[2:43]"
   ]
  },
  {
   "cell_type": "code",
   "execution_count": 172,
   "id": "e8a244a1",
   "metadata": {},
   "outputs": [
    {
     "data": {
      "text/plain": [
       "(41, 41)"
      ]
     },
     "execution_count": 172,
     "metadata": {},
     "output_type": "execute_result"
    }
   ],
   "source": [
    "len(dscc1),len(nam)"
   ]
  },
  {
   "cell_type": "code",
   "execution_count": 173,
   "id": "306e818e",
   "metadata": {},
   "outputs": [],
   "source": [
    "DATA3=pd.DataFrame({'NAME':nam,'DESCRIPTION':dscc1})"
   ]
  },
  {
   "cell_type": "code",
   "execution_count": 174,
   "id": "2331a530",
   "metadata": {},
   "outputs": [
    {
     "data": {
      "text/html": [
       "<div>\n",
       "<style scoped>\n",
       "    .dataframe tbody tr th:only-of-type {\n",
       "        vertical-align: middle;\n",
       "    }\n",
       "\n",
       "    .dataframe tbody tr th {\n",
       "        vertical-align: top;\n",
       "    }\n",
       "\n",
       "    .dataframe thead th {\n",
       "        text-align: right;\n",
       "    }\n",
       "</style>\n",
       "<table border=\"1\" class=\"dataframe\">\n",
       "  <thead>\n",
       "    <tr style=\"text-align: right;\">\n",
       "      <th></th>\n",
       "      <th>NAME</th>\n",
       "      <th>DESCRIPTION</th>\n",
       "    </tr>\n",
       "  </thead>\n",
       "  <tbody>\n",
       "    <tr>\n",
       "      <th>0</th>\n",
       "      <td>1. ElementNotVisibleException:</td>\n",
       "      <td>1. ElementNotVisibleException: This type of Se...</td>\n",
       "    </tr>\n",
       "    <tr>\n",
       "      <th>1</th>\n",
       "      <td>2. ElementNotSelectableException:</td>\n",
       "      <td>2. ElementNotSelectableException: This Seleniu...</td>\n",
       "    </tr>\n",
       "    <tr>\n",
       "      <th>2</th>\n",
       "      <td>3. NoSuchElementException:</td>\n",
       "      <td>3. NoSuchElementException: This Exception occu...</td>\n",
       "    </tr>\n",
       "    <tr>\n",
       "      <th>3</th>\n",
       "      <td>4. NoSuchFrameException:</td>\n",
       "      <td>4. NoSuchFrameException: This Exception occurs...</td>\n",
       "    </tr>\n",
       "    <tr>\n",
       "      <th>4</th>\n",
       "      <td>5. NoAlertPresentException:</td>\n",
       "      <td>5. NoAlertPresentException: This Exception occ...</td>\n",
       "    </tr>\n",
       "    <tr>\n",
       "      <th>5</th>\n",
       "      <td>6. NoSuchWindowException:</td>\n",
       "      <td>6. NoSuchWindowException: This Exception occur...</td>\n",
       "    </tr>\n",
       "    <tr>\n",
       "      <th>6</th>\n",
       "      <td>7. StaleElementReferenceException:</td>\n",
       "      <td>7. StaleElementReferenceException: This Seleni...</td>\n",
       "    </tr>\n",
       "    <tr>\n",
       "      <th>7</th>\n",
       "      <td>8. SessionNotFoundException:</td>\n",
       "      <td>8. SessionNotFoundException: The WebDriver is ...</td>\n",
       "    </tr>\n",
       "    <tr>\n",
       "      <th>8</th>\n",
       "      <td>9. TimeoutException:</td>\n",
       "      <td>9. TimeoutException: Thrown when there is not ...</td>\n",
       "    </tr>\n",
       "    <tr>\n",
       "      <th>9</th>\n",
       "      <td>10. WebDriverException:</td>\n",
       "      <td>10. WebDriverException: This Exception takes p...</td>\n",
       "    </tr>\n",
       "    <tr>\n",
       "      <th>10</th>\n",
       "      <td>11. ConnectionClosedException:</td>\n",
       "      <td>11. ConnectionClosedException: This type of Ex...</td>\n",
       "    </tr>\n",
       "    <tr>\n",
       "      <th>11</th>\n",
       "      <td>12. ElementClickInterceptedException:</td>\n",
       "      <td>12. ElementClickInterceptedException: The comm...</td>\n",
       "    </tr>\n",
       "    <tr>\n",
       "      <th>12</th>\n",
       "      <td>13. ElementNotInteractableException:</td>\n",
       "      <td>13. ElementNotInteractableException: This Sele...</td>\n",
       "    </tr>\n",
       "    <tr>\n",
       "      <th>13</th>\n",
       "      <td>14. ErrorInResponseException:</td>\n",
       "      <td>14. ErrorInResponseException: This happens whi...</td>\n",
       "    </tr>\n",
       "    <tr>\n",
       "      <th>14</th>\n",
       "      <td>15. ErrorHandler.UnknownServerException:</td>\n",
       "      <td>15. ErrorHandler.UnknownServerException: Excep...</td>\n",
       "    </tr>\n",
       "    <tr>\n",
       "      <th>15</th>\n",
       "      <td>16. ImeActivationFailedException:</td>\n",
       "      <td>16. ImeActivationFailedException: This expecta...</td>\n",
       "    </tr>\n",
       "    <tr>\n",
       "      <th>16</th>\n",
       "      <td>17. ImeNotAvailableException:</td>\n",
       "      <td>17. ImeNotAvailableException: It takes place w...</td>\n",
       "    </tr>\n",
       "    <tr>\n",
       "      <th>17</th>\n",
       "      <td>18. InsecureCertificateException:</td>\n",
       "      <td>18. InsecureCertificateException: Navigation m...</td>\n",
       "    </tr>\n",
       "    <tr>\n",
       "      <th>18</th>\n",
       "      <td>19. InvalidArgumentException:</td>\n",
       "      <td>19. InvalidArgumentException: It occurs when a...</td>\n",
       "    </tr>\n",
       "    <tr>\n",
       "      <th>19</th>\n",
       "      <td>20. InvalidCookieDomainException:</td>\n",
       "      <td>20. InvalidCookieDomainException: This happens...</td>\n",
       "    </tr>\n",
       "    <tr>\n",
       "      <th>20</th>\n",
       "      <td>21. InvalidCoordinatesException:</td>\n",
       "      <td>21. InvalidCoordinatesException: This type of ...</td>\n",
       "    </tr>\n",
       "    <tr>\n",
       "      <th>21</th>\n",
       "      <td>22. InvalidElementStateException:</td>\n",
       "      <td>22. InvalidElementStateException: It occurs wh...</td>\n",
       "    </tr>\n",
       "    <tr>\n",
       "      <th>22</th>\n",
       "      <td>23. InvalidSessionIdException:</td>\n",
       "      <td>23. InvalidSessionIdException: This Exception ...</td>\n",
       "    </tr>\n",
       "    <tr>\n",
       "      <th>23</th>\n",
       "      <td>24. InvalidSwitchToTargetException:</td>\n",
       "      <td>24. InvalidSwitchToTargetException: This occur...</td>\n",
       "    </tr>\n",
       "    <tr>\n",
       "      <th>24</th>\n",
       "      <td>25. JavascriptException:</td>\n",
       "      <td>25. JavascriptException: This issue occurs whi...</td>\n",
       "    </tr>\n",
       "    <tr>\n",
       "      <th>25</th>\n",
       "      <td>26. JsonException:</td>\n",
       "      <td>26. JsonException: It occurs when you afford t...</td>\n",
       "    </tr>\n",
       "    <tr>\n",
       "      <th>26</th>\n",
       "      <td>27. NoSuchAttributeException:</td>\n",
       "      <td>27. NoSuchAttributeException: This kind of Exc...</td>\n",
       "    </tr>\n",
       "    <tr>\n",
       "      <th>27</th>\n",
       "      <td>28. MoveTargetOutOfBoundsException:</td>\n",
       "      <td>28. MoveTargetOutOfBoundsException: It takes p...</td>\n",
       "    </tr>\n",
       "    <tr>\n",
       "      <th>28</th>\n",
       "      <td>29. NoSuchContextException:</td>\n",
       "      <td>29. NoSuchContextException: ContextAware does ...</td>\n",
       "    </tr>\n",
       "    <tr>\n",
       "      <th>29</th>\n",
       "      <td>30. NoSuchCookieException:</td>\n",
       "      <td>30. NoSuchCookieException: This Exception occu...</td>\n",
       "    </tr>\n",
       "    <tr>\n",
       "      <th>30</th>\n",
       "      <td>31. NotFoundException:</td>\n",
       "      <td>31. NotFoundException: This Exception is a sub...</td>\n",
       "    </tr>\n",
       "    <tr>\n",
       "      <th>31</th>\n",
       "      <td>32. RemoteDriverServerException:</td>\n",
       "      <td>32. RemoteDriverServerException: This Selenium...</td>\n",
       "    </tr>\n",
       "    <tr>\n",
       "      <th>32</th>\n",
       "      <td>33. ScreenshotException:</td>\n",
       "      <td>33. ScreenshotException: It is not possible to...</td>\n",
       "    </tr>\n",
       "    <tr>\n",
       "      <th>33</th>\n",
       "      <td>34. SessionNotCreatedException:</td>\n",
       "      <td>34. SessionNotCreatedException: It happens whe...</td>\n",
       "    </tr>\n",
       "    <tr>\n",
       "      <th>34</th>\n",
       "      <td>35. UnableToSetCookieException:</td>\n",
       "      <td>35. UnableToSetCookieException: This occurs if...</td>\n",
       "    </tr>\n",
       "    <tr>\n",
       "      <th>35</th>\n",
       "      <td>36. UnexpectedTagNameException:</td>\n",
       "      <td>36. UnexpectedTagNameException: Happens if a s...</td>\n",
       "    </tr>\n",
       "    <tr>\n",
       "      <th>36</th>\n",
       "      <td>37. UnhandledAlertException:</td>\n",
       "      <td>37. UnhandledAlertException: This expectation ...</td>\n",
       "    </tr>\n",
       "    <tr>\n",
       "      <th>37</th>\n",
       "      <td>38. UnexpectedAlertPresentException:</td>\n",
       "      <td>38. UnexpectedAlertPresentException: It occurs...</td>\n",
       "    </tr>\n",
       "    <tr>\n",
       "      <th>38</th>\n",
       "      <td>39. UnknownMethodException:</td>\n",
       "      <td>39. UnknownMethodException: This Exception hap...</td>\n",
       "    </tr>\n",
       "    <tr>\n",
       "      <th>39</th>\n",
       "      <td>40. UnreachableBrowserException:</td>\n",
       "      <td>40. UnreachableBrowserException: This Exceptio...</td>\n",
       "    </tr>\n",
       "    <tr>\n",
       "      <th>40</th>\n",
       "      <td>41. UnsupportedCommandException:</td>\n",
       "      <td>41. UnsupportedCommandException: This occurs w...</td>\n",
       "    </tr>\n",
       "  </tbody>\n",
       "</table>\n",
       "</div>"
      ],
      "text/plain": [
       "                                        NAME  \\\n",
       "0             1. ElementNotVisibleException:   \n",
       "1          2. ElementNotSelectableException:   \n",
       "2                 3. NoSuchElementException:   \n",
       "3                   4. NoSuchFrameException:   \n",
       "4                5. NoAlertPresentException:   \n",
       "5                  6. NoSuchWindowException:   \n",
       "6         7. StaleElementReferenceException:   \n",
       "7               8. SessionNotFoundException:   \n",
       "8                       9. TimeoutException:   \n",
       "9                    10. WebDriverException:   \n",
       "10            11. ConnectionClosedException:   \n",
       "11     12. ElementClickInterceptedException:   \n",
       "12      13. ElementNotInteractableException:   \n",
       "13             14. ErrorInResponseException:   \n",
       "14  15. ErrorHandler.UnknownServerException:   \n",
       "15         16. ImeActivationFailedException:   \n",
       "16             17. ImeNotAvailableException:   \n",
       "17         18. InsecureCertificateException:   \n",
       "18             19. InvalidArgumentException:   \n",
       "19         20. InvalidCookieDomainException:   \n",
       "20          21. InvalidCoordinatesException:   \n",
       "21         22. InvalidElementStateException:   \n",
       "22            23. InvalidSessionIdException:   \n",
       "23       24. InvalidSwitchToTargetException:   \n",
       "24                  25. JavascriptException:   \n",
       "25                        26. JsonException:   \n",
       "26             27. NoSuchAttributeException:   \n",
       "27       28. MoveTargetOutOfBoundsException:   \n",
       "28               29. NoSuchContextException:   \n",
       "29                30. NoSuchCookieException:   \n",
       "30                    31. NotFoundException:   \n",
       "31          32. RemoteDriverServerException:   \n",
       "32                  33. ScreenshotException:   \n",
       "33           34. SessionNotCreatedException:   \n",
       "34           35. UnableToSetCookieException:   \n",
       "35           36. UnexpectedTagNameException:   \n",
       "36              37. UnhandledAlertException:   \n",
       "37      38. UnexpectedAlertPresentException:   \n",
       "38               39. UnknownMethodException:   \n",
       "39          40. UnreachableBrowserException:   \n",
       "40          41. UnsupportedCommandException:   \n",
       "\n",
       "                                          DESCRIPTION  \n",
       "0   1. ElementNotVisibleException: This type of Se...  \n",
       "1   2. ElementNotSelectableException: This Seleniu...  \n",
       "2   3. NoSuchElementException: This Exception occu...  \n",
       "3   4. NoSuchFrameException: This Exception occurs...  \n",
       "4   5. NoAlertPresentException: This Exception occ...  \n",
       "5   6. NoSuchWindowException: This Exception occur...  \n",
       "6   7. StaleElementReferenceException: This Seleni...  \n",
       "7   8. SessionNotFoundException: The WebDriver is ...  \n",
       "8   9. TimeoutException: Thrown when there is not ...  \n",
       "9   10. WebDriverException: This Exception takes p...  \n",
       "10  11. ConnectionClosedException: This type of Ex...  \n",
       "11  12. ElementClickInterceptedException: The comm...  \n",
       "12  13. ElementNotInteractableException: This Sele...  \n",
       "13  14. ErrorInResponseException: This happens whi...  \n",
       "14  15. ErrorHandler.UnknownServerException: Excep...  \n",
       "15  16. ImeActivationFailedException: This expecta...  \n",
       "16  17. ImeNotAvailableException: It takes place w...  \n",
       "17  18. InsecureCertificateException: Navigation m...  \n",
       "18  19. InvalidArgumentException: It occurs when a...  \n",
       "19  20. InvalidCookieDomainException: This happens...  \n",
       "20  21. InvalidCoordinatesException: This type of ...  \n",
       "21  22. InvalidElementStateException: It occurs wh...  \n",
       "22  23. InvalidSessionIdException: This Exception ...  \n",
       "23  24. InvalidSwitchToTargetException: This occur...  \n",
       "24  25. JavascriptException: This issue occurs whi...  \n",
       "25  26. JsonException: It occurs when you afford t...  \n",
       "26  27. NoSuchAttributeException: This kind of Exc...  \n",
       "27  28. MoveTargetOutOfBoundsException: It takes p...  \n",
       "28  29. NoSuchContextException: ContextAware does ...  \n",
       "29  30. NoSuchCookieException: This Exception occu...  \n",
       "30  31. NotFoundException: This Exception is a sub...  \n",
       "31  32. RemoteDriverServerException: This Selenium...  \n",
       "32  33. ScreenshotException: It is not possible to...  \n",
       "33  34. SessionNotCreatedException: It happens whe...  \n",
       "34  35. UnableToSetCookieException: This occurs if...  \n",
       "35  36. UnexpectedTagNameException: Happens if a s...  \n",
       "36  37. UnhandledAlertException: This expectation ...  \n",
       "37  38. UnexpectedAlertPresentException: It occurs...  \n",
       "38  39. UnknownMethodException: This Exception hap...  \n",
       "39  40. UnreachableBrowserException: This Exceptio...  \n",
       "40  41. UnsupportedCommandException: This occurs w...  "
      ]
     },
     "execution_count": 174,
     "metadata": {},
     "output_type": "execute_result"
    }
   ],
   "source": [
    "DATA3"
   ]
  },
  {
   "cell_type": "markdown",
   "id": "b2b5e2bd",
   "metadata": {},
   "source": [
    "4. Scrape the details of State-wise GDP of India from statisticstime.com.\n",
    "Url = http://statisticstimes.com/\n",
    "You have to find following details:\n",
    "A) Rank\n",
    "B) State\n",
    "C) GSDP(18-19)\n",
    "D) GSDP(17-18)\n",
    "E) Share(2017)\n",
    "F) GDP($ billion)\n",
    "Note: - From statisticstimes home page you have to reach to economy page through code."
   ]
  },
  {
   "cell_type": "code",
   "execution_count": 250,
   "id": "1ef9a9d0",
   "metadata": {},
   "outputs": [],
   "source": [
    "driver.get('http://statisticstimes.com')"
   ]
  },
  {
   "cell_type": "code",
   "execution_count": 5,
   "id": "1301d7b5",
   "metadata": {},
   "outputs": [],
   "source": [
    "ecn=driver.find_element(By.XPATH,'/html/body/div[2]/div[1]/div[2]/div[2]/button')\n",
    "ecn.click()"
   ]
  },
  {
   "cell_type": "code",
   "execution_count": 7,
   "id": "7381f2b7",
   "metadata": {},
   "outputs": [],
   "source": [
    "indd=driver.find_element(By.XPATH,'/html/body/div[2]/div[1]/div[2]/div[2]/div/a[3]')\n",
    "driver.get(indd.get_attribute('href'))"
   ]
  },
  {
   "cell_type": "code",
   "execution_count": 8,
   "id": "bb4c4526",
   "metadata": {},
   "outputs": [],
   "source": [
    "indgdp=driver.find_element(By.XPATH,'/html/body/div[2]/div[2]/div[2]/ul/li[1]/a')\n",
    "driver.get(indgdp.get_attribute('href'))"
   ]
  },
  {
   "cell_type": "code",
   "execution_count": 252,
   "id": "39046717",
   "metadata": {},
   "outputs": [],
   "source": [
    "rank=[]\n",
    "rk=driver.find_elements(By.XPATH,'//td[@class=\"data1\"]')\n",
    "for i in rk[0:33]:\n",
    "    rank.append(i.text)"
   ]
  },
  {
   "cell_type": "code",
   "execution_count": 253,
   "id": "e407d47d",
   "metadata": {},
   "outputs": [],
   "source": [
    "state=[]\n",
    "oh=driver.find_elements(By.XPATH,'//td[@class=\"name\"]')\n",
    "for i in oh[0:33]:\n",
    "    state.append(i.text)"
   ]
  },
  {
   "cell_type": "code",
   "execution_count": 254,
   "id": "4f1e0f39",
   "metadata": {},
   "outputs": [],
   "source": [
    "gd18=[]\n",
    "\n",
    "tg=driver.find_elements(By.XPATH,'//td[@class=\"data sorting_1\"]')\n",
    "for i in tg[0:33]:\n",
    "    gd18.append(i.text)"
   ]
  },
  {
   "cell_type": "code",
   "execution_count": 255,
   "id": "8a1635ea",
   "metadata": {},
   "outputs": [],
   "source": [
    "double=[]\n",
    "\n",
    "vr=driver.find_elements(By.XPATH,'//td[@class=\"data\"]')\n",
    "for i in vr[0:165]:\n",
    "    double.append(i.text)"
   ]
  },
  {
   "cell_type": "code",
   "execution_count": 256,
   "id": "9467a532",
   "metadata": {},
   "outputs": [],
   "source": [
    "gdp19=double[0:165:5]"
   ]
  },
  {
   "cell_type": "code",
   "execution_count": 257,
   "id": "24f81c8b",
   "metadata": {},
   "outputs": [],
   "source": [
    "share=double[1:165:5]"
   ]
  },
  {
   "cell_type": "code",
   "execution_count": 258,
   "id": "9dcaca25",
   "metadata": {},
   "outputs": [],
   "source": [
    "gdp=double[2:165:5]"
   ]
  },
  {
   "cell_type": "code",
   "execution_count": 259,
   "id": "5c81d136",
   "metadata": {},
   "outputs": [],
   "source": [
    "DATA4=pd.DataFrame({'RANK':rank,'STATE':state,'GDSP19':gdp19,'GDSP18':gd18,'SHARE':share,'GDP':gdp})"
   ]
  },
  {
   "cell_type": "code",
   "execution_count": 260,
   "id": "962aadf2",
   "metadata": {},
   "outputs": [
    {
     "data": {
      "text/html": [
       "<div>\n",
       "<style scoped>\n",
       "    .dataframe tbody tr th:only-of-type {\n",
       "        vertical-align: middle;\n",
       "    }\n",
       "\n",
       "    .dataframe tbody tr th {\n",
       "        vertical-align: top;\n",
       "    }\n",
       "\n",
       "    .dataframe thead th {\n",
       "        text-align: right;\n",
       "    }\n",
       "</style>\n",
       "<table border=\"1\" class=\"dataframe\">\n",
       "  <thead>\n",
       "    <tr style=\"text-align: right;\">\n",
       "      <th></th>\n",
       "      <th>RANK</th>\n",
       "      <th>STATE</th>\n",
       "      <th>GDSP19</th>\n",
       "      <th>GDSP18</th>\n",
       "      <th>SHARE</th>\n",
       "      <th>GDP</th>\n",
       "    </tr>\n",
       "  </thead>\n",
       "  <tbody>\n",
       "    <tr>\n",
       "      <th>0</th>\n",
       "      <td>1</td>\n",
       "      <td>Maharashtra</td>\n",
       "      <td>-</td>\n",
       "      <td>2,632,792</td>\n",
       "      <td>13.94%</td>\n",
       "      <td>399.921</td>\n",
       "    </tr>\n",
       "    <tr>\n",
       "      <th>1</th>\n",
       "      <td>2</td>\n",
       "      <td>Tamil Nadu</td>\n",
       "      <td>1,845,853</td>\n",
       "      <td>1,630,208</td>\n",
       "      <td>8.63%</td>\n",
       "      <td>247.629</td>\n",
       "    </tr>\n",
       "    <tr>\n",
       "      <th>2</th>\n",
       "      <td>3</td>\n",
       "      <td>Uttar Pradesh</td>\n",
       "      <td>1,687,818</td>\n",
       "      <td>1,584,764</td>\n",
       "      <td>8.39%</td>\n",
       "      <td>240.726</td>\n",
       "    </tr>\n",
       "    <tr>\n",
       "      <th>3</th>\n",
       "      <td>4</td>\n",
       "      <td>Gujarat</td>\n",
       "      <td>-</td>\n",
       "      <td>1,502,899</td>\n",
       "      <td>7.96%</td>\n",
       "      <td>228.290</td>\n",
       "    </tr>\n",
       "    <tr>\n",
       "      <th>4</th>\n",
       "      <td>5</td>\n",
       "      <td>Karnataka</td>\n",
       "      <td>1,631,977</td>\n",
       "      <td>1,493,127</td>\n",
       "      <td>7.91%</td>\n",
       "      <td>226.806</td>\n",
       "    </tr>\n",
       "    <tr>\n",
       "      <th>5</th>\n",
       "      <td>6</td>\n",
       "      <td>West Bengal</td>\n",
       "      <td>1,253,832</td>\n",
       "      <td>1,089,898</td>\n",
       "      <td>5.77%</td>\n",
       "      <td>165.556</td>\n",
       "    </tr>\n",
       "    <tr>\n",
       "      <th>6</th>\n",
       "      <td>7</td>\n",
       "      <td>Rajasthan</td>\n",
       "      <td>1,020,989</td>\n",
       "      <td>942,586</td>\n",
       "      <td>4.99%</td>\n",
       "      <td>143.179</td>\n",
       "    </tr>\n",
       "    <tr>\n",
       "      <th>7</th>\n",
       "      <td>8</td>\n",
       "      <td>Andhra Pradesh</td>\n",
       "      <td>972,782</td>\n",
       "      <td>862,957</td>\n",
       "      <td>4.57%</td>\n",
       "      <td>131.083</td>\n",
       "    </tr>\n",
       "    <tr>\n",
       "      <th>8</th>\n",
       "      <td>9</td>\n",
       "      <td>Telangana</td>\n",
       "      <td>969,604</td>\n",
       "      <td>861,031</td>\n",
       "      <td>4.56%</td>\n",
       "      <td>130.791</td>\n",
       "    </tr>\n",
       "    <tr>\n",
       "      <th>9</th>\n",
       "      <td>10</td>\n",
       "      <td>Madhya Pradesh</td>\n",
       "      <td>906,672</td>\n",
       "      <td>809,592</td>\n",
       "      <td>4.29%</td>\n",
       "      <td>122.977</td>\n",
       "    </tr>\n",
       "    <tr>\n",
       "      <th>10</th>\n",
       "      <td>11</td>\n",
       "      <td>Kerala</td>\n",
       "      <td>-</td>\n",
       "      <td>781,653</td>\n",
       "      <td>4.14%</td>\n",
       "      <td>118.733</td>\n",
       "    </tr>\n",
       "    <tr>\n",
       "      <th>11</th>\n",
       "      <td>12</td>\n",
       "      <td>Delhi</td>\n",
       "      <td>856,112</td>\n",
       "      <td>774,870</td>\n",
       "      <td>4.10%</td>\n",
       "      <td>117.703</td>\n",
       "    </tr>\n",
       "    <tr>\n",
       "      <th>12</th>\n",
       "      <td>13</td>\n",
       "      <td>Haryana</td>\n",
       "      <td>831,610</td>\n",
       "      <td>734,163</td>\n",
       "      <td>3.89%</td>\n",
       "      <td>111.519</td>\n",
       "    </tr>\n",
       "    <tr>\n",
       "      <th>13</th>\n",
       "      <td>14</td>\n",
       "      <td>Bihar</td>\n",
       "      <td>611,804</td>\n",
       "      <td>530,363</td>\n",
       "      <td>2.81%</td>\n",
       "      <td>80.562</td>\n",
       "    </tr>\n",
       "    <tr>\n",
       "      <th>14</th>\n",
       "      <td>15</td>\n",
       "      <td>Punjab</td>\n",
       "      <td>574,760</td>\n",
       "      <td>526,376</td>\n",
       "      <td>2.79%</td>\n",
       "      <td>79.957</td>\n",
       "    </tr>\n",
       "    <tr>\n",
       "      <th>15</th>\n",
       "      <td>16</td>\n",
       "      <td>Odisha</td>\n",
       "      <td>521,275</td>\n",
       "      <td>487,805</td>\n",
       "      <td>2.58%</td>\n",
       "      <td>74.098</td>\n",
       "    </tr>\n",
       "    <tr>\n",
       "      <th>16</th>\n",
       "      <td>17</td>\n",
       "      <td>Assam</td>\n",
       "      <td>-</td>\n",
       "      <td>315,881</td>\n",
       "      <td>1.67%</td>\n",
       "      <td>47.982</td>\n",
       "    </tr>\n",
       "    <tr>\n",
       "      <th>17</th>\n",
       "      <td>18</td>\n",
       "      <td>Chhattisgarh</td>\n",
       "      <td>329,180</td>\n",
       "      <td>304,063</td>\n",
       "      <td>1.61%</td>\n",
       "      <td>46.187</td>\n",
       "    </tr>\n",
       "    <tr>\n",
       "      <th>18</th>\n",
       "      <td>19</td>\n",
       "      <td>Jharkhand</td>\n",
       "      <td>328,598</td>\n",
       "      <td>297,204</td>\n",
       "      <td>1.57%</td>\n",
       "      <td>45.145</td>\n",
       "    </tr>\n",
       "    <tr>\n",
       "      <th>19</th>\n",
       "      <td>20</td>\n",
       "      <td>Uttarakhand</td>\n",
       "      <td>-</td>\n",
       "      <td>245,895</td>\n",
       "      <td>1.30%</td>\n",
       "      <td>37.351</td>\n",
       "    </tr>\n",
       "    <tr>\n",
       "      <th>20</th>\n",
       "      <td>21</td>\n",
       "      <td>Jammu &amp; Kashmir</td>\n",
       "      <td>-</td>\n",
       "      <td>155,956</td>\n",
       "      <td>0.83%</td>\n",
       "      <td>23.690</td>\n",
       "    </tr>\n",
       "    <tr>\n",
       "      <th>21</th>\n",
       "      <td>22</td>\n",
       "      <td>Himachal Pradesh</td>\n",
       "      <td>165,472</td>\n",
       "      <td>153,845</td>\n",
       "      <td>0.81%</td>\n",
       "      <td>23.369</td>\n",
       "    </tr>\n",
       "    <tr>\n",
       "      <th>22</th>\n",
       "      <td>23</td>\n",
       "      <td>Goa</td>\n",
       "      <td>80,449</td>\n",
       "      <td>73,170</td>\n",
       "      <td>0.39%</td>\n",
       "      <td>11.115</td>\n",
       "    </tr>\n",
       "    <tr>\n",
       "      <th>23</th>\n",
       "      <td>24</td>\n",
       "      <td>Tripura</td>\n",
       "      <td>55,984</td>\n",
       "      <td>49,845</td>\n",
       "      <td>0.26%</td>\n",
       "      <td>7.571</td>\n",
       "    </tr>\n",
       "    <tr>\n",
       "      <th>24</th>\n",
       "      <td>25</td>\n",
       "      <td>Chandigarh</td>\n",
       "      <td>-</td>\n",
       "      <td>42,114</td>\n",
       "      <td>0.22%</td>\n",
       "      <td>6.397</td>\n",
       "    </tr>\n",
       "    <tr>\n",
       "      <th>25</th>\n",
       "      <td>26</td>\n",
       "      <td>Puducherry</td>\n",
       "      <td>38,253</td>\n",
       "      <td>34,433</td>\n",
       "      <td>0.18%</td>\n",
       "      <td>5.230</td>\n",
       "    </tr>\n",
       "    <tr>\n",
       "      <th>26</th>\n",
       "      <td>27</td>\n",
       "      <td>Meghalaya</td>\n",
       "      <td>36,572</td>\n",
       "      <td>33,481</td>\n",
       "      <td>0.18%</td>\n",
       "      <td>5.086</td>\n",
       "    </tr>\n",
       "    <tr>\n",
       "      <th>27</th>\n",
       "      <td>28</td>\n",
       "      <td>Sikkim</td>\n",
       "      <td>32,496</td>\n",
       "      <td>28,723</td>\n",
       "      <td>0.15%</td>\n",
       "      <td>4.363</td>\n",
       "    </tr>\n",
       "    <tr>\n",
       "      <th>28</th>\n",
       "      <td>29</td>\n",
       "      <td>Manipur</td>\n",
       "      <td>31,790</td>\n",
       "      <td>27,870</td>\n",
       "      <td>0.15%</td>\n",
       "      <td>4.233</td>\n",
       "    </tr>\n",
       "    <tr>\n",
       "      <th>29</th>\n",
       "      <td>30</td>\n",
       "      <td>Nagaland</td>\n",
       "      <td>-</td>\n",
       "      <td>27,283</td>\n",
       "      <td>0.14%</td>\n",
       "      <td>4.144</td>\n",
       "    </tr>\n",
       "    <tr>\n",
       "      <th>30</th>\n",
       "      <td>31</td>\n",
       "      <td>Arunachal Pradesh</td>\n",
       "      <td>-</td>\n",
       "      <td>24,603</td>\n",
       "      <td>0.13%</td>\n",
       "      <td>3.737</td>\n",
       "    </tr>\n",
       "    <tr>\n",
       "      <th>31</th>\n",
       "      <td>32</td>\n",
       "      <td>Mizoram</td>\n",
       "      <td>26,503</td>\n",
       "      <td>22,287</td>\n",
       "      <td>0.12%</td>\n",
       "      <td>3.385</td>\n",
       "    </tr>\n",
       "    <tr>\n",
       "      <th>32</th>\n",
       "      <td>33</td>\n",
       "      <td>Andaman &amp; Nicobar Islands</td>\n",
       "      <td>-</td>\n",
       "      <td>-</td>\n",
       "      <td>-</td>\n",
       "      <td>-</td>\n",
       "    </tr>\n",
       "  </tbody>\n",
       "</table>\n",
       "</div>"
      ],
      "text/plain": [
       "   RANK                      STATE     GDSP19     GDSP18   SHARE      GDP\n",
       "0     1                Maharashtra          -  2,632,792  13.94%  399.921\n",
       "1     2                 Tamil Nadu  1,845,853  1,630,208   8.63%  247.629\n",
       "2     3              Uttar Pradesh  1,687,818  1,584,764   8.39%  240.726\n",
       "3     4                    Gujarat          -  1,502,899   7.96%  228.290\n",
       "4     5                  Karnataka  1,631,977  1,493,127   7.91%  226.806\n",
       "5     6                West Bengal  1,253,832  1,089,898   5.77%  165.556\n",
       "6     7                  Rajasthan  1,020,989    942,586   4.99%  143.179\n",
       "7     8             Andhra Pradesh    972,782    862,957   4.57%  131.083\n",
       "8     9                  Telangana    969,604    861,031   4.56%  130.791\n",
       "9    10             Madhya Pradesh    906,672    809,592   4.29%  122.977\n",
       "10   11                     Kerala          -    781,653   4.14%  118.733\n",
       "11   12                      Delhi    856,112    774,870   4.10%  117.703\n",
       "12   13                    Haryana    831,610    734,163   3.89%  111.519\n",
       "13   14                      Bihar    611,804    530,363   2.81%   80.562\n",
       "14   15                     Punjab    574,760    526,376   2.79%   79.957\n",
       "15   16                     Odisha    521,275    487,805   2.58%   74.098\n",
       "16   17                      Assam          -    315,881   1.67%   47.982\n",
       "17   18               Chhattisgarh    329,180    304,063   1.61%   46.187\n",
       "18   19                  Jharkhand    328,598    297,204   1.57%   45.145\n",
       "19   20                Uttarakhand          -    245,895   1.30%   37.351\n",
       "20   21            Jammu & Kashmir          -    155,956   0.83%   23.690\n",
       "21   22           Himachal Pradesh    165,472    153,845   0.81%   23.369\n",
       "22   23                        Goa     80,449     73,170   0.39%   11.115\n",
       "23   24                    Tripura     55,984     49,845   0.26%    7.571\n",
       "24   25                 Chandigarh          -     42,114   0.22%    6.397\n",
       "25   26                 Puducherry     38,253     34,433   0.18%    5.230\n",
       "26   27                  Meghalaya     36,572     33,481   0.18%    5.086\n",
       "27   28                     Sikkim     32,496     28,723   0.15%    4.363\n",
       "28   29                    Manipur     31,790     27,870   0.15%    4.233\n",
       "29   30                   Nagaland          -     27,283   0.14%    4.144\n",
       "30   31          Arunachal Pradesh          -     24,603   0.13%    3.737\n",
       "31   32                    Mizoram     26,503     22,287   0.12%    3.385\n",
       "32   33  Andaman & Nicobar Islands          -          -       -        -"
      ]
     },
     "execution_count": 260,
     "metadata": {},
     "output_type": "execute_result"
    }
   ],
   "source": [
    "DATA4"
   ]
  },
  {
   "cell_type": "markdown",
   "id": "1792f563",
   "metadata": {},
   "source": [
    "5. Scrape the details of trending repositories on Github.com.\n",
    "Url = https://github.com/\n",
    "You have to find the following details:\n",
    "A) Repository title\n",
    "B) Repository description\n",
    "C) Contributors count\n",
    "D) Language used\n"
   ]
  },
  {
   "cell_type": "code",
   "execution_count": 9,
   "id": "8c126b46",
   "metadata": {},
   "outputs": [],
   "source": [
    "driver.get('https://github.com/')"
   ]
  },
  {
   "cell_type": "code",
   "execution_count": 11,
   "id": "911f0e79",
   "metadata": {},
   "outputs": [],
   "source": [
    "rep=driver.find_element(By.XPATH,'/html/body/div[1]/header/div/div[2]/div/nav/ul/li[3]/button')\n",
    "rep.click()"
   ]
  },
  {
   "cell_type": "code",
   "execution_count": 12,
   "id": "448384dd",
   "metadata": {},
   "outputs": [],
   "source": [
    "repp=driver.find_element(By.XPATH,'/html/body/div[1]/header/div/div[2]/div/nav/ul/li[3]/div/ul[3]/li[3]/a')\n",
    "driver.get(repp.get_attribute('href'))"
   ]
  },
  {
   "cell_type": "code",
   "execution_count": 16,
   "id": "afa5f248",
   "metadata": {},
   "outputs": [],
   "source": [
    "repname=[]\n",
    "rp=driver.find_elements(By.XPATH,'//h1[@class=\"h3 lh-condensed\"]')\n",
    "for i in rp:                        \n",
    "    repname.append(i.text)"
   ]
  },
  {
   "cell_type": "code",
   "execution_count": 18,
   "id": "2f70800e",
   "metadata": {},
   "outputs": [],
   "source": [
    "desc=[]\n",
    "ds=driver.find_elements(By.XPATH,'//p[@class=\"col-9 color-fg-muted my-1 pr-4\"]')\n",
    "for i in ds:\n",
    "    desc.append(i.text)"
   ]
  },
  {
   "cell_type": "code",
   "execution_count": 32,
   "id": "6a800f3a",
   "metadata": {},
   "outputs": [],
   "source": [
    "lang=[]\n",
    "lg=driver.find_elements(By.XPATH,'//span[@itemprop=\"programmingLanguage\"]')\n",
    "try:\n",
    "    for i in lg:\n",
    "        lang.append(i.text)\n",
    "except NoSuchElementException :\n",
    "    lang.append('-')"
   ]
  },
  {
   "cell_type": "code",
   "execution_count": 22,
   "id": "86560ec8",
   "metadata": {},
   "outputs": [],
   "source": [
    "contcount=[]\n",
    "ct=driver.find_elements(By.XPATH,'//a[@class=\"Link--muted d-inline-block mr-3\"]')\n",
    "for i in ct:\n",
    "    contcount.append(i.text)"
   ]
  },
  {
   "cell_type": "code",
   "execution_count": 38,
   "id": "692a818e",
   "metadata": {},
   "outputs": [
    {
     "data": {
      "text/plain": [
       "(25, 25, 25, 25)"
      ]
     },
     "execution_count": 38,
     "metadata": {},
     "output_type": "execute_result"
    }
   ],
   "source": [
    "len(repname),len(desc),len(lang),len(cont)"
   ]
  },
  {
   "cell_type": "code",
   "execution_count": 30,
   "id": "fdd8c798",
   "metadata": {},
   "outputs": [],
   "source": [
    "cont=contcount[0:50:2]"
   ]
  },
  {
   "cell_type": "code",
   "execution_count": 36,
   "id": "655e8183",
   "metadata": {},
   "outputs": [],
   "source": [
    "lang.insert(8,('-'))"
   ]
  },
  {
   "cell_type": "code",
   "execution_count": 37,
   "id": "9153282a",
   "metadata": {},
   "outputs": [],
   "source": [
    "lang.insert(21,('-'))"
   ]
  },
  {
   "cell_type": "code",
   "execution_count": 39,
   "id": "470ec58c",
   "metadata": {},
   "outputs": [],
   "source": [
    "DATA5=pd.DataFrame({'REPOSITORY_NAME':repname,'DESCRIPTION':desc,'LANGUAGE':lang,'CONTRIBUTORS_COUNT':cont})"
   ]
  },
  {
   "cell_type": "code",
   "execution_count": 40,
   "id": "042b7313",
   "metadata": {},
   "outputs": [
    {
     "data": {
      "text/html": [
       "<div>\n",
       "<style scoped>\n",
       "    .dataframe tbody tr th:only-of-type {\n",
       "        vertical-align: middle;\n",
       "    }\n",
       "\n",
       "    .dataframe tbody tr th {\n",
       "        vertical-align: top;\n",
       "    }\n",
       "\n",
       "    .dataframe thead th {\n",
       "        text-align: right;\n",
       "    }\n",
       "</style>\n",
       "<table border=\"1\" class=\"dataframe\">\n",
       "  <thead>\n",
       "    <tr style=\"text-align: right;\">\n",
       "      <th></th>\n",
       "      <th>REPOSITORY_NAME</th>\n",
       "      <th>DESCRIPTION</th>\n",
       "      <th>LANGUAGE</th>\n",
       "      <th>CONTRIBUTORS_COUNT</th>\n",
       "    </tr>\n",
       "  </thead>\n",
       "  <tbody>\n",
       "    <tr>\n",
       "      <th>0</th>\n",
       "      <td>AUTOMATIC1111 / stable-diffusion-webui</td>\n",
       "      <td>Stable Diffusion web UI</td>\n",
       "      <td>Python</td>\n",
       "      <td>2,265</td>\n",
       "    </tr>\n",
       "    <tr>\n",
       "      <th>1</th>\n",
       "      <td>sd-webui / stable-diffusion-webui</td>\n",
       "      <td>Stable Diffusion web UI</td>\n",
       "      <td>Python</td>\n",
       "      <td>3,333</td>\n",
       "    </tr>\n",
       "    <tr>\n",
       "      <th>2</th>\n",
       "      <td>somebasj / ParallelsDesktopCrack</td>\n",
       "      <td>Parallels Desktop for mac Crack</td>\n",
       "      <td>Shell</td>\n",
       "      <td>1,328</td>\n",
       "    </tr>\n",
       "    <tr>\n",
       "      <th>3</th>\n",
       "      <td>AykutSarac / jsoncrack.com</td>\n",
       "      <td>🔮 Seamlessly visualize your JSON data instantl...</td>\n",
       "      <td>TypeScript</td>\n",
       "      <td>10,890</td>\n",
       "    </tr>\n",
       "    <tr>\n",
       "      <th>4</th>\n",
       "      <td>surrealdb / surrealdb</td>\n",
       "      <td>A scalable, distributed, collaborative, docume...</td>\n",
       "      <td>Rust</td>\n",
       "      <td>4,739</td>\n",
       "    </tr>\n",
       "    <tr>\n",
       "      <th>5</th>\n",
       "      <td>yt-dlp / yt-dlp</td>\n",
       "      <td>A youtube-dl fork with additional features and...</td>\n",
       "      <td>Python</td>\n",
       "      <td>31,709</td>\n",
       "    </tr>\n",
       "    <tr>\n",
       "      <th>6</th>\n",
       "      <td>termux / termux-app</td>\n",
       "      <td>Termux - a terminal emulator application for A...</td>\n",
       "      <td>Java</td>\n",
       "      <td>15,543</td>\n",
       "    </tr>\n",
       "    <tr>\n",
       "      <th>7</th>\n",
       "      <td>TheAlgorithms / Python</td>\n",
       "      <td>All Algorithms implemented in Python</td>\n",
       "      <td>Python</td>\n",
       "      <td>143,278</td>\n",
       "    </tr>\n",
       "    <tr>\n",
       "      <th>8</th>\n",
       "      <td>mtdvio / every-programmer-should-know</td>\n",
       "      <td>A collection of (mostly) technical things ever...</td>\n",
       "      <td>-</td>\n",
       "      <td>62,479</td>\n",
       "    </tr>\n",
       "    <tr>\n",
       "      <th>9</th>\n",
       "      <td>Alcibiades-Capital / mev_bundle_generator</td>\n",
       "      <td>A MEV bundle generator written in Rust</td>\n",
       "      <td>Rust</td>\n",
       "      <td>458</td>\n",
       "    </tr>\n",
       "    <tr>\n",
       "      <th>10</th>\n",
       "      <td>meienberger / runtipi</td>\n",
       "      <td>⛺️ Tipi is a homeserver for everyone! One comm...</td>\n",
       "      <td>TypeScript</td>\n",
       "      <td>2,327</td>\n",
       "    </tr>\n",
       "    <tr>\n",
       "      <th>11</th>\n",
       "      <td>hiroi-sora / Umi-OCR</td>\n",
       "      <td>OCR批量图片转文字识别软件，带界面，离线运行。可排除图片中水印区域的干扰，提取干净的文本。...</td>\n",
       "      <td>Python</td>\n",
       "      <td>1,248</td>\n",
       "    </tr>\n",
       "    <tr>\n",
       "      <th>12</th>\n",
       "      <td>karpathy / nn-zero-to-hero</td>\n",
       "      <td>Neural Networks: Zero to Hero</td>\n",
       "      <td>Jupyter Notebook</td>\n",
       "      <td>736</td>\n",
       "    </tr>\n",
       "    <tr>\n",
       "      <th>13</th>\n",
       "      <td>benphelps / homepage</td>\n",
       "      <td>A highly customizable homepage (or startpage /...</td>\n",
       "      <td>JavaScript</td>\n",
       "      <td>672</td>\n",
       "    </tr>\n",
       "    <tr>\n",
       "      <th>14</th>\n",
       "      <td>jaakkopasanen / AutoEq</td>\n",
       "      <td>Automatic headphone equalization from frequenc...</td>\n",
       "      <td>Jupyter Notebook</td>\n",
       "      <td>8,513</td>\n",
       "    </tr>\n",
       "    <tr>\n",
       "      <th>15</th>\n",
       "      <td>NvChad / NvChad</td>\n",
       "      <td>An attempt to make neovim cli functional like ...</td>\n",
       "      <td>Lua</td>\n",
       "      <td>11,944</td>\n",
       "    </tr>\n",
       "    <tr>\n",
       "      <th>16</th>\n",
       "      <td>mdn / content</td>\n",
       "      <td>The content behind MDN Web Docs</td>\n",
       "      <td>Markdown</td>\n",
       "      <td>6,256</td>\n",
       "    </tr>\n",
       "    <tr>\n",
       "      <th>17</th>\n",
       "      <td>mantinedev / mantine</td>\n",
       "      <td>React components library with native dark them...</td>\n",
       "      <td>TypeScript</td>\n",
       "      <td>14,331</td>\n",
       "    </tr>\n",
       "    <tr>\n",
       "      <th>18</th>\n",
       "      <td>vinta / awesome-python</td>\n",
       "      <td>A curated list of awesome Python frameworks, l...</td>\n",
       "      <td>Python</td>\n",
       "      <td>141,162</td>\n",
       "    </tr>\n",
       "    <tr>\n",
       "      <th>19</th>\n",
       "      <td>microsoft / PowerToys</td>\n",
       "      <td>Windows system utilities to maximize productivity</td>\n",
       "      <td>C#</td>\n",
       "      <td>77,926</td>\n",
       "    </tr>\n",
       "    <tr>\n",
       "      <th>20</th>\n",
       "      <td>apache / incubator-streampark</td>\n",
       "      <td>StreamPark, Make stream processing easier! eas...</td>\n",
       "      <td>Java</td>\n",
       "      <td>2,314</td>\n",
       "    </tr>\n",
       "    <tr>\n",
       "      <th>21</th>\n",
       "      <td>34306 / TrollStoreiPA</td>\n",
       "      <td>This repo saved iPA for TrollStore, work as ja...</td>\n",
       "      <td>-</td>\n",
       "      <td>108</td>\n",
       "    </tr>\n",
       "    <tr>\n",
       "      <th>22</th>\n",
       "      <td>ventoy / Ventoy</td>\n",
       "      <td>A new bootable USB solution.</td>\n",
       "      <td>C</td>\n",
       "      <td>39,167</td>\n",
       "    </tr>\n",
       "    <tr>\n",
       "      <th>23</th>\n",
       "      <td>ziglang / zig</td>\n",
       "      <td>General-purpose programming language and toolc...</td>\n",
       "      <td>Zig</td>\n",
       "      <td>17,580</td>\n",
       "    </tr>\n",
       "    <tr>\n",
       "      <th>24</th>\n",
       "      <td>openwrt / openwrt</td>\n",
       "      <td>This repository is a mirror of https://git.ope...</td>\n",
       "      <td>C</td>\n",
       "      <td>12,594</td>\n",
       "    </tr>\n",
       "  </tbody>\n",
       "</table>\n",
       "</div>"
      ],
      "text/plain": [
       "                              REPOSITORY_NAME  \\\n",
       "0      AUTOMATIC1111 / stable-diffusion-webui   \n",
       "1           sd-webui / stable-diffusion-webui   \n",
       "2            somebasj / ParallelsDesktopCrack   \n",
       "3                  AykutSarac / jsoncrack.com   \n",
       "4                       surrealdb / surrealdb   \n",
       "5                             yt-dlp / yt-dlp   \n",
       "6                         termux / termux-app   \n",
       "7                      TheAlgorithms / Python   \n",
       "8       mtdvio / every-programmer-should-know   \n",
       "9   Alcibiades-Capital / mev_bundle_generator   \n",
       "10                      meienberger / runtipi   \n",
       "11                       hiroi-sora / Umi-OCR   \n",
       "12                 karpathy / nn-zero-to-hero   \n",
       "13                       benphelps / homepage   \n",
       "14                     jaakkopasanen / AutoEq   \n",
       "15                            NvChad / NvChad   \n",
       "16                              mdn / content   \n",
       "17                       mantinedev / mantine   \n",
       "18                     vinta / awesome-python   \n",
       "19                      microsoft / PowerToys   \n",
       "20              apache / incubator-streampark   \n",
       "21                      34306 / TrollStoreiPA   \n",
       "22                            ventoy / Ventoy   \n",
       "23                              ziglang / zig   \n",
       "24                          openwrt / openwrt   \n",
       "\n",
       "                                          DESCRIPTION          LANGUAGE  \\\n",
       "0                             Stable Diffusion web UI            Python   \n",
       "1                             Stable Diffusion web UI            Python   \n",
       "2                     Parallels Desktop for mac Crack             Shell   \n",
       "3   🔮 Seamlessly visualize your JSON data instantl...        TypeScript   \n",
       "4   A scalable, distributed, collaborative, docume...              Rust   \n",
       "5   A youtube-dl fork with additional features and...            Python   \n",
       "6   Termux - a terminal emulator application for A...              Java   \n",
       "7                All Algorithms implemented in Python            Python   \n",
       "8   A collection of (mostly) technical things ever...                 -   \n",
       "9              A MEV bundle generator written in Rust              Rust   \n",
       "10  ⛺️ Tipi is a homeserver for everyone! One comm...        TypeScript   \n",
       "11  OCR批量图片转文字识别软件，带界面，离线运行。可排除图片中水印区域的干扰，提取干净的文本。...            Python   \n",
       "12                      Neural Networks: Zero to Hero  Jupyter Notebook   \n",
       "13  A highly customizable homepage (or startpage /...        JavaScript   \n",
       "14  Automatic headphone equalization from frequenc...  Jupyter Notebook   \n",
       "15  An attempt to make neovim cli functional like ...               Lua   \n",
       "16                    The content behind MDN Web Docs          Markdown   \n",
       "17  React components library with native dark them...        TypeScript   \n",
       "18  A curated list of awesome Python frameworks, l...            Python   \n",
       "19  Windows system utilities to maximize productivity                C#   \n",
       "20  StreamPark, Make stream processing easier! eas...              Java   \n",
       "21  This repo saved iPA for TrollStore, work as ja...                 -   \n",
       "22                       A new bootable USB solution.                 C   \n",
       "23  General-purpose programming language and toolc...               Zig   \n",
       "24  This repository is a mirror of https://git.ope...                 C   \n",
       "\n",
       "   CONTRIBUTORS_COUNT  \n",
       "0               2,265  \n",
       "1               3,333  \n",
       "2               1,328  \n",
       "3              10,890  \n",
       "4               4,739  \n",
       "5              31,709  \n",
       "6              15,543  \n",
       "7             143,278  \n",
       "8              62,479  \n",
       "9                 458  \n",
       "10              2,327  \n",
       "11              1,248  \n",
       "12                736  \n",
       "13                672  \n",
       "14              8,513  \n",
       "15             11,944  \n",
       "16              6,256  \n",
       "17             14,331  \n",
       "18            141,162  \n",
       "19             77,926  \n",
       "20              2,314  \n",
       "21                108  \n",
       "22             39,167  \n",
       "23             17,580  \n",
       "24             12,594  "
      ]
     },
     "execution_count": 40,
     "metadata": {},
     "output_type": "execute_result"
    }
   ],
   "source": [
    "DATA5"
   ]
  },
  {
   "cell_type": "markdown",
   "id": "68f4ebcf",
   "metadata": {},
   "source": [
    "6. Scrape the details of top 100 songs on billiboard.com.\n",
    "Url = https:/www.billboard.com/\n",
    "You have to find the following details:\n",
    "A) Song name\n",
    "B) Artist name\n",
    "C) Last week rank\n",
    "D) Peak rank\n",
    "E) Weeks on board\n",
    "Note: - From the home page you have to click on the charts option then hot 100-page link through code"
   ]
  },
  {
   "cell_type": "code",
   "execution_count": 184,
   "id": "d7307ad0",
   "metadata": {},
   "outputs": [],
   "source": [
    "driver.get('https://www.billboard.com/')"
   ]
  },
  {
   "cell_type": "code",
   "execution_count": 185,
   "id": "c2150b55",
   "metadata": {},
   "outputs": [],
   "source": [
    "link=driver.find_element(By.XPATH,'//li[@class=\"o-nav__list-item \"]')\n",
    "link.click()"
   ]
  },
  {
   "cell_type": "code",
   "execution_count": 115,
   "id": "4ff9d11f",
   "metadata": {},
   "outputs": [],
   "source": [
    "songname=[]\n",
    "\n",
    "sng=driver.find_elements(By.XPATH,'//h3[@id=\"title-of-a-story\"]')\n",
    "for i in sng:\n",
    "    songname.append(i.text)"
   ]
  },
  {
   "cell_type": "code",
   "execution_count": 116,
   "id": "041dbde3",
   "metadata": {},
   "outputs": [
    {
     "data": {
      "text/plain": [
       "''"
      ]
     },
     "execution_count": 116,
     "metadata": {},
     "output_type": "execute_result"
    }
   ],
   "source": [
    "songname.pop(0)"
   ]
  },
  {
   "cell_type": "code",
   "execution_count": 117,
   "id": "be194838",
   "metadata": {},
   "outputs": [
    {
     "data": {
      "text/plain": [
       "''"
      ]
     },
     "execution_count": 117,
     "metadata": {},
     "output_type": "execute_result"
    }
   ],
   "source": [
    "songname.pop(0)"
   ]
  },
  {
   "cell_type": "code",
   "execution_count": 118,
   "id": "86935a37",
   "metadata": {},
   "outputs": [
    {
     "data": {
      "text/plain": [
       "''"
      ]
     },
     "execution_count": 118,
     "metadata": {},
     "output_type": "execute_result"
    }
   ],
   "source": [
    "songname.pop(0)"
   ]
  },
  {
   "cell_type": "code",
   "execution_count": 119,
   "id": "b7d5cd8d",
   "metadata": {},
   "outputs": [
    {
     "data": {
      "text/plain": [
       "''"
      ]
     },
     "execution_count": 119,
     "metadata": {},
     "output_type": "execute_result"
    }
   ],
   "source": [
    "songname.pop(0)"
   ]
  },
  {
   "cell_type": "code",
   "execution_count": 120,
   "id": "7960130d",
   "metadata": {},
   "outputs": [
    {
     "data": {
      "text/plain": [
       "''"
      ]
     },
     "execution_count": 120,
     "metadata": {},
     "output_type": "execute_result"
    }
   ],
   "source": [
    "songname.pop(0)"
   ]
  },
  {
   "cell_type": "code",
   "execution_count": 121,
   "id": "893571f3",
   "metadata": {},
   "outputs": [
    {
     "data": {
      "text/plain": [
       "''"
      ]
     },
     "execution_count": 121,
     "metadata": {},
     "output_type": "execute_result"
    }
   ],
   "source": [
    "songname.pop(0)"
   ]
  },
  {
   "cell_type": "code",
   "execution_count": 123,
   "id": "62ce4d32",
   "metadata": {},
   "outputs": [
    {
     "data": {
      "text/plain": [
       "413"
      ]
     },
     "execution_count": 123,
     "metadata": {},
     "output_type": "execute_result"
    }
   ],
   "source": [
    "len(songname)"
   ]
  },
  {
   "cell_type": "code",
   "execution_count": 124,
   "id": "6ae700fc",
   "metadata": {},
   "outputs": [],
   "source": [
    "songs=songname[0:400:4]"
   ]
  },
  {
   "cell_type": "code",
   "execution_count": 144,
   "id": "ad45948e",
   "metadata": {},
   "outputs": [],
   "source": [
    "week=[]\n",
    "art=driver.find_elements(By.XPATH,'//li[@class=\"o-chart-results-list__item // a-chart-color u-width-72 u-width-55@mobile-max u-width-55@tablet-only lrv-u-flex lrv-u-flex-shrink-0 lrv-u-align-items-center lrv-u-justify-content-center lrv-u-border-b-1 u-border-b-0@mobile-max lrv-u-border-color-grey-light u-background-color-white-064@mobile-max lrv-u-flex-grow-1\"]')\n",
    "for i in art:\n",
    "    week.append(i.text)"
   ]
  },
  {
   "cell_type": "code",
   "execution_count": 145,
   "id": "b3872871",
   "metadata": {},
   "outputs": [
    {
     "data": {
      "text/plain": [
       "200"
      ]
     },
     "execution_count": 145,
     "metadata": {},
     "output_type": "execute_result"
    }
   ],
   "source": [
    "len(week)"
   ]
  },
  {
   "cell_type": "code",
   "execution_count": 147,
   "id": "f5c3edb4",
   "metadata": {},
   "outputs": [],
   "source": [
    "lastweek=week[0:200:2]"
   ]
  },
  {
   "cell_type": "code",
   "execution_count": 148,
   "id": "58a0f0c5",
   "metadata": {},
   "outputs": [],
   "source": [
    "weeksboard=week[1:200:2]"
   ]
  },
  {
   "cell_type": "code",
   "execution_count": 165,
   "id": "888c41ea",
   "metadata": {},
   "outputs": [],
   "source": [
    "peak=[]\n",
    "\n",
    "prr=driver.find_elements(By.XPATH,'//li[@class=\"o-chart-results-list__item // a-chart-bg-color a-chart-color u-width-72 u-width-55@mobile-max u-width-55@tablet-only lrv-u-flex lrv-u-flex-shrink-0 lrv-u-align-items-center lrv-u-justify-content-center lrv-u-background-color-grey-lightest lrv-u-border-b-1 u-border-b-0@mobile-max lrv-u-border-color-grey-light lrv-u-flex-grow-1\"]')\n",
    "for i in prr:\n",
    "    peak.append(i.text)"
   ]
  },
  {
   "cell_type": "code",
   "execution_count": 167,
   "id": "19075cc9",
   "metadata": {},
   "outputs": [
    {
     "data": {
      "text/plain": [
       "200"
      ]
     },
     "execution_count": 167,
     "metadata": {},
     "output_type": "execute_result"
    }
   ],
   "source": [
    "len(peak)"
   ]
  },
  {
   "cell_type": "code",
   "execution_count": 170,
   "id": "a3d0a9a9",
   "metadata": {},
   "outputs": [],
   "source": [
    "peaknew=peak[1:200:2]"
   ]
  },
  {
   "cell_type": "code",
   "execution_count": 172,
   "id": "dd27d82e",
   "metadata": {},
   "outputs": [],
   "source": [
    "artt=[]\n",
    "ert=driver.find_elements(By.XPATH,'//span[@class=\"c-label  a-no-trucate a-font-primary-s lrv-u-font-size-14@mobile-max u-line-height-normal@mobile-max u-letter-spacing-0021 lrv-u-display-block a-truncate-ellipsis-2line u-max-width-330 u-max-width-230@tablet-only\"]')\n",
    "for i in ert:\n",
    "    artt.append(i.text)"
   ]
  },
  {
   "cell_type": "code",
   "execution_count": 175,
   "id": "a9046ef0",
   "metadata": {},
   "outputs": [
    {
     "data": {
      "text/plain": [
       "99"
      ]
     },
     "execution_count": 175,
     "metadata": {},
     "output_type": "execute_result"
    }
   ],
   "source": [
    "len(artt)"
   ]
  },
  {
   "cell_type": "code",
   "execution_count": 193,
   "id": "02ef0aa5",
   "metadata": {},
   "outputs": [],
   "source": [
    "apr=[]\n",
    "apl=driver.find_elements(By.XPATH,'//span[@class=\"c-label  a-no-trucate a-font-primary-s lrv-u-font-size-14@mobile-max u-line-height-normal@mobile-max u-letter-spacing-0021 lrv-u-display-block a-truncate-ellipsis-2line u-max-width-330 u-max-width-230@tablet-only u-font-size-20@tablet\"]')\n",
    "for i in apl:\n",
    "    apr.append(i.text)"
   ]
  },
  {
   "cell_type": "code",
   "execution_count": 195,
   "id": "0f6a7f1d",
   "metadata": {},
   "outputs": [
    {
     "data": {
      "text/plain": [
       "['Harry Styles']"
      ]
     },
     "execution_count": 195,
     "metadata": {},
     "output_type": "execute_result"
    }
   ],
   "source": [
    "apr"
   ]
  },
  {
   "cell_type": "code",
   "execution_count": 196,
   "id": "810a04bc",
   "metadata": {},
   "outputs": [],
   "source": [
    "artt.insert(0,apr)"
   ]
  },
  {
   "cell_type": "code",
   "execution_count": 198,
   "id": "a09021c7",
   "metadata": {},
   "outputs": [
    {
     "data": {
      "text/plain": [
       "100"
      ]
     },
     "execution_count": 198,
     "metadata": {},
     "output_type": "execute_result"
    }
   ],
   "source": [
    "len(artt)"
   ]
  },
  {
   "cell_type": "code",
   "execution_count": 201,
   "id": "486f3eb6",
   "metadata": {},
   "outputs": [],
   "source": [
    "DATA6=pd.DataFrame({'SONG_NAME':songs,'ARTIST':artt,'LAST_WEEK_RANK':lastweek,'PEAK_RANK':peaknew,'WEEKS_ON_BOARD':weeksboard})"
   ]
  },
  {
   "cell_type": "code",
   "execution_count": 202,
   "id": "8e2beda0",
   "metadata": {},
   "outputs": [
    {
     "data": {
      "text/html": [
       "<div>\n",
       "<style scoped>\n",
       "    .dataframe tbody tr th:only-of-type {\n",
       "        vertical-align: middle;\n",
       "    }\n",
       "\n",
       "    .dataframe tbody tr th {\n",
       "        vertical-align: top;\n",
       "    }\n",
       "\n",
       "    .dataframe thead th {\n",
       "        text-align: right;\n",
       "    }\n",
       "</style>\n",
       "<table border=\"1\" class=\"dataframe\">\n",
       "  <thead>\n",
       "    <tr style=\"text-align: right;\">\n",
       "      <th></th>\n",
       "      <th>SONG_NAME</th>\n",
       "      <th>ARTIST</th>\n",
       "      <th>LAST_WEEK_RANK</th>\n",
       "      <th>PEAK_RANK</th>\n",
       "      <th>WEEKS_ON_BOARD</th>\n",
       "    </tr>\n",
       "  </thead>\n",
       "  <tbody>\n",
       "    <tr>\n",
       "      <th>0</th>\n",
       "      <td>As It Was</td>\n",
       "      <td>[Harry Styles]</td>\n",
       "      <td>1</td>\n",
       "      <td>1</td>\n",
       "      <td>22</td>\n",
       "    </tr>\n",
       "    <tr>\n",
       "      <th>1</th>\n",
       "      <td>Bad Habit</td>\n",
       "      <td>Steve Lacy</td>\n",
       "      <td>3</td>\n",
       "      <td>2</td>\n",
       "      <td>9</td>\n",
       "    </tr>\n",
       "    <tr>\n",
       "      <th>2</th>\n",
       "      <td>About Damn Time</td>\n",
       "      <td>Lizzo</td>\n",
       "      <td>2</td>\n",
       "      <td>1</td>\n",
       "      <td>20</td>\n",
       "    </tr>\n",
       "    <tr>\n",
       "      <th>3</th>\n",
       "      <td>Running Up That Hill (A Deal With God)</td>\n",
       "      <td>Kate Bush</td>\n",
       "      <td>4</td>\n",
       "      <td>3</td>\n",
       "      <td>34</td>\n",
       "    </tr>\n",
       "    <tr>\n",
       "      <th>4</th>\n",
       "      <td>Sunroof</td>\n",
       "      <td>Nicky Youre &amp; dazy</td>\n",
       "      <td>6</td>\n",
       "      <td>5</td>\n",
       "      <td>14</td>\n",
       "    </tr>\n",
       "    <tr>\n",
       "      <th>...</th>\n",
       "      <td>...</td>\n",
       "      <td>...</td>\n",
       "      <td>...</td>\n",
       "      <td>...</td>\n",
       "      <td>...</td>\n",
       "    </tr>\n",
       "    <tr>\n",
       "      <th>95</th>\n",
       "      <td>Thought You Should Know</td>\n",
       "      <td>Morgan Wallen</td>\n",
       "      <td>81</td>\n",
       "      <td>12</td>\n",
       "      <td>17</td>\n",
       "    </tr>\n",
       "    <tr>\n",
       "      <th>96</th>\n",
       "      <td>2 Be Loved (Am I Ready)</td>\n",
       "      <td>Lizzo</td>\n",
       "      <td>95</td>\n",
       "      <td>84</td>\n",
       "      <td>3</td>\n",
       "    </tr>\n",
       "    <tr>\n",
       "      <th>97</th>\n",
       "      <td>Wait In The Truck</td>\n",
       "      <td>HARDY Featuring Lainey Wilson</td>\n",
       "      <td>-</td>\n",
       "      <td>98</td>\n",
       "      <td>1</td>\n",
       "    </tr>\n",
       "    <tr>\n",
       "      <th>98</th>\n",
       "      <td>La Corriente</td>\n",
       "      <td>Bad Bunny &amp; Tony Dize</td>\n",
       "      <td>87</td>\n",
       "      <td>32</td>\n",
       "      <td>14</td>\n",
       "    </tr>\n",
       "    <tr>\n",
       "      <th>99</th>\n",
       "      <td>Bzrp Music Sessions, Vol. 52</td>\n",
       "      <td>Bizarrap &amp; Quevedo</td>\n",
       "      <td>82</td>\n",
       "      <td>82</td>\n",
       "      <td>4</td>\n",
       "    </tr>\n",
       "  </tbody>\n",
       "</table>\n",
       "<p>100 rows × 5 columns</p>\n",
       "</div>"
      ],
      "text/plain": [
       "                                 SONG_NAME                         ARTIST  \\\n",
       "0                                As It Was                 [Harry Styles]   \n",
       "1                                Bad Habit                     Steve Lacy   \n",
       "2                          About Damn Time                          Lizzo   \n",
       "3   Running Up That Hill (A Deal With God)                      Kate Bush   \n",
       "4                                  Sunroof             Nicky Youre & dazy   \n",
       "..                                     ...                            ...   \n",
       "95                 Thought You Should Know                  Morgan Wallen   \n",
       "96                 2 Be Loved (Am I Ready)                          Lizzo   \n",
       "97                       Wait In The Truck  HARDY Featuring Lainey Wilson   \n",
       "98                            La Corriente          Bad Bunny & Tony Dize   \n",
       "99            Bzrp Music Sessions, Vol. 52             Bizarrap & Quevedo   \n",
       "\n",
       "   LAST_WEEK_RANK PEAK_RANK WEEKS_ON_BOARD  \n",
       "0               1         1             22  \n",
       "1               3         2              9  \n",
       "2               2         1             20  \n",
       "3               4         3             34  \n",
       "4               6         5             14  \n",
       "..            ...       ...            ...  \n",
       "95             81        12             17  \n",
       "96             95        84              3  \n",
       "97              -        98              1  \n",
       "98             87        32             14  \n",
       "99             82        82              4  \n",
       "\n",
       "[100 rows x 5 columns]"
      ]
     },
     "execution_count": 202,
     "metadata": {},
     "output_type": "execute_result"
    }
   ],
   "source": [
    "DATA6"
   ]
  },
  {
   "cell_type": "markdown",
   "id": "4fc47b72",
   "metadata": {},
   "source": [
    "7. Scrape the details of Data science recruiters from naukri.com.\n",
    "Url = https://www.naukri.com/\n",
    "You have to find the following details:\n",
    "A) Name\n",
    "B) Designation\n",
    "C) Company\n",
    "D) Skills they hire for\n",
    "E) Location\n",
    "Note: - From naukri.com homepage click on the recruiters option and the on the search pane type Data science and\n",
    "click on search. All this should be done through code"
   ]
  },
  {
   "cell_type": "code",
   "execution_count": 196,
   "id": "b9a997f1",
   "metadata": {},
   "outputs": [],
   "source": [
    "driver.get('https://www.naukri.com/')"
   ]
  },
  {
   "cell_type": "code",
   "execution_count": 197,
   "id": "fd802f26",
   "metadata": {},
   "outputs": [],
   "source": [
    "src=driver.find_element(By.XPATH,'//input[@class=\"suggestor-input \"]')\n",
    "src.send_keys('DATA SCIENCE')"
   ]
  },
  {
   "cell_type": "code",
   "execution_count": 198,
   "id": "71ec2ba3",
   "metadata": {},
   "outputs": [],
   "source": [
    "sbm=driver.find_element(By.XPATH,'//div[@class=\"qsbSubmit\"]')\n",
    "sbm.click()"
   ]
  },
  {
   "cell_type": "code",
   "execution_count": 199,
   "id": "7d94e9e1",
   "metadata": {},
   "outputs": [],
   "source": [
    "desig=[]\n",
    "dsg=driver.find_elements(By.XPATH,'//a[@class=\"title fw500 ellipsis\"]')\n",
    "for i in dsg:\n",
    "    desig.append(i.text)"
   ]
  },
  {
   "cell_type": "code",
   "execution_count": 200,
   "id": "c8a8db38",
   "metadata": {},
   "outputs": [],
   "source": [
    "comp=[]\n",
    "cmp=driver.find_elements(By.XPATH,'//a[@class=\"subTitle ellipsis fleft\"]')\n",
    "for i in cmp:\n",
    "    comp.append(i.text)"
   ]
  },
  {
   "cell_type": "code",
   "execution_count": 201,
   "id": "f8f4d77f",
   "metadata": {},
   "outputs": [],
   "source": [
    "skills=[]\n",
    "cmps=driver.find_elements(By.XPATH,'//ul[@class=\"tags has-description\"]')\n",
    "for i in cmps:\n",
    "    skills.append(i.text)"
   ]
  },
  {
   "cell_type": "code",
   "execution_count": 202,
   "id": "4dd28372",
   "metadata": {},
   "outputs": [],
   "source": [
    "location=[]\n",
    "cmpss=driver.find_elements(By.XPATH,'//span[@class=\"ellipsis fleft fs12 lh16 \"]')\n",
    "for i in cmpss:\n",
    "    location.append(i.text)"
   ]
  },
  {
   "cell_type": "code",
   "execution_count": 211,
   "id": "5d7133f2",
   "metadata": {},
   "outputs": [],
   "source": [
    "locations=location[2:57:3]"
   ]
  },
  {
   "cell_type": "code",
   "execution_count": 215,
   "id": "9aedb8a8",
   "metadata": {},
   "outputs": [],
   "source": [
    "DATA7=pd.DataFrame({'NAME':desig,'COMPANY':comp,'SKILLS':skills,'LOCATION':locations})"
   ]
  },
  {
   "cell_type": "code",
   "execution_count": 216,
   "id": "cd2172f5",
   "metadata": {},
   "outputs": [
    {
     "data": {
      "text/html": [
       "<div>\n",
       "<style scoped>\n",
       "    .dataframe tbody tr th:only-of-type {\n",
       "        vertical-align: middle;\n",
       "    }\n",
       "\n",
       "    .dataframe tbody tr th {\n",
       "        vertical-align: top;\n",
       "    }\n",
       "\n",
       "    .dataframe thead th {\n",
       "        text-align: right;\n",
       "    }\n",
       "</style>\n",
       "<table border=\"1\" class=\"dataframe\">\n",
       "  <thead>\n",
       "    <tr style=\"text-align: right;\">\n",
       "      <th></th>\n",
       "      <th>NAME</th>\n",
       "      <th>COMPANY</th>\n",
       "      <th>SKILLS</th>\n",
       "      <th>LOCATION</th>\n",
       "    </tr>\n",
       "  </thead>\n",
       "  <tbody>\n",
       "    <tr>\n",
       "      <th>0</th>\n",
       "      <td>Senior Analyst-Data Science</td>\n",
       "      <td>Accenture</td>\n",
       "      <td>Publishing\\nConsulting\\nPredictive modeling\\nD...</td>\n",
       "      <td>Bangalore/Bengaluru</td>\n",
       "    </tr>\n",
       "    <tr>\n",
       "      <th>1</th>\n",
       "      <td>Senior Manager - Data Science</td>\n",
       "      <td>Xpressbees (BusyBees Logistics Solutions Pvt. ...</td>\n",
       "      <td>Data Science\\nIT Skills\\nPython\\nMachine Learn...</td>\n",
       "      <td>Pune, Bangalore/Bengaluru</td>\n",
       "    </tr>\n",
       "    <tr>\n",
       "      <th>2</th>\n",
       "      <td>Senior Analyst-Data Science</td>\n",
       "      <td>Accenture</td>\n",
       "      <td>Publishing\\nArtificial Intelligence\\nConsultin...</td>\n",
       "      <td>Gurgaon/Gurugram</td>\n",
       "    </tr>\n",
       "    <tr>\n",
       "      <th>3</th>\n",
       "      <td>Senior Analyst-Data Science</td>\n",
       "      <td>Accenture</td>\n",
       "      <td>Publishing\\nConsulting\\nPredictive modeling\\nD...</td>\n",
       "      <td>Gurgaon/Gurugram</td>\n",
       "    </tr>\n",
       "    <tr>\n",
       "      <th>4</th>\n",
       "      <td>Trainee- Data Science</td>\n",
       "      <td>Survik Software Pvt Ltd</td>\n",
       "      <td>python\\nData Analysis\\nData Mining\\nmachine le...</td>\n",
       "      <td>Pune</td>\n",
       "    </tr>\n",
       "    <tr>\n",
       "      <th>5</th>\n",
       "      <td>Lead - Data Science</td>\n",
       "      <td>United Phosphorus Limited</td>\n",
       "      <td>Data Science\\nadvanced analytics\\ndata analysi...</td>\n",
       "      <td>Bangalore/Bengaluru</td>\n",
       "    </tr>\n",
       "    <tr>\n",
       "      <th>6</th>\n",
       "      <td>Lead - Data Science</td>\n",
       "      <td>United Phosphorus Limited</td>\n",
       "      <td>Data Science\\nadvanced analytics\\ndigital anal...</td>\n",
       "      <td>Bangalore/Bengaluru</td>\n",
       "    </tr>\n",
       "    <tr>\n",
       "      <th>7</th>\n",
       "      <td>Hiring For AVP |Data Science and Business Anal...</td>\n",
       "      <td>Citicorp Finance</td>\n",
       "      <td>R\\nData Science\\npython\\nBusiness Analytics\\nR...</td>\n",
       "      <td>Pune, Bangalore/Bengaluru</td>\n",
       "    </tr>\n",
       "    <tr>\n",
       "      <th>8</th>\n",
       "      <td>Data Science Trainer</td>\n",
       "      <td>STARAGILE CONSULTING</td>\n",
       "      <td>trainer\\nBusiness Intelligence tools\\nData Ana...</td>\n",
       "      <td>Hyderabad/Secunderabad, Chennai, Bangalore/Ben...</td>\n",
       "    </tr>\n",
       "    <tr>\n",
       "      <th>9</th>\n",
       "      <td>Analyst Business Intelligence &amp; Data Science</td>\n",
       "      <td>Ciena</td>\n",
       "      <td>Data Science\\nBusiness Intelligence\\ndata anal...</td>\n",
       "      <td>Gurgaon/Gurugram</td>\n",
       "    </tr>\n",
       "    <tr>\n",
       "      <th>10</th>\n",
       "      <td>Director Data Science</td>\n",
       "      <td>Optum</td>\n",
       "      <td>Data Science\\nNLP\\nBusiness Analytics\\ndata st...</td>\n",
       "      <td>Gurgaon/Gurugram</td>\n",
       "    </tr>\n",
       "    <tr>\n",
       "      <th>11</th>\n",
       "      <td>Senior Scientist, Data Science &amp; Digital</td>\n",
       "      <td>Novartis Healthcare</td>\n",
       "      <td>Automation\\nData analysis\\nSimulation\\nAnalyti...</td>\n",
       "      <td>Hyderabad/Secunderabad</td>\n",
       "    </tr>\n",
       "    <tr>\n",
       "      <th>12</th>\n",
       "      <td>Senior Analyst-Data Science</td>\n",
       "      <td>Accenture</td>\n",
       "      <td>Publishing\\nArchitecture\\nConsulting\\nMachine ...</td>\n",
       "      <td>Mumbai</td>\n",
       "    </tr>\n",
       "    <tr>\n",
       "      <th>13</th>\n",
       "      <td>Senior Analyst - Data Science - IIT/NIT/IIM/XL...</td>\n",
       "      <td>HuQuo</td>\n",
       "      <td>Data Science\\nPython\\nTableau\\ndata analysis\\n...</td>\n",
       "      <td>Gurgaon/Gurugram</td>\n",
       "    </tr>\n",
       "    <tr>\n",
       "      <th>14</th>\n",
       "      <td>Assistant Manager - Data Science</td>\n",
       "      <td>CitiusTech</td>\n",
       "      <td>Data Science\\nNLP\\nMachine Learning\\nDeep Lear...</td>\n",
       "      <td>Mumbai, Pune, Bangalore/Bengaluru</td>\n",
       "    </tr>\n",
       "    <tr>\n",
       "      <th>15</th>\n",
       "      <td>Looking For Marketing Analytics / Campaign Ana...</td>\n",
       "      <td>Evalueserve</td>\n",
       "      <td>machine learning\\nab tesing\\nAttribution Model...</td>\n",
       "      <td>Bangalore/Bengaluru</td>\n",
       "    </tr>\n",
       "    <tr>\n",
       "      <th>16</th>\n",
       "      <td>Looking For Group Manager-Data Science(CPG) Fo...</td>\n",
       "      <td>Evalueserve</td>\n",
       "      <td>python\\ndata science\\nmachine learning\\nBayesi...</td>\n",
       "      <td>Bangalore/Bengaluru</td>\n",
       "    </tr>\n",
       "    <tr>\n",
       "      <th>17</th>\n",
       "      <td>Looking For Group Manager-Data Science( Retail...</td>\n",
       "      <td>Evalueserve</td>\n",
       "      <td>python\\ndata science\\niri\\nCART/CHAID\\ndata an...</td>\n",
       "      <td>Bangalore/Bengaluru</td>\n",
       "    </tr>\n",
       "    <tr>\n",
       "      <th>18</th>\n",
       "      <td>Looking For Campaign Analytics (Data Science) ...</td>\n",
       "      <td>Evalueserve</td>\n",
       "      <td>Campaign Designing\\nMedia Mix Modelling\\nmachi...</td>\n",
       "      <td>Bangalore/Bengaluru</td>\n",
       "    </tr>\n",
       "  </tbody>\n",
       "</table>\n",
       "</div>"
      ],
      "text/plain": [
       "                                                 NAME  \\\n",
       "0                         Senior Analyst-Data Science   \n",
       "1                       Senior Manager - Data Science   \n",
       "2                         Senior Analyst-Data Science   \n",
       "3                         Senior Analyst-Data Science   \n",
       "4                               Trainee- Data Science   \n",
       "5                                 Lead - Data Science   \n",
       "6                                 Lead - Data Science   \n",
       "7   Hiring For AVP |Data Science and Business Anal...   \n",
       "8                                Data Science Trainer   \n",
       "9        Analyst Business Intelligence & Data Science   \n",
       "10                              Director Data Science   \n",
       "11           Senior Scientist, Data Science & Digital   \n",
       "12                        Senior Analyst-Data Science   \n",
       "13  Senior Analyst - Data Science - IIT/NIT/IIM/XL...   \n",
       "14                   Assistant Manager - Data Science   \n",
       "15  Looking For Marketing Analytics / Campaign Ana...   \n",
       "16  Looking For Group Manager-Data Science(CPG) Fo...   \n",
       "17  Looking For Group Manager-Data Science( Retail...   \n",
       "18  Looking For Campaign Analytics (Data Science) ...   \n",
       "\n",
       "                                              COMPANY  \\\n",
       "0                                           Accenture   \n",
       "1   Xpressbees (BusyBees Logistics Solutions Pvt. ...   \n",
       "2                                           Accenture   \n",
       "3                                           Accenture   \n",
       "4                             Survik Software Pvt Ltd   \n",
       "5                           United Phosphorus Limited   \n",
       "6                           United Phosphorus Limited   \n",
       "7                                    Citicorp Finance   \n",
       "8                                STARAGILE CONSULTING   \n",
       "9                                               Ciena   \n",
       "10                                              Optum   \n",
       "11                                Novartis Healthcare   \n",
       "12                                          Accenture   \n",
       "13                                              HuQuo   \n",
       "14                                         CitiusTech   \n",
       "15                                        Evalueserve   \n",
       "16                                        Evalueserve   \n",
       "17                                        Evalueserve   \n",
       "18                                        Evalueserve   \n",
       "\n",
       "                                               SKILLS  \\\n",
       "0   Publishing\\nConsulting\\nPredictive modeling\\nD...   \n",
       "1   Data Science\\nIT Skills\\nPython\\nMachine Learn...   \n",
       "2   Publishing\\nArtificial Intelligence\\nConsultin...   \n",
       "3   Publishing\\nConsulting\\nPredictive modeling\\nD...   \n",
       "4   python\\nData Analysis\\nData Mining\\nmachine le...   \n",
       "5   Data Science\\nadvanced analytics\\ndata analysi...   \n",
       "6   Data Science\\nadvanced analytics\\ndigital anal...   \n",
       "7   R\\nData Science\\npython\\nBusiness Analytics\\nR...   \n",
       "8   trainer\\nBusiness Intelligence tools\\nData Ana...   \n",
       "9   Data Science\\nBusiness Intelligence\\ndata anal...   \n",
       "10  Data Science\\nNLP\\nBusiness Analytics\\ndata st...   \n",
       "11  Automation\\nData analysis\\nSimulation\\nAnalyti...   \n",
       "12  Publishing\\nArchitecture\\nConsulting\\nMachine ...   \n",
       "13  Data Science\\nPython\\nTableau\\ndata analysis\\n...   \n",
       "14  Data Science\\nNLP\\nMachine Learning\\nDeep Lear...   \n",
       "15  machine learning\\nab tesing\\nAttribution Model...   \n",
       "16  python\\ndata science\\nmachine learning\\nBayesi...   \n",
       "17  python\\ndata science\\niri\\nCART/CHAID\\ndata an...   \n",
       "18  Campaign Designing\\nMedia Mix Modelling\\nmachi...   \n",
       "\n",
       "                                             LOCATION  \n",
       "0                                 Bangalore/Bengaluru  \n",
       "1                           Pune, Bangalore/Bengaluru  \n",
       "2                                    Gurgaon/Gurugram  \n",
       "3                                    Gurgaon/Gurugram  \n",
       "4                                                Pune  \n",
       "5                                 Bangalore/Bengaluru  \n",
       "6                                 Bangalore/Bengaluru  \n",
       "7                           Pune, Bangalore/Bengaluru  \n",
       "8   Hyderabad/Secunderabad, Chennai, Bangalore/Ben...  \n",
       "9                                    Gurgaon/Gurugram  \n",
       "10                                   Gurgaon/Gurugram  \n",
       "11                             Hyderabad/Secunderabad  \n",
       "12                                             Mumbai  \n",
       "13                                   Gurgaon/Gurugram  \n",
       "14                  Mumbai, Pune, Bangalore/Bengaluru  \n",
       "15                                Bangalore/Bengaluru  \n",
       "16                                Bangalore/Bengaluru  \n",
       "17                                Bangalore/Bengaluru  \n",
       "18                                Bangalore/Bengaluru  "
      ]
     },
     "execution_count": 216,
     "metadata": {},
     "output_type": "execute_result"
    }
   ],
   "source": [
    "DATA7"
   ]
  },
  {
   "cell_type": "markdown",
   "id": "202931bd",
   "metadata": {},
   "source": [
    "8. Scrape the details of Highest selling novels.\n",
    "Url = https://www.theguardian.com/news/datablog/2012/aug/09/best-selling-books-all-time-fifty-shades-grey\u0002compare/\n",
    "You have to find the following details:\n",
    "A) Book name\n",
    "B) Author name\n",
    "C) Volumes sold\n",
    "D) Publisher\n",
    "E) Genre"
   ]
  },
  {
   "cell_type": "code",
   "execution_count": 175,
   "id": "a3c2cc61",
   "metadata": {},
   "outputs": [],
   "source": [
    "driver.get('https://www.theguardian.com/news/datablog/2012/aug/09/best-selling-books-all-time-fifty-shades-grey-compare')"
   ]
  },
  {
   "cell_type": "code",
   "execution_count": 176,
   "id": "1587d9ff",
   "metadata": {},
   "outputs": [],
   "source": [
    "fulldata=[]\n",
    "data=driver.find_elements(By.XPATH,'//td[@class=\"left\"]')\n",
    "for i in data:\n",
    "    fulldata.append(i.text)"
   ]
  },
  {
   "cell_type": "code",
   "execution_count": 178,
   "id": "b8f2bed1",
   "metadata": {},
   "outputs": [
    {
     "data": {
      "text/plain": [
       "500"
      ]
     },
     "execution_count": 178,
     "metadata": {},
     "output_type": "execute_result"
    }
   ],
   "source": [
    "len(fulldata)"
   ]
  },
  {
   "cell_type": "code",
   "execution_count": 179,
   "id": "5b4be69f",
   "metadata": {},
   "outputs": [],
   "source": [
    "rnk=fulldata[0:500:5]"
   ]
  },
  {
   "cell_type": "code",
   "execution_count": 181,
   "id": "c8997e65",
   "metadata": {},
   "outputs": [],
   "source": [
    "bk=fulldata[1:500:5]"
   ]
  },
  {
   "cell_type": "code",
   "execution_count": 183,
   "id": "ca36cfb4",
   "metadata": {},
   "outputs": [],
   "source": [
    "an=fulldata[2:500:5]"
   ]
  },
  {
   "cell_type": "code",
   "execution_count": 185,
   "id": "3d1cab74",
   "metadata": {},
   "outputs": [],
   "source": [
    "vol=fulldata[3:500:5]"
   ]
  },
  {
   "cell_type": "code",
   "execution_count": 186,
   "id": "1e8b89fa",
   "metadata": {},
   "outputs": [],
   "source": [
    "publisher=fulldata[4:500:5]"
   ]
  },
  {
   "cell_type": "code",
   "execution_count": 187,
   "id": "720a3804",
   "metadata": {},
   "outputs": [
    {
     "data": {
      "text/plain": [
       "(100, 100, 100, 100)"
      ]
     },
     "execution_count": 187,
     "metadata": {},
     "output_type": "execute_result"
    }
   ],
   "source": [
    "len(rnk),len(an),len(vol),len(publisher)"
   ]
  },
  {
   "cell_type": "code",
   "execution_count": 190,
   "id": "c0fddad3",
   "metadata": {},
   "outputs": [],
   "source": [
    "gen=[]\n",
    "fr=driver.find_elements(By.XPATH,'//td[@class=\"last left\"]')\n",
    "for i in fr:\n",
    "    gen.append(i.text)"
   ]
  },
  {
   "cell_type": "code",
   "execution_count": 192,
   "id": "c8a7fa03",
   "metadata": {},
   "outputs": [
    {
     "data": {
      "text/plain": [
       "100"
      ]
     },
     "execution_count": 192,
     "metadata": {},
     "output_type": "execute_result"
    }
   ],
   "source": [
    "len(gen)"
   ]
  },
  {
   "cell_type": "code",
   "execution_count": 194,
   "id": "d1153377",
   "metadata": {},
   "outputs": [],
   "source": [
    "DATA8=pd.DataFrame({'RANK':rnk,'BOOK':bk,'AUTHOR':an,'VOLUME':vol,'PUBLISHER':publisher,'GENRE':gen})"
   ]
  },
  {
   "cell_type": "code",
   "execution_count": 195,
   "id": "a4478c66",
   "metadata": {},
   "outputs": [
    {
     "data": {
      "text/html": [
       "<div>\n",
       "<style scoped>\n",
       "    .dataframe tbody tr th:only-of-type {\n",
       "        vertical-align: middle;\n",
       "    }\n",
       "\n",
       "    .dataframe tbody tr th {\n",
       "        vertical-align: top;\n",
       "    }\n",
       "\n",
       "    .dataframe thead th {\n",
       "        text-align: right;\n",
       "    }\n",
       "</style>\n",
       "<table border=\"1\" class=\"dataframe\">\n",
       "  <thead>\n",
       "    <tr style=\"text-align: right;\">\n",
       "      <th></th>\n",
       "      <th>RANK</th>\n",
       "      <th>BOOK</th>\n",
       "      <th>AUTHOR</th>\n",
       "      <th>VOLUME</th>\n",
       "      <th>PUBLISHER</th>\n",
       "      <th>GENRE</th>\n",
       "    </tr>\n",
       "  </thead>\n",
       "  <tbody>\n",
       "    <tr>\n",
       "      <th>0</th>\n",
       "      <td>1</td>\n",
       "      <td>Da Vinci Code,The</td>\n",
       "      <td>Brown, Dan</td>\n",
       "      <td>5,094,805</td>\n",
       "      <td>Transworld</td>\n",
       "      <td>Crime, Thriller &amp; Adventure</td>\n",
       "    </tr>\n",
       "    <tr>\n",
       "      <th>1</th>\n",
       "      <td>2</td>\n",
       "      <td>Harry Potter and the Deathly Hallows</td>\n",
       "      <td>Rowling, J.K.</td>\n",
       "      <td>4,475,152</td>\n",
       "      <td>Bloomsbury</td>\n",
       "      <td>Children's Fiction</td>\n",
       "    </tr>\n",
       "    <tr>\n",
       "      <th>2</th>\n",
       "      <td>3</td>\n",
       "      <td>Harry Potter and the Philosopher's Stone</td>\n",
       "      <td>Rowling, J.K.</td>\n",
       "      <td>4,200,654</td>\n",
       "      <td>Bloomsbury</td>\n",
       "      <td>Children's Fiction</td>\n",
       "    </tr>\n",
       "    <tr>\n",
       "      <th>3</th>\n",
       "      <td>4</td>\n",
       "      <td>Harry Potter and the Order of the Phoenix</td>\n",
       "      <td>Rowling, J.K.</td>\n",
       "      <td>4,179,479</td>\n",
       "      <td>Bloomsbury</td>\n",
       "      <td>Children's Fiction</td>\n",
       "    </tr>\n",
       "    <tr>\n",
       "      <th>4</th>\n",
       "      <td>5</td>\n",
       "      <td>Fifty Shades of Grey</td>\n",
       "      <td>James, E. L.</td>\n",
       "      <td>3,758,936</td>\n",
       "      <td>Random House</td>\n",
       "      <td>Romance &amp; Sagas</td>\n",
       "    </tr>\n",
       "    <tr>\n",
       "      <th>...</th>\n",
       "      <td>...</td>\n",
       "      <td>...</td>\n",
       "      <td>...</td>\n",
       "      <td>...</td>\n",
       "      <td>...</td>\n",
       "      <td>...</td>\n",
       "    </tr>\n",
       "    <tr>\n",
       "      <th>95</th>\n",
       "      <td>96</td>\n",
       "      <td>Ghost,The</td>\n",
       "      <td>Harris, Robert</td>\n",
       "      <td>807,311</td>\n",
       "      <td>Random House</td>\n",
       "      <td>General &amp; Literary Fiction</td>\n",
       "    </tr>\n",
       "    <tr>\n",
       "      <th>96</th>\n",
       "      <td>97</td>\n",
       "      <td>Happy Days with the Naked Chef</td>\n",
       "      <td>Oliver, Jamie</td>\n",
       "      <td>794,201</td>\n",
       "      <td>Penguin</td>\n",
       "      <td>Food &amp; Drink: General</td>\n",
       "    </tr>\n",
       "    <tr>\n",
       "      <th>97</th>\n",
       "      <td>98</td>\n",
       "      <td>Hunger Games,The:Hunger Games Trilogy</td>\n",
       "      <td>Collins, Suzanne</td>\n",
       "      <td>792,187</td>\n",
       "      <td>Scholastic Ltd.</td>\n",
       "      <td>Young Adult Fiction</td>\n",
       "    </tr>\n",
       "    <tr>\n",
       "      <th>98</th>\n",
       "      <td>99</td>\n",
       "      <td>Lost Boy,The:A Foster Child's Search for the L...</td>\n",
       "      <td>Pelzer, Dave</td>\n",
       "      <td>791,507</td>\n",
       "      <td>Orion</td>\n",
       "      <td>Biography: General</td>\n",
       "    </tr>\n",
       "    <tr>\n",
       "      <th>99</th>\n",
       "      <td>100</td>\n",
       "      <td>Jamie's Ministry of Food:Anyone Can Learn to C...</td>\n",
       "      <td>Oliver, Jamie</td>\n",
       "      <td>791,095</td>\n",
       "      <td>Penguin</td>\n",
       "      <td>Food &amp; Drink: General</td>\n",
       "    </tr>\n",
       "  </tbody>\n",
       "</table>\n",
       "<p>100 rows × 6 columns</p>\n",
       "</div>"
      ],
      "text/plain": [
       "   RANK                                               BOOK            AUTHOR  \\\n",
       "0     1                                  Da Vinci Code,The        Brown, Dan   \n",
       "1     2               Harry Potter and the Deathly Hallows     Rowling, J.K.   \n",
       "2     3           Harry Potter and the Philosopher's Stone     Rowling, J.K.   \n",
       "3     4          Harry Potter and the Order of the Phoenix     Rowling, J.K.   \n",
       "4     5                               Fifty Shades of Grey      James, E. L.   \n",
       "..  ...                                                ...               ...   \n",
       "95   96                                          Ghost,The    Harris, Robert   \n",
       "96   97                     Happy Days with the Naked Chef     Oliver, Jamie   \n",
       "97   98              Hunger Games,The:Hunger Games Trilogy  Collins, Suzanne   \n",
       "98   99  Lost Boy,The:A Foster Child's Search for the L...      Pelzer, Dave   \n",
       "99  100  Jamie's Ministry of Food:Anyone Can Learn to C...     Oliver, Jamie   \n",
       "\n",
       "       VOLUME        PUBLISHER                        GENRE  \n",
       "0   5,094,805       Transworld  Crime, Thriller & Adventure  \n",
       "1   4,475,152       Bloomsbury           Children's Fiction  \n",
       "2   4,200,654       Bloomsbury           Children's Fiction  \n",
       "3   4,179,479       Bloomsbury           Children's Fiction  \n",
       "4   3,758,936     Random House              Romance & Sagas  \n",
       "..        ...              ...                          ...  \n",
       "95    807,311     Random House   General & Literary Fiction  \n",
       "96    794,201          Penguin        Food & Drink: General  \n",
       "97    792,187  Scholastic Ltd.          Young Adult Fiction  \n",
       "98    791,507            Orion           Biography: General  \n",
       "99    791,095          Penguin        Food & Drink: General  \n",
       "\n",
       "[100 rows x 6 columns]"
      ]
     },
     "execution_count": 195,
     "metadata": {},
     "output_type": "execute_result"
    }
   ],
   "source": [
    "DATA8"
   ]
  },
  {
   "cell_type": "markdown",
   "id": "f3c7e382",
   "metadata": {},
   "source": [
    "9. Scrape the details most watched tv series of all time from imdb.com.\n",
    "Url = https://www.imdb.com/list/ls095964455/\n",
    "You have to find the following details:\n",
    "A) Name\n",
    "B) Year span\n",
    "C) Genre\n",
    "D) Run time\n",
    "E) Ratings\n",
    "F) Votes"
   ]
  },
  {
   "cell_type": "code",
   "execution_count": 45,
   "id": "9a0ab295",
   "metadata": {},
   "outputs": [],
   "source": [
    "driver.get('https://www.imdb.com/list/ls095964455/')"
   ]
  },
  {
   "cell_type": "code",
   "execution_count": 46,
   "id": "4e1a2df8",
   "metadata": {},
   "outputs": [],
   "source": [
    "runtime=[]\n",
    "rt=driver.find_elements(By.XPATH,'//span[@class=\"lister-item-year text-muted unbold\"]')\n",
    "for i in rt:\n",
    "    runtime.append(i.text)"
   ]
  },
  {
   "cell_type": "code",
   "execution_count": 54,
   "id": "163c6f39",
   "metadata": {},
   "outputs": [],
   "source": [
    "name=[]\n",
    "nm=driver.find_elements(By.XPATH,'//h3[@class=\"lister-item-header\"]')\n",
    "for i in nm:\n",
    "    name.append(i.text)"
   ]
  },
  {
   "cell_type": "code",
   "execution_count": 56,
   "id": "8cf44e65",
   "metadata": {},
   "outputs": [],
   "source": [
    "genre=[]\n",
    "gn=driver.find_elements(By.XPATH,'//span[@class=\"genre\"]')\n",
    "for i in gn:\n",
    "    genre.append(i.text)"
   ]
  },
  {
   "cell_type": "code",
   "execution_count": 58,
   "id": "c482e4b7",
   "metadata": {},
   "outputs": [],
   "source": [
    "rtime=[]\n",
    "rtm=driver.find_elements(By.XPATH,'//span[@class=\"runtime\"]')\n",
    "for i in rtm:\n",
    "    rtime.append(i.text)"
   ]
  },
  {
   "cell_type": "code",
   "execution_count": 59,
   "id": "1c323e55",
   "metadata": {},
   "outputs": [],
   "source": [
    "ratingss=[]\n",
    "rtg=driver.find_elements(By.XPATH,'//span[@class=\"ipl-rating-star__rating\"]')\n",
    "for i in rtg:\n",
    "    ratingss.append(i.text)"
   ]
  },
  {
   "cell_type": "code",
   "execution_count": 60,
   "id": "5b69c0dc",
   "metadata": {},
   "outputs": [],
   "source": [
    "votes=[]\n",
    "vt=driver.find_elements(By.XPATH,'//span[@name=\"nv\"]')\n",
    "for i in vt:\n",
    "    votes.append(i.text)"
   ]
  },
  {
   "cell_type": "code",
   "execution_count": 69,
   "id": "e9723a49",
   "metadata": {},
   "outputs": [],
   "source": [
    "ratingsss=ratingss[0:2300:23]"
   ]
  },
  {
   "cell_type": "code",
   "execution_count": 70,
   "id": "0b27ad5b",
   "metadata": {},
   "outputs": [
    {
     "data": {
      "text/plain": [
       "(100, 100, 100, 100, 100, 100)"
      ]
     },
     "execution_count": 70,
     "metadata": {},
     "output_type": "execute_result"
    }
   ],
   "source": [
    "len(votes),len(ratingsss),len(runtime),len(rtime),len(genre),len(name)"
   ]
  },
  {
   "cell_type": "code",
   "execution_count": 72,
   "id": "78fd1d4d",
   "metadata": {},
   "outputs": [],
   "source": [
    "DATA9=pd.DataFrame({'NAME':name,'YEAR_SPAN':runtime,'GENRE':genre,'RUNTIME':rtime,'RATINGS':ratingsss,'VOTES':votes})"
   ]
  },
  {
   "cell_type": "code",
   "execution_count": 73,
   "id": "4d0bd583",
   "metadata": {},
   "outputs": [
    {
     "data": {
      "text/html": [
       "<div>\n",
       "<style scoped>\n",
       "    .dataframe tbody tr th:only-of-type {\n",
       "        vertical-align: middle;\n",
       "    }\n",
       "\n",
       "    .dataframe tbody tr th {\n",
       "        vertical-align: top;\n",
       "    }\n",
       "\n",
       "    .dataframe thead th {\n",
       "        text-align: right;\n",
       "    }\n",
       "</style>\n",
       "<table border=\"1\" class=\"dataframe\">\n",
       "  <thead>\n",
       "    <tr style=\"text-align: right;\">\n",
       "      <th></th>\n",
       "      <th>NAME</th>\n",
       "      <th>YEAR_SPAN</th>\n",
       "      <th>GENRE</th>\n",
       "      <th>RUNTIME</th>\n",
       "      <th>RATINGS</th>\n",
       "      <th>VOTES</th>\n",
       "    </tr>\n",
       "  </thead>\n",
       "  <tbody>\n",
       "    <tr>\n",
       "      <th>0</th>\n",
       "      <td>1. Game of Thrones (2011–2019)</td>\n",
       "      <td>(2011–2019)</td>\n",
       "      <td>Action, Adventure, Drama</td>\n",
       "      <td>57 min</td>\n",
       "      <td>9.2</td>\n",
       "      <td>2,047,390</td>\n",
       "    </tr>\n",
       "    <tr>\n",
       "      <th>1</th>\n",
       "      <td>2. Stranger Things (2016– )</td>\n",
       "      <td>(2016– )</td>\n",
       "      <td>Drama, Fantasy, Horror</td>\n",
       "      <td>51 min</td>\n",
       "      <td>8.7</td>\n",
       "      <td>1,143,847</td>\n",
       "    </tr>\n",
       "    <tr>\n",
       "      <th>2</th>\n",
       "      <td>3. The Walking Dead (2010–2022)</td>\n",
       "      <td>(2010–2022)</td>\n",
       "      <td>Drama, Horror, Thriller</td>\n",
       "      <td>44 min</td>\n",
       "      <td>8.1</td>\n",
       "      <td>967,725</td>\n",
       "    </tr>\n",
       "    <tr>\n",
       "      <th>3</th>\n",
       "      <td>4. 13 Reasons Why (2017–2020)</td>\n",
       "      <td>(2017–2020)</td>\n",
       "      <td>Drama, Mystery, Thriller</td>\n",
       "      <td>60 min</td>\n",
       "      <td>7.5</td>\n",
       "      <td>288,702</td>\n",
       "    </tr>\n",
       "    <tr>\n",
       "      <th>4</th>\n",
       "      <td>5. The 100 (2014–2020)</td>\n",
       "      <td>(2014–2020)</td>\n",
       "      <td>Drama, Mystery, Sci-Fi</td>\n",
       "      <td>43 min</td>\n",
       "      <td>7.6</td>\n",
       "      <td>248,275</td>\n",
       "    </tr>\n",
       "    <tr>\n",
       "      <th>...</th>\n",
       "      <td>...</td>\n",
       "      <td>...</td>\n",
       "      <td>...</td>\n",
       "      <td>...</td>\n",
       "      <td>...</td>\n",
       "      <td>...</td>\n",
       "    </tr>\n",
       "    <tr>\n",
       "      <th>95</th>\n",
       "      <td>96. Reign (2013–2017)</td>\n",
       "      <td>(2013–2017)</td>\n",
       "      <td>Drama</td>\n",
       "      <td>42 min</td>\n",
       "      <td>7.4</td>\n",
       "      <td>49,533</td>\n",
       "    </tr>\n",
       "    <tr>\n",
       "      <th>96</th>\n",
       "      <td>97. A Series of Unfortunate Events (2017–2019)</td>\n",
       "      <td>(2017–2019)</td>\n",
       "      <td>Adventure, Comedy, Drama</td>\n",
       "      <td>50 min</td>\n",
       "      <td>7.8</td>\n",
       "      <td>60,542</td>\n",
       "    </tr>\n",
       "    <tr>\n",
       "      <th>97</th>\n",
       "      <td>98. Criminal Minds (2005–2020)</td>\n",
       "      <td>(2005–2020)</td>\n",
       "      <td>Crime, Drama, Mystery</td>\n",
       "      <td>42 min</td>\n",
       "      <td>8.1</td>\n",
       "      <td>194,705</td>\n",
       "    </tr>\n",
       "    <tr>\n",
       "      <th>98</th>\n",
       "      <td>99. Scream: The TV Series (2015–2019)</td>\n",
       "      <td>(2015–2019)</td>\n",
       "      <td>Comedy, Crime, Drama</td>\n",
       "      <td>45 min</td>\n",
       "      <td>7.1</td>\n",
       "      <td>41,011</td>\n",
       "    </tr>\n",
       "    <tr>\n",
       "      <th>99</th>\n",
       "      <td>100. The Haunting of Hill House (2018)</td>\n",
       "      <td>(2018)</td>\n",
       "      <td>Drama, Horror, Mystery</td>\n",
       "      <td>572 min</td>\n",
       "      <td>8.6</td>\n",
       "      <td>236,232</td>\n",
       "    </tr>\n",
       "  </tbody>\n",
       "</table>\n",
       "<p>100 rows × 6 columns</p>\n",
       "</div>"
      ],
      "text/plain": [
       "                                              NAME    YEAR_SPAN  \\\n",
       "0                   1. Game of Thrones (2011–2019)  (2011–2019)   \n",
       "1                      2. Stranger Things (2016– )     (2016– )   \n",
       "2                  3. The Walking Dead (2010–2022)  (2010–2022)   \n",
       "3                    4. 13 Reasons Why (2017–2020)  (2017–2020)   \n",
       "4                           5. The 100 (2014–2020)  (2014–2020)   \n",
       "..                                             ...          ...   \n",
       "95                           96. Reign (2013–2017)  (2013–2017)   \n",
       "96  97. A Series of Unfortunate Events (2017–2019)  (2017–2019)   \n",
       "97                  98. Criminal Minds (2005–2020)  (2005–2020)   \n",
       "98           99. Scream: The TV Series (2015–2019)  (2015–2019)   \n",
       "99          100. The Haunting of Hill House (2018)       (2018)   \n",
       "\n",
       "                       GENRE  RUNTIME RATINGS      VOTES  \n",
       "0   Action, Adventure, Drama   57 min     9.2  2,047,390  \n",
       "1     Drama, Fantasy, Horror   51 min     8.7  1,143,847  \n",
       "2    Drama, Horror, Thriller   44 min     8.1    967,725  \n",
       "3   Drama, Mystery, Thriller   60 min     7.5    288,702  \n",
       "4     Drama, Mystery, Sci-Fi   43 min     7.6    248,275  \n",
       "..                       ...      ...     ...        ...  \n",
       "95                     Drama   42 min     7.4     49,533  \n",
       "96  Adventure, Comedy, Drama   50 min     7.8     60,542  \n",
       "97     Crime, Drama, Mystery   42 min     8.1    194,705  \n",
       "98      Comedy, Crime, Drama   45 min     7.1     41,011  \n",
       "99    Drama, Horror, Mystery  572 min     8.6    236,232  \n",
       "\n",
       "[100 rows x 6 columns]"
      ]
     },
     "execution_count": 73,
     "metadata": {},
     "output_type": "execute_result"
    }
   ],
   "source": [
    "DATA9"
   ]
  },
  {
   "cell_type": "markdown",
   "id": "7a41bbf0",
   "metadata": {},
   "source": [
    "10. Details of Datasets from UCI machine learning repositories.\n",
    "Url = https://archive.ics.uci.edu/\n",
    "You have to find the following details:\n",
    "A) Dataset name\n",
    "B) Data type\n",
    "C) Task\n",
    "D) Attribute type\n",
    "E) No of instances\n",
    "F) No of attribute\n",
    "G) Year\n",
    "Note: - from the home page you have to go to the ShowAllDataset page through code"
   ]
  },
  {
   "cell_type": "code",
   "execution_count": 74,
   "id": "85ad269f",
   "metadata": {},
   "outputs": [],
   "source": [
    "driver.get('https://archive.ics.uci.edu/')"
   ]
  },
  {
   "cell_type": "code",
   "execution_count": 75,
   "id": "15a57e2b",
   "metadata": {},
   "outputs": [],
   "source": [
    "linkk=driver.find_element(By.XPATH,'/html/body/table[1]/tbody/tr/td[2]/span[2]/a')\n",
    "driver.get(linkk.get_attribute('href'))"
   ]
  },
  {
   "cell_type": "code",
   "execution_count": 76,
   "id": "1aa73eee",
   "metadata": {},
   "outputs": [],
   "source": [
    "names=[]\n",
    "me=driver.find_elements(By.XPATH,'//p[@class=\"normal\"]')\n",
    "for i in me:\n",
    "    names.append(i.text)"
   ]
  },
  {
   "cell_type": "code",
   "execution_count": 78,
   "id": "6c5ac0c4",
   "metadata": {},
   "outputs": [
    {
     "data": {
      "text/plain": [
       "'Classification (466)\\nRegression (151)\\nClustering (121)\\nOther (56)'"
      ]
     },
     "execution_count": 78,
     "metadata": {},
     "output_type": "execute_result"
    }
   ],
   "source": [
    "names.pop(0)"
   ]
  },
  {
   "cell_type": "code",
   "execution_count": 79,
   "id": "925f6357",
   "metadata": {},
   "outputs": [
    {
     "data": {
      "text/plain": [
       "'Categorical (38)\\nNumerical (422)\\nMixed (55)'"
      ]
     },
     "execution_count": 79,
     "metadata": {},
     "output_type": "execute_result"
    }
   ],
   "source": [
    "names.pop(0)"
   ]
  },
  {
   "cell_type": "code",
   "execution_count": 80,
   "id": "c5c7e6e2",
   "metadata": {},
   "outputs": [
    {
     "data": {
      "text/plain": [
       "'Multivariate (480)\\nUnivariate (30)\\nSequential (59)\\nTime-Series (126)\\nText (69)\\nDomain-Theory (23)\\nOther (21)'"
      ]
     },
     "execution_count": 80,
     "metadata": {},
     "output_type": "execute_result"
    }
   ],
   "source": [
    "names.pop(0)"
   ]
  },
  {
   "cell_type": "code",
   "execution_count": 81,
   "id": "f6e0f183",
   "metadata": {},
   "outputs": [
    {
     "data": {
      "text/plain": [
       "'Life Sciences (147)\\nPhysical Sciences (57)\\nCS / Engineering (234)\\nSocial Sciences (41)\\nBusiness (45)\\nGame (12)\\nOther (81)'"
      ]
     },
     "execution_count": 81,
     "metadata": {},
     "output_type": "execute_result"
    }
   ],
   "source": [
    "names.pop(0)"
   ]
  },
  {
   "cell_type": "code",
   "execution_count": 82,
   "id": "2117fef4",
   "metadata": {},
   "outputs": [
    {
     "data": {
      "text/plain": [
       "'Less than 10 (166)\\n10 to 100 (279)\\nGreater than 100 (110)'"
      ]
     },
     "execution_count": 82,
     "metadata": {},
     "output_type": "execute_result"
    }
   ],
   "source": [
    "names.pop(0)"
   ]
  },
  {
   "cell_type": "code",
   "execution_count": 83,
   "id": "aefdf866",
   "metadata": {},
   "outputs": [
    {
     "data": {
      "text/plain": [
       "'Less than 100 (38)\\n100 to 1000 (210)\\nGreater than 1000 (339)'"
      ]
     },
     "execution_count": 83,
     "metadata": {},
     "output_type": "execute_result"
    }
   ],
   "source": [
    "names.pop(0)"
   ]
  },
  {
   "cell_type": "code",
   "execution_count": 85,
   "id": "f14f418e",
   "metadata": {},
   "outputs": [
    {
     "data": {
      "text/plain": [
       "'Matrix (439)\\nNon-Matrix (183)'"
      ]
     },
     "execution_count": 85,
     "metadata": {},
     "output_type": "execute_result"
    }
   ],
   "source": [
    "names.pop(0)"
   ]
  },
  {
   "cell_type": "code",
   "execution_count": 86,
   "id": "131b08fb",
   "metadata": {},
   "outputs": [
    {
     "data": {
      "text/plain": [
       "'Table View  List View'"
      ]
     },
     "execution_count": 86,
     "metadata": {},
     "output_type": "execute_result"
    }
   ],
   "source": [
    "names.pop(0)"
   ]
  },
  {
   "cell_type": "code",
   "execution_count": 88,
   "id": "7d6d5261",
   "metadata": {},
   "outputs": [
    {
     "data": {
      "text/plain": [
       "4356"
      ]
     },
     "execution_count": 88,
     "metadata": {},
     "output_type": "execute_result"
    }
   ],
   "source": [
    "len(names)"
   ]
  },
  {
   "cell_type": "code",
   "execution_count": 123,
   "id": "bc9e2e82",
   "metadata": {},
   "outputs": [],
   "source": [
    "name=names[0:4356:7]"
   ]
  },
  {
   "cell_type": "code",
   "execution_count": 124,
   "id": "fa0a3c82",
   "metadata": {},
   "outputs": [],
   "source": [
    "datatype=names[1:4356:7]"
   ]
  },
  {
   "cell_type": "code",
   "execution_count": 117,
   "id": "8fbab7c0",
   "metadata": {},
   "outputs": [],
   "source": [
    "task=names[2:4357:7]"
   ]
  },
  {
   "cell_type": "code",
   "execution_count": 118,
   "id": "e488b07f",
   "metadata": {},
   "outputs": [],
   "source": [
    "attribute=names[3:4357:7]"
   ]
  },
  {
   "cell_type": "code",
   "execution_count": 119,
   "id": "62b3fa46",
   "metadata": {},
   "outputs": [],
   "source": [
    "instance=names[4:4357:7]"
   ]
  },
  {
   "cell_type": "code",
   "execution_count": 120,
   "id": "aff8d091",
   "metadata": {},
   "outputs": [],
   "source": [
    "noattribute=names[5:4357:7]"
   ]
  },
  {
   "cell_type": "code",
   "execution_count": 121,
   "id": "be95fc12",
   "metadata": {},
   "outputs": [],
   "source": [
    "year=names[6:4357:7]"
   ]
  },
  {
   "cell_type": "code",
   "execution_count": 132,
   "id": "ec5aad67",
   "metadata": {},
   "outputs": [
    {
     "data": {
      "text/plain": [
       "(622, 622, 622, 622, 622, 622, 622)"
      ]
     },
     "execution_count": 132,
     "metadata": {},
     "output_type": "execute_result"
    }
   ],
   "source": [
    "len(name),len(datatype),len(task),len(attribute),len(instance),len(noattribute),len(year)"
   ]
  },
  {
   "cell_type": "code",
   "execution_count": 133,
   "id": "5f8022e4",
   "metadata": {},
   "outputs": [],
   "source": [
    "DATA10=pd.DataFrame({'NAME':name,'DATA_TYPE':datatype,'ATTRIBUTE':attribute,'NO_OF_INSTANCE':instance,'NO_OF_ATTRIBUTE':noattribute,'YEAR':year})"
   ]
  },
  {
   "cell_type": "code",
   "execution_count": 134,
   "id": "92aaf6b8",
   "metadata": {},
   "outputs": [
    {
     "data": {
      "text/html": [
       "<div>\n",
       "<style scoped>\n",
       "    .dataframe tbody tr th:only-of-type {\n",
       "        vertical-align: middle;\n",
       "    }\n",
       "\n",
       "    .dataframe tbody tr th {\n",
       "        vertical-align: top;\n",
       "    }\n",
       "\n",
       "    .dataframe thead th {\n",
       "        text-align: right;\n",
       "    }\n",
       "</style>\n",
       "<table border=\"1\" class=\"dataframe\">\n",
       "  <thead>\n",
       "    <tr style=\"text-align: right;\">\n",
       "      <th></th>\n",
       "      <th>NAME</th>\n",
       "      <th>DATA_TYPE</th>\n",
       "      <th>ATTRIBUTE</th>\n",
       "      <th>NO_OF_INSTANCE</th>\n",
       "      <th>NO_OF_ATTRIBUTE</th>\n",
       "      <th>YEAR</th>\n",
       "    </tr>\n",
       "  </thead>\n",
       "  <tbody>\n",
       "    <tr>\n",
       "      <th>0</th>\n",
       "      <td>Abalone</td>\n",
       "      <td>Multivariate</td>\n",
       "      <td>Categorical, Integer, Real</td>\n",
       "      <td>4177</td>\n",
       "      <td>8</td>\n",
       "      <td>1995</td>\n",
       "    </tr>\n",
       "    <tr>\n",
       "      <th>1</th>\n",
       "      <td>Adult</td>\n",
       "      <td>Multivariate</td>\n",
       "      <td>Categorical, Integer</td>\n",
       "      <td>48842</td>\n",
       "      <td>14</td>\n",
       "      <td>1996</td>\n",
       "    </tr>\n",
       "    <tr>\n",
       "      <th>2</th>\n",
       "      <td>Annealing</td>\n",
       "      <td>Multivariate</td>\n",
       "      <td>Categorical, Integer, Real</td>\n",
       "      <td>798</td>\n",
       "      <td>38</td>\n",
       "      <td></td>\n",
       "    </tr>\n",
       "    <tr>\n",
       "      <th>3</th>\n",
       "      <td>Anonymous Microsoft Web Data</td>\n",
       "      <td></td>\n",
       "      <td>Categorical</td>\n",
       "      <td>37711</td>\n",
       "      <td>294</td>\n",
       "      <td>1998</td>\n",
       "    </tr>\n",
       "    <tr>\n",
       "      <th>4</th>\n",
       "      <td>Arrhythmia</td>\n",
       "      <td>Multivariate</td>\n",
       "      <td>Categorical, Integer, Real</td>\n",
       "      <td>452</td>\n",
       "      <td>279</td>\n",
       "      <td>1998</td>\n",
       "    </tr>\n",
       "    <tr>\n",
       "      <th>...</th>\n",
       "      <td>...</td>\n",
       "      <td>...</td>\n",
       "      <td>...</td>\n",
       "      <td>...</td>\n",
       "      <td>...</td>\n",
       "      <td>...</td>\n",
       "    </tr>\n",
       "    <tr>\n",
       "      <th>617</th>\n",
       "      <td>Turkish Music Emotion Dataset</td>\n",
       "      <td>Multivariate</td>\n",
       "      <td>Integer, Real</td>\n",
       "      <td>75840</td>\n",
       "      <td>525</td>\n",
       "      <td>2020</td>\n",
       "    </tr>\n",
       "    <tr>\n",
       "      <th>618</th>\n",
       "      <td>Maternal Health Risk Data Set</td>\n",
       "      <td></td>\n",
       "      <td>Integer, Real</td>\n",
       "      <td>400</td>\n",
       "      <td>50</td>\n",
       "      <td>2020</td>\n",
       "    </tr>\n",
       "    <tr>\n",
       "      <th>619</th>\n",
       "      <td>Room Occupancy Estimation</td>\n",
       "      <td>Multivariate, Time-Series</td>\n",
       "      <td></td>\n",
       "      <td>1014</td>\n",
       "      <td>7</td>\n",
       "      <td>2020</td>\n",
       "    </tr>\n",
       "    <tr>\n",
       "      <th>620</th>\n",
       "      <td>Image Recognition Task Execution Times in Mobi...</td>\n",
       "      <td>Univariate</td>\n",
       "      <td>Real</td>\n",
       "      <td>10129</td>\n",
       "      <td>16</td>\n",
       "      <td>2021</td>\n",
       "    </tr>\n",
       "    <tr>\n",
       "      <th>621</th>\n",
       "      <td>Supported By:</td>\n",
       "      <td>In Collaboration With:</td>\n",
       "      <td>Real</td>\n",
       "      <td>4000</td>\n",
       "      <td>2</td>\n",
       "      <td>2021</td>\n",
       "    </tr>\n",
       "  </tbody>\n",
       "</table>\n",
       "<p>622 rows × 6 columns</p>\n",
       "</div>"
      ],
      "text/plain": [
       "                                                  NAME  \\\n",
       "0                                              Abalone   \n",
       "1                                                Adult   \n",
       "2                                            Annealing   \n",
       "3                         Anonymous Microsoft Web Data   \n",
       "4                                           Arrhythmia   \n",
       "..                                                 ...   \n",
       "617                      Turkish Music Emotion Dataset   \n",
       "618                      Maternal Health Risk Data Set   \n",
       "619                          Room Occupancy Estimation   \n",
       "620  Image Recognition Task Execution Times in Mobi...   \n",
       "621                                      Supported By:   \n",
       "\n",
       "                      DATA_TYPE                    ATTRIBUTE NO_OF_INSTANCE  \\\n",
       "0                 Multivariate   Categorical, Integer, Real           4177    \n",
       "1                 Multivariate         Categorical, Integer          48842    \n",
       "2                 Multivariate   Categorical, Integer, Real            798    \n",
       "3                                               Categorical          37711    \n",
       "4                 Multivariate   Categorical, Integer, Real            452    \n",
       "..                          ...                          ...            ...   \n",
       "617               Multivariate                Integer, Real          75840    \n",
       "618                                           Integer, Real            400    \n",
       "619  Multivariate, Time-Series                                        1014    \n",
       "620                 Univariate                         Real          10129    \n",
       "621      In Collaboration With:                        Real           4000    \n",
       "\n",
       "    NO_OF_ATTRIBUTE   YEAR  \n",
       "0                8   1995   \n",
       "1               14   1996   \n",
       "2               38          \n",
       "3              294   1998   \n",
       "4              279   1998   \n",
       "..              ...    ...  \n",
       "617            525   2020   \n",
       "618             50   2020   \n",
       "619              7   2020   \n",
       "620             16   2021   \n",
       "621              2   2021   \n",
       "\n",
       "[622 rows x 6 columns]"
      ]
     },
     "execution_count": 134,
     "metadata": {},
     "output_type": "execute_result"
    }
   ],
   "source": [
    "DATA10"
   ]
  },
  {
   "cell_type": "code",
   "execution_count": null,
   "id": "4d8fc548",
   "metadata": {},
   "outputs": [],
   "source": []
  }
 ],
 "metadata": {
  "kernelspec": {
   "display_name": "Python 3 (ipykernel)",
   "language": "python",
   "name": "python3"
  },
  "language_info": {
   "codemirror_mode": {
    "name": "ipython",
    "version": 3
   },
   "file_extension": ".py",
   "mimetype": "text/x-python",
   "name": "python",
   "nbconvert_exporter": "python",
   "pygments_lexer": "ipython3",
   "version": "3.9.7"
  }
 },
 "nbformat": 4,
 "nbformat_minor": 5
}
