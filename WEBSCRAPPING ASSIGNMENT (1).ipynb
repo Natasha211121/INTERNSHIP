{
 "cells": [
  {
   "cell_type": "markdown",
   "id": "7930761b",
   "metadata": {},
   "source": [
    "# WEB SCRAPPING"
   ]
  },
  {
   "cell_type": "code",
   "execution_count": 1,
   "id": "48aa58f1",
   "metadata": {},
   "outputs": [
    {
     "name": "stdout",
     "output_type": "stream",
     "text": [
      "Collecting bs4\n",
      "  Downloading bs4-0.0.1.tar.gz (1.1 kB)\n",
      "Requirement already satisfied: beautifulsoup4 in c:\\users\\dell\\anaconda3\\lib\\site-packages (from bs4) (4.10.0)\n",
      "Requirement already satisfied: soupsieve>1.2 in c:\\users\\dell\\anaconda3\\lib\\site-packages (from beautifulsoup4->bs4) (2.2.1)\n",
      "Building wheels for collected packages: bs4\n",
      "  Building wheel for bs4 (setup.py): started\n",
      "  Building wheel for bs4 (setup.py): finished with status 'done'\n",
      "  Created wheel for bs4: filename=bs4-0.0.1-py3-none-any.whl size=1271 sha256=aea9f60d352ae294d05fcc34da15e8c3f40c342d74195ffeccb3101a93068052\n",
      "  Stored in directory: c:\\users\\dell\\appdata\\local\\pip\\cache\\wheels\\73\\2b\\cb\\099980278a0c9a3e57ff1a89875ec07bfa0b6fcbebb9a8cad3\n",
      "Successfully built bs4\n",
      "Installing collected packages: bs4\n",
      "Successfully installed bs4-0.0.1\n",
      "Requirement already satisfied: requests in c:\\users\\dell\\anaconda3\\lib\\site-packages (2.26.0)\n",
      "Requirement already satisfied: certifi>=2017.4.17 in c:\\users\\dell\\anaconda3\\lib\\site-packages (from requests) (2021.10.8)\n",
      "Requirement already satisfied: charset-normalizer~=2.0.0 in c:\\users\\dell\\anaconda3\\lib\\site-packages (from requests) (2.0.4)\n",
      "Requirement already satisfied: idna<4,>=2.5 in c:\\users\\dell\\anaconda3\\lib\\site-packages (from requests) (3.2)\n",
      "Requirement already satisfied: urllib3<1.27,>=1.21.1 in c:\\users\\dell\\anaconda3\\lib\\site-packages (from requests) (1.26.7)\n"
     ]
    }
   ],
   "source": [
    "!pip install bs4\n",
    "!pip install requests"
   ]
  },
  {
   "cell_type": "code",
   "execution_count": 2,
   "id": "3531c512",
   "metadata": {},
   "outputs": [],
   "source": [
    "from bs4 import BeautifulSoup\n",
    "import requests"
   ]
  },
  {
   "cell_type": "markdown",
   "id": "07ada2e3",
   "metadata": {},
   "source": [
    "Q1.WRITE A PROGRAM TO DISPLAY ALL THE HEADER TAGS IN WIKIPEDIA.ORG"
   ]
  },
  {
   "cell_type": "code",
   "execution_count": 3,
   "id": "72992f83",
   "metadata": {},
   "outputs": [],
   "source": [
    "page=requests.get('https://www.wikipedia.org/')"
   ]
  },
  {
   "cell_type": "code",
   "execution_count": 4,
   "id": "5f54eaeb",
   "metadata": {},
   "outputs": [
    {
     "data": {
      "text/plain": [
       "<Response [200]>"
      ]
     },
     "execution_count": 4,
     "metadata": {},
     "output_type": "execute_result"
    }
   ],
   "source": [
    "page"
   ]
  },
  {
   "cell_type": "code",
   "execution_count": 5,
   "id": "9759dbb8",
   "metadata": {},
   "outputs": [],
   "source": [
    "soup=BeautifulSoup(page.content)"
   ]
  },
  {
   "cell_type": "code",
   "execution_count": 189,
   "id": "ec04b2e8",
   "metadata": {},
   "outputs": [],
   "source": [
    "first_header=soup.find('div',class_=\"central-featured-lang lang1\")"
   ]
  },
  {
   "cell_type": "code",
   "execution_count": 190,
   "id": "a7041a4b",
   "metadata": {},
   "outputs": [],
   "source": [
    "a=first_header.text.split()[0]"
   ]
  },
  {
   "cell_type": "code",
   "execution_count": 191,
   "id": "46a11698",
   "metadata": {},
   "outputs": [],
   "source": [
    "second_header=soup.find('div',class_=\"central-featured-lang lang2\")"
   ]
  },
  {
   "cell_type": "code",
   "execution_count": 192,
   "id": "bbbc21e5",
   "metadata": {},
   "outputs": [],
   "source": [
    "b=second_header.text.split()[0]"
   ]
  },
  {
   "cell_type": "code",
   "execution_count": 193,
   "id": "caa054f3",
   "metadata": {},
   "outputs": [],
   "source": [
    "third_header=soup.find('div',class_=\"central-featured-lang lang3\")\n",
    "fourth_header=soup.find('div',class_=\"central-featured-lang lang4\")\n",
    "fifth_header=soup.find('div',class_=\"central-featured-lang lang5\")\n",
    "sixth_header=soup.find('div',class_=\"central-featured-lang lang6\")\n",
    "seventh_header=soup.find('div',class_=\"central-featured-lang lang7\")\n",
    "eight_header=soup.find('div',class_=\"central-featured-lang lang8\")\n",
    "ninth_header=soup.find('div',class_=\"central-featured-lang lang9\")\n",
    "tenth_header=soup.find('div',class_=\"central-featured-lang lang10\")"
   ]
  },
  {
   "cell_type": "code",
   "execution_count": 194,
   "id": "1f5d6986",
   "metadata": {},
   "outputs": [],
   "source": [
    "c=third_header.text.split()[0]"
   ]
  },
  {
   "cell_type": "code",
   "execution_count": 195,
   "id": "e0a1ae26",
   "metadata": {},
   "outputs": [],
   "source": [
    "d=fourth_header.text.split()[0]"
   ]
  },
  {
   "cell_type": "code",
   "execution_count": 196,
   "id": "1fd5fd5b",
   "metadata": {},
   "outputs": [],
   "source": [
    "e=fifth_header.text.split()[0]"
   ]
  },
  {
   "cell_type": "code",
   "execution_count": 230,
   "id": "2fb42d97",
   "metadata": {},
   "outputs": [],
   "source": [
    "f=sixth_header.text.split()[0]"
   ]
  },
  {
   "cell_type": "code",
   "execution_count": 231,
   "id": "dfd4c1fb",
   "metadata": {},
   "outputs": [],
   "source": [
    "g=seventh_header.text.split()[0]"
   ]
  },
  {
   "cell_type": "code",
   "execution_count": 232,
   "id": "55e94d67",
   "metadata": {},
   "outputs": [],
   "source": [
    "h=eight_header.text.split()[0]"
   ]
  },
  {
   "cell_type": "code",
   "execution_count": 233,
   "id": "52c64ee9",
   "metadata": {},
   "outputs": [],
   "source": [
    "i=ninth_header.text.split()[0]"
   ]
  },
  {
   "cell_type": "code",
   "execution_count": 234,
   "id": "736fdafe",
   "metadata": {},
   "outputs": [],
   "source": [
    "j=tenth_header.text.split()[0]"
   ]
  },
  {
   "cell_type": "code",
   "execution_count": 235,
   "id": "36f99947",
   "metadata": {},
   "outputs": [],
   "source": [
    "p=[a,b,c,d,e,f,g,h,i,j]"
   ]
  },
  {
   "cell_type": "code",
   "execution_count": 238,
   "id": "16497f71",
   "metadata": {},
   "outputs": [],
   "source": [
    "data=pd.DataFrame(data=p)"
   ]
  },
  {
   "cell_type": "code",
   "execution_count": 239,
   "id": "d7366edc",
   "metadata": {},
   "outputs": [
    {
     "data": {
      "text/html": [
       "<div>\n",
       "<style scoped>\n",
       "    .dataframe tbody tr th:only-of-type {\n",
       "        vertical-align: middle;\n",
       "    }\n",
       "\n",
       "    .dataframe tbody tr th {\n",
       "        vertical-align: top;\n",
       "    }\n",
       "\n",
       "    .dataframe thead th {\n",
       "        text-align: right;\n",
       "    }\n",
       "</style>\n",
       "<table border=\"1\" class=\"dataframe\">\n",
       "  <thead>\n",
       "    <tr style=\"text-align: right;\">\n",
       "      <th></th>\n",
       "      <th>0</th>\n",
       "    </tr>\n",
       "  </thead>\n",
       "  <tbody>\n",
       "    <tr>\n",
       "      <th>0</th>\n",
       "      <td>English</td>\n",
       "    </tr>\n",
       "    <tr>\n",
       "      <th>1</th>\n",
       "      <td>日本語</td>\n",
       "    </tr>\n",
       "    <tr>\n",
       "      <th>2</th>\n",
       "      <td>Русский</td>\n",
       "    </tr>\n",
       "    <tr>\n",
       "      <th>3</th>\n",
       "      <td>Deutsch</td>\n",
       "    </tr>\n",
       "    <tr>\n",
       "      <th>4</th>\n",
       "      <td>Español</td>\n",
       "    </tr>\n",
       "    <tr>\n",
       "      <th>5</th>\n",
       "      <td>Français</td>\n",
       "    </tr>\n",
       "    <tr>\n",
       "      <th>6</th>\n",
       "      <td>Italiano</td>\n",
       "    </tr>\n",
       "    <tr>\n",
       "      <th>7</th>\n",
       "      <td>中文</td>\n",
       "    </tr>\n",
       "    <tr>\n",
       "      <th>8</th>\n",
       "      <td>Português</td>\n",
       "    </tr>\n",
       "    <tr>\n",
       "      <th>9</th>\n",
       "      <td>Polski</td>\n",
       "    </tr>\n",
       "  </tbody>\n",
       "</table>\n",
       "</div>"
      ],
      "text/plain": [
       "           0\n",
       "0    English\n",
       "1        日本語\n",
       "2    Русский\n",
       "3    Deutsch\n",
       "4    Español\n",
       "5   Français\n",
       "6   Italiano\n",
       "7         中文\n",
       "8  Português\n",
       "9     Polski"
      ]
     },
     "execution_count": 239,
     "metadata": {},
     "output_type": "execute_result"
    }
   ],
   "source": [
    "data"
   ]
  },
  {
   "cell_type": "markdown",
   "id": "832ae55d",
   "metadata": {},
   "source": [
    "Q2.Write a python program to display IMDB’s Top rated 100 movies’ data (i.e. name, rating, year of release)\n",
    "and make data frame."
   ]
  },
  {
   "cell_type": "code",
   "execution_count": 48,
   "id": "daf0fa08",
   "metadata": {},
   "outputs": [],
   "source": [
    "imd=requests.get('https://www.imdb.com/chart/top/')"
   ]
  },
  {
   "cell_type": "code",
   "execution_count": 49,
   "id": "4eebc648",
   "metadata": {},
   "outputs": [
    {
     "data": {
      "text/plain": [
       "<Response [200]>"
      ]
     },
     "execution_count": 49,
     "metadata": {},
     "output_type": "execute_result"
    }
   ],
   "source": [
    "imd"
   ]
  },
  {
   "cell_type": "code",
   "execution_count": 50,
   "id": "29b88320",
   "metadata": {},
   "outputs": [],
   "source": [
    "sp=BeautifulSoup(imd.content)"
   ]
  },
  {
   "cell_type": "code",
   "execution_count": 77,
   "id": "ab8f420f",
   "metadata": {},
   "outputs": [],
   "source": [
    "names=[]\n",
    "\n",
    "for i in sp.find_all('td',class_=\"titleColumn\"):\n",
    "    names.append(i.text.replace('\\n',''))"
   ]
  },
  {
   "cell_type": "code",
   "execution_count": 96,
   "id": "62b0d4dd",
   "metadata": {},
   "outputs": [],
   "source": [
    "ratings=[]\n",
    "\n",
    "for i in sp.find_all('td',class_=\"ratingColumn imdbRating\"):\n",
    "    ratings.append(i.text.replace('\\n',''))"
   ]
  },
  {
   "cell_type": "code",
   "execution_count": 98,
   "id": "08aadd8d",
   "metadata": {},
   "outputs": [
    {
     "name": "stdout",
     "output_type": "stream",
     "text": [
      "250 250\n"
     ]
    }
   ],
   "source": [
    "print(len(ratings),len(names))"
   ]
  },
  {
   "cell_type": "code",
   "execution_count": 45,
   "id": "527cae49",
   "metadata": {},
   "outputs": [],
   "source": [
    "import pandas as pd"
   ]
  },
  {
   "cell_type": "code",
   "execution_count": 100,
   "id": "60f5e812",
   "metadata": {},
   "outputs": [],
   "source": [
    "df=pd.DataFrame({'Names':names,'Rating':ratings})"
   ]
  },
  {
   "cell_type": "code",
   "execution_count": 101,
   "id": "93af9f8d",
   "metadata": {},
   "outputs": [
    {
     "data": {
      "text/html": [
       "<div>\n",
       "<style scoped>\n",
       "    .dataframe tbody tr th:only-of-type {\n",
       "        vertical-align: middle;\n",
       "    }\n",
       "\n",
       "    .dataframe tbody tr th {\n",
       "        vertical-align: top;\n",
       "    }\n",
       "\n",
       "    .dataframe thead th {\n",
       "        text-align: right;\n",
       "    }\n",
       "</style>\n",
       "<table border=\"1\" class=\"dataframe\">\n",
       "  <thead>\n",
       "    <tr style=\"text-align: right;\">\n",
       "      <th></th>\n",
       "      <th>Names</th>\n",
       "      <th>Rating</th>\n",
       "    </tr>\n",
       "  </thead>\n",
       "  <tbody>\n",
       "    <tr>\n",
       "      <th>0</th>\n",
       "      <td>1.      The Shawshank Redemption(1994)</td>\n",
       "      <td>9.2</td>\n",
       "    </tr>\n",
       "    <tr>\n",
       "      <th>1</th>\n",
       "      <td>2.      The Godfather(1972)</td>\n",
       "      <td>9.2</td>\n",
       "    </tr>\n",
       "    <tr>\n",
       "      <th>2</th>\n",
       "      <td>3.      The Dark Knight(2008)</td>\n",
       "      <td>9.0</td>\n",
       "    </tr>\n",
       "    <tr>\n",
       "      <th>3</th>\n",
       "      <td>4.      The Godfather Part II(1974)</td>\n",
       "      <td>9.0</td>\n",
       "    </tr>\n",
       "    <tr>\n",
       "      <th>4</th>\n",
       "      <td>5.      12 Angry Men(1957)</td>\n",
       "      <td>8.9</td>\n",
       "    </tr>\n",
       "    <tr>\n",
       "      <th>...</th>\n",
       "      <td>...</td>\n",
       "      <td>...</td>\n",
       "    </tr>\n",
       "    <tr>\n",
       "      <th>245</th>\n",
       "      <td>246.      Gandhi(1982)</td>\n",
       "      <td>8.0</td>\n",
       "    </tr>\n",
       "    <tr>\n",
       "      <th>246</th>\n",
       "      <td>247.      Aladdin(1992)</td>\n",
       "      <td>8.0</td>\n",
       "    </tr>\n",
       "    <tr>\n",
       "      <th>247</th>\n",
       "      <td>248.      Jai Bhim(2021)</td>\n",
       "      <td>8.0</td>\n",
       "    </tr>\n",
       "    <tr>\n",
       "      <th>248</th>\n",
       "      <td>249.      The Help(2011)</td>\n",
       "      <td>8.0</td>\n",
       "    </tr>\n",
       "    <tr>\n",
       "      <th>249</th>\n",
       "      <td>250.      Beauty and the Beast(1991)</td>\n",
       "      <td>8.0</td>\n",
       "    </tr>\n",
       "  </tbody>\n",
       "</table>\n",
       "<p>250 rows × 2 columns</p>\n",
       "</div>"
      ],
      "text/plain": [
       "                                            Names Rating\n",
       "0          1.      The Shawshank Redemption(1994)    9.2\n",
       "1                     2.      The Godfather(1972)    9.2\n",
       "2                   3.      The Dark Knight(2008)    9.0\n",
       "3             4.      The Godfather Part II(1974)    9.0\n",
       "4                      5.      12 Angry Men(1957)    8.9\n",
       "..                                            ...    ...\n",
       "245                        246.      Gandhi(1982)    8.0\n",
       "246                       247.      Aladdin(1992)    8.0\n",
       "247                      248.      Jai Bhim(2021)    8.0\n",
       "248                      249.      The Help(2011)    8.0\n",
       "249          250.      Beauty and the Beast(1991)    8.0\n",
       "\n",
       "[250 rows x 2 columns]"
      ]
     },
     "execution_count": 101,
     "metadata": {},
     "output_type": "execute_result"
    }
   ],
   "source": [
    "df"
   ]
  },
  {
   "cell_type": "code",
   "execution_count": 105,
   "id": "ff862ce8",
   "metadata": {},
   "outputs": [],
   "source": [
    "newdf=df.iloc[0:100,:]"
   ]
  },
  {
   "cell_type": "code",
   "execution_count": 107,
   "id": "9281f613",
   "metadata": {},
   "outputs": [
    {
     "data": {
      "text/html": [
       "<div>\n",
       "<style scoped>\n",
       "    .dataframe tbody tr th:only-of-type {\n",
       "        vertical-align: middle;\n",
       "    }\n",
       "\n",
       "    .dataframe tbody tr th {\n",
       "        vertical-align: top;\n",
       "    }\n",
       "\n",
       "    .dataframe thead th {\n",
       "        text-align: right;\n",
       "    }\n",
       "</style>\n",
       "<table border=\"1\" class=\"dataframe\">\n",
       "  <thead>\n",
       "    <tr style=\"text-align: right;\">\n",
       "      <th></th>\n",
       "      <th>Names</th>\n",
       "      <th>Rating</th>\n",
       "    </tr>\n",
       "  </thead>\n",
       "  <tbody>\n",
       "    <tr>\n",
       "      <th>0</th>\n",
       "      <td>1.      The Shawshank Redemption(1994)</td>\n",
       "      <td>9.2</td>\n",
       "    </tr>\n",
       "    <tr>\n",
       "      <th>1</th>\n",
       "      <td>2.      The Godfather(1972)</td>\n",
       "      <td>9.2</td>\n",
       "    </tr>\n",
       "    <tr>\n",
       "      <th>2</th>\n",
       "      <td>3.      The Dark Knight(2008)</td>\n",
       "      <td>9.0</td>\n",
       "    </tr>\n",
       "    <tr>\n",
       "      <th>3</th>\n",
       "      <td>4.      The Godfather Part II(1974)</td>\n",
       "      <td>9.0</td>\n",
       "    </tr>\n",
       "    <tr>\n",
       "      <th>4</th>\n",
       "      <td>5.      12 Angry Men(1957)</td>\n",
       "      <td>8.9</td>\n",
       "    </tr>\n",
       "    <tr>\n",
       "      <th>...</th>\n",
       "      <td>...</td>\n",
       "      <td>...</td>\n",
       "    </tr>\n",
       "    <tr>\n",
       "      <th>95</th>\n",
       "      <td>96.      Jagten(2012)</td>\n",
       "      <td>8.3</td>\n",
       "    </tr>\n",
       "    <tr>\n",
       "      <th>96</th>\n",
       "      <td>97.      M - Eine Stadt sucht einen Mörd...</td>\n",
       "      <td>8.3</td>\n",
       "    </tr>\n",
       "    <tr>\n",
       "      <th>97</th>\n",
       "      <td>98.      North by Northwest(1959)</td>\n",
       "      <td>8.3</td>\n",
       "    </tr>\n",
       "    <tr>\n",
       "      <th>98</th>\n",
       "      <td>99.      Vertigo(1958)</td>\n",
       "      <td>8.2</td>\n",
       "    </tr>\n",
       "    <tr>\n",
       "      <th>99</th>\n",
       "      <td>100.      Idi i smotri(1985)</td>\n",
       "      <td>8.2</td>\n",
       "    </tr>\n",
       "  </tbody>\n",
       "</table>\n",
       "<p>100 rows × 2 columns</p>\n",
       "</div>"
      ],
      "text/plain": [
       "                                                Names Rating\n",
       "0              1.      The Shawshank Redemption(1994)    9.2\n",
       "1                         2.      The Godfather(1972)    9.2\n",
       "2                       3.      The Dark Knight(2008)    9.0\n",
       "3                 4.      The Godfather Part II(1974)    9.0\n",
       "4                          5.      12 Angry Men(1957)    8.9\n",
       "..                                                ...    ...\n",
       "95                              96.      Jagten(2012)    8.3\n",
       "96        97.      M - Eine Stadt sucht einen Mörd...    8.3\n",
       "97                  98.      North by Northwest(1959)    8.3\n",
       "98                             99.      Vertigo(1958)    8.2\n",
       "99                       100.      Idi i smotri(1985)    8.2\n",
       "\n",
       "[100 rows x 2 columns]"
      ]
     },
     "execution_count": 107,
     "metadata": {},
     "output_type": "execute_result"
    }
   ],
   "source": [
    "newdf"
   ]
  },
  {
   "cell_type": "markdown",
   "id": "e4fc6463",
   "metadata": {},
   "source": [
    "Q3.Write a python program to display IMDB’s Top rated 100 Indian movies’ data (i.e. name, rating, year of\n",
    "release) and make data frame.\n"
   ]
  },
  {
   "cell_type": "code",
   "execution_count": 109,
   "id": "ac631d2d",
   "metadata": {},
   "outputs": [],
   "source": [
    "pg=requests.get('https://www.imdb.com/india/top-rated-indian-movies/?pf_rd_m=A2FGELUUNOQJNL&pf_rd_p=461131e5-5af0-4e50-bee2-223fad1e00ca&pf_rd_r=6S9XWRVT1E68DFV1E5FC&pf_rd_s=center-1&pf_rd_t=60601&pf_rd_i=india.toprated&ref_=fea_india_ss_toprated_india_tr_india250_sm')"
   ]
  },
  {
   "cell_type": "code",
   "execution_count": 110,
   "id": "b88afbd9",
   "metadata": {},
   "outputs": [
    {
     "data": {
      "text/plain": [
       "<Response [200]>"
      ]
     },
     "execution_count": 110,
     "metadata": {},
     "output_type": "execute_result"
    }
   ],
   "source": [
    "pg"
   ]
  },
  {
   "cell_type": "code",
   "execution_count": 111,
   "id": "16354fdc",
   "metadata": {},
   "outputs": [],
   "source": [
    "indsp=BeautifulSoup(pg.content)"
   ]
  },
  {
   "cell_type": "code",
   "execution_count": 115,
   "id": "8ff1ccbb",
   "metadata": {},
   "outputs": [],
   "source": [
    "indian_names=[]\n",
    "\n",
    "for i in indsp.find_all('td',class_=\"titleColumn\"):\n",
    "      indian_names.append(i.text.replace('\\n',''))"
   ]
  },
  {
   "cell_type": "code",
   "execution_count": 340,
   "id": "e8a9fb84",
   "metadata": {},
   "outputs": [],
   "source": [
    "indian_ratings=[]\n",
    "\n",
    "for i in indsp.find_all('td',class_=\"ratingColumn imdbRating\"):\n",
    "    indian_ratings.append(i.text.replace('\\n',''))\n"
   ]
  },
  {
   "cell_type": "code",
   "execution_count": 118,
   "id": "e22e6db5",
   "metadata": {},
   "outputs": [],
   "source": [
    "indlist=pd.DataFrame({'Indian_Names':indian_names,'Indian_Rating':indian_ratings})"
   ]
  },
  {
   "cell_type": "code",
   "execution_count": 119,
   "id": "a5577035",
   "metadata": {},
   "outputs": [
    {
     "data": {
      "text/html": [
       "<div>\n",
       "<style scoped>\n",
       "    .dataframe tbody tr th:only-of-type {\n",
       "        vertical-align: middle;\n",
       "    }\n",
       "\n",
       "    .dataframe tbody tr th {\n",
       "        vertical-align: top;\n",
       "    }\n",
       "\n",
       "    .dataframe thead th {\n",
       "        text-align: right;\n",
       "    }\n",
       "</style>\n",
       "<table border=\"1\" class=\"dataframe\">\n",
       "  <thead>\n",
       "    <tr style=\"text-align: right;\">\n",
       "      <th></th>\n",
       "      <th>Indian_Names</th>\n",
       "      <th>Indian_Rating</th>\n",
       "    </tr>\n",
       "  </thead>\n",
       "  <tbody>\n",
       "    <tr>\n",
       "      <th>0</th>\n",
       "      <td>1.      Anbe Sivam(2003)</td>\n",
       "      <td>8.4</td>\n",
       "    </tr>\n",
       "    <tr>\n",
       "      <th>1</th>\n",
       "      <td>2.      Golmaal(1979)</td>\n",
       "      <td>8.4</td>\n",
       "    </tr>\n",
       "    <tr>\n",
       "      <th>2</th>\n",
       "      <td>3.      Jai Bhim(2021)</td>\n",
       "      <td>8.4</td>\n",
       "    </tr>\n",
       "    <tr>\n",
       "      <th>3</th>\n",
       "      <td>4.      Nayakan(1987)</td>\n",
       "      <td>8.4</td>\n",
       "    </tr>\n",
       "    <tr>\n",
       "      <th>4</th>\n",
       "      <td>5.      Pariyerum Perumal(2018)</td>\n",
       "      <td>8.4</td>\n",
       "    </tr>\n",
       "    <tr>\n",
       "      <th>...</th>\n",
       "      <td>...</td>\n",
       "      <td>...</td>\n",
       "    </tr>\n",
       "    <tr>\n",
       "      <th>245</th>\n",
       "      <td>246.      24(2016)</td>\n",
       "      <td>7.6</td>\n",
       "    </tr>\n",
       "    <tr>\n",
       "      <th>246</th>\n",
       "      <td>247.      Kapoor &amp; Sons(2016)</td>\n",
       "      <td>7.6</td>\n",
       "    </tr>\n",
       "    <tr>\n",
       "      <th>247</th>\n",
       "      <td>248.      Velaiilla Pattadhari(2014)</td>\n",
       "      <td>7.6</td>\n",
       "    </tr>\n",
       "    <tr>\n",
       "      <th>248</th>\n",
       "      <td>249.      Colour Photo(2020)</td>\n",
       "      <td>7.6</td>\n",
       "    </tr>\n",
       "    <tr>\n",
       "      <th>249</th>\n",
       "      <td>250.      Rockstar(2011)</td>\n",
       "      <td>7.6</td>\n",
       "    </tr>\n",
       "  </tbody>\n",
       "</table>\n",
       "<p>250 rows × 2 columns</p>\n",
       "</div>"
      ],
      "text/plain": [
       "                                   Indian_Names Indian_Rating\n",
       "0                      1.      Anbe Sivam(2003)           8.4\n",
       "1                         2.      Golmaal(1979)           8.4\n",
       "2                        3.      Jai Bhim(2021)           8.4\n",
       "3                         4.      Nayakan(1987)           8.4\n",
       "4               5.      Pariyerum Perumal(2018)           8.4\n",
       "..                                          ...           ...\n",
       "245                          246.      24(2016)           7.6\n",
       "246               247.      Kapoor & Sons(2016)           7.6\n",
       "247        248.      Velaiilla Pattadhari(2014)           7.6\n",
       "248                249.      Colour Photo(2020)           7.6\n",
       "249                    250.      Rockstar(2011)           7.6\n",
       "\n",
       "[250 rows x 2 columns]"
      ]
     },
     "execution_count": 119,
     "metadata": {},
     "output_type": "execute_result"
    }
   ],
   "source": [
    "indlist"
   ]
  },
  {
   "cell_type": "code",
   "execution_count": 120,
   "id": "b160b100",
   "metadata": {},
   "outputs": [],
   "source": [
    "newindlist=indlist.iloc[0:100,:]"
   ]
  },
  {
   "cell_type": "code",
   "execution_count": 121,
   "id": "4e93da55",
   "metadata": {},
   "outputs": [
    {
     "data": {
      "text/html": [
       "<div>\n",
       "<style scoped>\n",
       "    .dataframe tbody tr th:only-of-type {\n",
       "        vertical-align: middle;\n",
       "    }\n",
       "\n",
       "    .dataframe tbody tr th {\n",
       "        vertical-align: top;\n",
       "    }\n",
       "\n",
       "    .dataframe thead th {\n",
       "        text-align: right;\n",
       "    }\n",
       "</style>\n",
       "<table border=\"1\" class=\"dataframe\">\n",
       "  <thead>\n",
       "    <tr style=\"text-align: right;\">\n",
       "      <th></th>\n",
       "      <th>Indian_Names</th>\n",
       "      <th>Indian_Rating</th>\n",
       "    </tr>\n",
       "  </thead>\n",
       "  <tbody>\n",
       "    <tr>\n",
       "      <th>0</th>\n",
       "      <td>1.      Anbe Sivam(2003)</td>\n",
       "      <td>8.4</td>\n",
       "    </tr>\n",
       "    <tr>\n",
       "      <th>1</th>\n",
       "      <td>2.      Golmaal(1979)</td>\n",
       "      <td>8.4</td>\n",
       "    </tr>\n",
       "    <tr>\n",
       "      <th>2</th>\n",
       "      <td>3.      Jai Bhim(2021)</td>\n",
       "      <td>8.4</td>\n",
       "    </tr>\n",
       "    <tr>\n",
       "      <th>3</th>\n",
       "      <td>4.      Nayakan(1987)</td>\n",
       "      <td>8.4</td>\n",
       "    </tr>\n",
       "    <tr>\n",
       "      <th>4</th>\n",
       "      <td>5.      Pariyerum Perumal(2018)</td>\n",
       "      <td>8.4</td>\n",
       "    </tr>\n",
       "    <tr>\n",
       "      <th>...</th>\n",
       "      <td>...</td>\n",
       "      <td>...</td>\n",
       "    </tr>\n",
       "    <tr>\n",
       "      <th>95</th>\n",
       "      <td>96.      Rang De Basanti(2006)</td>\n",
       "      <td>8.0</td>\n",
       "    </tr>\n",
       "    <tr>\n",
       "      <th>96</th>\n",
       "      <td>97.      Baasha(1995)</td>\n",
       "      <td>8.0</td>\n",
       "    </tr>\n",
       "    <tr>\n",
       "      <th>97</th>\n",
       "      <td>98.      Baahubali 2: The Conclusion(2017)</td>\n",
       "      <td>8.0</td>\n",
       "    </tr>\n",
       "    <tr>\n",
       "      <th>98</th>\n",
       "      <td>99.      Masaan(2015)</td>\n",
       "      <td>8.0</td>\n",
       "    </tr>\n",
       "    <tr>\n",
       "      <th>99</th>\n",
       "      <td>100.      Kahaani(2012)</td>\n",
       "      <td>8.0</td>\n",
       "    </tr>\n",
       "  </tbody>\n",
       "</table>\n",
       "<p>100 rows × 2 columns</p>\n",
       "</div>"
      ],
      "text/plain": [
       "                                        Indian_Names Indian_Rating\n",
       "0                           1.      Anbe Sivam(2003)           8.4\n",
       "1                              2.      Golmaal(1979)           8.4\n",
       "2                             3.      Jai Bhim(2021)           8.4\n",
       "3                              4.      Nayakan(1987)           8.4\n",
       "4                    5.      Pariyerum Perumal(2018)           8.4\n",
       "..                                               ...           ...\n",
       "95                    96.      Rang De Basanti(2006)           8.0\n",
       "96                             97.      Baasha(1995)           8.0\n",
       "97        98.      Baahubali 2: The Conclusion(2017)           8.0\n",
       "98                             99.      Masaan(2015)           8.0\n",
       "99                           100.      Kahaani(2012)           8.0\n",
       "\n",
       "[100 rows x 2 columns]"
      ]
     },
     "execution_count": 121,
     "metadata": {},
     "output_type": "execute_result"
    }
   ],
   "source": [
    "newindlist"
   ]
  },
  {
   "cell_type": "markdown",
   "id": "a2b95625",
   "metadata": {},
   "source": [
    "Q4.Write s python program to display list of respected former presidents of India(i.e. Name , Term of office)\n",
    "from https://presidentofindia.nic.in/former-presidents.htm\n"
   ]
  },
  {
   "cell_type": "code",
   "execution_count": 122,
   "id": "65317e49",
   "metadata": {},
   "outputs": [],
   "source": [
    "jp=requests.get('https://presidentofindia.nic.in/former-presidents.htm')"
   ]
  },
  {
   "cell_type": "code",
   "execution_count": 123,
   "id": "cc944299",
   "metadata": {},
   "outputs": [
    {
     "data": {
      "text/plain": [
       "<Response [200]>"
      ]
     },
     "execution_count": 123,
     "metadata": {},
     "output_type": "execute_result"
    }
   ],
   "source": [
    "jp"
   ]
  },
  {
   "cell_type": "code",
   "execution_count": 124,
   "id": "6df66025",
   "metadata": {},
   "outputs": [],
   "source": [
    "ssp=BeautifulSoup(jp.content)"
   ]
  },
  {
   "cell_type": "code",
   "execution_count": 131,
   "id": "36625d47",
   "metadata": {},
   "outputs": [],
   "source": [
    "presidents=[]\n",
    "\n",
    "for i in ssp.find_all('div',class_=\"presidentListing\"):\n",
    "    presidents.append(i.text.replace('\\n',''))"
   ]
  },
  {
   "cell_type": "code",
   "execution_count": 177,
   "id": "29aa3d4b",
   "metadata": {},
   "outputs": [],
   "source": [
    "president=pd.DataFrame(data=presidents)"
   ]
  },
  {
   "cell_type": "code",
   "execution_count": 178,
   "id": "924a1d00",
   "metadata": {},
   "outputs": [
    {
     "data": {
      "text/html": [
       "<div>\n",
       "<style scoped>\n",
       "    .dataframe tbody tr th:only-of-type {\n",
       "        vertical-align: middle;\n",
       "    }\n",
       "\n",
       "    .dataframe tbody tr th {\n",
       "        vertical-align: top;\n",
       "    }\n",
       "\n",
       "    .dataframe thead th {\n",
       "        text-align: right;\n",
       "    }\n",
       "</style>\n",
       "<table border=\"1\" class=\"dataframe\">\n",
       "  <thead>\n",
       "    <tr style=\"text-align: right;\">\n",
       "      <th></th>\n",
       "      <th>0</th>\n",
       "    </tr>\n",
       "  </thead>\n",
       "  <tbody>\n",
       "    <tr>\n",
       "      <th>0</th>\n",
       "      <td>Shri Ram Nath Kovind (birth - 1945)Term of Off...</td>\n",
       "    </tr>\n",
       "    <tr>\n",
       "      <th>1</th>\n",
       "      <td>Shri Pranab Mukherjee (1935-2020)Term of Offic...</td>\n",
       "    </tr>\n",
       "    <tr>\n",
       "      <th>2</th>\n",
       "      <td>Smt Pratibha Devisingh Patil (birth - 1934)Ter...</td>\n",
       "    </tr>\n",
       "    <tr>\n",
       "      <th>3</th>\n",
       "      <td>DR. A.P.J. Abdul Kalam (1931-2015)Term of Offi...</td>\n",
       "    </tr>\n",
       "    <tr>\n",
       "      <th>4</th>\n",
       "      <td>Shri K. R. Narayanan (1920 - 2005)Term of Offi...</td>\n",
       "    </tr>\n",
       "    <tr>\n",
       "      <th>5</th>\n",
       "      <td>Dr Shankar Dayal Sharma (1918-1999)Term of Off...</td>\n",
       "    </tr>\n",
       "    <tr>\n",
       "      <th>6</th>\n",
       "      <td>Shri R Venkataraman (1910-2009)Term of Office:...</td>\n",
       "    </tr>\n",
       "    <tr>\n",
       "      <th>7</th>\n",
       "      <td>Giani Zail Singh (1916-1994)Term of Office: 25...</td>\n",
       "    </tr>\n",
       "    <tr>\n",
       "      <th>8</th>\n",
       "      <td>Shri Neelam Sanjiva Reddy (1913-1996)Term of O...</td>\n",
       "    </tr>\n",
       "    <tr>\n",
       "      <th>9</th>\n",
       "      <td>Dr. Fakhruddin Ali Ahmed (1905-1977)Term of Of...</td>\n",
       "    </tr>\n",
       "    <tr>\n",
       "      <th>10</th>\n",
       "      <td>Shri Varahagiri Venkata Giri (1894-1980)Term o...</td>\n",
       "    </tr>\n",
       "    <tr>\n",
       "      <th>11</th>\n",
       "      <td>Dr. Zakir Husain (1897-1969)Term of Office: 13...</td>\n",
       "    </tr>\n",
       "    <tr>\n",
       "      <th>12</th>\n",
       "      <td>Dr. Sarvepalli Radhakrishnan (1888-1975)Term o...</td>\n",
       "    </tr>\n",
       "    <tr>\n",
       "      <th>13</th>\n",
       "      <td>Dr. Rajendra Prasad (1884-1963) Term of Office...</td>\n",
       "    </tr>\n",
       "  </tbody>\n",
       "</table>\n",
       "</div>"
      ],
      "text/plain": [
       "                                                    0\n",
       "0   Shri Ram Nath Kovind (birth - 1945)Term of Off...\n",
       "1   Shri Pranab Mukherjee (1935-2020)Term of Offic...\n",
       "2   Smt Pratibha Devisingh Patil (birth - 1934)Ter...\n",
       "3   DR. A.P.J. Abdul Kalam (1931-2015)Term of Offi...\n",
       "4   Shri K. R. Narayanan (1920 - 2005)Term of Offi...\n",
       "5   Dr Shankar Dayal Sharma (1918-1999)Term of Off...\n",
       "6   Shri R Venkataraman (1910-2009)Term of Office:...\n",
       "7   Giani Zail Singh (1916-1994)Term of Office: 25...\n",
       "8   Shri Neelam Sanjiva Reddy (1913-1996)Term of O...\n",
       "9   Dr. Fakhruddin Ali Ahmed (1905-1977)Term of Of...\n",
       "10  Shri Varahagiri Venkata Giri (1894-1980)Term o...\n",
       "11  Dr. Zakir Husain (1897-1969)Term of Office: 13...\n",
       "12  Dr. Sarvepalli Radhakrishnan (1888-1975)Term o...\n",
       "13  Dr. Rajendra Prasad (1884-1963) Term of Office..."
      ]
     },
     "execution_count": 178,
     "metadata": {},
     "output_type": "execute_result"
    }
   ],
   "source": [
    "president"
   ]
  },
  {
   "cell_type": "markdown",
   "id": "a6efb4f9",
   "metadata": {},
   "source": [
    "Q5.Write a python program to scrape cricket rankings from icc-cricket.com. You have to scrape:\n",
    "\n",
    "    a) Top 10 ODI teams in men’s cricket along with the records for matches, points and rating"
   ]
  },
  {
   "cell_type": "code",
   "execution_count": 187,
   "id": "5d551736",
   "metadata": {},
   "outputs": [],
   "source": [
    "men=requests.get(\"https://www.icc-cricket.com/rankings/mens/team-rankings/odi\")"
   ]
  },
  {
   "cell_type": "code",
   "execution_count": 188,
   "id": "25b019ac",
   "metadata": {},
   "outputs": [
    {
     "data": {
      "text/plain": [
       "<Response [200]>"
      ]
     },
     "execution_count": 188,
     "metadata": {},
     "output_type": "execute_result"
    }
   ],
   "source": [
    "men"
   ]
  },
  {
   "cell_type": "code",
   "execution_count": 189,
   "id": "3f745758",
   "metadata": {},
   "outputs": [],
   "source": [
    "bs=BeautifulSoup(men.content)"
   ]
  },
  {
   "cell_type": "code",
   "execution_count": 190,
   "id": "c0cb4ff1",
   "metadata": {},
   "outputs": [],
   "source": [
    "nk=[]\n",
    "\n",
    "for i in bs.find_all('span',class_=\"u-hide-phablet\"):\n",
    "    nk.append(i.text)"
   ]
  },
  {
   "cell_type": "code",
   "execution_count": 192,
   "id": "e121191c",
   "metadata": {},
   "outputs": [],
   "source": [
    "bv=bs.find('td',class_=\"rankings-block__banner--matches\")"
   ]
  },
  {
   "cell_type": "code",
   "execution_count": 213,
   "id": "56ad8b0a",
   "metadata": {},
   "outputs": [],
   "source": [
    "po=bv.text"
   ]
  },
  {
   "cell_type": "code",
   "execution_count": 194,
   "id": "26dde167",
   "metadata": {},
   "outputs": [],
   "source": [
    "bh=bs.find('td',class_=\"rankings-block__banner--points\")"
   ]
  },
  {
   "cell_type": "code",
   "execution_count": 215,
   "id": "260122e7",
   "metadata": {},
   "outputs": [],
   "source": [
    "poo=bh.text"
   ]
  },
  {
   "cell_type": "code",
   "execution_count": 196,
   "id": "0a2c4bd5",
   "metadata": {},
   "outputs": [],
   "source": [
    "kb=bs.find('td',class_=\"rankings-block__banner--rating u-text-right\")"
   ]
  },
  {
   "cell_type": "code",
   "execution_count": 217,
   "id": "46e80ce2",
   "metadata": {},
   "outputs": [],
   "source": [
    "pooo=kb.text.replace(('\\n'),(''))"
   ]
  },
  {
   "cell_type": "code",
   "execution_count": 199,
   "id": "2ac29717",
   "metadata": {},
   "outputs": [],
   "source": [
    "mtc=[]\n",
    "\n",
    "for i in bs.find_all('td',class_=\"table-body__cell u-center-text\"):\n",
    "    mtc.append(i.text)"
   ]
  },
  {
   "cell_type": "code",
   "execution_count": 204,
   "id": "c91554a7",
   "metadata": {},
   "outputs": [],
   "source": [
    "mtc1=mtc[0:19:2]"
   ]
  },
  {
   "cell_type": "code",
   "execution_count": 205,
   "id": "d1fa5ab3",
   "metadata": {},
   "outputs": [
    {
     "data": {
      "text/plain": [
       "['27', '28', '19', '23', '21', '27', '29', '38', '18', '23']"
      ]
     },
     "execution_count": 205,
     "metadata": {},
     "output_type": "execute_result"
    }
   ],
   "source": [
    "mtc1"
   ]
  },
  {
   "cell_type": "code",
   "execution_count": 206,
   "id": "c011c893",
   "metadata": {},
   "outputs": [],
   "source": [
    "rat=mtc[1:20:2]"
   ]
  },
  {
   "cell_type": "code",
   "execution_count": 208,
   "id": "2556f533",
   "metadata": {},
   "outputs": [],
   "source": [
    "bat=[]\n",
    "\n",
    "for i in bs.find_all('td',class_=\"table-body__cell u-text-right rating\"):\n",
    "    bat.append(i.text)"
   ]
  },
  {
   "cell_type": "code",
   "execution_count": 210,
   "id": "c5393b01",
   "metadata": {},
   "outputs": [],
   "source": [
    "newbat=bat[0:9]"
   ]
  },
  {
   "cell_type": "code",
   "execution_count": 211,
   "id": "27983e47",
   "metadata": {},
   "outputs": [],
   "source": [
    "newrat=rat[0:9]"
   ]
  },
  {
   "cell_type": "code",
   "execution_count": 212,
   "id": "4d1e816f",
   "metadata": {},
   "outputs": [],
   "source": [
    "newmtc1=mtc1[0:9]"
   ]
  },
  {
   "cell_type": "code",
   "execution_count": 214,
   "id": "53ce92c4",
   "metadata": {},
   "outputs": [],
   "source": [
    "newmtc1.insert(0,po)"
   ]
  },
  {
   "cell_type": "code",
   "execution_count": 216,
   "id": "d86ce387",
   "metadata": {},
   "outputs": [],
   "source": [
    "newrat.insert(0,poo)"
   ]
  },
  {
   "cell_type": "code",
   "execution_count": 218,
   "id": "ca11374f",
   "metadata": {},
   "outputs": [],
   "source": [
    "newbat.insert(0,pooo)"
   ]
  },
  {
   "cell_type": "code",
   "execution_count": 220,
   "id": "62293a39",
   "metadata": {},
   "outputs": [],
   "source": [
    "newnk=nk[0:10]"
   ]
  },
  {
   "cell_type": "code",
   "execution_count": 221,
   "id": "cda8ef40",
   "metadata": {},
   "outputs": [
    {
     "name": "stdout",
     "output_type": "stream",
     "text": [
      "10 10 10 10\n"
     ]
    }
   ],
   "source": [
    "print(len(newnk),len(newbat),len(newrat),len(newmtc1))"
   ]
  },
  {
   "cell_type": "code",
   "execution_count": 225,
   "id": "506fe306",
   "metadata": {},
   "outputs": [],
   "source": [
    "fed=pd.DataFrame({'TEAMS':newnk,'MATCHES':newmtc1,'POINTS':newrat,'RATING':newbat})"
   ]
  },
  {
   "cell_type": "code",
   "execution_count": 226,
   "id": "c54f991b",
   "metadata": {},
   "outputs": [
    {
     "data": {
      "text/html": [
       "<div>\n",
       "<style scoped>\n",
       "    .dataframe tbody tr th:only-of-type {\n",
       "        vertical-align: middle;\n",
       "    }\n",
       "\n",
       "    .dataframe tbody tr th {\n",
       "        vertical-align: top;\n",
       "    }\n",
       "\n",
       "    .dataframe thead th {\n",
       "        text-align: right;\n",
       "    }\n",
       "</style>\n",
       "<table border=\"1\" class=\"dataframe\">\n",
       "  <thead>\n",
       "    <tr style=\"text-align: right;\">\n",
       "      <th></th>\n",
       "      <th>TEAMS</th>\n",
       "      <th>MATCHES</th>\n",
       "      <th>POINTS</th>\n",
       "      <th>RATING</th>\n",
       "    </tr>\n",
       "  </thead>\n",
       "  <tbody>\n",
       "    <tr>\n",
       "      <th>0</th>\n",
       "      <td>New Zealand</td>\n",
       "      <td>16</td>\n",
       "      <td>2,051</td>\n",
       "      <td>128               ...</td>\n",
       "    </tr>\n",
       "    <tr>\n",
       "      <th>1</th>\n",
       "      <td>England</td>\n",
       "      <td>27</td>\n",
       "      <td>3,226</td>\n",
       "      <td>119</td>\n",
       "    </tr>\n",
       "    <tr>\n",
       "      <th>2</th>\n",
       "      <td>India</td>\n",
       "      <td>28</td>\n",
       "      <td>3,085</td>\n",
       "      <td>110</td>\n",
       "    </tr>\n",
       "    <tr>\n",
       "      <th>3</th>\n",
       "      <td>Pakistan</td>\n",
       "      <td>19</td>\n",
       "      <td>2,005</td>\n",
       "      <td>106</td>\n",
       "    </tr>\n",
       "    <tr>\n",
       "      <th>4</th>\n",
       "      <td>Australia</td>\n",
       "      <td>23</td>\n",
       "      <td>2,325</td>\n",
       "      <td>101</td>\n",
       "    </tr>\n",
       "    <tr>\n",
       "      <th>5</th>\n",
       "      <td>South Africa</td>\n",
       "      <td>21</td>\n",
       "      <td>2,111</td>\n",
       "      <td>101</td>\n",
       "    </tr>\n",
       "    <tr>\n",
       "      <th>6</th>\n",
       "      <td>Bangladesh</td>\n",
       "      <td>27</td>\n",
       "      <td>2,639</td>\n",
       "      <td>98</td>\n",
       "    </tr>\n",
       "    <tr>\n",
       "      <th>7</th>\n",
       "      <td>Sri Lanka</td>\n",
       "      <td>29</td>\n",
       "      <td>2,658</td>\n",
       "      <td>92</td>\n",
       "    </tr>\n",
       "    <tr>\n",
       "      <th>8</th>\n",
       "      <td>West Indies</td>\n",
       "      <td>38</td>\n",
       "      <td>2,621</td>\n",
       "      <td>69</td>\n",
       "    </tr>\n",
       "    <tr>\n",
       "      <th>9</th>\n",
       "      <td>Afghanistan</td>\n",
       "      <td>18</td>\n",
       "      <td>1,238</td>\n",
       "      <td>69</td>\n",
       "    </tr>\n",
       "  </tbody>\n",
       "</table>\n",
       "</div>"
      ],
      "text/plain": [
       "          TEAMS MATCHES POINTS  \\\n",
       "0   New Zealand      16  2,051   \n",
       "1       England      27  3,226   \n",
       "2         India      28  3,085   \n",
       "3      Pakistan      19  2,005   \n",
       "4     Australia      23  2,325   \n",
       "5  South Africa      21  2,111   \n",
       "6    Bangladesh      27  2,639   \n",
       "7     Sri Lanka      29  2,658   \n",
       "8   West Indies      38  2,621   \n",
       "9   Afghanistan      18  1,238   \n",
       "\n",
       "                                              RATING  \n",
       "0                              128               ...  \n",
       "1                                                119  \n",
       "2                                                110  \n",
       "3                                                106  \n",
       "4                                                101  \n",
       "5                                                101  \n",
       "6                                                 98  \n",
       "7                                                 92  \n",
       "8                                                 69  \n",
       "9                                                 69  "
      ]
     },
     "execution_count": 226,
     "metadata": {},
     "output_type": "execute_result"
    }
   ],
   "source": [
    "fed"
   ]
  },
  {
   "cell_type": "markdown",
   "id": "c753571f",
   "metadata": {},
   "source": [
    "b)Top 10 ODI Batsmen along with the records of their team and rating."
   ]
  },
  {
   "cell_type": "code",
   "execution_count": 370,
   "id": "430f7b7f",
   "metadata": {},
   "outputs": [],
   "source": [
    "bb=requests.get(\"https://www.icc-cricket.com/rankings/mens/player-rankings/odi\")"
   ]
  },
  {
   "cell_type": "code",
   "execution_count": 371,
   "id": "208ab991",
   "metadata": {},
   "outputs": [
    {
     "data": {
      "text/plain": [
       "<Response [200]>"
      ]
     },
     "execution_count": 371,
     "metadata": {},
     "output_type": "execute_result"
    }
   ],
   "source": [
    "bb"
   ]
  },
  {
   "cell_type": "code",
   "execution_count": 372,
   "id": "4228399a",
   "metadata": {},
   "outputs": [],
   "source": [
    "mn=BeautifulSoup(bb.content)"
   ]
  },
  {
   "cell_type": "code",
   "execution_count": 432,
   "id": "03ac0371",
   "metadata": {},
   "outputs": [],
   "source": [
    "play=[]\n",
    "\n",
    "for i in mn.find_all('td',class_=\"table-body__cell name\"):\n",
    "    play.append(i.text.replace(('\\n'),('')))"
   ]
  },
  {
   "cell_type": "code",
   "execution_count": 433,
   "id": "ca0e85ac",
   "metadata": {},
   "outputs": [],
   "source": [
    "team=[]\n",
    "\n",
    "for i in mn.find_all('span',class_=\"table-body__logo-text\"):\n",
    "    team.append(i.text)"
   ]
  },
  {
   "cell_type": "code",
   "execution_count": 434,
   "id": "b3c5565c",
   "metadata": {},
   "outputs": [],
   "source": [
    "rate=[]\n",
    "\n",
    "for i in mn.find_all('td',class_=\"table-body__cell u-text-right rating\"):\n",
    "    rate.append(i.text)"
   ]
  },
  {
   "cell_type": "code",
   "execution_count": 435,
   "id": "b28417e3",
   "metadata": {},
   "outputs": [],
   "source": [
    "a=mn.find('div',class_=\"rankings-block__banner--name\")"
   ]
  },
  {
   "cell_type": "code",
   "execution_count": 436,
   "id": "07316a2d",
   "metadata": {},
   "outputs": [],
   "source": [
    "c=a.text"
   ]
  },
  {
   "cell_type": "code",
   "execution_count": 437,
   "id": "2563f1e2",
   "metadata": {},
   "outputs": [
    {
     "data": {
      "text/plain": [
       "'Babar Azam'"
      ]
     },
     "execution_count": 437,
     "metadata": {},
     "output_type": "execute_result"
    }
   ],
   "source": [
    "c"
   ]
  },
  {
   "cell_type": "code",
   "execution_count": 444,
   "id": "e9776ef9",
   "metadata": {},
   "outputs": [],
   "source": [
    "d=play.insert(0,c)"
   ]
  },
  {
   "cell_type": "code",
   "execution_count": 445,
   "id": "559a3985",
   "metadata": {},
   "outputs": [],
   "source": [
    "f=mn.find('div',class_=\"rankings-block__banner--nationality\")"
   ]
  },
  {
   "cell_type": "code",
   "execution_count": 450,
   "id": "afa5352e",
   "metadata": {},
   "outputs": [],
   "source": [
    "k=f.text.split()[0]"
   ]
  },
  {
   "cell_type": "code",
   "execution_count": 451,
   "id": "b6037460",
   "metadata": {},
   "outputs": [],
   "source": [
    "bb=team.insert(0,k)"
   ]
  },
  {
   "cell_type": "code",
   "execution_count": 452,
   "id": "e6038140",
   "metadata": {},
   "outputs": [],
   "source": [
    "gg=mn.find('div',class_=\"rankings-block__banner--rating\")"
   ]
  },
  {
   "cell_type": "code",
   "execution_count": 455,
   "id": "ecdf79ca",
   "metadata": {},
   "outputs": [],
   "source": [
    "kg=gg.text"
   ]
  },
  {
   "cell_type": "code",
   "execution_count": 456,
   "id": "4841ca7b",
   "metadata": {},
   "outputs": [],
   "source": [
    "ki=rate.insert(0,kg)"
   ]
  },
  {
   "cell_type": "code",
   "execution_count": 463,
   "id": "0b62e8e3",
   "metadata": {},
   "outputs": [
    {
     "data": {
      "text/plain": [
       "'Babar Azam'"
      ]
     },
     "execution_count": 463,
     "metadata": {},
     "output_type": "execute_result"
    }
   ],
   "source": [
    "play.pop(0)"
   ]
  },
  {
   "cell_type": "code",
   "execution_count": 468,
   "id": "4f4c1599",
   "metadata": {},
   "outputs": [
    {
     "data": {
      "text/plain": [
       "'Babar Azam'"
      ]
     },
     "execution_count": 468,
     "metadata": {},
     "output_type": "execute_result"
    }
   ],
   "source": [
    "play.pop(-1)"
   ]
  },
  {
   "cell_type": "code",
   "execution_count": 469,
   "id": "e0f76cee",
   "metadata": {},
   "outputs": [
    {
     "data": {
      "text/plain": [
       "55"
      ]
     },
     "execution_count": 469,
     "metadata": {},
     "output_type": "execute_result"
    }
   ],
   "source": [
    "len(play)"
   ]
  },
  {
   "cell_type": "code",
   "execution_count": 470,
   "id": "c1d2b601",
   "metadata": {},
   "outputs": [
    {
     "data": {
      "text/plain": [
       "55"
      ]
     },
     "execution_count": 470,
     "metadata": {},
     "output_type": "execute_result"
    }
   ],
   "source": [
    "len(rate)"
   ]
  },
  {
   "cell_type": "code",
   "execution_count": 471,
   "id": "ec3d7ace",
   "metadata": {},
   "outputs": [
    {
     "data": {
      "text/plain": [
       "55"
      ]
     },
     "execution_count": 471,
     "metadata": {},
     "output_type": "execute_result"
    }
   ],
   "source": [
    "len(team)"
   ]
  },
  {
   "cell_type": "code",
   "execution_count": 473,
   "id": "b0f6c58e",
   "metadata": {},
   "outputs": [],
   "source": [
    "fgg=pd.DataFrame({'PLAYER':play,'TEAM':team,'RATING':rate})"
   ]
  },
  {
   "cell_type": "code",
   "execution_count": 475,
   "id": "98ee369d",
   "metadata": {},
   "outputs": [
    {
     "data": {
      "text/html": [
       "<div>\n",
       "<style scoped>\n",
       "    .dataframe tbody tr th:only-of-type {\n",
       "        vertical-align: middle;\n",
       "    }\n",
       "\n",
       "    .dataframe tbody tr th {\n",
       "        vertical-align: top;\n",
       "    }\n",
       "\n",
       "    .dataframe thead th {\n",
       "        text-align: right;\n",
       "    }\n",
       "</style>\n",
       "<table border=\"1\" class=\"dataframe\">\n",
       "  <thead>\n",
       "    <tr style=\"text-align: right;\">\n",
       "      <th></th>\n",
       "      <th>PLAYER</th>\n",
       "      <th>TEAM</th>\n",
       "      <th>RATING</th>\n",
       "    </tr>\n",
       "  </thead>\n",
       "  <tbody>\n",
       "    <tr>\n",
       "      <th>0</th>\n",
       "      <td>Babar Azam</td>\n",
       "      <td>PAK</td>\n",
       "      <td>892</td>\n",
       "    </tr>\n",
       "    <tr>\n",
       "      <th>1</th>\n",
       "      <td>Imam-ul-Haq</td>\n",
       "      <td>PAK</td>\n",
       "      <td>815</td>\n",
       "    </tr>\n",
       "    <tr>\n",
       "      <th>2</th>\n",
       "      <td>Rassie van der Dussen</td>\n",
       "      <td>SA</td>\n",
       "      <td>789</td>\n",
       "    </tr>\n",
       "    <tr>\n",
       "      <th>3</th>\n",
       "      <td>Quinton de Kock</td>\n",
       "      <td>SA</td>\n",
       "      <td>784</td>\n",
       "    </tr>\n",
       "    <tr>\n",
       "      <th>4</th>\n",
       "      <td>Virat Kohli</td>\n",
       "      <td>IND</td>\n",
       "      <td>774</td>\n",
       "    </tr>\n",
       "    <tr>\n",
       "      <th>5</th>\n",
       "      <td>Rohit Sharma</td>\n",
       "      <td>IND</td>\n",
       "      <td>770</td>\n",
       "    </tr>\n",
       "    <tr>\n",
       "      <th>6</th>\n",
       "      <td>Ross Taylor</td>\n",
       "      <td>NZ</td>\n",
       "      <td>752</td>\n",
       "    </tr>\n",
       "    <tr>\n",
       "      <th>7</th>\n",
       "      <td>David Warner</td>\n",
       "      <td>AUS</td>\n",
       "      <td>737</td>\n",
       "    </tr>\n",
       "    <tr>\n",
       "      <th>8</th>\n",
       "      <td>Jonny Bairstow</td>\n",
       "      <td>ENG</td>\n",
       "      <td>732</td>\n",
       "    </tr>\n",
       "    <tr>\n",
       "      <th>9</th>\n",
       "      <td>Aaron Finch</td>\n",
       "      <td>AUS</td>\n",
       "      <td>715</td>\n",
       "    </tr>\n",
       "  </tbody>\n",
       "</table>\n",
       "</div>"
      ],
      "text/plain": [
       "                  PLAYER TEAM RATING\n",
       "0             Babar Azam  PAK    892\n",
       "1            Imam-ul-Haq  PAK    815\n",
       "2  Rassie van der Dussen   SA    789\n",
       "3        Quinton de Kock   SA    784\n",
       "4            Virat Kohli  IND    774\n",
       "5           Rohit Sharma  IND    770\n",
       "6            Ross Taylor   NZ    752\n",
       "7           David Warner  AUS    737\n",
       "8         Jonny Bairstow  ENG    732\n",
       "9            Aaron Finch  AUS    715"
      ]
     },
     "execution_count": 475,
     "metadata": {},
     "output_type": "execute_result"
    }
   ],
   "source": [
    "fgg.iloc[0:10,:]"
   ]
  },
  {
   "cell_type": "markdown",
   "id": "ffc67b0d",
   "metadata": {},
   "source": [
    "c) Top 10 ODI bowlers along with the records of their team and rating."
   ]
  },
  {
   "cell_type": "code",
   "execution_count": 3,
   "id": "475d1674",
   "metadata": {},
   "outputs": [],
   "source": [
    "qq=requests.get(\"https://www.icc-cricket.com/rankings/mens/player-rankings/odi/bowling\")"
   ]
  },
  {
   "cell_type": "code",
   "execution_count": 4,
   "id": "c9b41da4",
   "metadata": {},
   "outputs": [
    {
     "data": {
      "text/plain": [
       "<Response [200]>"
      ]
     },
     "execution_count": 4,
     "metadata": {},
     "output_type": "execute_result"
    }
   ],
   "source": [
    "qq"
   ]
  },
  {
   "cell_type": "code",
   "execution_count": 5,
   "id": "bebaaf0f",
   "metadata": {},
   "outputs": [],
   "source": [
    "fd=BeautifulSoup(qq.content)"
   ]
  },
  {
   "cell_type": "code",
   "execution_count": 6,
   "id": "1ac71190",
   "metadata": {},
   "outputs": [],
   "source": [
    "aa=fd.find('div',class_=\"rankings-block__banner--name-large\")"
   ]
  },
  {
   "cell_type": "code",
   "execution_count": 17,
   "id": "8d020d25",
   "metadata": {},
   "outputs": [],
   "source": [
    "bowlers=[]\n",
    "\n",
    "for i in fd.find_all('td',class_=\"table-body__cell rankings-table__name name\"):\n",
    "    bowlers.append(i.text.replace(('\\n'),('')))"
   ]
  },
  {
   "cell_type": "code",
   "execution_count": 19,
   "id": "9c0fe5db",
   "metadata": {},
   "outputs": [],
   "source": [
    "bowlers.insert(0,aa.text)"
   ]
  },
  {
   "cell_type": "code",
   "execution_count": 21,
   "id": "e155ea1d",
   "metadata": {},
   "outputs": [],
   "source": [
    "tt=fd.find('div',class_=\"rankings-block__banner--nationality\")"
   ]
  },
  {
   "cell_type": "code",
   "execution_count": 30,
   "id": "dbb402cd",
   "metadata": {},
   "outputs": [],
   "source": [
    "ji=tt.text.replace(('\\n'),(''))"
   ]
  },
  {
   "cell_type": "code",
   "execution_count": 31,
   "id": "46b38425",
   "metadata": {},
   "outputs": [],
   "source": [
    "teamm=[]\n",
    "\n",
    "for i in fd.find_all('span',class_=\"table-body__logo-text\"):\n",
    "    teamm.append(i.text)"
   ]
  },
  {
   "cell_type": "code",
   "execution_count": 32,
   "id": "609bf393",
   "metadata": {},
   "outputs": [],
   "source": [
    "teamm.insert(0,ji)"
   ]
  },
  {
   "cell_type": "code",
   "execution_count": 34,
   "id": "22a861b7",
   "metadata": {},
   "outputs": [],
   "source": [
    "ooo=fd.find('div',class_=\"rankings-block__banner--rating\")"
   ]
  },
  {
   "cell_type": "code",
   "execution_count": 40,
   "id": "ce1535e7",
   "metadata": {},
   "outputs": [],
   "source": [
    "top=ooo.text"
   ]
  },
  {
   "cell_type": "code",
   "execution_count": 41,
   "id": "d770f4c9",
   "metadata": {},
   "outputs": [],
   "source": [
    "ratingsss=[]\n",
    "\n",
    "for i in fd.find_all('td',class_=\"table-body__cell rating\"):\n",
    "    ratingsss.append(i.text)"
   ]
  },
  {
   "cell_type": "code",
   "execution_count": 43,
   "id": "e5ae1c2b",
   "metadata": {},
   "outputs": [],
   "source": [
    "ratingsss.insert(0,top)"
   ]
  },
  {
   "cell_type": "code",
   "execution_count": 46,
   "id": "af21858a",
   "metadata": {},
   "outputs": [],
   "source": [
    "bowlersdata=pd.DataFrame({'BOWLER':bowlers,'TEAM':teamm,'RATING':ratingsss})"
   ]
  },
  {
   "cell_type": "code",
   "execution_count": 47,
   "id": "235a3ea7",
   "metadata": {},
   "outputs": [],
   "source": [
    "newdata=bowlersdata.iloc[0:10,:]"
   ]
  },
  {
   "cell_type": "code",
   "execution_count": 48,
   "id": "af371894",
   "metadata": {},
   "outputs": [
    {
     "data": {
      "text/html": [
       "<div>\n",
       "<style scoped>\n",
       "    .dataframe tbody tr th:only-of-type {\n",
       "        vertical-align: middle;\n",
       "    }\n",
       "\n",
       "    .dataframe tbody tr th {\n",
       "        vertical-align: top;\n",
       "    }\n",
       "\n",
       "    .dataframe thead th {\n",
       "        text-align: right;\n",
       "    }\n",
       "</style>\n",
       "<table border=\"1\" class=\"dataframe\">\n",
       "  <thead>\n",
       "    <tr style=\"text-align: right;\">\n",
       "      <th></th>\n",
       "      <th>BOWLER</th>\n",
       "      <th>TEAM</th>\n",
       "      <th>RATING</th>\n",
       "    </tr>\n",
       "  </thead>\n",
       "  <tbody>\n",
       "    <tr>\n",
       "      <th>0</th>\n",
       "      <td>Trent Boult</td>\n",
       "      <td>NZ</td>\n",
       "      <td>697</td>\n",
       "    </tr>\n",
       "    <tr>\n",
       "      <th>1</th>\n",
       "      <td>Jasprit Bumrah</td>\n",
       "      <td>IND</td>\n",
       "      <td>682</td>\n",
       "    </tr>\n",
       "    <tr>\n",
       "      <th>2</th>\n",
       "      <td>Shaheen Afridi</td>\n",
       "      <td>PAK</td>\n",
       "      <td>681</td>\n",
       "    </tr>\n",
       "    <tr>\n",
       "      <th>3</th>\n",
       "      <td>Josh Hazlewood</td>\n",
       "      <td>AUS</td>\n",
       "      <td>679</td>\n",
       "    </tr>\n",
       "    <tr>\n",
       "      <th>4</th>\n",
       "      <td>Mujeeb Ur Rahman</td>\n",
       "      <td>AFG</td>\n",
       "      <td>676</td>\n",
       "    </tr>\n",
       "    <tr>\n",
       "      <th>5</th>\n",
       "      <td>Mehedi Hasan</td>\n",
       "      <td>BAN</td>\n",
       "      <td>672</td>\n",
       "    </tr>\n",
       "    <tr>\n",
       "      <th>6</th>\n",
       "      <td>Matt Henry</td>\n",
       "      <td>NZ</td>\n",
       "      <td>663</td>\n",
       "    </tr>\n",
       "    <tr>\n",
       "      <th>7</th>\n",
       "      <td>Mohammad Nabi</td>\n",
       "      <td>AFG</td>\n",
       "      <td>657</td>\n",
       "    </tr>\n",
       "    <tr>\n",
       "      <th>8</th>\n",
       "      <td>Rashid Khan</td>\n",
       "      <td>AFG</td>\n",
       "      <td>651</td>\n",
       "    </tr>\n",
       "    <tr>\n",
       "      <th>9</th>\n",
       "      <td>Chris Woakes</td>\n",
       "      <td>ENG</td>\n",
       "      <td>640</td>\n",
       "    </tr>\n",
       "  </tbody>\n",
       "</table>\n",
       "</div>"
      ],
      "text/plain": [
       "             BOWLER                    TEAM RATING\n",
       "0       Trent Boult  NZ                        697\n",
       "1    Jasprit Bumrah                     IND    682\n",
       "2    Shaheen Afridi                     PAK    681\n",
       "3    Josh Hazlewood                     AUS    679\n",
       "4  Mujeeb Ur Rahman                     AFG    676\n",
       "5      Mehedi Hasan                     BAN    672\n",
       "6        Matt Henry                      NZ    663\n",
       "7     Mohammad Nabi                     AFG    657\n",
       "8       Rashid Khan                     AFG    651\n",
       "9      Chris Woakes                     ENG    640"
      ]
     },
     "execution_count": 48,
     "metadata": {},
     "output_type": "execute_result"
    }
   ],
   "source": [
    "newdata"
   ]
  },
  {
   "cell_type": "markdown",
   "id": "0bfb3681",
   "metadata": {},
   "source": [
    "6) Write a python program to scrape cricket rankings from icc-cricket.com. You have to scrape:\n",
    "a) Top 10 ODI teams in women’s cricket along with the records for matches, points and rating."
   ]
  },
  {
   "cell_type": "code",
   "execution_count": 49,
   "id": "94b78a8b",
   "metadata": {},
   "outputs": [],
   "source": [
    "pl=requests.get(\"https://www.icc-cricket.com/rankings/womens/team-rankings/odi\")"
   ]
  },
  {
   "cell_type": "code",
   "execution_count": 50,
   "id": "18412719",
   "metadata": {},
   "outputs": [
    {
     "data": {
      "text/plain": [
       "<Response [200]>"
      ]
     },
     "execution_count": 50,
     "metadata": {},
     "output_type": "execute_result"
    }
   ],
   "source": [
    "pl"
   ]
  },
  {
   "cell_type": "code",
   "execution_count": 51,
   "id": "47cd4612",
   "metadata": {},
   "outputs": [],
   "source": [
    "ee=BeautifulSoup(pl.content)"
   ]
  },
  {
   "cell_type": "code",
   "execution_count": 52,
   "id": "551df5ad",
   "metadata": {},
   "outputs": [],
   "source": [
    "womanteam=[]\n",
    "\n",
    "for i in ee.find_all('span',class_=\"u-hide-phablet\"):\n",
    "    womanteam.append(i.text)"
   ]
  },
  {
   "cell_type": "code",
   "execution_count": 55,
   "id": "e4f62a24",
   "metadata": {},
   "outputs": [],
   "source": [
    "matches=ee.find('td',class_=\"rankings-block__banner--matches\")"
   ]
  },
  {
   "cell_type": "code",
   "execution_count": 253,
   "id": "8141a326",
   "metadata": {},
   "outputs": [],
   "source": [
    "plo=matches.text"
   ]
  },
  {
   "cell_type": "code",
   "execution_count": 289,
   "id": "5584569e",
   "metadata": {},
   "outputs": [],
   "source": [
    "pt=ee.find('td',class_=\"rankings-block__banner--points\")"
   ]
  },
  {
   "cell_type": "code",
   "execution_count": 290,
   "id": "537a457e",
   "metadata": {},
   "outputs": [],
   "source": [
    "pp=pt.text"
   ]
  },
  {
   "cell_type": "code",
   "execution_count": 291,
   "id": "eb5c3822",
   "metadata": {},
   "outputs": [
    {
     "data": {
      "text/plain": [
       "'4,837'"
      ]
     },
     "execution_count": 291,
     "metadata": {},
     "output_type": "execute_result"
    }
   ],
   "source": [
    "pp"
   ]
  },
  {
   "cell_type": "code",
   "execution_count": 292,
   "id": "10902c94",
   "metadata": {},
   "outputs": [],
   "source": [
    "rt=ee.find('td',class_=\"rankings-block__banner--rating u-text-right\")"
   ]
  },
  {
   "cell_type": "code",
   "execution_count": 332,
   "id": "cc6bcfcf",
   "metadata": {},
   "outputs": [],
   "source": [
    "rr=rt.text.replace(('\\n'),(''))"
   ]
  },
  {
   "cell_type": "code",
   "execution_count": 294,
   "id": "9530f727",
   "metadata": {},
   "outputs": [],
   "source": [
    "mtt=[]\n",
    "\n",
    "for i in ee.find_all('td',class_=\"table-body__cell u-center-text\"):\n",
    "    mtt.append(i.text)"
   ]
  },
  {
   "cell_type": "code",
   "execution_count": 357,
   "id": "053e0423",
   "metadata": {},
   "outputs": [],
   "source": [
    "mtch=mtt[0:18:2]"
   ]
  },
  {
   "cell_type": "code",
   "execution_count": 358,
   "id": "01723f40",
   "metadata": {},
   "outputs": [
    {
     "data": {
      "text/plain": [
       "['33', '35', '32', '31', '30', '12', '30', '11', '8']"
      ]
     },
     "execution_count": 358,
     "metadata": {},
     "output_type": "execute_result"
    }
   ],
   "source": [
    "mtch"
   ]
  },
  {
   "cell_type": "code",
   "execution_count": 352,
   "id": "c3ed85a0",
   "metadata": {},
   "outputs": [],
   "source": [
    "pts=mtt[1:19:2]"
   ]
  },
  {
   "cell_type": "code",
   "execution_count": 353,
   "id": "b9ff5793",
   "metadata": {},
   "outputs": [
    {
     "data": {
      "text/plain": [
       "['4,046', '4,157', '3,219', '3,019', '2,768', '930', '1,962', '495', '351']"
      ]
     },
     "execution_count": 353,
     "metadata": {},
     "output_type": "execute_result"
    }
   ],
   "source": [
    "pts"
   ]
  },
  {
   "cell_type": "code",
   "execution_count": 320,
   "id": "b9730a5e",
   "metadata": {},
   "outputs": [],
   "source": [
    "rts=[]\n",
    "\n",
    "for i in ee.find_all('td',class_=\"table-body__cell u-text-right rating\"):\n",
    "    rts.append(i.text.replace(('\\n'),('')))"
   ]
  },
  {
   "cell_type": "code",
   "execution_count": 343,
   "id": "b4f6c2bf",
   "metadata": {},
   "outputs": [],
   "source": [
    "newrts=rts[0:9]"
   ]
  },
  {
   "cell_type": "code",
   "execution_count": 344,
   "id": "df8f1f2a",
   "metadata": {},
   "outputs": [],
   "source": [
    "newrts.insert(0,rr)"
   ]
  },
  {
   "cell_type": "code",
   "execution_count": 345,
   "id": "26b695e0",
   "metadata": {},
   "outputs": [],
   "source": [
    "newwm=womanteam[0:10]"
   ]
  },
  {
   "cell_type": "code",
   "execution_count": 354,
   "id": "ab21d6e9",
   "metadata": {},
   "outputs": [],
   "source": [
    "pts.insert(0,pp)"
   ]
  },
  {
   "cell_type": "code",
   "execution_count": 359,
   "id": "c0da57dd",
   "metadata": {},
   "outputs": [],
   "source": [
    "mtch.insert(0,plo)"
   ]
  },
  {
   "cell_type": "code",
   "execution_count": 362,
   "id": "dd031557",
   "metadata": {},
   "outputs": [],
   "source": [
    "wt=pd.DataFrame({'TEAM':newwm,'MATCHES':mtch,'POINTS':pts,'RATING':newrts})"
   ]
  },
  {
   "cell_type": "code",
   "execution_count": 363,
   "id": "ad338939",
   "metadata": {},
   "outputs": [
    {
     "data": {
      "text/html": [
       "<div>\n",
       "<style scoped>\n",
       "    .dataframe tbody tr th:only-of-type {\n",
       "        vertical-align: middle;\n",
       "    }\n",
       "\n",
       "    .dataframe tbody tr th {\n",
       "        vertical-align: top;\n",
       "    }\n",
       "\n",
       "    .dataframe thead th {\n",
       "        text-align: right;\n",
       "    }\n",
       "</style>\n",
       "<table border=\"1\" class=\"dataframe\">\n",
       "  <thead>\n",
       "    <tr style=\"text-align: right;\">\n",
       "      <th></th>\n",
       "      <th>TEAM</th>\n",
       "      <th>MATCHES</th>\n",
       "      <th>POINTS</th>\n",
       "      <th>RATING</th>\n",
       "    </tr>\n",
       "  </thead>\n",
       "  <tbody>\n",
       "    <tr>\n",
       "      <th>0</th>\n",
       "      <td>Australia</td>\n",
       "      <td>29</td>\n",
       "      <td>4,837</td>\n",
       "      <td>167               ...</td>\n",
       "    </tr>\n",
       "    <tr>\n",
       "      <th>1</th>\n",
       "      <td>England</td>\n",
       "      <td>33</td>\n",
       "      <td>4,046</td>\n",
       "      <td>123</td>\n",
       "    </tr>\n",
       "    <tr>\n",
       "      <th>2</th>\n",
       "      <td>South Africa</td>\n",
       "      <td>35</td>\n",
       "      <td>4,157</td>\n",
       "      <td>119</td>\n",
       "    </tr>\n",
       "    <tr>\n",
       "      <th>3</th>\n",
       "      <td>India</td>\n",
       "      <td>32</td>\n",
       "      <td>3,219</td>\n",
       "      <td>101</td>\n",
       "    </tr>\n",
       "    <tr>\n",
       "      <th>4</th>\n",
       "      <td>New Zealand</td>\n",
       "      <td>31</td>\n",
       "      <td>3,019</td>\n",
       "      <td>97</td>\n",
       "    </tr>\n",
       "    <tr>\n",
       "      <th>5</th>\n",
       "      <td>West Indies</td>\n",
       "      <td>30</td>\n",
       "      <td>2,768</td>\n",
       "      <td>92</td>\n",
       "    </tr>\n",
       "    <tr>\n",
       "      <th>6</th>\n",
       "      <td>Bangladesh</td>\n",
       "      <td>12</td>\n",
       "      <td>930</td>\n",
       "      <td>78</td>\n",
       "    </tr>\n",
       "    <tr>\n",
       "      <th>7</th>\n",
       "      <td>Pakistan</td>\n",
       "      <td>30</td>\n",
       "      <td>1,962</td>\n",
       "      <td>65</td>\n",
       "    </tr>\n",
       "    <tr>\n",
       "      <th>8</th>\n",
       "      <td>Sri Lanka</td>\n",
       "      <td>11</td>\n",
       "      <td>495</td>\n",
       "      <td>45</td>\n",
       "    </tr>\n",
       "    <tr>\n",
       "      <th>9</th>\n",
       "      <td>Ireland</td>\n",
       "      <td>8</td>\n",
       "      <td>351</td>\n",
       "      <td>44</td>\n",
       "    </tr>\n",
       "  </tbody>\n",
       "</table>\n",
       "</div>"
      ],
      "text/plain": [
       "           TEAM MATCHES POINTS  \\\n",
       "0     Australia      29  4,837   \n",
       "1       England      33  4,046   \n",
       "2  South Africa      35  4,157   \n",
       "3         India      32  3,219   \n",
       "4   New Zealand      31  3,019   \n",
       "5   West Indies      30  2,768   \n",
       "6    Bangladesh      12    930   \n",
       "7      Pakistan      30  1,962   \n",
       "8     Sri Lanka      11    495   \n",
       "9       Ireland       8    351   \n",
       "\n",
       "                                              RATING  \n",
       "0                              167               ...  \n",
       "1                                                123  \n",
       "2                                                119  \n",
       "3                                                101  \n",
       "4                                                 97  \n",
       "5                                                 92  \n",
       "6                                                 78  \n",
       "7                                                 65  \n",
       "8                                                 45  \n",
       "9                                                 44  "
      ]
     },
     "execution_count": 363,
     "metadata": {},
     "output_type": "execute_result"
    }
   ],
   "source": [
    "wt"
   ]
  },
  {
   "cell_type": "markdown",
   "id": "7a5e7c3e",
   "metadata": {},
   "source": [
    "b) Top 10 women’s ODI Batting players along with the records of their team and rating."
   ]
  },
  {
   "cell_type": "code",
   "execution_count": 364,
   "id": "69dd3f52",
   "metadata": {},
   "outputs": [],
   "source": [
    "bat=requests.get('https://www.icc-cricket.com/rankings/womens/player-rankings/odi/batting')"
   ]
  },
  {
   "cell_type": "code",
   "execution_count": 365,
   "id": "b5b63a36",
   "metadata": {},
   "outputs": [],
   "source": [
    "bet=BeautifulSoup(bat.content)"
   ]
  },
  {
   "cell_type": "code",
   "execution_count": 366,
   "id": "0556983a",
   "metadata": {},
   "outputs": [],
   "source": [
    "wn=bet.find('div',class_=\"rankings-block__banner--name-large\")"
   ]
  },
  {
   "cell_type": "code",
   "execution_count": 367,
   "id": "07d9e18b",
   "metadata": {},
   "outputs": [],
   "source": [
    "yy=wn.text"
   ]
  },
  {
   "cell_type": "code",
   "execution_count": 368,
   "id": "657f4704",
   "metadata": {},
   "outputs": [],
   "source": [
    "gn=bet.find('div',class_=\"rankings-block__banner--nationality\")"
   ]
  },
  {
   "cell_type": "code",
   "execution_count": 369,
   "id": "ef7a40e8",
   "metadata": {},
   "outputs": [],
   "source": [
    "qw=gn.text.replace(('\\n'),(''))"
   ]
  },
  {
   "cell_type": "code",
   "execution_count": 370,
   "id": "9ff8470a",
   "metadata": {},
   "outputs": [],
   "source": [
    "wr=bet.find('div',class_=\"rankings-block__banner--rating\")"
   ]
  },
  {
   "cell_type": "code",
   "execution_count": 371,
   "id": "a659c9ee",
   "metadata": {},
   "outputs": [],
   "source": [
    "playeer=[]\n",
    "\n",
    "for i in bet.find_all('td', class_=\"table-body__cell rankings-table__name name\"):\n",
    "    playeer.append(i.text.replace(('\\n'),('')))"
   ]
  },
  {
   "cell_type": "code",
   "execution_count": 372,
   "id": "bc50ab6c",
   "metadata": {},
   "outputs": [],
   "source": [
    "teaam=[]\n",
    "\n",
    "for i in bet.find_all('span',class_=\"table-body__logo-text\"):\n",
    "    teaam.append(i.text)"
   ]
  },
  {
   "cell_type": "code",
   "execution_count": 144,
   "id": "e92e8bbb",
   "metadata": {},
   "outputs": [],
   "source": [
    "rrating=[]\n",
    "\n",
    "for i in bet.find_all('td',class_=\"table-body__cell rating\"):\n",
    "    rrating.append(i.text)"
   ]
  },
  {
   "cell_type": "code",
   "execution_count": 145,
   "id": "50142647",
   "metadata": {},
   "outputs": [],
   "source": [
    "playeer.insert(0,yy)"
   ]
  },
  {
   "cell_type": "code",
   "execution_count": 146,
   "id": "24749ec7",
   "metadata": {},
   "outputs": [],
   "source": [
    "teaam.insert(0,qw)"
   ]
  },
  {
   "cell_type": "code",
   "execution_count": 147,
   "id": "00b0fd41",
   "metadata": {},
   "outputs": [],
   "source": [
    "rrating.insert(0,wr)"
   ]
  },
  {
   "cell_type": "code",
   "execution_count": 148,
   "id": "f44f97c8",
   "metadata": {},
   "outputs": [
    {
     "name": "stdout",
     "output_type": "stream",
     "text": [
      "100 100 100\n"
     ]
    }
   ],
   "source": [
    "print(len(playeer),len(teaam),len(rrating))"
   ]
  },
  {
   "cell_type": "code",
   "execution_count": 149,
   "id": "73d95305",
   "metadata": {},
   "outputs": [],
   "source": [
    "table=pd.DataFrame({'PLAYER':playeer,'TEAM':teaam,'RATING':rrating})"
   ]
  },
  {
   "cell_type": "code",
   "execution_count": 150,
   "id": "2440b72d",
   "metadata": {},
   "outputs": [],
   "source": [
    "newtable=table.iloc[0:10,:]"
   ]
  },
  {
   "cell_type": "code",
   "execution_count": 373,
   "id": "0b76b765",
   "metadata": {},
   "outputs": [
    {
     "data": {
      "text/html": [
       "<div>\n",
       "<style scoped>\n",
       "    .dataframe tbody tr th:only-of-type {\n",
       "        vertical-align: middle;\n",
       "    }\n",
       "\n",
       "    .dataframe tbody tr th {\n",
       "        vertical-align: top;\n",
       "    }\n",
       "\n",
       "    .dataframe thead th {\n",
       "        text-align: right;\n",
       "    }\n",
       "</style>\n",
       "<table border=\"1\" class=\"dataframe\">\n",
       "  <thead>\n",
       "    <tr style=\"text-align: right;\">\n",
       "      <th></th>\n",
       "      <th>PLAYER</th>\n",
       "      <th>TEAM</th>\n",
       "      <th>RATING</th>\n",
       "    </tr>\n",
       "  </thead>\n",
       "  <tbody>\n",
       "    <tr>\n",
       "      <th>0</th>\n",
       "      <td>Alyssa Healy</td>\n",
       "      <td>AUS</td>\n",
       "      <td>[785]</td>\n",
       "    </tr>\n",
       "    <tr>\n",
       "      <th>1</th>\n",
       "      <td>Beth Mooney</td>\n",
       "      <td>AUS</td>\n",
       "      <td>749</td>\n",
       "    </tr>\n",
       "    <tr>\n",
       "      <th>2</th>\n",
       "      <td>Natalie Sciver</td>\n",
       "      <td>ENG</td>\n",
       "      <td>747</td>\n",
       "    </tr>\n",
       "    <tr>\n",
       "      <th>3</th>\n",
       "      <td>Laura Wolvaardt</td>\n",
       "      <td>SA</td>\n",
       "      <td>732</td>\n",
       "    </tr>\n",
       "    <tr>\n",
       "      <th>4</th>\n",
       "      <td>Meg Lanning</td>\n",
       "      <td>AUS</td>\n",
       "      <td>710</td>\n",
       "    </tr>\n",
       "    <tr>\n",
       "      <th>5</th>\n",
       "      <td>Rachael Haynes</td>\n",
       "      <td>AUS</td>\n",
       "      <td>701</td>\n",
       "    </tr>\n",
       "    <tr>\n",
       "      <th>6</th>\n",
       "      <td>Amy Satterthwaite</td>\n",
       "      <td>NZ</td>\n",
       "      <td>681</td>\n",
       "    </tr>\n",
       "    <tr>\n",
       "      <th>7</th>\n",
       "      <td>Tammy Beaumont</td>\n",
       "      <td>ENG</td>\n",
       "      <td>667</td>\n",
       "    </tr>\n",
       "    <tr>\n",
       "      <th>8</th>\n",
       "      <td>Chamari Athapaththu</td>\n",
       "      <td>SL</td>\n",
       "      <td>655</td>\n",
       "    </tr>\n",
       "    <tr>\n",
       "      <th>9</th>\n",
       "      <td>Smriti Mandhana</td>\n",
       "      <td>IND</td>\n",
       "      <td>649</td>\n",
       "    </tr>\n",
       "  </tbody>\n",
       "</table>\n",
       "</div>"
      ],
      "text/plain": [
       "                PLAYER                     TEAM RATING\n",
       "0         Alyssa Healy  AUS                      [785]\n",
       "1          Beth Mooney                      AUS    749\n",
       "2       Natalie Sciver                      ENG    747\n",
       "3      Laura Wolvaardt                       SA    732\n",
       "4          Meg Lanning                      AUS    710\n",
       "5       Rachael Haynes                      AUS    701\n",
       "6    Amy Satterthwaite                       NZ    681\n",
       "7       Tammy Beaumont                      ENG    667\n",
       "8  Chamari Athapaththu                       SL    655\n",
       "9      Smriti Mandhana                      IND    649"
      ]
     },
     "execution_count": 373,
     "metadata": {},
     "output_type": "execute_result"
    }
   ],
   "source": [
    "newtable"
   ]
  },
  {
   "cell_type": "markdown",
   "id": "325c761f",
   "metadata": {},
   "source": [
    "c) Top 10 women’s ODI all-rounder along with the records of their team and rating."
   ]
  },
  {
   "cell_type": "code",
   "execution_count": 152,
   "id": "6585265a",
   "metadata": {},
   "outputs": [],
   "source": [
    "odi=requests.get(\"https://www.icc-cricket.com/rankings/womens/player-rankings/odi/all-rounder\")"
   ]
  },
  {
   "cell_type": "code",
   "execution_count": 153,
   "id": "cb5fde37",
   "metadata": {},
   "outputs": [],
   "source": [
    "alr=BeautifulSoup(odi.content)"
   ]
  },
  {
   "cell_type": "code",
   "execution_count": 155,
   "id": "87da77df",
   "metadata": {},
   "outputs": [],
   "source": [
    "namee=alr.find('div',class_=\"rankings-block__banner--name-large\")"
   ]
  },
  {
   "cell_type": "code",
   "execution_count": 162,
   "id": "9853720b",
   "metadata": {},
   "outputs": [],
   "source": [
    "nm=namee.text"
   ]
  },
  {
   "cell_type": "code",
   "execution_count": 163,
   "id": "b37697b0",
   "metadata": {},
   "outputs": [],
   "source": [
    "ntn=alr.find('div',class_=\"rankings-block__banner--nationality\")"
   ]
  },
  {
   "cell_type": "code",
   "execution_count": 164,
   "id": "8d9210b7",
   "metadata": {},
   "outputs": [],
   "source": [
    "n=ntn.text.replace(('\\n'),(''))"
   ]
  },
  {
   "cell_type": "code",
   "execution_count": 165,
   "id": "a2699d51",
   "metadata": {},
   "outputs": [],
   "source": [
    "rtr=alr.find('div',class_=\"rankings-block__banner--rating\")"
   ]
  },
  {
   "cell_type": "code",
   "execution_count": 168,
   "id": "416116e0",
   "metadata": {},
   "outputs": [],
   "source": [
    "r=rtr.text"
   ]
  },
  {
   "cell_type": "code",
   "execution_count": 171,
   "id": "de2b32d1",
   "metadata": {},
   "outputs": [],
   "source": [
    "allr=[]\n",
    "\n",
    "for i in alr.find_all('td',class_=\"table-body__cell rankings-table__name name\"):\n",
    "    allr.append(i.text.replace(('\\n'),('')))"
   ]
  },
  {
   "cell_type": "code",
   "execution_count": 175,
   "id": "95e32e9c",
   "metadata": {},
   "outputs": [],
   "source": [
    "tmm=[]\n",
    "\n",
    "for i in alr.find_all('span',class_=\"table-body__logo-text\"):\n",
    "    tmm.append(i.text)"
   ]
  },
  {
   "cell_type": "code",
   "execution_count": 177,
   "id": "7f2d0e23",
   "metadata": {},
   "outputs": [],
   "source": [
    "gmm=[]\n",
    "\n",
    "for i in alr.find_all('td',class_=\"table-body__cell rating\"):\n",
    "    gmm.append(i.text)"
   ]
  },
  {
   "cell_type": "code",
   "execution_count": 179,
   "id": "f947fa68",
   "metadata": {},
   "outputs": [],
   "source": [
    "allr.insert(0,nm)"
   ]
  },
  {
   "cell_type": "code",
   "execution_count": 180,
   "id": "64e69d37",
   "metadata": {},
   "outputs": [],
   "source": [
    "tmm.insert(0,n)"
   ]
  },
  {
   "cell_type": "code",
   "execution_count": 181,
   "id": "f6049da6",
   "metadata": {},
   "outputs": [],
   "source": [
    "gmm.insert(0,r)"
   ]
  },
  {
   "cell_type": "code",
   "execution_count": 182,
   "id": "38531080",
   "metadata": {},
   "outputs": [
    {
     "name": "stdout",
     "output_type": "stream",
     "text": [
      "20 20 20\n"
     ]
    }
   ],
   "source": [
    "print(len(allr),len(tmm),len(gmm))"
   ]
  },
  {
   "cell_type": "code",
   "execution_count": 184,
   "id": "ef8cab34",
   "metadata": {},
   "outputs": [],
   "source": [
    "ed=pd.DataFrame({'PLAYER':allr,'TEAM':tmm,'RATING':gmm})"
   ]
  },
  {
   "cell_type": "code",
   "execution_count": 185,
   "id": "1e529653",
   "metadata": {},
   "outputs": [],
   "source": [
    "newed=ed.iloc[0:10,:]"
   ]
  },
  {
   "cell_type": "code",
   "execution_count": 186,
   "id": "f3787999",
   "metadata": {},
   "outputs": [
    {
     "data": {
      "text/html": [
       "<div>\n",
       "<style scoped>\n",
       "    .dataframe tbody tr th:only-of-type {\n",
       "        vertical-align: middle;\n",
       "    }\n",
       "\n",
       "    .dataframe tbody tr th {\n",
       "        vertical-align: top;\n",
       "    }\n",
       "\n",
       "    .dataframe thead th {\n",
       "        text-align: right;\n",
       "    }\n",
       "</style>\n",
       "<table border=\"1\" class=\"dataframe\">\n",
       "  <thead>\n",
       "    <tr style=\"text-align: right;\">\n",
       "      <th></th>\n",
       "      <th>PLAYER</th>\n",
       "      <th>TEAM</th>\n",
       "      <th>RATING</th>\n",
       "    </tr>\n",
       "  </thead>\n",
       "  <tbody>\n",
       "    <tr>\n",
       "      <th>0</th>\n",
       "      <td>Natalie Sciver</td>\n",
       "      <td>ENG</td>\n",
       "      <td>379</td>\n",
       "    </tr>\n",
       "    <tr>\n",
       "      <th>1</th>\n",
       "      <td>Ellyse Perry</td>\n",
       "      <td>AUS</td>\n",
       "      <td>374</td>\n",
       "    </tr>\n",
       "    <tr>\n",
       "      <th>2</th>\n",
       "      <td>Marizanne Kapp</td>\n",
       "      <td>SA</td>\n",
       "      <td>349</td>\n",
       "    </tr>\n",
       "    <tr>\n",
       "      <th>3</th>\n",
       "      <td>Hayley Matthews</td>\n",
       "      <td>WI</td>\n",
       "      <td>339</td>\n",
       "    </tr>\n",
       "    <tr>\n",
       "      <th>4</th>\n",
       "      <td>Amelia Kerr</td>\n",
       "      <td>NZ</td>\n",
       "      <td>336</td>\n",
       "    </tr>\n",
       "    <tr>\n",
       "      <th>5</th>\n",
       "      <td>Ashleigh Gardner</td>\n",
       "      <td>AUS</td>\n",
       "      <td>270</td>\n",
       "    </tr>\n",
       "    <tr>\n",
       "      <th>6</th>\n",
       "      <td>Deepti Sharma</td>\n",
       "      <td>IND</td>\n",
       "      <td>252</td>\n",
       "    </tr>\n",
       "    <tr>\n",
       "      <th>7</th>\n",
       "      <td>Jess Jonassen</td>\n",
       "      <td>AUS</td>\n",
       "      <td>246</td>\n",
       "    </tr>\n",
       "    <tr>\n",
       "      <th>8</th>\n",
       "      <td>Katherine Brunt</td>\n",
       "      <td>ENG</td>\n",
       "      <td>220</td>\n",
       "    </tr>\n",
       "    <tr>\n",
       "      <th>9</th>\n",
       "      <td>Stafanie Taylor</td>\n",
       "      <td>WI</td>\n",
       "      <td>207</td>\n",
       "    </tr>\n",
       "  </tbody>\n",
       "</table>\n",
       "</div>"
      ],
      "text/plain": [
       "             PLAYER                     TEAM RATING\n",
       "0    Natalie Sciver  ENG                        379\n",
       "1      Ellyse Perry                      AUS    374\n",
       "2    Marizanne Kapp                       SA    349\n",
       "3   Hayley Matthews                       WI    339\n",
       "4       Amelia Kerr                       NZ    336\n",
       "5  Ashleigh Gardner                      AUS    270\n",
       "6     Deepti Sharma                      IND    252\n",
       "7     Jess Jonassen                      AUS    246\n",
       "8   Katherine Brunt                      ENG    220\n",
       "9   Stafanie Taylor                       WI    207"
      ]
     },
     "execution_count": 186,
     "metadata": {},
     "output_type": "execute_result"
    }
   ],
   "source": [
    "newed"
   ]
  },
  {
   "cell_type": "markdown",
   "id": "8c1e9948",
   "metadata": {},
   "source": [
    "Q7.Write a python program to scrape mentioned news details from https://www.cnbc.com/world/?region=world :"
   ]
  },
  {
   "cell_type": "markdown",
   "id": "067f720f",
   "metadata": {},
   "source": [
    "i) Headline\n",
    "ii) Time\n",
    "iii) News Lin"
   ]
  },
  {
   "cell_type": "code",
   "execution_count": 240,
   "id": "688576b0",
   "metadata": {},
   "outputs": [],
   "source": [
    "cnn=requests.get('https://www.cnbc.com/world/?region=world')"
   ]
  },
  {
   "cell_type": "code",
   "execution_count": 241,
   "id": "ad0e19ec",
   "metadata": {},
   "outputs": [
    {
     "data": {
      "text/plain": [
       "<Response [200]>"
      ]
     },
     "execution_count": 241,
     "metadata": {},
     "output_type": "execute_result"
    }
   ],
   "source": [
    "cnn"
   ]
  },
  {
   "cell_type": "code",
   "execution_count": 242,
   "id": "6e354d21",
   "metadata": {},
   "outputs": [],
   "source": [
    "cs=BeautifulSoup(cnn.content)"
   ]
  },
  {
   "cell_type": "code",
   "execution_count": 296,
   "id": "42844e30",
   "metadata": {},
   "outputs": [],
   "source": [
    "time=[]\n",
    "\n",
    "for i in cs.find_all('span',class_=\"LatestNews-wrapper\"):\n",
    "    time.append(i.text)"
   ]
  },
  {
   "cell_type": "code",
   "execution_count": 297,
   "id": "77025144",
   "metadata": {},
   "outputs": [],
   "source": [
    "headlines=[]\n",
    "\n",
    "for i in cs.find_all('a',class_=\"LatestNews-headline\"):\n",
    "    headlines.append(i.text)"
   ]
  },
  {
   "cell_type": "code",
   "execution_count": 298,
   "id": "c8da5927",
   "metadata": {},
   "outputs": [],
   "source": [
    "newslink=[]\n",
    "\n",
    "for i in cs.find_all('a',class_=\"LatestNews-headline\"):\n",
    "    newslink.append(i['href'])"
   ]
  },
  {
   "cell_type": "code",
   "execution_count": 299,
   "id": "2c9e6842",
   "metadata": {},
   "outputs": [
    {
     "name": "stdout",
     "output_type": "stream",
     "text": [
      "30 30 30\n"
     ]
    }
   ],
   "source": [
    "print(len(headlines),len(time),len(newslink))"
   ]
  },
  {
   "cell_type": "code",
   "execution_count": 300,
   "id": "3d060e75",
   "metadata": {},
   "outputs": [],
   "source": [
    "NEWS=pd.DataFrame({'HEADLINES':headlines,'TIME':time,'LINK':newslink})"
   ]
  },
  {
   "cell_type": "code",
   "execution_count": 301,
   "id": "894b99b3",
   "metadata": {},
   "outputs": [
    {
     "data": {
      "text/html": [
       "<div>\n",
       "<style scoped>\n",
       "    .dataframe tbody tr th:only-of-type {\n",
       "        vertical-align: middle;\n",
       "    }\n",
       "\n",
       "    .dataframe tbody tr th {\n",
       "        vertical-align: top;\n",
       "    }\n",
       "\n",
       "    .dataframe thead th {\n",
       "        text-align: right;\n",
       "    }\n",
       "</style>\n",
       "<table border=\"1\" class=\"dataframe\">\n",
       "  <thead>\n",
       "    <tr style=\"text-align: right;\">\n",
       "      <th></th>\n",
       "      <th>HEADLINES</th>\n",
       "      <th>TIME</th>\n",
       "      <th>LINK</th>\n",
       "    </tr>\n",
       "  </thead>\n",
       "  <tbody>\n",
       "    <tr>\n",
       "      <th>0</th>\n",
       "      <td>China's economy could be dragged down by loss ...</td>\n",
       "      <td>3 Hours Ago</td>\n",
       "      <td>https://www.cnbc.com/2022/08/02/chinas-economy...</td>\n",
       "    </tr>\n",
       "    <tr>\n",
       "      <th>1</th>\n",
       "      <td>They dropped out of Stanford to run a startup....</td>\n",
       "      <td>3 Hours Ago</td>\n",
       "      <td>https://www.cnbc.com/2022/08/02/stanford-dropo...</td>\n",
       "    </tr>\n",
       "    <tr>\n",
       "      <th>2</th>\n",
       "      <td>Has the bear market hit bottom? Here’s what Wa...</td>\n",
       "      <td>5 Hours Ago</td>\n",
       "      <td>https://www.cnbc.com/2022/08/02/ubs-barclays-b...</td>\n",
       "    </tr>\n",
       "    <tr>\n",
       "      <th>3</th>\n",
       "      <td>Is the U.S. in a recession? This strategist is...</td>\n",
       "      <td>5 Hours Ago</td>\n",
       "      <td>https://www.cnbc.com/2022/08/02/stanchart-anal...</td>\n",
       "    </tr>\n",
       "    <tr>\n",
       "      <th>4</th>\n",
       "      <td>California declares monkeypox outbreak an emer...</td>\n",
       "      <td>5 Hours Ago</td>\n",
       "      <td>https://www.cnbc.com/2022/08/01/california-dec...</td>\n",
       "    </tr>\n",
       "    <tr>\n",
       "      <th>5</th>\n",
       "      <td>Coal is making a comeback and consumption coul...</td>\n",
       "      <td>5 Hours Ago</td>\n",
       "      <td>https://www.cnbc.com/2022/08/02/coal-consumpti...</td>\n",
       "    </tr>\n",
       "    <tr>\n",
       "      <th>6</th>\n",
       "      <td>Cramer's lightning round: I like Costco over B...</td>\n",
       "      <td>6 Hours Ago</td>\n",
       "      <td>https://www.cnbc.com/2022/08/01/cramers-lightn...</td>\n",
       "    </tr>\n",
       "    <tr>\n",
       "      <th>7</th>\n",
       "      <td>Hong Kong leads losses in Asia as geopolitical...</td>\n",
       "      <td>6 Hours Ago</td>\n",
       "      <td>https://www.cnbc.com/2022/08/02/asia-markets-s...</td>\n",
       "    </tr>\n",
       "    <tr>\n",
       "      <th>8</th>\n",
       "      <td>AGCO CEO says he expects grain shortage to las...</td>\n",
       "      <td>7 Hours Ago</td>\n",
       "      <td>https://www.cnbc.com/2022/08/01/agco-ceo-says-...</td>\n",
       "    </tr>\n",
       "    <tr>\n",
       "      <th>9</th>\n",
       "      <td>Cramer’s week ahead: Jobs report on Friday wil...</td>\n",
       "      <td>7 Hours Ago</td>\n",
       "      <td>https://www.cnbc.com/2022/08/01/cramers-week-a...</td>\n",
       "    </tr>\n",
       "    <tr>\n",
       "      <th>10</th>\n",
       "      <td>Stock futures slip after first trading day in ...</td>\n",
       "      <td>7 Hours Ago</td>\n",
       "      <td>https://www.cnbc.com/2022/08/01/stock-futures-...</td>\n",
       "    </tr>\n",
       "    <tr>\n",
       "      <th>11</th>\n",
       "      <td>Best trades on CNBC Monday: Target upgraded. M...</td>\n",
       "      <td>8 Hours Ago</td>\n",
       "      <td>https://www.cnbc.com/2022/08/01/best-trades-on...</td>\n",
       "    </tr>\n",
       "    <tr>\n",
       "      <th>12</th>\n",
       "      <td>Biden says drone strike killed al-Qaeda leader...</td>\n",
       "      <td>8 Hours Ago</td>\n",
       "      <td>https://www.cnbc.com/2022/08/01/biden-set-to-s...</td>\n",
       "    </tr>\n",
       "    <tr>\n",
       "      <th>13</th>\n",
       "      <td>Biden administration faces midnight court dead...</td>\n",
       "      <td>8 Hours Ago</td>\n",
       "      <td>https://www.cnbc.com/2022/08/01/biden-administ...</td>\n",
       "    </tr>\n",
       "    <tr>\n",
       "      <th>14</th>\n",
       "      <td>Devon Energy's strong quarter came with blockb...</td>\n",
       "      <td>8 Hours Ago</td>\n",
       "      <td>https://www.cnbc.com/2022/08/01/investing-club...</td>\n",
       "    </tr>\n",
       "    <tr>\n",
       "      <th>15</th>\n",
       "      <td>Stocks making big after hours moves: Pinterest...</td>\n",
       "      <td>8 Hours Ago</td>\n",
       "      <td>https://www.cnbc.com/2022/08/01/stocks-making-...</td>\n",
       "    </tr>\n",
       "    <tr>\n",
       "      <th>16</th>\n",
       "      <td>OSHA fines Family Dollar $1.2 million for viol...</td>\n",
       "      <td>8 Hours Ago</td>\n",
       "      <td>https://www.cnbc.com/2022/08/01/osha-fines-fam...</td>\n",
       "    </tr>\n",
       "    <tr>\n",
       "      <th>17</th>\n",
       "      <td>Here’s what Wall Street expects when 4 of our ...</td>\n",
       "      <td>9 Hours Ago</td>\n",
       "      <td>https://www.cnbc.com/2022/08/01/heres-what-wal...</td>\n",
       "    </tr>\n",
       "    <tr>\n",
       "      <th>18</th>\n",
       "      <td>Ford stock notches its best month since the Gr...</td>\n",
       "      <td>9 Hours Ago</td>\n",
       "      <td>https://www.cnbc.com/2022/08/01/ford-stock-pos...</td>\n",
       "    </tr>\n",
       "    <tr>\n",
       "      <th>19</th>\n",
       "      <td>Pinterest climbs on better-than-expected user ...</td>\n",
       "      <td>9 Hours Ago</td>\n",
       "      <td>https://www.cnbc.com/2022/08/01/pinterest-earn...</td>\n",
       "    </tr>\n",
       "    <tr>\n",
       "      <th>20</th>\n",
       "      <td>Koch network pressures Sens. Manchin, Sinema t...</td>\n",
       "      <td>10 Hours Ago</td>\n",
       "      <td>https://www.cnbc.com/2022/08/01/koch-network-p...</td>\n",
       "    </tr>\n",
       "    <tr>\n",
       "      <th>21</th>\n",
       "      <td>Man accused of pretending to be DHS, duping Se...</td>\n",
       "      <td>10 Hours Ago</td>\n",
       "      <td>https://www.cnbc.com/2022/08/01/fake-federal-a...</td>\n",
       "    </tr>\n",
       "    <tr>\n",
       "      <th>22</th>\n",
       "      <td>August could be good for stocks, but more turm...</td>\n",
       "      <td>10 Hours Ago</td>\n",
       "      <td>https://www.cnbc.com/2022/08/01/august-could-b...</td>\n",
       "    </tr>\n",
       "    <tr>\n",
       "      <th>23</th>\n",
       "      <td>As 66% worry a recession is coming, here's wha...</td>\n",
       "      <td>10 Hours Ago</td>\n",
       "      <td>https://www.cnbc.com/2022/08/01/66percent-worr...</td>\n",
       "    </tr>\n",
       "    <tr>\n",
       "      <th>24</th>\n",
       "      <td>David Einhorn bets on companies with buybacks ...</td>\n",
       "      <td>11 Hours Ago</td>\n",
       "      <td>https://www.cnbc.com/2022/08/01/david-einhorn-...</td>\n",
       "    </tr>\n",
       "    <tr>\n",
       "      <th>25</th>\n",
       "      <td>JPMorgan's favorite stock picks for August are...</td>\n",
       "      <td>11 Hours Ago</td>\n",
       "      <td>https://www.cnbc.com/2022/08/01/here-are-jpmor...</td>\n",
       "    </tr>\n",
       "    <tr>\n",
       "      <th>26</th>\n",
       "      <td>Federal government could lose $197 billion on ...</td>\n",
       "      <td>11 Hours Ago</td>\n",
       "      <td>https://www.cnbc.com/2022/08/01/federal-govern...</td>\n",
       "    </tr>\n",
       "    <tr>\n",
       "      <th>27</th>\n",
       "      <td>How to play Gen Z as it surpasses millennials ...</td>\n",
       "      <td>11 Hours Ago</td>\n",
       "      <td>https://www.cnbc.com/2022/08/01/how-to-play-ge...</td>\n",
       "    </tr>\n",
       "    <tr>\n",
       "      <th>28</th>\n",
       "      <td>Why 65% of Americans are wrong to keep cash ou...</td>\n",
       "      <td>11 Hours Ago</td>\n",
       "      <td>https://www.cnbc.com/2022/08/01/why-americans-...</td>\n",
       "    </tr>\n",
       "    <tr>\n",
       "      <th>29</th>\n",
       "      <td>Tom Brady says great leaders always try to imp...</td>\n",
       "      <td>11 Hours Ago</td>\n",
       "      <td>https://www.cnbc.com/2022/08/01/tom-brady-grea...</td>\n",
       "    </tr>\n",
       "  </tbody>\n",
       "</table>\n",
       "</div>"
      ],
      "text/plain": [
       "                                            HEADLINES          TIME  \\\n",
       "0   China's economy could be dragged down by loss ...   3 Hours Ago   \n",
       "1   They dropped out of Stanford to run a startup....   3 Hours Ago   \n",
       "2   Has the bear market hit bottom? Here’s what Wa...   5 Hours Ago   \n",
       "3   Is the U.S. in a recession? This strategist is...   5 Hours Ago   \n",
       "4   California declares monkeypox outbreak an emer...   5 Hours Ago   \n",
       "5   Coal is making a comeback and consumption coul...   5 Hours Ago   \n",
       "6   Cramer's lightning round: I like Costco over B...   6 Hours Ago   \n",
       "7   Hong Kong leads losses in Asia as geopolitical...   6 Hours Ago   \n",
       "8   AGCO CEO says he expects grain shortage to las...   7 Hours Ago   \n",
       "9   Cramer’s week ahead: Jobs report on Friday wil...   7 Hours Ago   \n",
       "10  Stock futures slip after first trading day in ...   7 Hours Ago   \n",
       "11  Best trades on CNBC Monday: Target upgraded. M...   8 Hours Ago   \n",
       "12  Biden says drone strike killed al-Qaeda leader...   8 Hours Ago   \n",
       "13  Biden administration faces midnight court dead...   8 Hours Ago   \n",
       "14  Devon Energy's strong quarter came with blockb...   8 Hours Ago   \n",
       "15  Stocks making big after hours moves: Pinterest...   8 Hours Ago   \n",
       "16  OSHA fines Family Dollar $1.2 million for viol...   8 Hours Ago   \n",
       "17  Here’s what Wall Street expects when 4 of our ...   9 Hours Ago   \n",
       "18  Ford stock notches its best month since the Gr...   9 Hours Ago   \n",
       "19  Pinterest climbs on better-than-expected user ...   9 Hours Ago   \n",
       "20  Koch network pressures Sens. Manchin, Sinema t...  10 Hours Ago   \n",
       "21  Man accused of pretending to be DHS, duping Se...  10 Hours Ago   \n",
       "22  August could be good for stocks, but more turm...  10 Hours Ago   \n",
       "23  As 66% worry a recession is coming, here's wha...  10 Hours Ago   \n",
       "24  David Einhorn bets on companies with buybacks ...  11 Hours Ago   \n",
       "25  JPMorgan's favorite stock picks for August are...  11 Hours Ago   \n",
       "26  Federal government could lose $197 billion on ...  11 Hours Ago   \n",
       "27  How to play Gen Z as it surpasses millennials ...  11 Hours Ago   \n",
       "28  Why 65% of Americans are wrong to keep cash ou...  11 Hours Ago   \n",
       "29  Tom Brady says great leaders always try to imp...  11 Hours Ago   \n",
       "\n",
       "                                                 LINK  \n",
       "0   https://www.cnbc.com/2022/08/02/chinas-economy...  \n",
       "1   https://www.cnbc.com/2022/08/02/stanford-dropo...  \n",
       "2   https://www.cnbc.com/2022/08/02/ubs-barclays-b...  \n",
       "3   https://www.cnbc.com/2022/08/02/stanchart-anal...  \n",
       "4   https://www.cnbc.com/2022/08/01/california-dec...  \n",
       "5   https://www.cnbc.com/2022/08/02/coal-consumpti...  \n",
       "6   https://www.cnbc.com/2022/08/01/cramers-lightn...  \n",
       "7   https://www.cnbc.com/2022/08/02/asia-markets-s...  \n",
       "8   https://www.cnbc.com/2022/08/01/agco-ceo-says-...  \n",
       "9   https://www.cnbc.com/2022/08/01/cramers-week-a...  \n",
       "10  https://www.cnbc.com/2022/08/01/stock-futures-...  \n",
       "11  https://www.cnbc.com/2022/08/01/best-trades-on...  \n",
       "12  https://www.cnbc.com/2022/08/01/biden-set-to-s...  \n",
       "13  https://www.cnbc.com/2022/08/01/biden-administ...  \n",
       "14  https://www.cnbc.com/2022/08/01/investing-club...  \n",
       "15  https://www.cnbc.com/2022/08/01/stocks-making-...  \n",
       "16  https://www.cnbc.com/2022/08/01/osha-fines-fam...  \n",
       "17  https://www.cnbc.com/2022/08/01/heres-what-wal...  \n",
       "18  https://www.cnbc.com/2022/08/01/ford-stock-pos...  \n",
       "19  https://www.cnbc.com/2022/08/01/pinterest-earn...  \n",
       "20  https://www.cnbc.com/2022/08/01/koch-network-p...  \n",
       "21  https://www.cnbc.com/2022/08/01/fake-federal-a...  \n",
       "22  https://www.cnbc.com/2022/08/01/august-could-b...  \n",
       "23  https://www.cnbc.com/2022/08/01/66percent-worr...  \n",
       "24  https://www.cnbc.com/2022/08/01/david-einhorn-...  \n",
       "25  https://www.cnbc.com/2022/08/01/here-are-jpmor...  \n",
       "26  https://www.cnbc.com/2022/08/01/federal-govern...  \n",
       "27  https://www.cnbc.com/2022/08/01/how-to-play-ge...  \n",
       "28  https://www.cnbc.com/2022/08/01/why-americans-...  \n",
       "29  https://www.cnbc.com/2022/08/01/tom-brady-grea...  "
      ]
     },
     "execution_count": 301,
     "metadata": {},
     "output_type": "execute_result"
    }
   ],
   "source": [
    "NEWS"
   ]
  },
  {
   "cell_type": "markdown",
   "id": "1e205e15",
   "metadata": {},
   "source": [
    "Q8.Write a python program to scrape the details of most downloaded articles from AI in last 90 days. \n",
    "https://www.journals.elsevier.com/artificial-intelligence/most-downloaded-articles\n",
    "Scrape below mentioned details :\n",
    "i) Paper Title \n",
    "ii) Authors\n",
    "iii) Published Date \n",
    "iv) Paper URL"
   ]
  },
  {
   "cell_type": "code",
   "execution_count": 269,
   "id": "9ac3069f",
   "metadata": {},
   "outputs": [],
   "source": [
    "ai=requests.get(\"https://www.journals.elsevier.com/artificial-intelligence/most-downloaded-articles\")"
   ]
  },
  {
   "cell_type": "code",
   "execution_count": 270,
   "id": "615e8aa4",
   "metadata": {},
   "outputs": [
    {
     "data": {
      "text/plain": [
       "<Response [200]>"
      ]
     },
     "execution_count": 270,
     "metadata": {},
     "output_type": "execute_result"
    }
   ],
   "source": [
    "ai"
   ]
  },
  {
   "cell_type": "code",
   "execution_count": 272,
   "id": "5b5e7d6b",
   "metadata": {},
   "outputs": [],
   "source": [
    "aa=BeautifulSoup(ai.content)"
   ]
  },
  {
   "cell_type": "code",
   "execution_count": 275,
   "id": "4e94ad8b",
   "metadata": {},
   "outputs": [],
   "source": [
    "papertitle=[]\n",
    "\n",
    "for i in aa.find_all('h2',class_=\"sc-1qrq3sd-1 MKjKb sc-1nmom32-0 sc-1nmom32-1 hqhUYH ebTA-dR\"):\n",
    "    papertitle.append(i.text)"
   ]
  },
  {
   "cell_type": "code",
   "execution_count": 277,
   "id": "1d7f66b1",
   "metadata": {},
   "outputs": [],
   "source": [
    "authors=[]\n",
    "\n",
    "for i in aa.find_all('span',class_=\"sc-1w3fpd7-0 pgLAT\"):\n",
    "    authors.append(i.text)"
   ]
  },
  {
   "cell_type": "code",
   "execution_count": 278,
   "id": "7734b425",
   "metadata": {},
   "outputs": [],
   "source": [
    "publishdate=[]\n",
    "\n",
    "for i in aa.find_all('span',class_=\"sc-1thf9ly-2 bKddwo\"):\n",
    "    publishdate.append(i.text)"
   ]
  },
  {
   "cell_type": "code",
   "execution_count": 285,
   "id": "5cac92d4",
   "metadata": {},
   "outputs": [],
   "source": [
    "link=[]\n",
    "\n",
    "for i in aa.find_all('a',class_=\"sc-5smygv-0 nrDZj\"):\n",
    "    link.append(i['href'])"
   ]
  },
  {
   "cell_type": "code",
   "execution_count": 287,
   "id": "b38af230",
   "metadata": {},
   "outputs": [
    {
     "name": "stdout",
     "output_type": "stream",
     "text": [
      "25 25 25 25\n"
     ]
    }
   ],
   "source": [
    "print(len(link),len(authors),len(publishdate),len(papertitle))"
   ]
  },
  {
   "cell_type": "code",
   "execution_count": 288,
   "id": "4b751204",
   "metadata": {},
   "outputs": [],
   "source": [
    "AI=pd.DataFrame({'PAPER_TITLE':papertitle,'AUTHORS':authors,'PUBLISHED_DATE':publishdate,'PAPER_URL':link})"
   ]
  },
  {
   "cell_type": "code",
   "execution_count": 289,
   "id": "9fe71aa4",
   "metadata": {},
   "outputs": [
    {
     "data": {
      "text/html": [
       "<div>\n",
       "<style scoped>\n",
       "    .dataframe tbody tr th:only-of-type {\n",
       "        vertical-align: middle;\n",
       "    }\n",
       "\n",
       "    .dataframe tbody tr th {\n",
       "        vertical-align: top;\n",
       "    }\n",
       "\n",
       "    .dataframe thead th {\n",
       "        text-align: right;\n",
       "    }\n",
       "</style>\n",
       "<table border=\"1\" class=\"dataframe\">\n",
       "  <thead>\n",
       "    <tr style=\"text-align: right;\">\n",
       "      <th></th>\n",
       "      <th>PAPER_TITLE</th>\n",
       "      <th>AUTHORS</th>\n",
       "      <th>PUBLISHED_DATE</th>\n",
       "      <th>PAPER_URL</th>\n",
       "    </tr>\n",
       "  </thead>\n",
       "  <tbody>\n",
       "    <tr>\n",
       "      <th>0</th>\n",
       "      <td>Reward is enough</td>\n",
       "      <td>Silver, David, Singh, Satinder, Precup, Doina,...</td>\n",
       "      <td>October 2021</td>\n",
       "      <td>https://www.sciencedirect.com/science/article/...</td>\n",
       "    </tr>\n",
       "    <tr>\n",
       "      <th>1</th>\n",
       "      <td>Making sense of raw input</td>\n",
       "      <td>Evans, Richard, Bošnjak, Matko and 5 more</td>\n",
       "      <td>October 2021</td>\n",
       "      <td>https://www.sciencedirect.com/science/article/...</td>\n",
       "    </tr>\n",
       "    <tr>\n",
       "      <th>2</th>\n",
       "      <td>Law and logic: A review from an argumentation ...</td>\n",
       "      <td>Prakken, Henry, Sartor, Giovanni</td>\n",
       "      <td>October 2015</td>\n",
       "      <td>https://www.sciencedirect.com/science/article/...</td>\n",
       "    </tr>\n",
       "    <tr>\n",
       "      <th>3</th>\n",
       "      <td>Creativity and artificial intelligence</td>\n",
       "      <td>Boden, Margaret A.</td>\n",
       "      <td>August 1998</td>\n",
       "      <td>https://www.sciencedirect.com/science/article/...</td>\n",
       "    </tr>\n",
       "    <tr>\n",
       "      <th>4</th>\n",
       "      <td>Artificial cognition for social human–robot in...</td>\n",
       "      <td>Lemaignan, Séverin, Warnier, Mathieu and 3 more</td>\n",
       "      <td>June 2017</td>\n",
       "      <td>https://www.sciencedirect.com/science/article/...</td>\n",
       "    </tr>\n",
       "    <tr>\n",
       "      <th>5</th>\n",
       "      <td>Explanation in artificial intelligence: Insigh...</td>\n",
       "      <td>Miller, Tim</td>\n",
       "      <td>February 2019</td>\n",
       "      <td>https://www.sciencedirect.com/science/article/...</td>\n",
       "    </tr>\n",
       "    <tr>\n",
       "      <th>6</th>\n",
       "      <td>Making sense of sensory input</td>\n",
       "      <td>Evans, Richard, Hernández-Orallo, José and 3 more</td>\n",
       "      <td>April 2021</td>\n",
       "      <td>https://www.sciencedirect.com/science/article/...</td>\n",
       "    </tr>\n",
       "    <tr>\n",
       "      <th>7</th>\n",
       "      <td>Conflict-based search for optimal multi-agent ...</td>\n",
       "      <td>Sharon, Guni, Stern, Roni, Felner, Ariel, Stur...</td>\n",
       "      <td>February 2015</td>\n",
       "      <td>https://www.sciencedirect.com/science/article/...</td>\n",
       "    </tr>\n",
       "    <tr>\n",
       "      <th>8</th>\n",
       "      <td>Between MDPs and semi-MDPs: A framework for te...</td>\n",
       "      <td>Sutton, Richard S., Precup, Doina, Singh, Sati...</td>\n",
       "      <td>August 1999</td>\n",
       "      <td>https://www.sciencedirect.com/science/article/...</td>\n",
       "    </tr>\n",
       "    <tr>\n",
       "      <th>9</th>\n",
       "      <td>The Hanabi challenge: A new frontier for AI re...</td>\n",
       "      <td>Bard, Nolan, Foerster, Jakob N. and 13 more</td>\n",
       "      <td>March 2020</td>\n",
       "      <td>https://www.sciencedirect.com/science/article/...</td>\n",
       "    </tr>\n",
       "    <tr>\n",
       "      <th>10</th>\n",
       "      <td>Evaluating XAI: A comparison of rule-based and...</td>\n",
       "      <td>van der Waa, Jasper, Nieuwburg, Elisabeth, Cre...</td>\n",
       "      <td>February 2021</td>\n",
       "      <td>https://www.sciencedirect.com/science/article/...</td>\n",
       "    </tr>\n",
       "    <tr>\n",
       "      <th>11</th>\n",
       "      <td>Argumentation in artificial intelligence</td>\n",
       "      <td>Bench-Capon, T.J.M., Dunne, Paul E.</td>\n",
       "      <td>October 2007</td>\n",
       "      <td>https://www.sciencedirect.com/science/article/...</td>\n",
       "    </tr>\n",
       "    <tr>\n",
       "      <th>12</th>\n",
       "      <td>Algorithms for computing strategies in two-pla...</td>\n",
       "      <td>Bošanský, Branislav, Lisý, Viliam and 3 more</td>\n",
       "      <td>August 2016</td>\n",
       "      <td>https://www.sciencedirect.com/science/article/...</td>\n",
       "    </tr>\n",
       "    <tr>\n",
       "      <th>13</th>\n",
       "      <td>Multiple object tracking: A literature review</td>\n",
       "      <td>Luo, Wenhan, Xing, Junliang and 4 more</td>\n",
       "      <td>April 2021</td>\n",
       "      <td>https://www.sciencedirect.com/science/article/...</td>\n",
       "    </tr>\n",
       "    <tr>\n",
       "      <th>14</th>\n",
       "      <td>Selection of relevant features and examples in...</td>\n",
       "      <td>Blum, Avrim L., Langley, Pat</td>\n",
       "      <td>December 1997</td>\n",
       "      <td>https://www.sciencedirect.com/science/article/...</td>\n",
       "    </tr>\n",
       "    <tr>\n",
       "      <th>15</th>\n",
       "      <td>A survey of inverse reinforcement learning: Ch...</td>\n",
       "      <td>Arora, Saurabh, Doshi, Prashant</td>\n",
       "      <td>August 2021</td>\n",
       "      <td>https://www.sciencedirect.com/science/article/...</td>\n",
       "    </tr>\n",
       "    <tr>\n",
       "      <th>16</th>\n",
       "      <td>Explaining individual predictions when feature...</td>\n",
       "      <td>Aas, Kjersti, Jullum, Martin, Løland, Anders</td>\n",
       "      <td>September 2021</td>\n",
       "      <td>https://www.sciencedirect.com/science/article/...</td>\n",
       "    </tr>\n",
       "    <tr>\n",
       "      <th>17</th>\n",
       "      <td>A review of possible effects of cognitive bias...</td>\n",
       "      <td>Kliegr, Tomáš, Bahník, Štěpán, Fürnkranz, Joha...</td>\n",
       "      <td>June 2021</td>\n",
       "      <td>https://www.sciencedirect.com/science/article/...</td>\n",
       "    </tr>\n",
       "    <tr>\n",
       "      <th>18</th>\n",
       "      <td>Integrating social power into the decision-mak...</td>\n",
       "      <td>Pereira, Gonçalo, Prada, Rui, Santos, Pedro A.</td>\n",
       "      <td>December 2016</td>\n",
       "      <td>https://www.sciencedirect.com/science/article/...</td>\n",
       "    </tr>\n",
       "    <tr>\n",
       "      <th>19</th>\n",
       "      <td>“That's (not) the output I expected!” On the r...</td>\n",
       "      <td>Riveiro, Maria, Thill, Serge</td>\n",
       "      <td>September 2021</td>\n",
       "      <td>https://www.sciencedirect.com/science/article/...</td>\n",
       "    </tr>\n",
       "    <tr>\n",
       "      <th>20</th>\n",
       "      <td>Explaining black-box classifiers using post-ho...</td>\n",
       "      <td>Kenny, Eoin M., Ford, Courtney, Quinn, Molly, ...</td>\n",
       "      <td>May 2021</td>\n",
       "      <td>https://www.sciencedirect.com/science/article/...</td>\n",
       "    </tr>\n",
       "    <tr>\n",
       "      <th>21</th>\n",
       "      <td>Algorithm runtime prediction: Methods &amp; evalua...</td>\n",
       "      <td>Hutter, Frank, Xu, Lin, Hoos, Holger H., Leyto...</td>\n",
       "      <td>January 2014</td>\n",
       "      <td>https://www.sciencedirect.com/science/article/...</td>\n",
       "    </tr>\n",
       "    <tr>\n",
       "      <th>22</th>\n",
       "      <td>Wrappers for feature subset selection</td>\n",
       "      <td>Kohavi, Ron, John, George H.</td>\n",
       "      <td>December 1997</td>\n",
       "      <td>https://www.sciencedirect.com/science/article/...</td>\n",
       "    </tr>\n",
       "    <tr>\n",
       "      <th>23</th>\n",
       "      <td>Commonsense visual sensemaking for autonomous ...</td>\n",
       "      <td>Suchan, Jakob, Bhatt, Mehul, Varadarajan, Srik...</td>\n",
       "      <td>October 2021</td>\n",
       "      <td>https://www.sciencedirect.com/science/article/...</td>\n",
       "    </tr>\n",
       "    <tr>\n",
       "      <th>24</th>\n",
       "      <td>Quantum computation, quantum theory and AI</td>\n",
       "      <td>Ying, Mingsheng</td>\n",
       "      <td>February 2010</td>\n",
       "      <td>https://www.sciencedirect.com/science/article/...</td>\n",
       "    </tr>\n",
       "  </tbody>\n",
       "</table>\n",
       "</div>"
      ],
      "text/plain": [
       "                                          PAPER_TITLE  \\\n",
       "0                                    Reward is enough   \n",
       "1                           Making sense of raw input   \n",
       "2   Law and logic: A review from an argumentation ...   \n",
       "3              Creativity and artificial intelligence   \n",
       "4   Artificial cognition for social human–robot in...   \n",
       "5   Explanation in artificial intelligence: Insigh...   \n",
       "6                       Making sense of sensory input   \n",
       "7   Conflict-based search for optimal multi-agent ...   \n",
       "8   Between MDPs and semi-MDPs: A framework for te...   \n",
       "9   The Hanabi challenge: A new frontier for AI re...   \n",
       "10  Evaluating XAI: A comparison of rule-based and...   \n",
       "11           Argumentation in artificial intelligence   \n",
       "12  Algorithms for computing strategies in two-pla...   \n",
       "13      Multiple object tracking: A literature review   \n",
       "14  Selection of relevant features and examples in...   \n",
       "15  A survey of inverse reinforcement learning: Ch...   \n",
       "16  Explaining individual predictions when feature...   \n",
       "17  A review of possible effects of cognitive bias...   \n",
       "18  Integrating social power into the decision-mak...   \n",
       "19  “That's (not) the output I expected!” On the r...   \n",
       "20  Explaining black-box classifiers using post-ho...   \n",
       "21  Algorithm runtime prediction: Methods & evalua...   \n",
       "22              Wrappers for feature subset selection   \n",
       "23  Commonsense visual sensemaking for autonomous ...   \n",
       "24         Quantum computation, quantum theory and AI   \n",
       "\n",
       "                                              AUTHORS  PUBLISHED_DATE  \\\n",
       "0   Silver, David, Singh, Satinder, Precup, Doina,...    October 2021   \n",
       "1           Evans, Richard, Bošnjak, Matko and 5 more    October 2021   \n",
       "2                   Prakken, Henry, Sartor, Giovanni     October 2015   \n",
       "3                                 Boden, Margaret A.      August 1998   \n",
       "4     Lemaignan, Séverin, Warnier, Mathieu and 3 more       June 2017   \n",
       "5                                        Miller, Tim    February 2019   \n",
       "6   Evans, Richard, Hernández-Orallo, José and 3 more      April 2021   \n",
       "7   Sharon, Guni, Stern, Roni, Felner, Ariel, Stur...   February 2015   \n",
       "8   Sutton, Richard S., Precup, Doina, Singh, Sati...     August 1999   \n",
       "9         Bard, Nolan, Foerster, Jakob N. and 13 more      March 2020   \n",
       "10  van der Waa, Jasper, Nieuwburg, Elisabeth, Cre...   February 2021   \n",
       "11               Bench-Capon, T.J.M., Dunne, Paul E.     October 2007   \n",
       "12       Bošanský, Branislav, Lisý, Viliam and 3 more     August 2016   \n",
       "13             Luo, Wenhan, Xing, Junliang and 4 more      April 2021   \n",
       "14                      Blum, Avrim L., Langley, Pat    December 1997   \n",
       "15                   Arora, Saurabh, Doshi, Prashant      August 2021   \n",
       "16      Aas, Kjersti, Jullum, Martin, Løland, Anders   September 2021   \n",
       "17  Kliegr, Tomáš, Bahník, Štěpán, Fürnkranz, Joha...       June 2021   \n",
       "18    Pereira, Gonçalo, Prada, Rui, Santos, Pedro A.    December 2016   \n",
       "19                      Riveiro, Maria, Thill, Serge   September 2021   \n",
       "20  Kenny, Eoin M., Ford, Courtney, Quinn, Molly, ...        May 2021   \n",
       "21  Hutter, Frank, Xu, Lin, Hoos, Holger H., Leyto...    January 2014   \n",
       "22                      Kohavi, Ron, John, George H.    December 1997   \n",
       "23  Suchan, Jakob, Bhatt, Mehul, Varadarajan, Srik...    October 2021   \n",
       "24                                   Ying, Mingsheng    February 2010   \n",
       "\n",
       "                                            PAPER_URL  \n",
       "0   https://www.sciencedirect.com/science/article/...  \n",
       "1   https://www.sciencedirect.com/science/article/...  \n",
       "2   https://www.sciencedirect.com/science/article/...  \n",
       "3   https://www.sciencedirect.com/science/article/...  \n",
       "4   https://www.sciencedirect.com/science/article/...  \n",
       "5   https://www.sciencedirect.com/science/article/...  \n",
       "6   https://www.sciencedirect.com/science/article/...  \n",
       "7   https://www.sciencedirect.com/science/article/...  \n",
       "8   https://www.sciencedirect.com/science/article/...  \n",
       "9   https://www.sciencedirect.com/science/article/...  \n",
       "10  https://www.sciencedirect.com/science/article/...  \n",
       "11  https://www.sciencedirect.com/science/article/...  \n",
       "12  https://www.sciencedirect.com/science/article/...  \n",
       "13  https://www.sciencedirect.com/science/article/...  \n",
       "14  https://www.sciencedirect.com/science/article/...  \n",
       "15  https://www.sciencedirect.com/science/article/...  \n",
       "16  https://www.sciencedirect.com/science/article/...  \n",
       "17  https://www.sciencedirect.com/science/article/...  \n",
       "18  https://www.sciencedirect.com/science/article/...  \n",
       "19  https://www.sciencedirect.com/science/article/...  \n",
       "20  https://www.sciencedirect.com/science/article/...  \n",
       "21  https://www.sciencedirect.com/science/article/...  \n",
       "22  https://www.sciencedirect.com/science/article/...  \n",
       "23  https://www.sciencedirect.com/science/article/...  \n",
       "24  https://www.sciencedirect.com/science/article/...  "
      ]
     },
     "execution_count": 289,
     "metadata": {},
     "output_type": "execute_result"
    }
   ],
   "source": [
    "AI"
   ]
  },
  {
   "cell_type": "markdown",
   "id": "3063c381",
   "metadata": {},
   "source": [
    "Q9) Write a python program to scrape mentioned details from dineout.co.in :\n",
    "i) Restaurant name\n",
    "ii) Cuisine\n",
    "iii) Location \n",
    "iv) Ratings\n",
    "v) Image URL"
   ]
  },
  {
   "cell_type": "code",
   "execution_count": 302,
   "id": "56677fd3",
   "metadata": {},
   "outputs": [],
   "source": [
    "dn=requests.get(\"https://www.dineout.co.in/delhi-restaurants/buffet-special\")"
   ]
  },
  {
   "cell_type": "code",
   "execution_count": 303,
   "id": "39125b37",
   "metadata": {},
   "outputs": [
    {
     "data": {
      "text/plain": [
       "<Response [200]>"
      ]
     },
     "execution_count": 303,
     "metadata": {},
     "output_type": "execute_result"
    }
   ],
   "source": [
    "dn"
   ]
  },
  {
   "cell_type": "code",
   "execution_count": 304,
   "id": "3113a227",
   "metadata": {},
   "outputs": [],
   "source": [
    "dd=BeautifulSoup(dn.content)"
   ]
  },
  {
   "cell_type": "code",
   "execution_count": 305,
   "id": "31a70c04",
   "metadata": {},
   "outputs": [],
   "source": [
    "names=[]\n",
    "\n",
    "for i in dd.find_all('div',class_=\"restnt-info cursor\"):\n",
    "    names.append(i.text)"
   ]
  },
  {
   "cell_type": "code",
   "execution_count": 333,
   "id": "3fe01bff",
   "metadata": {},
   "outputs": [],
   "source": [
    "cusine=[]\n",
    "\n",
    "for i in dd.find_all('span',class_=\"double-line-ellipsis\"):\n",
    "    cusine.append(i.text.split()[6:])"
   ]
  },
  {
   "cell_type": "code",
   "execution_count": 334,
   "id": "f535149d",
   "metadata": {},
   "outputs": [],
   "source": [
    "location=[]\n",
    "\n",
    "for i in dd.find_all('div',class_=\"restnt-loc ellipsis\"):\n",
    "    location.append(i.text)"
   ]
  },
  {
   "cell_type": "code",
   "execution_count": 335,
   "id": "c4a8e119",
   "metadata": {},
   "outputs": [],
   "source": [
    "rating=[]\n",
    "\n",
    "for i in dd.find_all('div',class_=\"restnt-rating rating-4\"):\n",
    "    rating.append(i.text)\n",
    "    "
   ]
  },
  {
   "cell_type": "code",
   "execution_count": 336,
   "id": "40d6f702",
   "metadata": {},
   "outputs": [],
   "source": [
    "image=[]\n",
    "\n",
    "for i in dd.find_all('img',class_=\"no-img\"):\n",
    "    image.append(i['data-src'])"
   ]
  },
  {
   "cell_type": "code",
   "execution_count": 337,
   "id": "c5ba8aa4",
   "metadata": {},
   "outputs": [
    {
     "name": "stdout",
     "output_type": "stream",
     "text": [
      "9 9 9 9 9\n"
     ]
    }
   ],
   "source": [
    "print(len(image),len(rating),len(cusine),len(names),len(location))"
   ]
  },
  {
   "cell_type": "code",
   "execution_count": 338,
   "id": "ebc857dc",
   "metadata": {},
   "outputs": [],
   "source": [
    "REST=pd.DataFrame({'NAME':names,'CUISINE':cusine,'LOCATION':location,'RATING':rating,'IMAGE_URL':image})"
   ]
  },
  {
   "cell_type": "code",
   "execution_count": 339,
   "id": "daea1d1a",
   "metadata": {},
   "outputs": [
    {
     "data": {
      "text/html": [
       "<div>\n",
       "<style scoped>\n",
       "    .dataframe tbody tr th:only-of-type {\n",
       "        vertical-align: middle;\n",
       "    }\n",
       "\n",
       "    .dataframe tbody tr th {\n",
       "        vertical-align: top;\n",
       "    }\n",
       "\n",
       "    .dataframe thead th {\n",
       "        text-align: right;\n",
       "    }\n",
       "</style>\n",
       "<table border=\"1\" class=\"dataframe\">\n",
       "  <thead>\n",
       "    <tr style=\"text-align: right;\">\n",
       "      <th></th>\n",
       "      <th>NAME</th>\n",
       "      <th>CUISINE</th>\n",
       "      <th>LOCATION</th>\n",
       "      <th>RATING</th>\n",
       "      <th>IMAGE_URL</th>\n",
       "    </tr>\n",
       "  </thead>\n",
       "  <tbody>\n",
       "    <tr>\n",
       "      <th>0</th>\n",
       "      <td>Castle BarbequeConnaught Place, Central Delhi</td>\n",
       "      <td>[North, Indian,, Chinese]</td>\n",
       "      <td>Connaught Place, Central Delhi</td>\n",
       "      <td>4.1</td>\n",
       "      <td>https://im1.dineout.co.in/images/uploads/resta...</td>\n",
       "    </tr>\n",
       "    <tr>\n",
       "      <th>1</th>\n",
       "      <td>Jungle Jamboree3CS Mall,Lajpat Nagar - 3, Sout...</td>\n",
       "      <td>[North, Indian,, Asian,, Italian]</td>\n",
       "      <td>3CS Mall,Lajpat Nagar - 3, South Delhi</td>\n",
       "      <td>3.9</td>\n",
       "      <td>https://im1.dineout.co.in/images/uploads/resta...</td>\n",
       "    </tr>\n",
       "    <tr>\n",
       "      <th>2</th>\n",
       "      <td>Castle BarbequePacific Mall,Tagore Garden, Wes...</td>\n",
       "      <td>[Chinese,, North, Indian]</td>\n",
       "      <td>Pacific Mall,Tagore Garden, West Delhi</td>\n",
       "      <td>3.9</td>\n",
       "      <td>https://im1.dineout.co.in/images/uploads/resta...</td>\n",
       "    </tr>\n",
       "    <tr>\n",
       "      <th>3</th>\n",
       "      <td>Cafe KnoshThe Leela Ambience Convention Hotel,...</td>\n",
       "      <td>[Italian,, Continental]</td>\n",
       "      <td>The Leela Ambience Convention Hotel,Shahdara, ...</td>\n",
       "      <td>4.3</td>\n",
       "      <td>https://im1.dineout.co.in/images/uploads/resta...</td>\n",
       "    </tr>\n",
       "    <tr>\n",
       "      <th>4</th>\n",
       "      <td>The Barbeque CompanyGardens Galleria,Sector 38...</td>\n",
       "      <td>[North, Indian,, Chinese]</td>\n",
       "      <td>Gardens Galleria,Sector 38A, Noida</td>\n",
       "      <td>4</td>\n",
       "      <td>https://im1.dineout.co.in/images/uploads/resta...</td>\n",
       "    </tr>\n",
       "    <tr>\n",
       "      <th>5</th>\n",
       "      <td>India GrillHilton Garden Inn,Saket, South Delhi</td>\n",
       "      <td>[North, Indian,, Italian]</td>\n",
       "      <td>Hilton Garden Inn,Saket, South Delhi</td>\n",
       "      <td>3.9</td>\n",
       "      <td>https://im1.dineout.co.in/images/uploads/resta...</td>\n",
       "    </tr>\n",
       "    <tr>\n",
       "      <th>6</th>\n",
       "      <td>Delhi BarbequeTaurus Sarovar Portico,Mahipalpu...</td>\n",
       "      <td>[North, Indian]</td>\n",
       "      <td>Taurus Sarovar Portico,Mahipalpur, South Delhi</td>\n",
       "      <td>3.7</td>\n",
       "      <td>https://im1.dineout.co.in/images/uploads/resta...</td>\n",
       "    </tr>\n",
       "    <tr>\n",
       "      <th>7</th>\n",
       "      <td>The Monarch - Bar Be Que VillageIndirapuram Ha...</td>\n",
       "      <td>[North, Indian]</td>\n",
       "      <td>Indirapuram Habitat Centre,Indirapuram, Ghaziabad</td>\n",
       "      <td>3.8</td>\n",
       "      <td>https://im1.dineout.co.in/images/uploads/resta...</td>\n",
       "    </tr>\n",
       "    <tr>\n",
       "      <th>8</th>\n",
       "      <td>Indian Grill RoomSuncity Business Tower,Golf C...</td>\n",
       "      <td>[North, Indian,, Mughlai]</td>\n",
       "      <td>Suncity Business Tower,Golf Course Road, Gurgaon</td>\n",
       "      <td>4.3</td>\n",
       "      <td>https://im1.dineout.co.in/images/uploads/resta...</td>\n",
       "    </tr>\n",
       "  </tbody>\n",
       "</table>\n",
       "</div>"
      ],
      "text/plain": [
       "                                                NAME  \\\n",
       "0      Castle BarbequeConnaught Place, Central Delhi   \n",
       "1  Jungle Jamboree3CS Mall,Lajpat Nagar - 3, Sout...   \n",
       "2  Castle BarbequePacific Mall,Tagore Garden, Wes...   \n",
       "3  Cafe KnoshThe Leela Ambience Convention Hotel,...   \n",
       "4  The Barbeque CompanyGardens Galleria,Sector 38...   \n",
       "5    India GrillHilton Garden Inn,Saket, South Delhi   \n",
       "6  Delhi BarbequeTaurus Sarovar Portico,Mahipalpu...   \n",
       "7  The Monarch - Bar Be Que VillageIndirapuram Ha...   \n",
       "8  Indian Grill RoomSuncity Business Tower,Golf C...   \n",
       "\n",
       "                             CUISINE  \\\n",
       "0          [North, Indian,, Chinese]   \n",
       "1  [North, Indian,, Asian,, Italian]   \n",
       "2          [Chinese,, North, Indian]   \n",
       "3            [Italian,, Continental]   \n",
       "4          [North, Indian,, Chinese]   \n",
       "5          [North, Indian,, Italian]   \n",
       "6                    [North, Indian]   \n",
       "7                    [North, Indian]   \n",
       "8          [North, Indian,, Mughlai]   \n",
       "\n",
       "                                            LOCATION RATING  \\\n",
       "0                     Connaught Place, Central Delhi    4.1   \n",
       "1             3CS Mall,Lajpat Nagar - 3, South Delhi    3.9   \n",
       "2             Pacific Mall,Tagore Garden, West Delhi    3.9   \n",
       "3  The Leela Ambience Convention Hotel,Shahdara, ...    4.3   \n",
       "4                 Gardens Galleria,Sector 38A, Noida      4   \n",
       "5               Hilton Garden Inn,Saket, South Delhi    3.9   \n",
       "6     Taurus Sarovar Portico,Mahipalpur, South Delhi    3.7   \n",
       "7  Indirapuram Habitat Centre,Indirapuram, Ghaziabad    3.8   \n",
       "8   Suncity Business Tower,Golf Course Road, Gurgaon    4.3   \n",
       "\n",
       "                                           IMAGE_URL  \n",
       "0  https://im1.dineout.co.in/images/uploads/resta...  \n",
       "1  https://im1.dineout.co.in/images/uploads/resta...  \n",
       "2  https://im1.dineout.co.in/images/uploads/resta...  \n",
       "3  https://im1.dineout.co.in/images/uploads/resta...  \n",
       "4  https://im1.dineout.co.in/images/uploads/resta...  \n",
       "5  https://im1.dineout.co.in/images/uploads/resta...  \n",
       "6  https://im1.dineout.co.in/images/uploads/resta...  \n",
       "7  https://im1.dineout.co.in/images/uploads/resta...  \n",
       "8  https://im1.dineout.co.in/images/uploads/resta...  "
      ]
     },
     "execution_count": 339,
     "metadata": {},
     "output_type": "execute_result"
    }
   ],
   "source": [
    "REST"
   ]
  },
  {
   "cell_type": "markdown",
   "id": "ad154415",
   "metadata": {},
   "source": [
    "Q10) Write a python program to scrape the details of top publications from Google Scholar from \n",
    "https://scholar.google.com/citations?view_op=top_venues&hl=en\n",
    "i) Rank \n",
    "ii) Publication\n",
    "iii) h5-index\n",
    " iv) h5-media"
   ]
  },
  {
   "cell_type": "code",
   "execution_count": 341,
   "id": "b6d08b5b",
   "metadata": {},
   "outputs": [],
   "source": [
    "gs=requests.get(\"https://scholar.google.com/citations?view_op=top_venues&hl=en\")"
   ]
  },
  {
   "cell_type": "code",
   "execution_count": 342,
   "id": "3990f18c",
   "metadata": {},
   "outputs": [
    {
     "data": {
      "text/plain": [
       "<Response [200]>"
      ]
     },
     "execution_count": 342,
     "metadata": {},
     "output_type": "execute_result"
    }
   ],
   "source": [
    "gs"
   ]
  },
  {
   "cell_type": "code",
   "execution_count": 343,
   "id": "801a6ad3",
   "metadata": {},
   "outputs": [],
   "source": [
    "gh=BeautifulSoup(gs.content)"
   ]
  },
  {
   "cell_type": "code",
   "execution_count": 345,
   "id": "2fcbf647",
   "metadata": {},
   "outputs": [],
   "source": [
    "rank=[]\n",
    "\n",
    "for i in gh.find_all('td',class_=\"gsc_mvt_p\"):\n",
    "    rank.append(i.text)"
   ]
  },
  {
   "cell_type": "code",
   "execution_count": 346,
   "id": "943ebd39",
   "metadata": {},
   "outputs": [],
   "source": [
    "publication=[]\n",
    "\n",
    "for i in gh.find_all('td',class_=\"gsc_mvt_t\"):\n",
    "    publication.append(i.text)"
   ]
  },
  {
   "cell_type": "code",
   "execution_count": 347,
   "id": "d5221eaf",
   "metadata": {},
   "outputs": [],
   "source": [
    "h5=[]\n",
    "\n",
    "for i in gh.find_all('a',class_=\"gs_ibl gsc_mp_anchor\"):\n",
    "    h5.append(i.text)"
   ]
  },
  {
   "cell_type": "code",
   "execution_count": 351,
   "id": "85731a68",
   "metadata": {},
   "outputs": [],
   "source": [
    "h5m=[]\n",
    "\n",
    "for i in gh.find_all('span',class_=\"gs_ibl gsc_mp_anchor\"):\n",
    "    h5m.append(i.text)"
   ]
  },
  {
   "cell_type": "code",
   "execution_count": 352,
   "id": "557ae065",
   "metadata": {},
   "outputs": [
    {
     "name": "stdout",
     "output_type": "stream",
     "text": [
      "100 100 100 100\n"
     ]
    }
   ],
   "source": [
    "print(len(h5),len(h5m),len(publication),len(rank))"
   ]
  },
  {
   "cell_type": "code",
   "execution_count": 353,
   "id": "be80e5a2",
   "metadata": {},
   "outputs": [],
   "source": [
    "NAMES=pd.DataFrame({'RANK':rank,'PUBLICATION':publication,'H5_INDEX':h5,'H5_MEDIAN':h5m})"
   ]
  },
  {
   "cell_type": "code",
   "execution_count": 354,
   "id": "4c004887",
   "metadata": {},
   "outputs": [
    {
     "data": {
      "text/html": [
       "<div>\n",
       "<style scoped>\n",
       "    .dataframe tbody tr th:only-of-type {\n",
       "        vertical-align: middle;\n",
       "    }\n",
       "\n",
       "    .dataframe tbody tr th {\n",
       "        vertical-align: top;\n",
       "    }\n",
       "\n",
       "    .dataframe thead th {\n",
       "        text-align: right;\n",
       "    }\n",
       "</style>\n",
       "<table border=\"1\" class=\"dataframe\">\n",
       "  <thead>\n",
       "    <tr style=\"text-align: right;\">\n",
       "      <th></th>\n",
       "      <th>RANK</th>\n",
       "      <th>PUBLICATION</th>\n",
       "      <th>H5_INDEX</th>\n",
       "      <th>H5_MEDIAN</th>\n",
       "    </tr>\n",
       "  </thead>\n",
       "  <tbody>\n",
       "    <tr>\n",
       "      <th>0</th>\n",
       "      <td>1.</td>\n",
       "      <td>Nature</td>\n",
       "      <td>444</td>\n",
       "      <td>667</td>\n",
       "    </tr>\n",
       "    <tr>\n",
       "      <th>1</th>\n",
       "      <td>2.</td>\n",
       "      <td>The New England Journal of Medicine</td>\n",
       "      <td>432</td>\n",
       "      <td>780</td>\n",
       "    </tr>\n",
       "    <tr>\n",
       "      <th>2</th>\n",
       "      <td>3.</td>\n",
       "      <td>Science</td>\n",
       "      <td>401</td>\n",
       "      <td>614</td>\n",
       "    </tr>\n",
       "    <tr>\n",
       "      <th>3</th>\n",
       "      <td>4.</td>\n",
       "      <td>IEEE/CVF Conference on Computer Vision and Pat...</td>\n",
       "      <td>389</td>\n",
       "      <td>627</td>\n",
       "    </tr>\n",
       "    <tr>\n",
       "      <th>4</th>\n",
       "      <td>5.</td>\n",
       "      <td>The Lancet</td>\n",
       "      <td>354</td>\n",
       "      <td>635</td>\n",
       "    </tr>\n",
       "    <tr>\n",
       "      <th>...</th>\n",
       "      <td>...</td>\n",
       "      <td>...</td>\n",
       "      <td>...</td>\n",
       "      <td>...</td>\n",
       "    </tr>\n",
       "    <tr>\n",
       "      <th>95</th>\n",
       "      <td>96.</td>\n",
       "      <td>Journal of Business Research</td>\n",
       "      <td>145</td>\n",
       "      <td>233</td>\n",
       "    </tr>\n",
       "    <tr>\n",
       "      <th>96</th>\n",
       "      <td>97.</td>\n",
       "      <td>Molecular Cancer</td>\n",
       "      <td>145</td>\n",
       "      <td>209</td>\n",
       "    </tr>\n",
       "    <tr>\n",
       "      <th>97</th>\n",
       "      <td>98.</td>\n",
       "      <td>Sensors</td>\n",
       "      <td>145</td>\n",
       "      <td>201</td>\n",
       "    </tr>\n",
       "    <tr>\n",
       "      <th>98</th>\n",
       "      <td>99.</td>\n",
       "      <td>Nature Climate Change</td>\n",
       "      <td>144</td>\n",
       "      <td>228</td>\n",
       "    </tr>\n",
       "    <tr>\n",
       "      <th>99</th>\n",
       "      <td>100.</td>\n",
       "      <td>IEEE Internet of Things Journal</td>\n",
       "      <td>144</td>\n",
       "      <td>212</td>\n",
       "    </tr>\n",
       "  </tbody>\n",
       "</table>\n",
       "<p>100 rows × 4 columns</p>\n",
       "</div>"
      ],
      "text/plain": [
       "    RANK                                        PUBLICATION H5_INDEX H5_MEDIAN\n",
       "0     1.                                             Nature      444       667\n",
       "1     2.                The New England Journal of Medicine      432       780\n",
       "2     3.                                            Science      401       614\n",
       "3     4.  IEEE/CVF Conference on Computer Vision and Pat...      389       627\n",
       "4     5.                                         The Lancet      354       635\n",
       "..   ...                                                ...      ...       ...\n",
       "95   96.                       Journal of Business Research      145       233\n",
       "96   97.                                   Molecular Cancer      145       209\n",
       "97   98.                                            Sensors      145       201\n",
       "98   99.                              Nature Climate Change      144       228\n",
       "99  100.                    IEEE Internet of Things Journal      144       212\n",
       "\n",
       "[100 rows x 4 columns]"
      ]
     },
     "execution_count": 354,
     "metadata": {},
     "output_type": "execute_result"
    }
   ],
   "source": [
    "NAMES"
   ]
  },
  {
   "cell_type": "code",
   "execution_count": null,
   "id": "2018e0ac",
   "metadata": {},
   "outputs": [],
   "source": []
  }
 ],
 "metadata": {
  "kernelspec": {
   "display_name": "Python 3 (ipykernel)",
   "language": "python",
   "name": "python3"
  },
  "language_info": {
   "codemirror_mode": {
    "name": "ipython",
    "version": 3
   },
   "file_extension": ".py",
   "mimetype": "text/x-python",
   "name": "python",
   "nbconvert_exporter": "python",
   "pygments_lexer": "ipython3",
   "version": "3.9.7"
  }
 },
 "nbformat": 4,
 "nbformat_minor": 5
}
