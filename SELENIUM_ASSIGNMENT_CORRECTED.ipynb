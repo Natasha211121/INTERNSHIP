{
 "cells": [
  {
   "cell_type": "code",
   "execution_count": 1,
   "id": "ea548405",
   "metadata": {},
   "outputs": [
    {
     "name": "stdout",
     "output_type": "stream",
     "text": [
      "Collecting selenium\n",
      "  Downloading selenium-4.4.0-py3-none-any.whl (985 kB)\n",
      "Collecting trio-websocket~=0.9\n",
      "  Downloading trio_websocket-0.9.2-py3-none-any.whl (16 kB)\n",
      "Collecting trio~=0.17\n",
      "  Downloading trio-0.21.0-py3-none-any.whl (358 kB)\n",
      "Requirement already satisfied: urllib3[secure,socks]~=1.26 in c:\\users\\dell\\anaconda3\\lib\\site-packages (from selenium) (1.26.7)\n",
      "Requirement already satisfied: async-generator>=1.9 in c:\\users\\dell\\anaconda3\\lib\\site-packages (from trio~=0.17->selenium) (1.10)\n",
      "Requirement already satisfied: attrs>=19.2.0 in c:\\users\\dell\\anaconda3\\lib\\site-packages (from trio~=0.17->selenium) (21.2.0)\n",
      "Requirement already satisfied: idna in c:\\users\\dell\\anaconda3\\lib\\site-packages (from trio~=0.17->selenium) (3.2)\n",
      "Collecting outcome\n",
      "  Downloading outcome-1.2.0-py2.py3-none-any.whl (9.7 kB)\n",
      "Requirement already satisfied: sniffio in c:\\users\\dell\\anaconda3\\lib\\site-packages (from trio~=0.17->selenium) (1.2.0)\n",
      "Requirement already satisfied: cffi>=1.14 in c:\\users\\dell\\anaconda3\\lib\\site-packages (from trio~=0.17->selenium) (1.14.6)\n",
      "Requirement already satisfied: sortedcontainers in c:\\users\\dell\\anaconda3\\lib\\site-packages (from trio~=0.17->selenium) (2.4.0)\n",
      "Requirement already satisfied: pycparser in c:\\users\\dell\\anaconda3\\lib\\site-packages (from cffi>=1.14->trio~=0.17->selenium) (2.20)\n",
      "Collecting wsproto>=0.14\n",
      "  Downloading wsproto-1.1.0-py3-none-any.whl (24 kB)\n",
      "Requirement already satisfied: PySocks!=1.5.7,<2.0,>=1.5.6 in c:\\users\\dell\\anaconda3\\lib\\site-packages (from urllib3[secure,socks]~=1.26->selenium) (1.7.1)\n",
      "Requirement already satisfied: pyOpenSSL>=0.14 in c:\\users\\dell\\anaconda3\\lib\\site-packages (from urllib3[secure,socks]~=1.26->selenium) (21.0.0)\n",
      "Requirement already satisfied: cryptography>=1.3.4 in c:\\users\\dell\\anaconda3\\lib\\site-packages (from urllib3[secure,socks]~=1.26->selenium) (3.4.8)\n",
      "Requirement already satisfied: certifi in c:\\users\\dell\\anaconda3\\lib\\site-packages (from urllib3[secure,socks]~=1.26->selenium) (2021.10.8)\n",
      "Requirement already satisfied: six>=1.5.2 in c:\\users\\dell\\anaconda3\\lib\\site-packages (from pyOpenSSL>=0.14->urllib3[secure,socks]~=1.26->selenium) (1.16.0)\n",
      "Collecting h11<1,>=0.9.0\n",
      "  Downloading h11-0.13.0-py3-none-any.whl (58 kB)\n",
      "Installing collected packages: outcome, h11, wsproto, trio, trio-websocket, selenium\n",
      "Successfully installed h11-0.13.0 outcome-1.2.0 selenium-4.4.0 trio-0.21.0 trio-websocket-0.9.2 wsproto-1.1.0\n"
     ]
    }
   ],
   "source": [
    "!pip install selenium"
   ]
  },
  {
   "cell_type": "code",
   "execution_count": 1,
   "id": "c7486ba8",
   "metadata": {},
   "outputs": [],
   "source": [
    "import pandas as pd\n",
    "import selenium\n",
    "from selenium import webdriver\n",
    "import warnings\n",
    "warnings.filterwarnings('ignore')"
   ]
  },
  {
   "cell_type": "code",
   "execution_count": 2,
   "id": "c900a543",
   "metadata": {},
   "outputs": [],
   "source": [
    "from selenium.common.exceptions import StaleElementReferenceException, NoSuchElementException\n",
    "from selenium.webdriver.common.by import By\n",
    "import time"
   ]
  },
  {
   "cell_type": "code",
   "execution_count": 268,
   "id": "e0d74800",
   "metadata": {},
   "outputs": [],
   "source": [
    "driver=webdriver.Chrome(r\"C:\\Users\\DELL\\Downloads\\chromedriver_win32\\chromedriver.exe\")"
   ]
  },
  {
   "cell_type": "markdown",
   "id": "d23a0214",
   "metadata": {},
   "source": [
    "Q1: Write a python program to scrape data for “Data Analyst” Job position in “Bangalore” location. You \n",
    "have to scrape the job-title, job-location, company_name, experience_required. You have to scrape first 10 \n",
    "jobs data.\n",
    "This task will be done in following steps:\n",
    "1. First get the webpage https://www.naukri.com/\n",
    "2. Enter “Data Analyst” in “Skill, Designations, Companies” field and enter “Bangalore” in “enter the\n",
    "location” field.\n",
    "3. Then click the search button.\n",
    "4. Then scrape the data for the first 10 jobs results you get.\n",
    "5. Finally create a dataframe of the scraped data    "
   ]
  },
  {
   "cell_type": "code",
   "execution_count": 84,
   "id": "94956043",
   "metadata": {},
   "outputs": [],
   "source": [
    "driver.get(\"https://www.naukri.com/\")"
   ]
  },
  {
   "cell_type": "code",
   "execution_count": 86,
   "id": "3fda3b88",
   "metadata": {},
   "outputs": [],
   "source": [
    "designation=driver.find_element(By.XPATH,'//input[@class=\"suggestor-input \"]')\n",
    "designation.send_keys('Data Analyst')\n",
    "gt=driver.find_element(By.XPATH,'//b[@class=\"pre-wrap\"]')\n",
    "gt.click()"
   ]
  },
  {
   "cell_type": "code",
   "execution_count": 88,
   "id": "dce00c74",
   "metadata": {},
   "outputs": [],
   "source": [
    "location=driver.find_element(By.XPATH,'/html/body/div[1]/div[6]/div/div/div[5]/div/div/div/input')\n",
    "location.send_keys('Bangalore')\n",
    "ij=driver.find_element(By.XPATH,'/html/body/div[1]/div[6]/div/div/div[5]/div/div/div[2]/div[1]/ul/li[1]/div/span[1]')\n",
    "ij.click()"
   ]
  },
  {
   "cell_type": "code",
   "execution_count": 89,
   "id": "c92a5d65",
   "metadata": {},
   "outputs": [],
   "source": [
    "search=driver.find_element(By.XPATH,'//div[@class=\"qsbSubmit\"]')\n",
    "search.click()"
   ]
  },
  {
   "cell_type": "code",
   "execution_count": 90,
   "id": "28541b81",
   "metadata": {},
   "outputs": [],
   "source": [
    "title=[]\n",
    "location=[]\n",
    "company=[]\n",
    "experience=[]"
   ]
  },
  {
   "cell_type": "code",
   "execution_count": 91,
   "id": "7acb875f",
   "metadata": {},
   "outputs": [],
   "source": [
    "tt=driver.find_elements(By.XPATH,'//a[@class=\"title fw500 ellipsis\"]')\n",
    "for i in tt[0:10]:\n",
    "    a=i.text\n",
    "    title.append(a)"
   ]
  },
  {
   "cell_type": "code",
   "execution_count": 92,
   "id": "ea12e742",
   "metadata": {},
   "outputs": [],
   "source": [
    "pp=driver.find_elements(By.XPATH,'//span[@title=\"Bangalore/Bengaluru \"]')\n",
    "for i in pp[0:10]:\n",
    "    b=i.text\n",
    "    location.append(b)"
   ]
  },
  {
   "cell_type": "code",
   "execution_count": 93,
   "id": "5eb39527",
   "metadata": {},
   "outputs": [],
   "source": [
    "cc=driver.find_elements(By.XPATH,'//a[@class=\"subTitle ellipsis fleft\"]')\n",
    "for i in cc[0:10]:\n",
    "    c=i.text\n",
    "    company.append(c)"
   ]
  },
  {
   "cell_type": "code",
   "execution_count": 94,
   "id": "4dc3986d",
   "metadata": {},
   "outputs": [],
   "source": [
    "dd=driver.find_elements(By.XPATH,'//li[@class=\"fleft grey-text br2 placeHolderLi experience\"]//span')\n",
    "for i in dd[0:10]:\n",
    "    experience.append(i.text)"
   ]
  },
  {
   "cell_type": "code",
   "execution_count": 95,
   "id": "6177ee34",
   "metadata": {},
   "outputs": [
    {
     "name": "stdout",
     "output_type": "stream",
     "text": [
      "10 10 10 10\n"
     ]
    }
   ],
   "source": [
    "print(len(title),len(location),len(company),len(experience))"
   ]
  },
  {
   "cell_type": "code",
   "execution_count": 96,
   "id": "a3247847",
   "metadata": {},
   "outputs": [],
   "source": [
    "df=pd.DataFrame({'JOB_TITLE':title,'LOCATION':location,'COMPANY':company,'EXPERIENCE':experience})"
   ]
  },
  {
   "cell_type": "code",
   "execution_count": 97,
   "id": "0b46e0c1",
   "metadata": {},
   "outputs": [
    {
     "data": {
      "text/html": [
       "<div>\n",
       "<style scoped>\n",
       "    .dataframe tbody tr th:only-of-type {\n",
       "        vertical-align: middle;\n",
       "    }\n",
       "\n",
       "    .dataframe tbody tr th {\n",
       "        vertical-align: top;\n",
       "    }\n",
       "\n",
       "    .dataframe thead th {\n",
       "        text-align: right;\n",
       "    }\n",
       "</style>\n",
       "<table border=\"1\" class=\"dataframe\">\n",
       "  <thead>\n",
       "    <tr style=\"text-align: right;\">\n",
       "      <th></th>\n",
       "      <th>JOB_TITLE</th>\n",
       "      <th>LOCATION</th>\n",
       "      <th>COMPANY</th>\n",
       "      <th>EXPERIENCE</th>\n",
       "    </tr>\n",
       "  </thead>\n",
       "  <tbody>\n",
       "    <tr>\n",
       "      <th>0</th>\n",
       "      <td>SR. Data Analyst- SME- Pharma and Healthcare</td>\n",
       "      <td>Bangalore/Bengaluru</td>\n",
       "      <td>CHRYSELYS</td>\n",
       "      <td>2-6 Yrs</td>\n",
       "    </tr>\n",
       "    <tr>\n",
       "      <th>1</th>\n",
       "      <td>Senior Data Analyst - KPO</td>\n",
       "      <td>Bangalore/Bengaluru</td>\n",
       "      <td>Huquo Consulting Pvt. Ltd</td>\n",
       "      <td>7-12 Yrs</td>\n",
       "    </tr>\n",
       "    <tr>\n",
       "      <th>2</th>\n",
       "      <td>Data Analyst 2</td>\n",
       "      <td>Bangalore/Bengaluru</td>\n",
       "      <td>Optum</td>\n",
       "      <td>7-10 Yrs</td>\n",
       "    </tr>\n",
       "    <tr>\n",
       "      <th>3</th>\n",
       "      <td>Data Analyst 1</td>\n",
       "      <td>Bangalore/Bengaluru</td>\n",
       "      <td>Optum</td>\n",
       "      <td>3-5 Yrs</td>\n",
       "    </tr>\n",
       "    <tr>\n",
       "      <th>4</th>\n",
       "      <td>Associate Data Analyst</td>\n",
       "      <td>Bangalore/Bengaluru</td>\n",
       "      <td>Optum</td>\n",
       "      <td>4-7 Yrs</td>\n",
       "    </tr>\n",
       "    <tr>\n",
       "      <th>5</th>\n",
       "      <td>Data Analyst</td>\n",
       "      <td>Bangalore/Bengaluru</td>\n",
       "      <td>Open Financial Technologies</td>\n",
       "      <td>2-7 Yrs</td>\n",
       "    </tr>\n",
       "    <tr>\n",
       "      <th>6</th>\n",
       "      <td>Data Analyst</td>\n",
       "      <td>Bangalore/Bengaluru</td>\n",
       "      <td>Sobha</td>\n",
       "      <td>1-3 Yrs</td>\n",
       "    </tr>\n",
       "    <tr>\n",
       "      <th>7</th>\n",
       "      <td>Data Analyst</td>\n",
       "      <td>Bangalore/Bengaluru</td>\n",
       "      <td>Augie Pets India Pvt limited</td>\n",
       "      <td>0-3 Yrs</td>\n",
       "    </tr>\n",
       "    <tr>\n",
       "      <th>8</th>\n",
       "      <td>Data Analyst</td>\n",
       "      <td>Bangalore/Bengaluru</td>\n",
       "      <td>Novel Office</td>\n",
       "      <td>0-3 Yrs</td>\n",
       "    </tr>\n",
       "    <tr>\n",
       "      <th>9</th>\n",
       "      <td>Business &amp; Data Analyst- Assistant Manager</td>\n",
       "      <td>Bangalore/Bengaluru</td>\n",
       "      <td>State Street</td>\n",
       "      <td>1-3 Yrs</td>\n",
       "    </tr>\n",
       "  </tbody>\n",
       "</table>\n",
       "</div>"
      ],
      "text/plain": [
       "                                      JOB_TITLE             LOCATION  \\\n",
       "0  SR. Data Analyst- SME- Pharma and Healthcare  Bangalore/Bengaluru   \n",
       "1                     Senior Data Analyst - KPO  Bangalore/Bengaluru   \n",
       "2                                Data Analyst 2  Bangalore/Bengaluru   \n",
       "3                                Data Analyst 1  Bangalore/Bengaluru   \n",
       "4                        Associate Data Analyst  Bangalore/Bengaluru   \n",
       "5                                  Data Analyst  Bangalore/Bengaluru   \n",
       "6                                  Data Analyst  Bangalore/Bengaluru   \n",
       "7                                  Data Analyst  Bangalore/Bengaluru   \n",
       "8                                  Data Analyst  Bangalore/Bengaluru   \n",
       "9    Business & Data Analyst- Assistant Manager  Bangalore/Bengaluru   \n",
       "\n",
       "                        COMPANY EXPERIENCE  \n",
       "0                     CHRYSELYS    2-6 Yrs  \n",
       "1     Huquo Consulting Pvt. Ltd   7-12 Yrs  \n",
       "2                         Optum   7-10 Yrs  \n",
       "3                         Optum    3-5 Yrs  \n",
       "4                         Optum    4-7 Yrs  \n",
       "5   Open Financial Technologies    2-7 Yrs  \n",
       "6                         Sobha    1-3 Yrs  \n",
       "7  Augie Pets India Pvt limited    0-3 Yrs  \n",
       "8                  Novel Office    0-3 Yrs  \n",
       "9                  State Street    1-3 Yrs  "
      ]
     },
     "execution_count": 97,
     "metadata": {},
     "output_type": "execute_result"
    }
   ],
   "source": [
    "df"
   ]
  },
  {
   "cell_type": "markdown",
   "id": "13887abd",
   "metadata": {},
   "source": [
    "Q2: Write a python program to scrape data for “Data Scientist” Job position in “Bangalore” location. You \n",
    "have to scrape the job-title, job-location, company_name. You have to scrape first 10 jobs data.\n",
    "This task will be done in following steps:\n",
    "1. First get the webpage https://www.naukri.com/\n",
    "2. Enter “Data Scientist” in “Skill, Designations, Companies” field and enter “Bangalore” in “enter the\n",
    "location” field.\n",
    "3. Then click the search button.\n",
    "4. Then scrape the data for the first 10 jobs results you get.\n",
    "5. Finally create a dataframe of the scraped data."
   ]
  },
  {
   "cell_type": "code",
   "execution_count": 19,
   "id": "805be686",
   "metadata": {},
   "outputs": [],
   "source": [
    "driver.get(\"https://www.naukri.com/\")"
   ]
  },
  {
   "cell_type": "code",
   "execution_count": 21,
   "id": "c0dafbff",
   "metadata": {},
   "outputs": [],
   "source": [
    "designation1=driver.find_element(By.XPATH,'//input[@class=\"suggestor-input \"]')\n",
    "designation1.send_keys('Data Scientist')\n",
    "gtt=driver.find_element(By.XPATH,'/html/body/div[1]/div[6]/div/div/div[1]/div/div/div[2]/div[1]/ul/li[1]/div/span[1]/b')\n",
    "gtt.click()"
   ]
  },
  {
   "cell_type": "code",
   "execution_count": 23,
   "id": "8e90bff3",
   "metadata": {},
   "outputs": [],
   "source": [
    "location1=driver.find_element(By.XPATH,'/html/body/div[1]/div[6]/div/div/div[5]/div/div/div/input')\n",
    "location1.send_keys('Bangalore')\n",
    "ijj=driver.find_element(By.XPATH,'/html/body/div[1]/div[6]/div/div/div[5]/div/div/div[2]/div[1]/ul/li[1]/div')\n",
    "ijj.click()"
   ]
  },
  {
   "cell_type": "code",
   "execution_count": 24,
   "id": "e858aeef",
   "metadata": {},
   "outputs": [],
   "source": [
    "search1=driver.find_element(By.XPATH,'//div[@class=\"qsbSubmit\"]')\n",
    "search1.click()"
   ]
  },
  {
   "cell_type": "code",
   "execution_count": 67,
   "id": "a403c35b",
   "metadata": {},
   "outputs": [],
   "source": [
    "jtitle=[]\n",
    "jlocation=[]\n",
    "jcompany=[]"
   ]
  },
  {
   "cell_type": "code",
   "execution_count": 71,
   "id": "071d24cc",
   "metadata": {},
   "outputs": [],
   "source": [
    "ttt=driver.find_elements(By.XPATH,'//a[@class=\"title fw500 ellipsis\"]')\n",
    "for i in ttt[0:10]:\n",
    "    jtitle.append(i.text)"
   ]
  },
  {
   "cell_type": "code",
   "execution_count": 68,
   "id": "48f42ebf",
   "metadata": {},
   "outputs": [],
   "source": [
    "lll=driver.find_elements(By.XPATH,'//li[@class=\"fleft grey-text br2 placeHolderLi location\"]')\n",
    "for i in lll[0:10]:\n",
    "    jlocation.append(i.text)"
   ]
  },
  {
   "cell_type": "code",
   "execution_count": 72,
   "id": "7362655f",
   "metadata": {},
   "outputs": [],
   "source": [
    "ccc=driver.find_elements(By.XPATH,'//a[@class=\"subTitle ellipsis fleft\"]')\n",
    "for i in ccc[0:10]:\n",
    "    jcompany.append(i.text)"
   ]
  },
  {
   "cell_type": "code",
   "execution_count": 73,
   "id": "78b046d4",
   "metadata": {
    "scrolled": true
   },
   "outputs": [
    {
     "name": "stdout",
     "output_type": "stream",
     "text": [
      "10 10 10\n"
     ]
    }
   ],
   "source": [
    "print(len(jtitle),len(jlocation),len(jcompany))"
   ]
  },
  {
   "cell_type": "code",
   "execution_count": 74,
   "id": "dac604cd",
   "metadata": {},
   "outputs": [],
   "source": [
    "naukri=pd.DataFrame({'TITLE':jtitle,'LOCATION':jlocation,'COMPANY':jcompany})"
   ]
  },
  {
   "cell_type": "code",
   "execution_count": 75,
   "id": "8fd2b8c4",
   "metadata": {},
   "outputs": [
    {
     "data": {
      "text/html": [
       "<div>\n",
       "<style scoped>\n",
       "    .dataframe tbody tr th:only-of-type {\n",
       "        vertical-align: middle;\n",
       "    }\n",
       "\n",
       "    .dataframe tbody tr th {\n",
       "        vertical-align: top;\n",
       "    }\n",
       "\n",
       "    .dataframe thead th {\n",
       "        text-align: right;\n",
       "    }\n",
       "</style>\n",
       "<table border=\"1\" class=\"dataframe\">\n",
       "  <thead>\n",
       "    <tr style=\"text-align: right;\">\n",
       "      <th></th>\n",
       "      <th>TITLE</th>\n",
       "      <th>LOCATION</th>\n",
       "      <th>COMPANY</th>\n",
       "    </tr>\n",
       "  </thead>\n",
       "  <tbody>\n",
       "    <tr>\n",
       "      <th>0</th>\n",
       "      <td>Analystics &amp; Modeling Specialist</td>\n",
       "      <td>Bangalore/Bengaluru, Kolkata, Mumbai, Hyderaba...</td>\n",
       "      <td>Accenture</td>\n",
       "    </tr>\n",
       "    <tr>\n",
       "      <th>1</th>\n",
       "      <td>Hiring For DATA Scientist @ NTT DATA Business ...</td>\n",
       "      <td>Bangalore/Bengaluru, Noida, Hyderabad/Secunder...</td>\n",
       "      <td>NTT DATA Business Solutions Private Limited</td>\n",
       "    </tr>\n",
       "    <tr>\n",
       "      <th>2</th>\n",
       "      <td>Assistant Manager - Data Science</td>\n",
       "      <td>Bangalore/Bengaluru, Mumbai, Pune</td>\n",
       "      <td>CitiusTech</td>\n",
       "    </tr>\n",
       "    <tr>\n",
       "      <th>3</th>\n",
       "      <td>Lead ML Scientist</td>\n",
       "      <td>Bangalore/Bengaluru, Mumbai</td>\n",
       "      <td>Fractal Analytics</td>\n",
       "    </tr>\n",
       "    <tr>\n",
       "      <th>4</th>\n",
       "      <td>ACN - Applied Intelligence - Data Scientist - 09</td>\n",
       "      <td>Bangalore/Bengaluru</td>\n",
       "      <td>Accenture</td>\n",
       "    </tr>\n",
       "    <tr>\n",
       "      <th>5</th>\n",
       "      <td>ACN - Applied Intelligence - Data Scientist - 09</td>\n",
       "      <td>Bangalore/Bengaluru</td>\n",
       "      <td>Accenture</td>\n",
       "    </tr>\n",
       "    <tr>\n",
       "      <th>6</th>\n",
       "      <td>Data Scientist / Senior Data Scientist</td>\n",
       "      <td>Bangalore/Bengaluru, Pune, Chennai</td>\n",
       "      <td>Mindtree</td>\n",
       "    </tr>\n",
       "    <tr>\n",
       "      <th>7</th>\n",
       "      <td>Tcs Hiring For Data Scientist</td>\n",
       "      <td>Bangalore/Bengaluru, Chennai, Mumbai (All Areas)</td>\n",
       "      <td>TATA CONSULTANCY SERVICES (TCS)</td>\n",
       "    </tr>\n",
       "    <tr>\n",
       "      <th>8</th>\n",
       "      <td>Data Scientist - II</td>\n",
       "      <td>Bangalore/Bengaluru, India, Mumbai (All Areas)</td>\n",
       "      <td>SMARTPADDLE TECHNOLOGY PVT. LTD.</td>\n",
       "    </tr>\n",
       "    <tr>\n",
       "      <th>9</th>\n",
       "      <td>Senior Data Scientist</td>\n",
       "      <td>Bangalore/Bengaluru, Mumbai</td>\n",
       "      <td>Baker Hughes</td>\n",
       "    </tr>\n",
       "  </tbody>\n",
       "</table>\n",
       "</div>"
      ],
      "text/plain": [
       "                                               TITLE  \\\n",
       "0                   Analystics & Modeling Specialist   \n",
       "1  Hiring For DATA Scientist @ NTT DATA Business ...   \n",
       "2                   Assistant Manager - Data Science   \n",
       "3                                  Lead ML Scientist   \n",
       "4   ACN - Applied Intelligence - Data Scientist - 09   \n",
       "5   ACN - Applied Intelligence - Data Scientist - 09   \n",
       "6             Data Scientist / Senior Data Scientist   \n",
       "7                      Tcs Hiring For Data Scientist   \n",
       "8                                Data Scientist - II   \n",
       "9                              Senior Data Scientist   \n",
       "\n",
       "                                            LOCATION  \\\n",
       "0  Bangalore/Bengaluru, Kolkata, Mumbai, Hyderaba...   \n",
       "1  Bangalore/Bengaluru, Noida, Hyderabad/Secunder...   \n",
       "2                  Bangalore/Bengaluru, Mumbai, Pune   \n",
       "3                        Bangalore/Bengaluru, Mumbai   \n",
       "4                                Bangalore/Bengaluru   \n",
       "5                                Bangalore/Bengaluru   \n",
       "6                 Bangalore/Bengaluru, Pune, Chennai   \n",
       "7   Bangalore/Bengaluru, Chennai, Mumbai (All Areas)   \n",
       "8     Bangalore/Bengaluru, India, Mumbai (All Areas)   \n",
       "9                        Bangalore/Bengaluru, Mumbai   \n",
       "\n",
       "                                       COMPANY  \n",
       "0                                    Accenture  \n",
       "1  NTT DATA Business Solutions Private Limited  \n",
       "2                                   CitiusTech  \n",
       "3                            Fractal Analytics  \n",
       "4                                    Accenture  \n",
       "5                                    Accenture  \n",
       "6                                     Mindtree  \n",
       "7              TATA CONSULTANCY SERVICES (TCS)  \n",
       "8             SMARTPADDLE TECHNOLOGY PVT. LTD.  \n",
       "9                                 Baker Hughes  "
      ]
     },
     "execution_count": 75,
     "metadata": {},
     "output_type": "execute_result"
    }
   ],
   "source": [
    "naukri"
   ]
  },
  {
   "cell_type": "markdown",
   "id": "4e782553",
   "metadata": {},
   "source": [
    "Q3: In this question you have to scrape data using the filters available on the webpage as shown below:\n",
    "        \n",
    "You have to use the location and salary filter.\n",
    "You have to scrape data for “Data Scientist” designation for first 10 job results.\n",
    "You have to scrape the job-title, job-location, company name, experience required. \n",
    "The location filter to be used is “Delhi/NCR”. The salary filter to be used is “3-6” lakhs\n",
    "The task will be done as shown in the below steps:\n",
    "1. first get the webpage https://www.naukri.com/\n",
    "2. Enter “Data Scientist” in “Skill, Designations, and Companies” field.\n",
    "3. Then click the search button.\n",
    "4. Then apply the location filter and salary filter by checking the respective boxes\n",
    "5. Then scrape the data for the first 10 jobs results you get.\n",
    "6. Finally create a dataframe of the scraped data.    "
   ]
  },
  {
   "cell_type": "code",
   "execution_count": 124,
   "id": "a8732db8",
   "metadata": {},
   "outputs": [],
   "source": [
    "driver.get(\"https://www.naukri.com/\")"
   ]
  },
  {
   "cell_type": "code",
   "execution_count": 108,
   "id": "a5936a99",
   "metadata": {},
   "outputs": [],
   "source": [
    "designation3=driver.find_element(By.XPATH,'//input[@class=\"suggestor-input \"]')\n",
    "designation3.send_keys('Data Scientist')\n",
    "gtt=driver.find_element(By.XPATH,'/html/body/div[1]/div[6]/div/div/div[1]/div/div/div[2]/div[1]/ul/li[1]/div/span[1]/b')\n",
    "gtt.click()"
   ]
  },
  {
   "cell_type": "code",
   "execution_count": 109,
   "id": "84fd40f7",
   "metadata": {},
   "outputs": [],
   "source": [
    "search11=driver.find_element(By.XPATH,'//div[@class=\"qsbSubmit\"]')\n",
    "search11.click()"
   ]
  },
  {
   "cell_type": "code",
   "execution_count": 112,
   "id": "637c93d1",
   "metadata": {},
   "outputs": [],
   "source": [
    "filter1=driver.find_element(By.XPATH,'/html/body/div[1]/div[4]/div/section[1]/div[2]/div[5]/div[2]/div[3]/label/i')\n",
    "filter1.click()"
   ]
  },
  {
   "cell_type": "code",
   "execution_count": 113,
   "id": "4f3b0c00",
   "metadata": {},
   "outputs": [],
   "source": [
    "filter2=driver.find_element(By.XPATH,'/html/body/div[1]/div[4]/div/section[1]/div[2]/div[6]/div[2]/div[2]/label/i')\n",
    "filter2.click()"
   ]
  },
  {
   "cell_type": "code",
   "execution_count": 114,
   "id": "5cf55efb",
   "metadata": {},
   "outputs": [],
   "source": [
    "jt=[]\n",
    "jl=[]\n",
    "jc=[]\n",
    "je=[]"
   ]
  },
  {
   "cell_type": "code",
   "execution_count": 115,
   "id": "126e0dd6",
   "metadata": {},
   "outputs": [],
   "source": [
    "t=driver.find_elements(By.XPATH,'//a[@class=\"title fw500 ellipsis\"]')\n",
    "for i in t[0:10]:\n",
    "    jt.append(i.text)"
   ]
  },
  {
   "cell_type": "code",
   "execution_count": 116,
   "id": "efd2e183",
   "metadata": {},
   "outputs": [],
   "source": [
    "c=driver.find_elements(By.XPATH,'//A[@class=\"subTitle ellipsis fleft\"]')\n",
    "for i in c[0:10]:\n",
    "    jc.append(i.text)"
   ]
  },
  {
   "cell_type": "code",
   "execution_count": 117,
   "id": "7c593f97",
   "metadata": {},
   "outputs": [],
   "source": [
    "e=driver.find_elements(By.XPATH,'//li[@class=\"fleft grey-text br2 placeHolderLi experience\"]')\n",
    "for i in e[0:10]:\n",
    "    je.append(i.text)"
   ]
  },
  {
   "cell_type": "code",
   "execution_count": 118,
   "id": "745250dd",
   "metadata": {},
   "outputs": [],
   "source": [
    "l=driver.find_elements(By.XPATH,'//li[@class=\"fleft grey-text br2 placeHolderLi location\"]')\n",
    "for i in l[0:10]:\n",
    "    jl.append(i.text)"
   ]
  },
  {
   "cell_type": "code",
   "execution_count": 119,
   "id": "9b0d4126",
   "metadata": {},
   "outputs": [
    {
     "name": "stdout",
     "output_type": "stream",
     "text": [
      "10 10 10 10\n"
     ]
    }
   ],
   "source": [
    "print(len(jt),len(jl),len(je),len(jc))"
   ]
  },
  {
   "cell_type": "code",
   "execution_count": 120,
   "id": "ed27f76d",
   "metadata": {},
   "outputs": [],
   "source": [
    "dc=pd.DataFrame({'TITLE':jt,'LOCATION':jl,'COMPANY':jc,'EXPERIENCE':je})"
   ]
  },
  {
   "cell_type": "code",
   "execution_count": 121,
   "id": "e823cc33",
   "metadata": {},
   "outputs": [
    {
     "data": {
      "text/html": [
       "<div>\n",
       "<style scoped>\n",
       "    .dataframe tbody tr th:only-of-type {\n",
       "        vertical-align: middle;\n",
       "    }\n",
       "\n",
       "    .dataframe tbody tr th {\n",
       "        vertical-align: top;\n",
       "    }\n",
       "\n",
       "    .dataframe thead th {\n",
       "        text-align: right;\n",
       "    }\n",
       "</style>\n",
       "<table border=\"1\" class=\"dataframe\">\n",
       "  <thead>\n",
       "    <tr style=\"text-align: right;\">\n",
       "      <th></th>\n",
       "      <th>TITLE</th>\n",
       "      <th>LOCATION</th>\n",
       "      <th>COMPANY</th>\n",
       "      <th>EXPERIENCE</th>\n",
       "    </tr>\n",
       "  </thead>\n",
       "  <tbody>\n",
       "    <tr>\n",
       "      <th>0</th>\n",
       "      <td>Data Scientist - Noida/Bangalore</td>\n",
       "      <td>Noida, Bangalore/Bengaluru</td>\n",
       "      <td>EXL</td>\n",
       "      <td>5-10 Yrs</td>\n",
       "    </tr>\n",
       "    <tr>\n",
       "      <th>1</th>\n",
       "      <td>DigitalBCG GAMMA Data Scientist</td>\n",
       "      <td>New Delhi, Bangalore/Bengaluru</td>\n",
       "      <td>Boston Consulting Group</td>\n",
       "      <td>2-5 Yrs</td>\n",
       "    </tr>\n",
       "    <tr>\n",
       "      <th>2</th>\n",
       "      <td>Data Scientist / Chat-bot Developer</td>\n",
       "      <td>New Delhi, Bangalore/Bengaluru, Mumbai (All Ar...</td>\n",
       "      <td>Big Seo Buzz</td>\n",
       "      <td>3-7 Yrs</td>\n",
       "    </tr>\n",
       "    <tr>\n",
       "      <th>3</th>\n",
       "      <td>Lead Data Scientist</td>\n",
       "      <td>Noida(Sector-59 Noida)\\n(WFH during Covid)</td>\n",
       "      <td>R Systems International</td>\n",
       "      <td>7-10 Yrs</td>\n",
       "    </tr>\n",
       "    <tr>\n",
       "      <th>4</th>\n",
       "      <td>Data Scientist</td>\n",
       "      <td>Gurgaon/Gurugram</td>\n",
       "      <td>Optum</td>\n",
       "      <td>2-7 Yrs</td>\n",
       "    </tr>\n",
       "    <tr>\n",
       "      <th>5</th>\n",
       "      <td>Chat-bot Developer / Data Scientist</td>\n",
       "      <td>Mumbai, New Delhi, Bangalore/Bengaluru\\n(WFH d...</td>\n",
       "      <td>Big Seo Buzz</td>\n",
       "      <td>2-7 Yrs</td>\n",
       "    </tr>\n",
       "    <tr>\n",
       "      <th>6</th>\n",
       "      <td>Data Scientist - Predictive Analytics</td>\n",
       "      <td>Noida, Mumbai, Chandigarh, Hyderabad/Secundera...</td>\n",
       "      <td>Confidential</td>\n",
       "      <td>1-6 Yrs</td>\n",
       "    </tr>\n",
       "    <tr>\n",
       "      <th>7</th>\n",
       "      <td>Data Scientist For Healthcare Product team</td>\n",
       "      <td>Delhi / NCR, Chennai, Bangalore/Bengaluru</td>\n",
       "      <td>SECUREKLOUD TECHNOLOGIES</td>\n",
       "      <td>2-7 Yrs</td>\n",
       "    </tr>\n",
       "    <tr>\n",
       "      <th>8</th>\n",
       "      <td>Data Scientist</td>\n",
       "      <td>Gurgaon/Gurugram</td>\n",
       "      <td>Feedback Infra</td>\n",
       "      <td>2-4 Yrs</td>\n",
       "    </tr>\n",
       "    <tr>\n",
       "      <th>9</th>\n",
       "      <td>Jr. Data Scientist</td>\n",
       "      <td>Noida</td>\n",
       "      <td>Dataflow</td>\n",
       "      <td>2-5 Yrs</td>\n",
       "    </tr>\n",
       "  </tbody>\n",
       "</table>\n",
       "</div>"
      ],
      "text/plain": [
       "                                        TITLE  \\\n",
       "0            Data Scientist - Noida/Bangalore   \n",
       "1             DigitalBCG GAMMA Data Scientist   \n",
       "2         Data Scientist / Chat-bot Developer   \n",
       "3                         Lead Data Scientist   \n",
       "4                              Data Scientist   \n",
       "5         Chat-bot Developer / Data Scientist   \n",
       "6       Data Scientist - Predictive Analytics   \n",
       "7  Data Scientist For Healthcare Product team   \n",
       "8                              Data Scientist   \n",
       "9                          Jr. Data Scientist   \n",
       "\n",
       "                                            LOCATION  \\\n",
       "0                         Noida, Bangalore/Bengaluru   \n",
       "1                     New Delhi, Bangalore/Bengaluru   \n",
       "2  New Delhi, Bangalore/Bengaluru, Mumbai (All Ar...   \n",
       "3         Noida(Sector-59 Noida)\\n(WFH during Covid)   \n",
       "4                                   Gurgaon/Gurugram   \n",
       "5  Mumbai, New Delhi, Bangalore/Bengaluru\\n(WFH d...   \n",
       "6  Noida, Mumbai, Chandigarh, Hyderabad/Secundera...   \n",
       "7          Delhi / NCR, Chennai, Bangalore/Bengaluru   \n",
       "8                                   Gurgaon/Gurugram   \n",
       "9                                              Noida   \n",
       "\n",
       "                    COMPANY EXPERIENCE  \n",
       "0                       EXL   5-10 Yrs  \n",
       "1   Boston Consulting Group    2-5 Yrs  \n",
       "2              Big Seo Buzz    3-7 Yrs  \n",
       "3   R Systems International   7-10 Yrs  \n",
       "4                     Optum    2-7 Yrs  \n",
       "5              Big Seo Buzz    2-7 Yrs  \n",
       "6              Confidential    1-6 Yrs  \n",
       "7  SECUREKLOUD TECHNOLOGIES    2-7 Yrs  \n",
       "8            Feedback Infra    2-4 Yrs  \n",
       "9                  Dataflow    2-5 Yrs  "
      ]
     },
     "execution_count": 121,
     "metadata": {},
     "output_type": "execute_result"
    }
   ],
   "source": [
    "dc"
   ]
  },
  {
   "cell_type": "markdown",
   "id": "5fc9c70d",
   "metadata": {},
   "source": [
    "Q4: Scrape data of first 100 sunglasses listings on flipkart.com. You have to scrape four attributes:\n",
    "1. Brand\n",
    "2. Product Description\n",
    "3. Price\n",
    "\n",
    "The attributes which you have to scrape is ticked marked in the below image.\n",
    "\n",
    "To scrape the data you have to go through following steps:\n",
    "1. Go to Flipkart webpage by url : https://www.flipkart.com/\n",
    "2. Enter “sunglasses” in the search field where “search for products, brands and more” is written and \n",
    "click the search icon\n",
    "3. After that you will reach to the page having a lot of sunglasses. From this page you can scrap the \n",
    "required data as usual"
   ]
  },
  {
   "cell_type": "code",
   "execution_count": 127,
   "id": "63ea13ae",
   "metadata": {},
   "outputs": [],
   "source": [
    "driver.get('https://www.flipkart.com')"
   ]
  },
  {
   "cell_type": "code",
   "execution_count": 128,
   "id": "d04e4967",
   "metadata": {},
   "outputs": [],
   "source": [
    "frd=driver.find_element(By.XPATH,'//input[@class=\"_3704LK\"]')\n",
    "frd.send_keys('Sunglasses')"
   ]
  },
  {
   "cell_type": "code",
   "execution_count": 131,
   "id": "824f20d3",
   "metadata": {},
   "outputs": [],
   "source": [
    "frd1=driver.find_element(By.XPATH,'/html/body/div[1]/div/div[1]/div[1]/div[2]/div[2]/form/div/button')\n",
    "frd1.click()"
   ]
  },
  {
   "cell_type": "code",
   "execution_count": 132,
   "id": "2f26df48",
   "metadata": {},
   "outputs": [],
   "source": [
    "jbt=[]\n",
    "start=0\n",
    "end=3\n",
    "\n",
    "for page in range(start,end):\n",
    "    tts=driver.find_elements(By.XPATH,'//div[@class=\"_2WkVRV\"]')\n",
    "    for i in tts:\n",
    "        jbt.append(i.text)\n",
    "    nextt=driver.find_element(By.XPATH,'//a[@class=\"_1LKTO3\"]') \n",
    "    nextt.click()\n",
    "    time.sleep(5)"
   ]
  },
  {
   "cell_type": "code",
   "execution_count": 133,
   "id": "be5bcf42",
   "metadata": {},
   "outputs": [
    {
     "data": {
      "text/plain": [
       "120"
      ]
     },
     "execution_count": 133,
     "metadata": {},
     "output_type": "execute_result"
    }
   ],
   "source": [
    "len(jbt)"
   ]
  },
  {
   "cell_type": "code",
   "execution_count": 134,
   "id": "651e4a3f",
   "metadata": {},
   "outputs": [],
   "source": [
    "dsc=[]\n",
    "start=0\n",
    "end=3\n",
    "\n",
    "for page in range(start,end):\n",
    "    sst=driver.find_elements(By.XPATH,'//a[@class=\"IRpwTa\"]')\n",
    "    for i in sst:\n",
    "        dsc.append(i.text)\n",
    "    ne=driver.find_element(By.XPATH,'//a[@class=\"_1LKTO3\"]') \n",
    "    ne.click()\n",
    "    time.sleep(2)   "
   ]
  },
  {
   "cell_type": "code",
   "execution_count": 135,
   "id": "a2bc28ed",
   "metadata": {},
   "outputs": [],
   "source": [
    "mrp=[]\n",
    "start=0\n",
    "end=3\n",
    "\n",
    "for page in range(start,end):\n",
    "    ps=driver.find_elements(By.XPATH,'//div[@class=\"_30jeq3\"]')\n",
    "    for i in ps:\n",
    "        mrp.append(i.text)\n",
    "    nxt=driver.find_element(By.XPATH,'//a[@class=\"_1LKTO3\"]') \n",
    "    nxt.click()\n",
    "    time.sleep(2)      "
   ]
  },
  {
   "cell_type": "code",
   "execution_count": 136,
   "id": "81e0042e",
   "metadata": {},
   "outputs": [],
   "source": [
    "prc=[]\n",
    "start=0\n",
    "end=3\n",
    "\n",
    "for page in range(start,end):\n",
    "    pr=driver.find_elements(By.XPATH,'//div[@class=\"_3I9_wc\"]')\n",
    "    for i in pr:\n",
    "        prc.append(i.text)\n",
    "    nt=driver.find_element(By.XPATH,'//a[@class=\"_1LKTO3\"]') \n",
    "    nt.click()\n",
    "    time.sleep(2)     "
   ]
  },
  {
   "cell_type": "code",
   "execution_count": 137,
   "id": "70a376cf",
   "metadata": {},
   "outputs": [],
   "source": [
    "per=[]\n",
    "start=0\n",
    "end=3\n",
    "\n",
    "for page in range(start,end):\n",
    "    dr=driver.find_elements(By.XPATH,'//div[@class=\"_3Ay6Sb\"]')\n",
    "    for i in dr:\n",
    "        per.append(i.text)\n",
    "    nx=driver.find_element(By.XPATH,'//a[@class=\"_1LKTO3\"]') \n",
    "    nx.click()\n",
    "    time.sleep(2)         "
   ]
  },
  {
   "cell_type": "code",
   "execution_count": 138,
   "id": "886279bb",
   "metadata": {},
   "outputs": [],
   "source": [
    "a=jbt[0:100]\n",
    "b=dsc[0:100]\n",
    "c=mrp[0:100]\n",
    "d=per[0:100]\n",
    "e=prc[0:100]"
   ]
  },
  {
   "cell_type": "code",
   "execution_count": 140,
   "id": "c64d7351",
   "metadata": {},
   "outputs": [
    {
     "name": "stdout",
     "output_type": "stream",
     "text": [
      "100 100 100 100 100\n"
     ]
    }
   ],
   "source": [
    "print(len(a),len(b),len(c),len(d),len(e))"
   ]
  },
  {
   "cell_type": "code",
   "execution_count": 141,
   "id": "70834135",
   "metadata": {},
   "outputs": [],
   "source": [
    "dp=pd.DataFrame({'BRAND':a,'DESCR':b,'MRP':c,'DISC_PRICE':e,'DISC_%':d})"
   ]
  },
  {
   "cell_type": "code",
   "execution_count": 142,
   "id": "7d1bbb36",
   "metadata": {},
   "outputs": [
    {
     "data": {
      "text/html": [
       "<div>\n",
       "<style scoped>\n",
       "    .dataframe tbody tr th:only-of-type {\n",
       "        vertical-align: middle;\n",
       "    }\n",
       "\n",
       "    .dataframe tbody tr th {\n",
       "        vertical-align: top;\n",
       "    }\n",
       "\n",
       "    .dataframe thead th {\n",
       "        text-align: right;\n",
       "    }\n",
       "</style>\n",
       "<table border=\"1\" class=\"dataframe\">\n",
       "  <thead>\n",
       "    <tr style=\"text-align: right;\">\n",
       "      <th></th>\n",
       "      <th>BRAND</th>\n",
       "      <th>DESCR</th>\n",
       "      <th>MRP</th>\n",
       "      <th>DISC_PRICE</th>\n",
       "      <th>DISC_%</th>\n",
       "    </tr>\n",
       "  </thead>\n",
       "  <tbody>\n",
       "    <tr>\n",
       "      <th>0</th>\n",
       "      <td>VINCENT CHASE</td>\n",
       "      <td>Polarized, UV Protection Round Sunglasses (51)</td>\n",
       "      <td>₹949</td>\n",
       "      <td>₹1,999</td>\n",
       "      <td>52% off</td>\n",
       "    </tr>\n",
       "    <tr>\n",
       "      <th>1</th>\n",
       "      <td>VINCENT CHASE</td>\n",
       "      <td>Polarized, UV Protection Round Sunglasses (50)</td>\n",
       "      <td>₹949</td>\n",
       "      <td>₹1,999</td>\n",
       "      <td>67% off</td>\n",
       "    </tr>\n",
       "    <tr>\n",
       "      <th>2</th>\n",
       "      <td>SHAAH COLLECTIONS</td>\n",
       "      <td>UV Protection Wayfarer Sunglasses (Free Size)</td>\n",
       "      <td>₹195</td>\n",
       "      <td>₹799</td>\n",
       "      <td>88% off</td>\n",
       "    </tr>\n",
       "    <tr>\n",
       "      <th>3</th>\n",
       "      <td>New Specs</td>\n",
       "      <td>UV Protection, Polarized, Mirrored Retro Squar...</td>\n",
       "      <td>₹298</td>\n",
       "      <td>₹1,299</td>\n",
       "      <td>88% off</td>\n",
       "    </tr>\n",
       "    <tr>\n",
       "      <th>4</th>\n",
       "      <td>Elligator</td>\n",
       "      <td>UV Protection Wrap-around Sunglasses (63)</td>\n",
       "      <td>₹264</td>\n",
       "      <td>₹899</td>\n",
       "      <td>89% off</td>\n",
       "    </tr>\n",
       "    <tr>\n",
       "      <th>...</th>\n",
       "      <td>...</td>\n",
       "      <td>...</td>\n",
       "      <td>...</td>\n",
       "      <td>...</td>\n",
       "      <td>...</td>\n",
       "    </tr>\n",
       "    <tr>\n",
       "      <th>95</th>\n",
       "      <td>DAHAAZIL</td>\n",
       "      <td>Riding Glasses, Riding Glasses, UV Protection ...</td>\n",
       "      <td>₹193</td>\n",
       "      <td>₹2,499</td>\n",
       "      <td>80% off</td>\n",
       "    </tr>\n",
       "    <tr>\n",
       "      <th>96</th>\n",
       "      <td>LIZA ANGEL</td>\n",
       "      <td>by Lenskart Polarized, UV Protection Cat-eye S...</td>\n",
       "      <td>₹189</td>\n",
       "      <td>₹999</td>\n",
       "      <td>81% off</td>\n",
       "    </tr>\n",
       "    <tr>\n",
       "      <th>97</th>\n",
       "      <td>VINCENT CHASE</td>\n",
       "      <td>UV Protection, Polarized, Mirrored Round Sungl...</td>\n",
       "      <td>₹849</td>\n",
       "      <td>₹1,999</td>\n",
       "      <td>52% off</td>\n",
       "    </tr>\n",
       "    <tr>\n",
       "      <th>98</th>\n",
       "      <td>Lee Topper</td>\n",
       "      <td>UV Protection, Gradient Rectangular Sunglasses...</td>\n",
       "      <td>₹219</td>\n",
       "      <td>₹1,699</td>\n",
       "      <td>78% off</td>\n",
       "    </tr>\n",
       "    <tr>\n",
       "      <th>99</th>\n",
       "      <td>PIRASO</td>\n",
       "      <td>by Lenskart Polarized, UV Protection Cat-eye S...</td>\n",
       "      <td>₹246</td>\n",
       "      <td>₹1,999</td>\n",
       "      <td>84% off</td>\n",
       "    </tr>\n",
       "  </tbody>\n",
       "</table>\n",
       "<p>100 rows × 5 columns</p>\n",
       "</div>"
      ],
      "text/plain": [
       "                BRAND                                              DESCR  \\\n",
       "0       VINCENT CHASE     Polarized, UV Protection Round Sunglasses (51)   \n",
       "1       VINCENT CHASE     Polarized, UV Protection Round Sunglasses (50)   \n",
       "2   SHAAH COLLECTIONS      UV Protection Wayfarer Sunglasses (Free Size)   \n",
       "3           New Specs  UV Protection, Polarized, Mirrored Retro Squar...   \n",
       "4           Elligator          UV Protection Wrap-around Sunglasses (63)   \n",
       "..                ...                                                ...   \n",
       "95           DAHAAZIL  Riding Glasses, Riding Glasses, UV Protection ...   \n",
       "96         LIZA ANGEL  by Lenskart Polarized, UV Protection Cat-eye S...   \n",
       "97      VINCENT CHASE  UV Protection, Polarized, Mirrored Round Sungl...   \n",
       "98         Lee Topper  UV Protection, Gradient Rectangular Sunglasses...   \n",
       "99             PIRASO  by Lenskart Polarized, UV Protection Cat-eye S...   \n",
       "\n",
       "     MRP DISC_PRICE   DISC_%  \n",
       "0   ₹949     ₹1,999  52% off  \n",
       "1   ₹949     ₹1,999  67% off  \n",
       "2   ₹195       ₹799  88% off  \n",
       "3   ₹298     ₹1,299  88% off  \n",
       "4   ₹264       ₹899  89% off  \n",
       "..   ...        ...      ...  \n",
       "95  ₹193     ₹2,499  80% off  \n",
       "96  ₹189       ₹999  81% off  \n",
       "97  ₹849     ₹1,999  52% off  \n",
       "98  ₹219     ₹1,699  78% off  \n",
       "99  ₹246     ₹1,999  84% off  \n",
       "\n",
       "[100 rows x 5 columns]"
      ]
     },
     "execution_count": 142,
     "metadata": {},
     "output_type": "execute_result"
    }
   ],
   "source": [
    "dp"
   ]
  },
  {
   "cell_type": "markdown",
   "id": "c8bf058d",
   "metadata": {},
   "source": [
    "Q5: Scrape 100 reviews data from flipkart.com for iphone11 phone.\n",
    "This task will be done in following steps:\n",
    "1. First get the webpage https://www.flipkart.com/\n",
    "2. Enter “iphone 11” in “Search” field . \n",
    "3. Then click the search button.\n",
    "You will reach to the below shown webpage \n",
    "\n",
    "\n",
    "As shown in the above page you have to scrape the tick marked attributes.These are:\n",
    "1. Rating\n",
    "2. Review summary\n",
    "3. Full review\n",
    "4. You have to scrape this data for first 100 reviews.\n"
   ]
  },
  {
   "cell_type": "code",
   "execution_count": 319,
   "id": "2e102694",
   "metadata": {},
   "outputs": [],
   "source": [
    "driver.get('https://www.flipkart.com')"
   ]
  },
  {
   "cell_type": "code",
   "execution_count": 320,
   "id": "15a3c2b2",
   "metadata": {},
   "outputs": [],
   "source": [
    "search22=driver.find_element(By.XPATH,'//input[@class=\"_3704LK\"]')\n",
    "search22.send_keys('IPHONE 11')"
   ]
  },
  {
   "cell_type": "code",
   "execution_count": 322,
   "id": "9b379716",
   "metadata": {},
   "outputs": [],
   "source": [
    "frd11=driver.find_element(By.XPATH,'/html/body/div[1]/div/div[1]/div[1]/div[2]/div[2]/form/div/button')\n",
    "frd11.click()"
   ]
  },
  {
   "cell_type": "code",
   "execution_count": 323,
   "id": "c606460b",
   "metadata": {},
   "outputs": [],
   "source": [
    "linkclick=driver.find_element(By.XPATH,'//div[@class=\"_4rR01T\"]')\n",
    "linkclick.click()"
   ]
  },
  {
   "cell_type": "code",
   "execution_count": null,
   "id": "375e9693",
   "metadata": {},
   "outputs": [],
   "source": []
  },
  {
   "cell_type": "code",
   "execution_count": null,
   "id": "95000cb3",
   "metadata": {},
   "outputs": [],
   "source": []
  },
  {
   "cell_type": "markdown",
   "id": "ad4d841d",
   "metadata": {},
   "source": [
    "Q6: Scrape data for first 100 sneakers you find when you visit flipkart.com and search for “sneakers” in the \n",
    "search field.\n",
    "You have to scrape 4 attributes of each sneaker:\n",
    "1. Brand\n",
    "2. Product Description\n",
    "3. Price\n",
    "As shown in the below image, you have to scrape the tick marked attributes\n",
    "\n",
    "\n"
   ]
  },
  {
   "cell_type": "code",
   "execution_count": 198,
   "id": "ee8c6b62",
   "metadata": {},
   "outputs": [],
   "source": [
    "driver.get('https://www.flipkart.com/')"
   ]
  },
  {
   "cell_type": "code",
   "execution_count": 199,
   "id": "f2dd92ac",
   "metadata": {},
   "outputs": [],
   "source": [
    "searche=driver.find_element(By.XPATH,'//input[@class=\"_3704LK\"]')\n",
    "searche.send_keys('SNEAKERS')"
   ]
  },
  {
   "cell_type": "code",
   "execution_count": 200,
   "id": "89867f33",
   "metadata": {},
   "outputs": [],
   "source": [
    "d11=driver.find_element(By.XPATH,'/html/body/div[1]/div/div[1]/div[1]/div[2]/div[2]/form/div/button')\n",
    "d11.click()"
   ]
  },
  {
   "cell_type": "code",
   "execution_count": 6,
   "id": "77d0cdfd",
   "metadata": {},
   "outputs": [],
   "source": [
    "brand=[]\n",
    "\n",
    "start=0\n",
    "end=3\n",
    "\n",
    "for page in range(start,end):\n",
    "    link=driver.find_elements(By.XPATH,'//div[@class=\"_2WkVRV\"]')\n",
    "    for i in link:\n",
    "        brand.append(i.text)\n",
    "    bn=driver.find_element(By.XPATH,'//a[@class=\"_1LKTO3\"]')\n",
    "    bn.click()\n",
    "    time.sleep(2)"
   ]
  },
  {
   "cell_type": "code",
   "execution_count": 7,
   "id": "64e5e4cf",
   "metadata": {},
   "outputs": [],
   "source": [
    "price=[]\n",
    "start=0\n",
    "end=3\n",
    "\n",
    "for page in range(start,end):\n",
    "    prce=driver.find_elements(By.XPATH,'//div[@class=\"_30jeq3\"]')\n",
    "    for i in prce:\n",
    "        price.append(i.text)\n",
    "    bb=driver.find_element(By.XPATH,'//a[@class=\"_1LKTO3\"]')\n",
    "    bb.click()\n",
    "    time.sleep(2)    "
   ]
  },
  {
   "cell_type": "code",
   "execution_count": 8,
   "id": "45d25ed7",
   "metadata": {},
   "outputs": [],
   "source": [
    "mr=[]\n",
    "start=0\n",
    "end=3\n",
    "\n",
    "for page in range(start,end):\n",
    "    pe=driver.find_elements(By.XPATH,'//div[@class=\"_3I9_wc\"]')\n",
    "    for i in pe:\n",
    "        mr.append(i.text)\n",
    "    bt=driver.find_element(By.XPATH,'//a[@class=\"_1LKTO3\"]')\n",
    "    bt.click()\n",
    "    time.sleep(2)    "
   ]
  },
  {
   "cell_type": "code",
   "execution_count": 9,
   "id": "d44fb279",
   "metadata": {},
   "outputs": [],
   "source": [
    "ppr=[]\n",
    "start=0\n",
    "end=3\n",
    "\n",
    "for page in range(start,end):\n",
    "    eq=driver.find_elements(By.XPATH,'//div[@class=\"_3Ay6Sb\"]')\n",
    "    for i in eq:\n",
    "        ppr.append(i.text)\n",
    "    ot=driver.find_element(By.XPATH,'//a[@class=\"_1LKTO3\"]')\n",
    "    ot.click()\n",
    "    time.sleep(2)  "
   ]
  },
  {
   "cell_type": "code",
   "execution_count": 16,
   "id": "1b10ed18",
   "metadata": {},
   "outputs": [],
   "source": [
    "dess=[]\n",
    "start=0\n",
    "end=3\n",
    "\n",
    "for page in range(start,end):\n",
    "    tff=driver.find_elements(By.XPATH,'//a[@class=\"IRpwTa\" or @class=\"IRpwTa _2-ICcC\"]')\n",
    "    for i in tff:\n",
    "        dess.append(i.text)\n",
    "    mk=driver.find_element(By.XPATH,'//a[@class=\"_1LKTO3\"]')\n",
    "    mk.click()\n",
    "    time.sleep(2)      "
   ]
  },
  {
   "cell_type": "code",
   "execution_count": 17,
   "id": "12491899",
   "metadata": {},
   "outputs": [
    {
     "name": "stdout",
     "output_type": "stream",
     "text": [
      "120 120 120 120 120\n"
     ]
    }
   ],
   "source": [
    "print(len(brand),len(price),len(mr),len(ppr),len(dess))"
   ]
  },
  {
   "cell_type": "code",
   "execution_count": 18,
   "id": "649c49b7",
   "metadata": {},
   "outputs": [],
   "source": [
    "oj=pd.DataFrame({'BRAND':brand,'DESC':dess,'MRP':mr,'OFFER_PRICE':price,'%OFF':ppr})"
   ]
  },
  {
   "cell_type": "code",
   "execution_count": 19,
   "id": "7cf258de",
   "metadata": {},
   "outputs": [
    {
     "data": {
      "text/html": [
       "<div>\n",
       "<style scoped>\n",
       "    .dataframe tbody tr th:only-of-type {\n",
       "        vertical-align: middle;\n",
       "    }\n",
       "\n",
       "    .dataframe tbody tr th {\n",
       "        vertical-align: top;\n",
       "    }\n",
       "\n",
       "    .dataframe thead th {\n",
       "        text-align: right;\n",
       "    }\n",
       "</style>\n",
       "<table border=\"1\" class=\"dataframe\">\n",
       "  <thead>\n",
       "    <tr style=\"text-align: right;\">\n",
       "      <th></th>\n",
       "      <th>BRAND</th>\n",
       "      <th>DESC</th>\n",
       "      <th>MRP</th>\n",
       "      <th>OFFER_PRICE</th>\n",
       "      <th>%OFF</th>\n",
       "    </tr>\n",
       "  </thead>\n",
       "  <tbody>\n",
       "    <tr>\n",
       "      <th>0</th>\n",
       "      <td>RapidBox</td>\n",
       "      <td>Sneakers For Men</td>\n",
       "      <td>₹999</td>\n",
       "      <td>₹314</td>\n",
       "      <td>68% off</td>\n",
       "    </tr>\n",
       "    <tr>\n",
       "      <th>1</th>\n",
       "      <td>RapidBox</td>\n",
       "      <td>Stylish Sneakers For Women</td>\n",
       "      <td>₹999</td>\n",
       "      <td>₹259</td>\n",
       "      <td>67% off</td>\n",
       "    </tr>\n",
       "    <tr>\n",
       "      <th>2</th>\n",
       "      <td>PUMA</td>\n",
       "      <td>Glory Sneakers For Men</td>\n",
       "      <td>₹2,999</td>\n",
       "      <td>₹351</td>\n",
       "      <td>64% off</td>\n",
       "    </tr>\n",
       "    <tr>\n",
       "      <th>3</th>\n",
       "      <td>Deals4you</td>\n",
       "      <td>Mesh | Ultralightweight | Comfortable | Breath...</td>\n",
       "      <td>₹999</td>\n",
       "      <td>₹799</td>\n",
       "      <td>65% off</td>\n",
       "    </tr>\n",
       "    <tr>\n",
       "      <th>4</th>\n",
       "      <td>PUMA</td>\n",
       "      <td>Sneakers For Women</td>\n",
       "      <td>₹5,499</td>\n",
       "      <td>₹1,892</td>\n",
       "      <td>62% off</td>\n",
       "    </tr>\n",
       "    <tr>\n",
       "      <th>...</th>\n",
       "      <td>...</td>\n",
       "      <td>...</td>\n",
       "      <td>...</td>\n",
       "      <td>...</td>\n",
       "      <td>...</td>\n",
       "    </tr>\n",
       "    <tr>\n",
       "      <th>115</th>\n",
       "      <td>BIG FOX</td>\n",
       "      <td>Mens Casual Lase-ups Tube Shoker Sole Sneaker ...</td>\n",
       "      <td>₹2,499</td>\n",
       "      <td>₹1,723</td>\n",
       "      <td>56% off</td>\n",
       "    </tr>\n",
       "    <tr>\n",
       "      <th>116</th>\n",
       "      <td>AMICO</td>\n",
       "      <td>Unique &amp; Perfect Collection Combo Pack of 02 S...</td>\n",
       "      <td>₹999</td>\n",
       "      <td>₹1,749</td>\n",
       "      <td>50% off</td>\n",
       "    </tr>\n",
       "    <tr>\n",
       "      <th>117</th>\n",
       "      <td>LEVI'S</td>\n",
       "      <td>Sneakers For Men</td>\n",
       "      <td>₹2,799</td>\n",
       "      <td>₹265</td>\n",
       "      <td>46% off</td>\n",
       "    </tr>\n",
       "    <tr>\n",
       "      <th>118</th>\n",
       "      <td>PUMA</td>\n",
       "      <td>Levi's Men's Henry Sneakers Sneakers For Men</td>\n",
       "      <td>₹4,999</td>\n",
       "      <td>₹959</td>\n",
       "      <td>70% off</td>\n",
       "    </tr>\n",
       "    <tr>\n",
       "      <th>119</th>\n",
       "      <td>RESNAPSHOEZONE</td>\n",
       "      <td>Sneakers For Men</td>\n",
       "      <td>₹1,250</td>\n",
       "      <td>₹296</td>\n",
       "      <td>55% off</td>\n",
       "    </tr>\n",
       "  </tbody>\n",
       "</table>\n",
       "<p>120 rows × 5 columns</p>\n",
       "</div>"
      ],
      "text/plain": [
       "              BRAND                                               DESC  \\\n",
       "0          RapidBox                                   Sneakers For Men   \n",
       "1          RapidBox                         Stylish Sneakers For Women   \n",
       "2              PUMA                             Glory Sneakers For Men   \n",
       "3         Deals4you  Mesh | Ultralightweight | Comfortable | Breath...   \n",
       "4              PUMA                                 Sneakers For Women   \n",
       "..              ...                                                ...   \n",
       "115         BIG FOX  Mens Casual Lase-ups Tube Shoker Sole Sneaker ...   \n",
       "116           AMICO  Unique & Perfect Collection Combo Pack of 02 S...   \n",
       "117          LEVI'S                                   Sneakers For Men   \n",
       "118            PUMA       Levi's Men's Henry Sneakers Sneakers For Men   \n",
       "119  RESNAPSHOEZONE                                   Sneakers For Men   \n",
       "\n",
       "        MRP OFFER_PRICE     %OFF  \n",
       "0      ₹999        ₹314  68% off  \n",
       "1      ₹999        ₹259  67% off  \n",
       "2    ₹2,999        ₹351  64% off  \n",
       "3      ₹999        ₹799  65% off  \n",
       "4    ₹5,499      ₹1,892  62% off  \n",
       "..      ...         ...      ...  \n",
       "115  ₹2,499      ₹1,723  56% off  \n",
       "116    ₹999      ₹1,749  50% off  \n",
       "117  ₹2,799        ₹265  46% off  \n",
       "118  ₹4,999        ₹959  70% off  \n",
       "119  ₹1,250        ₹296  55% off  \n",
       "\n",
       "[120 rows x 5 columns]"
      ]
     },
     "execution_count": 19,
     "metadata": {},
     "output_type": "execute_result"
    }
   ],
   "source": [
    "oj"
   ]
  },
  {
   "cell_type": "code",
   "execution_count": 20,
   "id": "f0131b76",
   "metadata": {},
   "outputs": [],
   "source": [
    "newoj=oj.iloc[0:100,:]"
   ]
  },
  {
   "cell_type": "code",
   "execution_count": 21,
   "id": "f62a440b",
   "metadata": {},
   "outputs": [
    {
     "data": {
      "text/html": [
       "<div>\n",
       "<style scoped>\n",
       "    .dataframe tbody tr th:only-of-type {\n",
       "        vertical-align: middle;\n",
       "    }\n",
       "\n",
       "    .dataframe tbody tr th {\n",
       "        vertical-align: top;\n",
       "    }\n",
       "\n",
       "    .dataframe thead th {\n",
       "        text-align: right;\n",
       "    }\n",
       "</style>\n",
       "<table border=\"1\" class=\"dataframe\">\n",
       "  <thead>\n",
       "    <tr style=\"text-align: right;\">\n",
       "      <th></th>\n",
       "      <th>BRAND</th>\n",
       "      <th>DESC</th>\n",
       "      <th>MRP</th>\n",
       "      <th>OFFER_PRICE</th>\n",
       "      <th>%OFF</th>\n",
       "    </tr>\n",
       "  </thead>\n",
       "  <tbody>\n",
       "    <tr>\n",
       "      <th>0</th>\n",
       "      <td>RapidBox</td>\n",
       "      <td>Sneakers For Men</td>\n",
       "      <td>₹999</td>\n",
       "      <td>₹314</td>\n",
       "      <td>68% off</td>\n",
       "    </tr>\n",
       "    <tr>\n",
       "      <th>1</th>\n",
       "      <td>RapidBox</td>\n",
       "      <td>Stylish Sneakers For Women</td>\n",
       "      <td>₹999</td>\n",
       "      <td>₹259</td>\n",
       "      <td>67% off</td>\n",
       "    </tr>\n",
       "    <tr>\n",
       "      <th>2</th>\n",
       "      <td>PUMA</td>\n",
       "      <td>Glory Sneakers For Men</td>\n",
       "      <td>₹2,999</td>\n",
       "      <td>₹351</td>\n",
       "      <td>64% off</td>\n",
       "    </tr>\n",
       "    <tr>\n",
       "      <th>3</th>\n",
       "      <td>Deals4you</td>\n",
       "      <td>Mesh | Ultralightweight | Comfortable | Breath...</td>\n",
       "      <td>₹999</td>\n",
       "      <td>₹799</td>\n",
       "      <td>65% off</td>\n",
       "    </tr>\n",
       "    <tr>\n",
       "      <th>4</th>\n",
       "      <td>PUMA</td>\n",
       "      <td>Sneakers For Women</td>\n",
       "      <td>₹5,499</td>\n",
       "      <td>₹1,892</td>\n",
       "      <td>62% off</td>\n",
       "    </tr>\n",
       "    <tr>\n",
       "      <th>...</th>\n",
       "      <td>...</td>\n",
       "      <td>...</td>\n",
       "      <td>...</td>\n",
       "      <td>...</td>\n",
       "      <td>...</td>\n",
       "    </tr>\n",
       "    <tr>\n",
       "      <th>95</th>\n",
       "      <td>MAFLO</td>\n",
       "      <td>Trendy Lace Up Sneakers For Men</td>\n",
       "      <td>₹1,299</td>\n",
       "      <td>₹549</td>\n",
       "      <td>63% off</td>\n",
       "    </tr>\n",
       "    <tr>\n",
       "      <th>96</th>\n",
       "      <td>Robbie jones</td>\n",
       "      <td>Puma Smash Wns v2 L Sneakers For Women</td>\n",
       "      <td>₹999</td>\n",
       "      <td>₹458</td>\n",
       "      <td>54% off</td>\n",
       "    </tr>\n",
       "    <tr>\n",
       "      <th>97</th>\n",
       "      <td>Layasa</td>\n",
       "      <td>Casual Sneakers Black Outdoor Shoes For Boys A...</td>\n",
       "      <td>₹999</td>\n",
       "      <td>₹499</td>\n",
       "      <td>75% off</td>\n",
       "    </tr>\n",
       "    <tr>\n",
       "      <th>98</th>\n",
       "      <td>World Wear Footwear</td>\n",
       "      <td>supr Sneakers For Men</td>\n",
       "      <td>₹499</td>\n",
       "      <td>₹299</td>\n",
       "      <td>40% off</td>\n",
       "    </tr>\n",
       "    <tr>\n",
       "      <th>99</th>\n",
       "      <td>MAFLO</td>\n",
       "      <td>White &amp; Black Sneakers For Men Casual Shoes Fo...</td>\n",
       "      <td>₹1,299</td>\n",
       "      <td>₹366</td>\n",
       "      <td>71% off</td>\n",
       "    </tr>\n",
       "  </tbody>\n",
       "</table>\n",
       "<p>100 rows × 5 columns</p>\n",
       "</div>"
      ],
      "text/plain": [
       "                  BRAND                                               DESC  \\\n",
       "0              RapidBox                                   Sneakers For Men   \n",
       "1              RapidBox                         Stylish Sneakers For Women   \n",
       "2                  PUMA                             Glory Sneakers For Men   \n",
       "3             Deals4you  Mesh | Ultralightweight | Comfortable | Breath...   \n",
       "4                  PUMA                                 Sneakers For Women   \n",
       "..                  ...                                                ...   \n",
       "95                MAFLO                    Trendy Lace Up Sneakers For Men   \n",
       "96         Robbie jones             Puma Smash Wns v2 L Sneakers For Women   \n",
       "97               Layasa  Casual Sneakers Black Outdoor Shoes For Boys A...   \n",
       "98  World Wear Footwear                              supr Sneakers For Men   \n",
       "99                MAFLO  White & Black Sneakers For Men Casual Shoes Fo...   \n",
       "\n",
       "       MRP OFFER_PRICE     %OFF  \n",
       "0     ₹999        ₹314  68% off  \n",
       "1     ₹999        ₹259  67% off  \n",
       "2   ₹2,999        ₹351  64% off  \n",
       "3     ₹999        ₹799  65% off  \n",
       "4   ₹5,499      ₹1,892  62% off  \n",
       "..     ...         ...      ...  \n",
       "95  ₹1,299        ₹549  63% off  \n",
       "96    ₹999        ₹458  54% off  \n",
       "97    ₹999        ₹499  75% off  \n",
       "98    ₹499        ₹299  40% off  \n",
       "99  ₹1,299        ₹366  71% off  \n",
       "\n",
       "[100 rows x 5 columns]"
      ]
     },
     "execution_count": 21,
     "metadata": {},
     "output_type": "execute_result"
    }
   ],
   "source": [
    "newoj"
   ]
  },
  {
   "cell_type": "markdown",
   "id": "0a9adbb9",
   "metadata": {},
   "source": [
    "Q7: Go to the link - https://www.myntra.com/shoes\n",
    "Set second Price filter and Color filter to “Black”, as shown in the below image.\n",
    "\n",
    "And then scrape First 100 shoes data you get. The data should include “Brand” of the shoes , Short Shoe \n",
    "description, price of the shoe as shown in the below image"
   ]
  },
  {
   "cell_type": "markdown",
   "id": "06e077b8",
   "metadata": {},
   "source": [
    "scrapping of the data for this question is not possible as the option to inspect is not available. The wishlish pop up is popping each time the cursor is on the BRAND,PRICE OR DESC box.\n",
    "\n",
    "The screenshot of the same is already shared on the ticket\n",
    "\n",
    "Moreover while checking if at all we can scrap the data from this website ,errors are being displayed"
   ]
  },
  {
   "cell_type": "markdown",
   "id": "7804c4e1",
   "metadata": {},
   "source": [
    "Q8: Go to webpage https://www.amazon.in/\n",
    "Enter “Laptop” in the search field and then click the search icon.\n",
    "Then set CPU Type filter to “Intel Core i7” as shown in the below image:\n",
    "\n",
    "After setting the filters scrape first 10 laptops data. You have to scrape 3 attributesfor each laptop:\n",
    "1. Title\n",
    "2. Ratings\n",
    "3. Price\n"
   ]
  },
  {
   "cell_type": "code",
   "execution_count": 314,
   "id": "f8869bf1",
   "metadata": {},
   "outputs": [],
   "source": [
    "driver.get('https://www.amazon.in/')"
   ]
  },
  {
   "cell_type": "code",
   "execution_count": 204,
   "id": "d35f56fe",
   "metadata": {},
   "outputs": [],
   "source": [
    "iny=driver.find_element(By.XPATH,'//input[@type=\"text\"]')\n",
    "iny.send_keys('LAPTOP')"
   ]
  },
  {
   "cell_type": "code",
   "execution_count": 205,
   "id": "2c2fa1ff",
   "metadata": {},
   "outputs": [],
   "source": [
    "sb=driver.find_element(By.XPATH,'//input[@id=\"nav-search-submit-button\"]')\n",
    "sb.click()"
   ]
  },
  {
   "cell_type": "code",
   "execution_count": 213,
   "id": "4f75d624",
   "metadata": {},
   "outputs": [],
   "source": [
    "checkbox=driver.find_element(By.XPATH,'/html/body/div[1]/div[2]/div[1]/div[2]/div/div[3]/span/div[1]/div/div/div[6]/ul[4]/li[6]/span/a/div/label/i')\n",
    "checkbox.click()"
   ]
  },
  {
   "cell_type": "code",
   "execution_count": 7,
   "id": "e71ef765",
   "metadata": {},
   "outputs": [],
   "source": [
    "namee=[]\n",
    "gy=driver.find_elements(By.XPATH,'//h2[@class=\"a-size-mini a-spacing-none a-color-base s-line-clamp-2\"]')\n",
    "\n",
    "for i in gy[0:10]:\n",
    "    namee.append(i.text)"
   ]
  },
  {
   "cell_type": "code",
   "execution_count": 33,
   "id": "2ee9f103",
   "metadata": {},
   "outputs": [],
   "source": [
    "MRP=[]\n",
    "jj=driver.find_elements(By.XPATH,'//span[@class=\"a-price a-text-price\"]')\n",
    "\n",
    "for i in jj[0:10]:\n",
    "    MRP.append(i.text)"
   ]
  },
  {
   "cell_type": "code",
   "execution_count": 36,
   "id": "70195520",
   "metadata": {},
   "outputs": [],
   "source": [
    "OFFER=[]\n",
    "op=driver.find_elements(By.XPATH,'//span[@class=\"a-price-whole\"]')\n",
    "\n",
    "for i in op[0:10]:\n",
    "    OFFER.append(i.text)"
   ]
  },
  {
   "cell_type": "code",
   "execution_count": 158,
   "id": "74366453",
   "metadata": {},
   "outputs": [],
   "source": [
    "gt=pd.DataFrame({'NAME':namee,'MRP':MRP,'DISCOUNTED_PRICE':OFFER})"
   ]
  },
  {
   "cell_type": "code",
   "execution_count": 159,
   "id": "9fcef618",
   "metadata": {},
   "outputs": [
    {
     "data": {
      "text/html": [
       "<div>\n",
       "<style scoped>\n",
       "    .dataframe tbody tr th:only-of-type {\n",
       "        vertical-align: middle;\n",
       "    }\n",
       "\n",
       "    .dataframe tbody tr th {\n",
       "        vertical-align: top;\n",
       "    }\n",
       "\n",
       "    .dataframe thead th {\n",
       "        text-align: right;\n",
       "    }\n",
       "</style>\n",
       "<table border=\"1\" class=\"dataframe\">\n",
       "  <thead>\n",
       "    <tr style=\"text-align: right;\">\n",
       "      <th></th>\n",
       "      <th>NAME</th>\n",
       "      <th>MRP</th>\n",
       "      <th>DISCOUNTED_PRICE</th>\n",
       "    </tr>\n",
       "  </thead>\n",
       "  <tbody>\n",
       "    <tr>\n",
       "      <th>0</th>\n",
       "      <td>ASUS Vivobook 15, 15.6-inch (39.62 cms) FHD, I...</td>\n",
       "      <td>₹80,990</td>\n",
       "      <td>56,589</td>\n",
       "    </tr>\n",
       "    <tr>\n",
       "      <th>1</th>\n",
       "      <td>Samsung Galaxy Book2 Intel 12th Gen core i7 39...</td>\n",
       "      <td>₹95,990</td>\n",
       "      <td>79,490</td>\n",
       "    </tr>\n",
       "    <tr>\n",
       "      <th>2</th>\n",
       "      <td>Lenovo Ideapad Gaming 3 Intel Core i7 10th Gen...</td>\n",
       "      <td>₹1,02,090</td>\n",
       "      <td>62,990</td>\n",
       "    </tr>\n",
       "    <tr>\n",
       "      <th>3</th>\n",
       "      <td>Hp Pavilion 15 12Th Gen Intel Core I7 16Gb Sdr...</td>\n",
       "      <td>₹1,00,687</td>\n",
       "      <td>93,290</td>\n",
       "    </tr>\n",
       "    <tr>\n",
       "      <th>4</th>\n",
       "      <td>ASUS TUF Gaming F15 (2022), 15.6-inch (39.62 c...</td>\n",
       "      <td>₹1,44,990</td>\n",
       "      <td>1,09,990</td>\n",
       "    </tr>\n",
       "    <tr>\n",
       "      <th>5</th>\n",
       "      <td>HP Pavilion Plus, 12th Gen Intel Core i7 16GB ...</td>\n",
       "      <td>₹1,04,114</td>\n",
       "      <td>89,990</td>\n",
       "    </tr>\n",
       "    <tr>\n",
       "      <th>6</th>\n",
       "      <td>Lenovo ThinkPad E14 Intel Core i7 11th Gen 14-...</td>\n",
       "      <td>₹1,45,800</td>\n",
       "      <td>94,990</td>\n",
       "    </tr>\n",
       "    <tr>\n",
       "      <th>7</th>\n",
       "      <td>ASUS TUF Gaming F15 (2022), 15.6\" (39.62 cms) ...</td>\n",
       "      <td>₹1,44,990</td>\n",
       "      <td>1,09,990</td>\n",
       "    </tr>\n",
       "    <tr>\n",
       "      <th>8</th>\n",
       "      <td>Lenovo IdeaPad Slim 5 Intel Core i7 12th Gen 1...</td>\n",
       "      <td>₹1,20,990</td>\n",
       "      <td>81,990</td>\n",
       "    </tr>\n",
       "    <tr>\n",
       "      <th>9</th>\n",
       "      <td>HP Victus 11th Gen Intel Core i7-11800H 16.1\" ...</td>\n",
       "      <td>₹1,25,143</td>\n",
       "      <td>1,07,990</td>\n",
       "    </tr>\n",
       "  </tbody>\n",
       "</table>\n",
       "</div>"
      ],
      "text/plain": [
       "                                                NAME        MRP  \\\n",
       "0  ASUS Vivobook 15, 15.6-inch (39.62 cms) FHD, I...    ₹80,990   \n",
       "1  Samsung Galaxy Book2 Intel 12th Gen core i7 39...    ₹95,990   \n",
       "2  Lenovo Ideapad Gaming 3 Intel Core i7 10th Gen...  ₹1,02,090   \n",
       "3  Hp Pavilion 15 12Th Gen Intel Core I7 16Gb Sdr...  ₹1,00,687   \n",
       "4  ASUS TUF Gaming F15 (2022), 15.6-inch (39.62 c...  ₹1,44,990   \n",
       "5  HP Pavilion Plus, 12th Gen Intel Core i7 16GB ...  ₹1,04,114   \n",
       "6  Lenovo ThinkPad E14 Intel Core i7 11th Gen 14-...  ₹1,45,800   \n",
       "7  ASUS TUF Gaming F15 (2022), 15.6\" (39.62 cms) ...  ₹1,44,990   \n",
       "8  Lenovo IdeaPad Slim 5 Intel Core i7 12th Gen 1...  ₹1,20,990   \n",
       "9  HP Victus 11th Gen Intel Core i7-11800H 16.1\" ...  ₹1,25,143   \n",
       "\n",
       "  DISCOUNTED_PRICE  \n",
       "0           56,589  \n",
       "1           79,490  \n",
       "2           62,990  \n",
       "3           93,290  \n",
       "4         1,09,990  \n",
       "5           89,990  \n",
       "6           94,990  \n",
       "7         1,09,990  \n",
       "8           81,990  \n",
       "9         1,07,990  "
      ]
     },
     "execution_count": 159,
     "metadata": {},
     "output_type": "execute_result"
    }
   ],
   "source": [
    "gt"
   ]
  },
  {
   "cell_type": "code",
   "execution_count": null,
   "id": "52d7a318",
   "metadata": {},
   "outputs": [],
   "source": [
    "Q9: Write a python program to scrape data for first 10 job results for Data Scientist Designation in Noida \n",
    "location. You have to scrape company name, No. of days ago when job was posted, Rating of the company. \n",
    "This task will be done in following steps:\n",
    "1. First get the webpage https://www.ambitionbox.com/\n",
    "2. Click on the Job option as shown in the image\n",
    "3. After reaching to the next webpage, In place of “Search by Designations, Companies, Skills” enter\n",
    "“Data Scientist” and click on search button.\n",
    "4. You will reach to the following web page click on location and in place of “Search location” enter\n",
    "“Noida” and select location “Noida”.\n",
    "5. Then scrape the data for the first 10 jobs results you get on the above shown page.\n",
    "6. Finally create a dataframe of the scraped data."
   ]
  },
  {
   "cell_type": "code",
   "execution_count": 214,
   "id": "82fd6cc1",
   "metadata": {},
   "outputs": [],
   "source": [
    "driver.get('https://www.ambitionbox.com/')"
   ]
  },
  {
   "cell_type": "code",
   "execution_count": 222,
   "id": "159a8217",
   "metadata": {},
   "outputs": [],
   "source": [
    "dre=driver.find_element(By.XPATH,'//a[@class=\"navItemLink\"]')\n",
    "dre.click()"
   ]
  },
  {
   "cell_type": "code",
   "execution_count": 223,
   "id": "5cdddfce",
   "metadata": {},
   "outputs": [],
   "source": [
    "dis=driver.find_element(By.XPATH,'//input[@name=\"ab_jobsSearch\"]')\n",
    "dis.send_keys('DATA SCIENTIST')"
   ]
  },
  {
   "cell_type": "code",
   "execution_count": 224,
   "id": "8afdf36a",
   "metadata": {},
   "outputs": [],
   "source": [
    "des=driver.find_element(By.XPATH,'//button[@class=\"ab_btn search-btn round\"]')\n",
    "des.click()"
   ]
  },
  {
   "cell_type": "code",
   "execution_count": 225,
   "id": "c94ed0d0",
   "metadata": {},
   "outputs": [],
   "source": [
    "company=[]\n",
    "lm=driver.find_elements(By.XPATH,'//p[@class=\"company body-medium\"]')\n",
    "for i in lm[0:10]:\n",
    "    company.append(i.text)"
   ]
  },
  {
   "cell_type": "code",
   "execution_count": 226,
   "id": "2e6a3d02",
   "metadata": {},
   "outputs": [],
   "source": [
    "ratt=[]\n",
    "jn=driver.find_elements(By.XPATH,'//a[@class=\"rating rating-4\"]')\n",
    "\n",
    "for i in jn[0:10]:\n",
    "    ratt.append(i.text)"
   ]
  },
  {
   "cell_type": "code",
   "execution_count": 227,
   "id": "0ef0074b",
   "metadata": {},
   "outputs": [],
   "source": [
    "time=[]\n",
    "hb=driver.find_elements(By.XPATH,'//span[@class=\"body-small-l\"]')\n",
    "\n",
    "for i in hb[0:20]:\n",
    "    time.append(i.text)"
   ]
  },
  {
   "cell_type": "code",
   "execution_count": 228,
   "id": "8feeb3f5",
   "metadata": {},
   "outputs": [],
   "source": [
    "times=time[0:20:2]"
   ]
  },
  {
   "cell_type": "code",
   "execution_count": 229,
   "id": "977fba92",
   "metadata": {},
   "outputs": [],
   "source": [
    "FR=pd.DataFrame({'NAME':company,'RATING':ratt,'TIME':times})"
   ]
  },
  {
   "cell_type": "code",
   "execution_count": 230,
   "id": "5c09c2fd",
   "metadata": {},
   "outputs": [
    {
     "data": {
      "text/html": [
       "<div>\n",
       "<style scoped>\n",
       "    .dataframe tbody tr th:only-of-type {\n",
       "        vertical-align: middle;\n",
       "    }\n",
       "\n",
       "    .dataframe tbody tr th {\n",
       "        vertical-align: top;\n",
       "    }\n",
       "\n",
       "    .dataframe thead th {\n",
       "        text-align: right;\n",
       "    }\n",
       "</style>\n",
       "<table border=\"1\" class=\"dataframe\">\n",
       "  <thead>\n",
       "    <tr style=\"text-align: right;\">\n",
       "      <th></th>\n",
       "      <th>NAME</th>\n",
       "      <th>RATING</th>\n",
       "      <th>TIME</th>\n",
       "    </tr>\n",
       "  </thead>\n",
       "  <tbody>\n",
       "    <tr>\n",
       "      <th>0</th>\n",
       "      <td>JP Morgan Chase</td>\n",
       "      <td>4.2</td>\n",
       "      <td>3d ago</td>\n",
       "    </tr>\n",
       "    <tr>\n",
       "      <th>1</th>\n",
       "      <td>JP Morgan Chase</td>\n",
       "      <td>4.2</td>\n",
       "      <td>3d ago</td>\n",
       "    </tr>\n",
       "    <tr>\n",
       "      <th>2</th>\n",
       "      <td>Accenture Solutions Pvt Ltd</td>\n",
       "      <td>4.2</td>\n",
       "      <td>2d ago</td>\n",
       "    </tr>\n",
       "    <tr>\n",
       "      <th>3</th>\n",
       "      <td>Accenture Solutions Pvt Ltd</td>\n",
       "      <td>4.2</td>\n",
       "      <td>2d ago</td>\n",
       "    </tr>\n",
       "    <tr>\n",
       "      <th>4</th>\n",
       "      <td>Accenture Solutions Pvt Ltd</td>\n",
       "      <td>4.2</td>\n",
       "      <td>2d ago</td>\n",
       "    </tr>\n",
       "    <tr>\n",
       "      <th>5</th>\n",
       "      <td>JP Morgan Chase</td>\n",
       "      <td>4.2</td>\n",
       "      <td>4d ago</td>\n",
       "    </tr>\n",
       "    <tr>\n",
       "      <th>6</th>\n",
       "      <td>Shell India Markets Private Limited</td>\n",
       "      <td>4.2</td>\n",
       "      <td>11hr ago</td>\n",
       "    </tr>\n",
       "    <tr>\n",
       "      <th>7</th>\n",
       "      <td>Accenture Solutions Pvt Ltd</td>\n",
       "      <td>4.4</td>\n",
       "      <td>4d ago</td>\n",
       "    </tr>\n",
       "    <tr>\n",
       "      <th>8</th>\n",
       "      <td>J.P. Morgan Services India Private Limited</td>\n",
       "      <td>4.2</td>\n",
       "      <td>8d ago</td>\n",
       "    </tr>\n",
       "    <tr>\n",
       "      <th>9</th>\n",
       "      <td>GENPACT India Private Limited</td>\n",
       "      <td>4.2</td>\n",
       "      <td>1d ago</td>\n",
       "    </tr>\n",
       "  </tbody>\n",
       "</table>\n",
       "</div>"
      ],
      "text/plain": [
       "                                         NAME RATING      TIME\n",
       "0                             JP Morgan Chase    4.2    3d ago\n",
       "1                             JP Morgan Chase    4.2    3d ago\n",
       "2                 Accenture Solutions Pvt Ltd    4.2    2d ago\n",
       "3                 Accenture Solutions Pvt Ltd    4.2    2d ago\n",
       "4                 Accenture Solutions Pvt Ltd    4.2    2d ago\n",
       "5                             JP Morgan Chase    4.2    4d ago\n",
       "6         Shell India Markets Private Limited    4.2  11hr ago\n",
       "7                 Accenture Solutions Pvt Ltd    4.4    4d ago\n",
       "8  J.P. Morgan Services India Private Limited    4.2    8d ago\n",
       "9               GENPACT India Private Limited    4.2    1d ago"
      ]
     },
     "execution_count": 230,
     "metadata": {},
     "output_type": "execute_result"
    }
   ],
   "source": [
    "FR"
   ]
  },
  {
   "cell_type": "markdown",
   "id": "42dd0994",
   "metadata": {},
   "source": [
    "Q10: Write a python program to scrape the salary data for Data Scientist designation.\n",
    "You have to scrape Company name, Number of salaries, Average salary, Minsalary, Max Salary. \n",
    "The above task will be, done as shown in the below steps:\n",
    "1. First get the webpage https://www.ambitionbox.com/\n",
    "2. Click on the salaries option as shown in the image.\n",
    "3. After reaching to the following webpage, In place of “Search Job Profile” enters “Data Scientist” and \n",
    "then click on “Data Scientist”.\n",
    "You have to scrape the data ticked in the above image.\n",
    "4. Scrape the data for the first 10 companies. Scrape the company name, total salary record, average \n",
    "salary, minimum salary, maximum salary, experience required.\n",
    "5. Store the data in a dataframe."
   ]
  },
  {
   "cell_type": "code",
   "execution_count": 296,
   "id": "92fcf1c0",
   "metadata": {},
   "outputs": [],
   "source": [
    "driver.get('https://www.ambitionbox.com/')"
   ]
  },
  {
   "cell_type": "code",
   "execution_count": 297,
   "id": "d4b7a4a0",
   "metadata": {},
   "outputs": [],
   "source": [
    "dwq=driver.find_element(By.XPATH,'/html/body/div[1]/nav[2]/div/ul/li[3]')\n",
    "dwq.click()"
   ]
  },
  {
   "cell_type": "code",
   "execution_count": 298,
   "id": "5780661c",
   "metadata": {},
   "outputs": [],
   "source": [
    "drew=driver.find_element(By.XPATH,'//a[@title=\"Browse salaries\"]')\n",
    "driver.get(drew.get_attribute('href'))"
   ]
  },
  {
   "cell_type": "code",
   "execution_count": 312,
   "id": "4f905c9f",
   "metadata": {},
   "outputs": [],
   "source": [
    "gtt=driver.find_element(By.XPATH,'//input[@type=\"searchbox\"]')\n",
    "gtt.send_keys('DATA SCIENTIST')"
   ]
  },
  {
   "cell_type": "code",
   "execution_count": 313,
   "id": "d4e60707",
   "metadata": {},
   "outputs": [],
   "source": [
    "sugg=driver.find_element(By.XPATH,'/html/body/div/div/div/main/section[1]/div[2]/div[1]/span/div/div/div[1]/div/div')\n",
    "sugg.click()"
   ]
  },
  {
   "cell_type": "code",
   "execution_count": 38,
   "id": "a89476e8",
   "metadata": {},
   "outputs": [],
   "source": [
    "com=[]\n",
    "zz=driver.find_elements(By.XPATH,'//a[@data-v-4c07f399]')\n",
    "\n",
    "for i in zz[0:10]:\n",
    "    com.append(i.text.replace('\\nData Scientist Salary',''))"
   ]
  },
  {
   "cell_type": "code",
   "execution_count": 17,
   "id": "f1b48850",
   "metadata": {},
   "outputs": [],
   "source": [
    "exp=[]\n",
    "ss=driver.find_elements(By.XPATH,'//div[@class=\"sbold-list-header\"]')\n",
    "\n",
    "for i in ss[0:10]:\n",
    "    exp.append(i.text)"
   ]
  },
  {
   "cell_type": "code",
   "execution_count": 20,
   "id": "be0d656b",
   "metadata": {},
   "outputs": [],
   "source": [
    "m=[]\n",
    "\n",
    "ed=driver.find_elements(By.XPATH,'//div[@data-v-3d36b24d]')\n",
    "\n",
    "for i in ed:\n",
    "    m.append(i.text.replace('\\n',''))"
   ]
  },
  {
   "cell_type": "code",
   "execution_count": 33,
   "id": "81306758",
   "metadata": {},
   "outputs": [],
   "source": [
    "mo=m[0:-1:7]"
   ]
  },
  {
   "cell_type": "code",
   "execution_count": 40,
   "id": "a44553f5",
   "metadata": {},
   "outputs": [],
   "source": [
    "ui=pd.DataFrame({'NAME':com,'EXPERIENCE':exp,'AVG_MIN_MAX_SALARY':mo})"
   ]
  },
  {
   "cell_type": "code",
   "execution_count": 39,
   "id": "bf0299c6",
   "metadata": {},
   "outputs": [
    {
     "name": "stdout",
     "output_type": "stream",
     "text": [
      "10 10 10\n"
     ]
    }
   ],
   "source": [
    "print(len(com),len(exp),len(mo))"
   ]
  },
  {
   "cell_type": "code",
   "execution_count": 41,
   "id": "59c56f87",
   "metadata": {},
   "outputs": [
    {
     "data": {
      "text/html": [
       "<div>\n",
       "<style scoped>\n",
       "    .dataframe tbody tr th:only-of-type {\n",
       "        vertical-align: middle;\n",
       "    }\n",
       "\n",
       "    .dataframe tbody tr th {\n",
       "        vertical-align: top;\n",
       "    }\n",
       "\n",
       "    .dataframe thead th {\n",
       "        text-align: right;\n",
       "    }\n",
       "</style>\n",
       "<table border=\"1\" class=\"dataframe\">\n",
       "  <thead>\n",
       "    <tr style=\"text-align: right;\">\n",
       "      <th></th>\n",
       "      <th>NAME</th>\n",
       "      <th>EXPERIENCE</th>\n",
       "      <th>AVG_MIN_MAX_SALARY</th>\n",
       "    </tr>\n",
       "  </thead>\n",
       "  <tbody>\n",
       "    <tr>\n",
       "      <th>0</th>\n",
       "      <td>Walmart</td>\n",
       "      <td>3-4 yrs experience (based on 22 salaries)</td>\n",
       "      <td>₹ 31.7L₹ 25.0L₹ 45.0L</td>\n",
       "    </tr>\n",
       "    <tr>\n",
       "      <th>1</th>\n",
       "      <td>Ab Inbev</td>\n",
       "      <td>2-4 yrs experience (based on 53 salaries)</td>\n",
       "      <td>₹ 19.7L₹ 15.0L₹ 25.5L</td>\n",
       "    </tr>\n",
       "    <tr>\n",
       "      <th>2</th>\n",
       "      <td>Optum</td>\n",
       "      <td>2-4 yrs experience (based on 48 salaries)</td>\n",
       "      <td>₹ 16.5L₹ 11.0L₹ 22.6L</td>\n",
       "    </tr>\n",
       "    <tr>\n",
       "      <th>3</th>\n",
       "      <td>ZS</td>\n",
       "      <td>1-2 yrs experience (based on 33 salaries)</td>\n",
       "      <td>₹ 15.7L₹ 11.0L₹ 22.0L</td>\n",
       "    </tr>\n",
       "    <tr>\n",
       "      <th>4</th>\n",
       "      <td>Fractal Analytics</td>\n",
       "      <td>2-4 yrs experience (based on 109 salaries)</td>\n",
       "      <td>₹ 15.2L₹ 9.0L₹ 23.0L</td>\n",
       "    </tr>\n",
       "    <tr>\n",
       "      <th>5</th>\n",
       "      <td>Tiger Analytics</td>\n",
       "      <td>2-4 yrs experience (based on 65 salaries)</td>\n",
       "      <td>₹ 14.7L₹ 9.0L₹ 20.0L</td>\n",
       "    </tr>\n",
       "    <tr>\n",
       "      <th>6</th>\n",
       "      <td>Legato Health Technologies</td>\n",
       "      <td>4 yrs experience (based on 11 salaries)</td>\n",
       "      <td>₹ 14.5L₹ 11.0L₹ 20.0L</td>\n",
       "    </tr>\n",
       "    <tr>\n",
       "      <th>7</th>\n",
       "      <td>Tredence</td>\n",
       "      <td>3 yrs experience (based on 12 salaries)</td>\n",
       "      <td>₹ 14.1L₹ 8.8L₹ 17.5L</td>\n",
       "    </tr>\n",
       "    <tr>\n",
       "      <th>8</th>\n",
       "      <td>UnitedHealth</td>\n",
       "      <td>2-4 yrs experience (based on 91 salaries)</td>\n",
       "      <td>₹ 13.6L₹ 8.0L₹ 20.5L</td>\n",
       "    </tr>\n",
       "    <tr>\n",
       "      <th>9</th>\n",
       "      <td>Ford Motor</td>\n",
       "      <td>3-4 yrs experience (based on 21 salaries)</td>\n",
       "      <td>₹ 13.5L₹ 10.0L₹ 18.0L</td>\n",
       "    </tr>\n",
       "  </tbody>\n",
       "</table>\n",
       "</div>"
      ],
      "text/plain": [
       "                         NAME                                  EXPERIENCE  \\\n",
       "0                     Walmart   3-4 yrs experience (based on 22 salaries)   \n",
       "1                    Ab Inbev   2-4 yrs experience (based on 53 salaries)   \n",
       "2                       Optum   2-4 yrs experience (based on 48 salaries)   \n",
       "3                          ZS   1-2 yrs experience (based on 33 salaries)   \n",
       "4           Fractal Analytics  2-4 yrs experience (based on 109 salaries)   \n",
       "5             Tiger Analytics   2-4 yrs experience (based on 65 salaries)   \n",
       "6  Legato Health Technologies     4 yrs experience (based on 11 salaries)   \n",
       "7                    Tredence     3 yrs experience (based on 12 salaries)   \n",
       "8                UnitedHealth   2-4 yrs experience (based on 91 salaries)   \n",
       "9                  Ford Motor   3-4 yrs experience (based on 21 salaries)   \n",
       "\n",
       "      AVG_MIN_MAX_SALARY  \n",
       "0  ₹ 31.7L₹ 25.0L₹ 45.0L  \n",
       "1  ₹ 19.7L₹ 15.0L₹ 25.5L  \n",
       "2  ₹ 16.5L₹ 11.0L₹ 22.6L  \n",
       "3  ₹ 15.7L₹ 11.0L₹ 22.0L  \n",
       "4   ₹ 15.2L₹ 9.0L₹ 23.0L  \n",
       "5   ₹ 14.7L₹ 9.0L₹ 20.0L  \n",
       "6  ₹ 14.5L₹ 11.0L₹ 20.0L  \n",
       "7   ₹ 14.1L₹ 8.8L₹ 17.5L  \n",
       "8   ₹ 13.6L₹ 8.0L₹ 20.5L  \n",
       "9  ₹ 13.5L₹ 10.0L₹ 18.0L  "
      ]
     },
     "execution_count": 41,
     "metadata": {},
     "output_type": "execute_result"
    }
   ],
   "source": [
    "ui"
   ]
  },
  {
   "cell_type": "code",
   "execution_count": null,
   "id": "c6044e1e",
   "metadata": {},
   "outputs": [],
   "source": []
  }
 ],
 "metadata": {
  "kernelspec": {
   "display_name": "Python 3 (ipykernel)",
   "language": "python",
   "name": "python3"
  },
  "language_info": {
   "codemirror_mode": {
    "name": "ipython",
    "version": 3
   },
   "file_extension": ".py",
   "mimetype": "text/x-python",
   "name": "python",
   "nbconvert_exporter": "python",
   "pygments_lexer": "ipython3",
   "version": "3.9.7"
  }
 },
 "nbformat": 4,
 "nbformat_minor": 5
}
