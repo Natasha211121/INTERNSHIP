{
 "cells": [
  {
   "cell_type": "markdown",
   "id": "95f0a032",
   "metadata": {},
   "source": [
    "# PYTHON WORKSHEET 1"
   ]
  },
  {
   "cell_type": "markdown",
   "id": "945313d4",
   "metadata": {},
   "source": [
    "Q11) WRITE A PYTHON PROGRAM TO FIND THE FACTORIAL OF A NUMBER"
   ]
  },
  {
   "cell_type": "code",
   "execution_count": null,
   "id": "03229bfc",
   "metadata": {},
   "outputs": [],
   "source": [
    "a=int(input('Enter_a_number='))\n",
    "factorial=1\n",
    "if (a<1):\n",
    "    print('Error:Number cannot be negative OR 0')\n",
    "elif (a<2):\n",
    "    print('Factorial is = 1')\n",
    "else:\n",
    "    for i in range(a ,1 ,-1):\n",
    "        factorial=factorial*i\n",
    "    print('Factorial=',factorial)"
   ]
  },
  {
   "cell_type": "markdown",
   "id": "31868aa9",
   "metadata": {},
   "source": [
    "Q12)WRITE A PROGRAM TO FIND WHETHER A NUMBER IS PRIME OR COMPOSITE"
   ]
  },
  {
   "cell_type": "code",
   "execution_count": null,
   "id": "719e328a",
   "metadata": {},
   "outputs": [],
   "source": [
    "abc=int(input('Enter a number'))\n",
    "if (abc<1):\n",
    "    print('Error:Number cannot be Negative')\n",
    "elif(abc==1):\n",
    "    print('1 is neither Prime nor Composite')\n",
    "else:\n",
    "    for i in range(2,(abc//2)+1):\n",
    "        if (abc%2)==0:\n",
    "            print(abc,'Is composite')\n",
    "            break\n",
    "    else:\n",
    "         print(abc,'Is Prime')"
   ]
  },
  {
   "cell_type": "markdown",
   "id": "90e5268f",
   "metadata": {},
   "source": [
    "Q13)WRITE A PROGRAM TO CHECK WHETHER A STRING IS PALINDROME OR NOT"
   ]
  },
  {
   "cell_type": "code",
   "execution_count": null,
   "id": "1070380b",
   "metadata": {},
   "outputs": [],
   "source": [
    "s=input('Enter a string-')\n",
    "d=s[::-1]\n",
    "\n",
    "if d==s:\n",
    "    print('Palindrome')\n",
    "else:\n",
    "    print('Not Palindrome')"
   ]
  },
  {
   "cell_type": "markdown",
   "id": "9103f6db",
   "metadata": {},
   "source": [
    "Q14)WRITE A PROGRAM TO GET THE THIRD SIDE OF A RIGHT ANGLE TRIANGLE FROM 2 GIVEN SIDES "
   ]
  },
  {
   "cell_type": "code",
   "execution_count": 24,
   "id": "fbc0b898",
   "metadata": {},
   "outputs": [
    {
     "name": "stdout",
     "output_type": "stream",
     "text": [
      "Enter side a=12\n",
      "Enter side b=22\n",
      "Area of a Right Angle triangle with sides= 12 & 22 = 25.059928172283335\n"
     ]
    }
   ],
   "source": [
    "a=int(input('Enter side a='))\n",
    "b=int(input('Enter side b='))\n",
    "d=(a*a+b*b)**0.5\n",
    "print('Area of a Right Angle triangle with sides=',a,'&',b, '=',d)"
   ]
  },
  {
   "cell_type": "markdown",
   "id": "f3e615af",
   "metadata": {},
   "source": [
    "Q15)WRITE A PROGRAM TO PRINT THE FREQUENCY OF EACH OF THE CHARACTERS PRESENT IN A STRING "
   ]
  },
  {
   "cell_type": "code",
   "execution_count": null,
   "id": "41156a10",
   "metadata": {},
   "outputs": [],
   "source": [
    "df=(input('Enter a String '))\n",
    "search=(input('Enter the letter to be searched-'))\n",
    "frequency=0\n",
    "for i in df:\n",
    "    if i==search:\n",
    "        frequency=frequency+1\n",
    "print('Count of',search,'=',frequency)"
   ]
  },
  {
   "cell_type": "code",
   "execution_count": null,
   "id": "a3b22e92",
   "metadata": {},
   "outputs": [],
   "source": []
  }
 ],
 "metadata": {
  "kernelspec": {
   "display_name": "Python 3 (ipykernel)",
   "language": "python",
   "name": "python3"
  },
  "language_info": {
   "codemirror_mode": {
    "name": "ipython",
    "version": 3
   },
   "file_extension": ".py",
   "mimetype": "text/x-python",
   "name": "python",
   "nbconvert_exporter": "python",
   "pygments_lexer": "ipython3",
   "version": "3.9.7"
  }
 },
 "nbformat": 4,
 "nbformat_minor": 5
}
