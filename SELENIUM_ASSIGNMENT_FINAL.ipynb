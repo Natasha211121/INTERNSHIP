{
 "cells": [
  {
   "cell_type": "code",
   "execution_count": 1,
   "id": "ea548405",
   "metadata": {},
   "outputs": [
    {
     "name": "stdout",
     "output_type": "stream",
     "text": [
      "Collecting selenium\n",
      "  Downloading selenium-4.4.0-py3-none-any.whl (985 kB)\n",
      "Collecting trio-websocket~=0.9\n",
      "  Downloading trio_websocket-0.9.2-py3-none-any.whl (16 kB)\n",
      "Collecting trio~=0.17\n",
      "  Downloading trio-0.21.0-py3-none-any.whl (358 kB)\n",
      "Requirement already satisfied: urllib3[secure,socks]~=1.26 in c:\\users\\dell\\anaconda3\\lib\\site-packages (from selenium) (1.26.7)\n",
      "Requirement already satisfied: async-generator>=1.9 in c:\\users\\dell\\anaconda3\\lib\\site-packages (from trio~=0.17->selenium) (1.10)\n",
      "Requirement already satisfied: attrs>=19.2.0 in c:\\users\\dell\\anaconda3\\lib\\site-packages (from trio~=0.17->selenium) (21.2.0)\n",
      "Requirement already satisfied: idna in c:\\users\\dell\\anaconda3\\lib\\site-packages (from trio~=0.17->selenium) (3.2)\n",
      "Collecting outcome\n",
      "  Downloading outcome-1.2.0-py2.py3-none-any.whl (9.7 kB)\n",
      "Requirement already satisfied: sniffio in c:\\users\\dell\\anaconda3\\lib\\site-packages (from trio~=0.17->selenium) (1.2.0)\n",
      "Requirement already satisfied: cffi>=1.14 in c:\\users\\dell\\anaconda3\\lib\\site-packages (from trio~=0.17->selenium) (1.14.6)\n",
      "Requirement already satisfied: sortedcontainers in c:\\users\\dell\\anaconda3\\lib\\site-packages (from trio~=0.17->selenium) (2.4.0)\n",
      "Requirement already satisfied: pycparser in c:\\users\\dell\\anaconda3\\lib\\site-packages (from cffi>=1.14->trio~=0.17->selenium) (2.20)\n",
      "Collecting wsproto>=0.14\n",
      "  Downloading wsproto-1.1.0-py3-none-any.whl (24 kB)\n",
      "Requirement already satisfied: PySocks!=1.5.7,<2.0,>=1.5.6 in c:\\users\\dell\\anaconda3\\lib\\site-packages (from urllib3[secure,socks]~=1.26->selenium) (1.7.1)\n",
      "Requirement already satisfied: pyOpenSSL>=0.14 in c:\\users\\dell\\anaconda3\\lib\\site-packages (from urllib3[secure,socks]~=1.26->selenium) (21.0.0)\n",
      "Requirement already satisfied: cryptography>=1.3.4 in c:\\users\\dell\\anaconda3\\lib\\site-packages (from urllib3[secure,socks]~=1.26->selenium) (3.4.8)\n",
      "Requirement already satisfied: certifi in c:\\users\\dell\\anaconda3\\lib\\site-packages (from urllib3[secure,socks]~=1.26->selenium) (2021.10.8)\n",
      "Requirement already satisfied: six>=1.5.2 in c:\\users\\dell\\anaconda3\\lib\\site-packages (from pyOpenSSL>=0.14->urllib3[secure,socks]~=1.26->selenium) (1.16.0)\n",
      "Collecting h11<1,>=0.9.0\n",
      "  Downloading h11-0.13.0-py3-none-any.whl (58 kB)\n",
      "Installing collected packages: outcome, h11, wsproto, trio, trio-websocket, selenium\n",
      "Successfully installed h11-0.13.0 outcome-1.2.0 selenium-4.4.0 trio-0.21.0 trio-websocket-0.9.2 wsproto-1.1.0\n"
     ]
    }
   ],
   "source": [
    "!pip install selenium"
   ]
  },
  {
   "cell_type": "code",
   "execution_count": 1,
   "id": "c7486ba8",
   "metadata": {},
   "outputs": [],
   "source": [
    "import pandas as pd\n",
    "import selenium\n",
    "from selenium import webdriver\n",
    "import warnings\n",
    "warnings.filterwarnings('ignore')"
   ]
  },
  {
   "cell_type": "code",
   "execution_count": 5,
   "id": "c900a543",
   "metadata": {},
   "outputs": [],
   "source": [
    "from selenium.common.exceptions import StaleElementReferenceException, NoSuchElementException\n",
    "from selenium.webdriver.common.by import By\n",
    "import time"
   ]
  },
  {
   "cell_type": "code",
   "execution_count": 2,
   "id": "e0d74800",
   "metadata": {},
   "outputs": [],
   "source": [
    "driver=webdriver.Chrome(r\"C:\\Users\\DELL\\Downloads\\chromedriver_win32\\chromedriver.exe\")"
   ]
  },
  {
   "cell_type": "markdown",
   "id": "d23a0214",
   "metadata": {},
   "source": [
    "Q1: Write a python program to scrape data for “Data Analyst” Job position in “Bangalore” location. You \n",
    "have to scrape the job-title, job-location, company_name, experience_required. You have to scrape first 10 \n",
    "jobs data.\n",
    "This task will be done in following steps:\n",
    "1. First get the webpage https://www.naukri.com/\n",
    "2. Enter “Data Analyst” in “Skill, Designations, Companies” field and enter “Bangalore” in “enter the\n",
    "location” field.\n",
    "3. Then click the search button.\n",
    "4. Then scrape the data for the first 10 jobs results you get.\n",
    "5. Finally create a dataframe of the scraped data    "
   ]
  },
  {
   "cell_type": "code",
   "execution_count": 174,
   "id": "94956043",
   "metadata": {},
   "outputs": [],
   "source": [
    "driver.get(\"https://www.naukri.com/\")"
   ]
  },
  {
   "cell_type": "code",
   "execution_count": 175,
   "id": "3fda3b88",
   "metadata": {},
   "outputs": [],
   "source": [
    "designation=driver.find_element(By.XPATH,'/html/body/div[1]/div[2]/div[3]/div/div/div[1]/div/div/div/input')\n",
    "designation.send_keys('Data Analyst')"
   ]
  },
  {
   "cell_type": "code",
   "execution_count": 176,
   "id": "dce00c74",
   "metadata": {},
   "outputs": [],
   "source": [
    "location=driver.find_element(By.XPATH,'/html/body/div[1]/div[2]/div[3]/div/div/div[5]/div/div/div/input')\n",
    "location.send_keys('Bangalore')"
   ]
  },
  {
   "cell_type": "code",
   "execution_count": 177,
   "id": "c92a5d65",
   "metadata": {},
   "outputs": [],
   "source": [
    "search=driver.find_element(By.XPATH,'/html/body/div[1]/div[2]/div[3]/div/div/div[6]')\n",
    "search.click()"
   ]
  },
  {
   "cell_type": "code",
   "execution_count": 187,
   "id": "28541b81",
   "metadata": {},
   "outputs": [],
   "source": [
    "title=[]\n",
    "location=[]\n",
    "company=[]\n",
    "experience=[]"
   ]
  },
  {
   "cell_type": "code",
   "execution_count": 189,
   "id": "7acb875f",
   "metadata": {},
   "outputs": [],
   "source": [
    "tt=driver.find_elements(By.XPATH,'//a[@class=\"title fw500 ellipsis\"]')\n",
    "for i in tt[0:10]:\n",
    "    a=i.text\n",
    "    title.append(a)"
   ]
  },
  {
   "cell_type": "code",
   "execution_count": 190,
   "id": "ea12e742",
   "metadata": {},
   "outputs": [],
   "source": [
    "pp=driver.find_elements(By.XPATH,'//span[@title=\"Bangalore/Bengaluru \"]')\n",
    "for i in pp[0:10]:\n",
    "    b=i.text\n",
    "    location.append(b)"
   ]
  },
  {
   "cell_type": "code",
   "execution_count": 191,
   "id": "5eb39527",
   "metadata": {},
   "outputs": [],
   "source": [
    "cc=driver.find_elements(By.XPATH,'//a[@class=\"subTitle ellipsis fleft\"]')\n",
    "for i in cc[0:10]:\n",
    "    c=i.text\n",
    "    company.append(c)"
   ]
  },
  {
   "cell_type": "code",
   "execution_count": 192,
   "id": "4dc3986d",
   "metadata": {},
   "outputs": [],
   "source": [
    "dd=driver.find_elements(By.XPATH,'//li[@class=\"fleft grey-text br2 placeHolderLi experience\"]//span')\n",
    "for i in dd[0:10]:\n",
    "    experience.append(i.text)"
   ]
  },
  {
   "cell_type": "code",
   "execution_count": 193,
   "id": "6177ee34",
   "metadata": {},
   "outputs": [
    {
     "name": "stdout",
     "output_type": "stream",
     "text": [
      "10 10 10 10\n"
     ]
    }
   ],
   "source": [
    "print(len(title),len(location),len(company),len(experience))"
   ]
  },
  {
   "cell_type": "code",
   "execution_count": 194,
   "id": "a3247847",
   "metadata": {},
   "outputs": [],
   "source": [
    "df=pd.DataFrame({'JOB_TITLE':title,'LOCATION':location,'COMPANY':company,'EXPERIENCE':experience})"
   ]
  },
  {
   "cell_type": "code",
   "execution_count": 195,
   "id": "0b46e0c1",
   "metadata": {},
   "outputs": [
    {
     "data": {
      "text/html": [
       "<div>\n",
       "<style scoped>\n",
       "    .dataframe tbody tr th:only-of-type {\n",
       "        vertical-align: middle;\n",
       "    }\n",
       "\n",
       "    .dataframe tbody tr th {\n",
       "        vertical-align: top;\n",
       "    }\n",
       "\n",
       "    .dataframe thead th {\n",
       "        text-align: right;\n",
       "    }\n",
       "</style>\n",
       "<table border=\"1\" class=\"dataframe\">\n",
       "  <thead>\n",
       "    <tr style=\"text-align: right;\">\n",
       "      <th></th>\n",
       "      <th>JOB_TITLE</th>\n",
       "      <th>LOCATION</th>\n",
       "      <th>COMPANY</th>\n",
       "      <th>EXPERIENCE</th>\n",
       "    </tr>\n",
       "  </thead>\n",
       "  <tbody>\n",
       "    <tr>\n",
       "      <th>0</th>\n",
       "      <td>Senior Data Analyst</td>\n",
       "      <td>Bangalore/Bengaluru</td>\n",
       "      <td>KrazyBee</td>\n",
       "      <td>3-6 Yrs</td>\n",
       "    </tr>\n",
       "    <tr>\n",
       "      <th>1</th>\n",
       "      <td>Senior Data Analyst</td>\n",
       "      <td>Bangalore/Bengaluru</td>\n",
       "      <td>Qualitest India Private Limited</td>\n",
       "      <td>5-8 Yrs</td>\n",
       "    </tr>\n",
       "    <tr>\n",
       "      <th>2</th>\n",
       "      <td>Sr. Data Analyst</td>\n",
       "      <td>Bangalore/Bengaluru</td>\n",
       "      <td>Global Indian School Education Services</td>\n",
       "      <td>6-11 Yrs</td>\n",
       "    </tr>\n",
       "    <tr>\n",
       "      <th>3</th>\n",
       "      <td>Sr Clinical Data Analyst</td>\n",
       "      <td>Bangalore/Bengaluru</td>\n",
       "      <td>LabCorp</td>\n",
       "      <td>2-5 Yrs</td>\n",
       "    </tr>\n",
       "    <tr>\n",
       "      <th>4</th>\n",
       "      <td>Master Data Management Business Analyst</td>\n",
       "      <td>Bangalore/Bengaluru</td>\n",
       "      <td>Accenture</td>\n",
       "      <td>6-8 Yrs</td>\n",
       "    </tr>\n",
       "    <tr>\n",
       "      <th>5</th>\n",
       "      <td>Intern Data Analyst</td>\n",
       "      <td>Bangalore/Bengaluru</td>\n",
       "      <td>FullStackTechies</td>\n",
       "      <td>0-1 Yrs</td>\n",
       "    </tr>\n",
       "    <tr>\n",
       "      <th>6</th>\n",
       "      <td>Data Analyst - Python/Artificial Intelligence</td>\n",
       "      <td>Bangalore/Bengaluru</td>\n",
       "      <td>iMindYourBusiness</td>\n",
       "      <td>0-2 Yrs</td>\n",
       "    </tr>\n",
       "    <tr>\n",
       "      <th>7</th>\n",
       "      <td>Asst Clinical Data Analyst</td>\n",
       "      <td>Bangalore/Bengaluru</td>\n",
       "      <td>LabCorp</td>\n",
       "      <td>1-3 Yrs</td>\n",
       "    </tr>\n",
       "    <tr>\n",
       "      <th>8</th>\n",
       "      <td>Lead Data Analyst</td>\n",
       "      <td>Bangalore/Bengaluru</td>\n",
       "      <td>McAfee</td>\n",
       "      <td>5-9 Yrs</td>\n",
       "    </tr>\n",
       "    <tr>\n",
       "      <th>9</th>\n",
       "      <td>Data Analyst</td>\n",
       "      <td>Bangalore/Bengaluru</td>\n",
       "      <td>milestone internet marketing pvt ltd</td>\n",
       "      <td>2-7 Yrs</td>\n",
       "    </tr>\n",
       "  </tbody>\n",
       "</table>\n",
       "</div>"
      ],
      "text/plain": [
       "                                       JOB_TITLE             LOCATION  \\\n",
       "0                            Senior Data Analyst  Bangalore/Bengaluru   \n",
       "1                            Senior Data Analyst  Bangalore/Bengaluru   \n",
       "2                               Sr. Data Analyst  Bangalore/Bengaluru   \n",
       "3                       Sr Clinical Data Analyst  Bangalore/Bengaluru   \n",
       "4        Master Data Management Business Analyst  Bangalore/Bengaluru   \n",
       "5                            Intern Data Analyst  Bangalore/Bengaluru   \n",
       "6  Data Analyst - Python/Artificial Intelligence  Bangalore/Bengaluru   \n",
       "7                     Asst Clinical Data Analyst  Bangalore/Bengaluru   \n",
       "8                              Lead Data Analyst  Bangalore/Bengaluru   \n",
       "9                                   Data Analyst  Bangalore/Bengaluru   \n",
       "\n",
       "                                   COMPANY EXPERIENCE  \n",
       "0                                 KrazyBee    3-6 Yrs  \n",
       "1          Qualitest India Private Limited    5-8 Yrs  \n",
       "2  Global Indian School Education Services   6-11 Yrs  \n",
       "3                                  LabCorp    2-5 Yrs  \n",
       "4                                Accenture    6-8 Yrs  \n",
       "5                         FullStackTechies    0-1 Yrs  \n",
       "6                        iMindYourBusiness    0-2 Yrs  \n",
       "7                                  LabCorp    1-3 Yrs  \n",
       "8                                   McAfee    5-9 Yrs  \n",
       "9     milestone internet marketing pvt ltd    2-7 Yrs  "
      ]
     },
     "execution_count": 195,
     "metadata": {},
     "output_type": "execute_result"
    }
   ],
   "source": [
    "df"
   ]
  },
  {
   "cell_type": "markdown",
   "id": "13887abd",
   "metadata": {},
   "source": [
    "Q2: Write a python program to scrape data for “Data Scientist” Job position in “Bangalore” location. You \n",
    "have to scrape the job-title, job-location, company_name. You have to scrape first 10 jobs data.\n",
    "This task will be done in following steps:\n",
    "1. First get the webpage https://www.naukri.com/\n",
    "2. Enter “Data Scientist” in “Skill, Designations, Companies” field and enter “Bangalore” in “enter the\n",
    "location” field.\n",
    "3. Then click the search button.\n",
    "4. Then scrape the data for the first 10 jobs results you get.\n",
    "5. Finally create a dataframe of the scraped data."
   ]
  },
  {
   "cell_type": "code",
   "execution_count": 5,
   "id": "805be686",
   "metadata": {},
   "outputs": [],
   "source": [
    "driver.get(\"https://www.naukri.com/\")"
   ]
  },
  {
   "cell_type": "code",
   "execution_count": 196,
   "id": "a403c35b",
   "metadata": {},
   "outputs": [],
   "source": [
    "jtitle=[]\n",
    "jlocation=[]\n",
    "jcompany=[]"
   ]
  },
  {
   "cell_type": "code",
   "execution_count": 197,
   "id": "071d24cc",
   "metadata": {},
   "outputs": [],
   "source": [
    "ttt=driver.find_elements(By.XPATH,'//a[@class=\"title fw500 ellipsis\"]')\n",
    "for i in ttt[0:10]:\n",
    "    jtitle.append(i.text)"
   ]
  },
  {
   "cell_type": "code",
   "execution_count": 198,
   "id": "48f42ebf",
   "metadata": {},
   "outputs": [],
   "source": [
    "lll=driver.find_elements(By.XPATH,'//span[@title=\"Bangalore/Bengaluru \"]')\n",
    "for i in lll[0:10]:\n",
    "    jlocation.append(i.text)"
   ]
  },
  {
   "cell_type": "code",
   "execution_count": 199,
   "id": "7362655f",
   "metadata": {},
   "outputs": [],
   "source": [
    "ccc=driver.find_elements(By.XPATH,'//a[@class=\"subTitle ellipsis fleft\"]')\n",
    "for i in ccc[0:10]:\n",
    "    jcompany.append(i.text)"
   ]
  },
  {
   "cell_type": "code",
   "execution_count": 200,
   "id": "78b046d4",
   "metadata": {
    "scrolled": true
   },
   "outputs": [
    {
     "name": "stdout",
     "output_type": "stream",
     "text": [
      "10 10 10\n"
     ]
    }
   ],
   "source": [
    "print(len(jtitle),len(jlocation),len(jcompany))"
   ]
  },
  {
   "cell_type": "code",
   "execution_count": 201,
   "id": "dac604cd",
   "metadata": {},
   "outputs": [],
   "source": [
    "naukri=pd.DataFrame({'TITLE':jtitle,'LOCATION':jlocation,'COMPANY':jcompany})"
   ]
  },
  {
   "cell_type": "code",
   "execution_count": 202,
   "id": "8fd2b8c4",
   "metadata": {},
   "outputs": [
    {
     "data": {
      "text/html": [
       "<div>\n",
       "<style scoped>\n",
       "    .dataframe tbody tr th:only-of-type {\n",
       "        vertical-align: middle;\n",
       "    }\n",
       "\n",
       "    .dataframe tbody tr th {\n",
       "        vertical-align: top;\n",
       "    }\n",
       "\n",
       "    .dataframe thead th {\n",
       "        text-align: right;\n",
       "    }\n",
       "</style>\n",
       "<table border=\"1\" class=\"dataframe\">\n",
       "  <thead>\n",
       "    <tr style=\"text-align: right;\">\n",
       "      <th></th>\n",
       "      <th>TITLE</th>\n",
       "      <th>LOCATION</th>\n",
       "      <th>COMPANY</th>\n",
       "    </tr>\n",
       "  </thead>\n",
       "  <tbody>\n",
       "    <tr>\n",
       "      <th>0</th>\n",
       "      <td>Senior Data Analyst</td>\n",
       "      <td>Bangalore/Bengaluru</td>\n",
       "      <td>KrazyBee</td>\n",
       "    </tr>\n",
       "    <tr>\n",
       "      <th>1</th>\n",
       "      <td>Senior Data Analyst</td>\n",
       "      <td>Bangalore/Bengaluru</td>\n",
       "      <td>Qualitest India Private Limited</td>\n",
       "    </tr>\n",
       "    <tr>\n",
       "      <th>2</th>\n",
       "      <td>Sr. Data Analyst</td>\n",
       "      <td>Bangalore/Bengaluru</td>\n",
       "      <td>Global Indian School Education Services</td>\n",
       "    </tr>\n",
       "    <tr>\n",
       "      <th>3</th>\n",
       "      <td>Sr Clinical Data Analyst</td>\n",
       "      <td>Bangalore/Bengaluru</td>\n",
       "      <td>LabCorp</td>\n",
       "    </tr>\n",
       "    <tr>\n",
       "      <th>4</th>\n",
       "      <td>Master Data Management Business Analyst</td>\n",
       "      <td>Bangalore/Bengaluru</td>\n",
       "      <td>Accenture</td>\n",
       "    </tr>\n",
       "    <tr>\n",
       "      <th>5</th>\n",
       "      <td>Intern Data Analyst</td>\n",
       "      <td>Bangalore/Bengaluru</td>\n",
       "      <td>FullStackTechies</td>\n",
       "    </tr>\n",
       "    <tr>\n",
       "      <th>6</th>\n",
       "      <td>Data Analyst - Python/Artificial Intelligence</td>\n",
       "      <td>Bangalore/Bengaluru</td>\n",
       "      <td>iMindYourBusiness</td>\n",
       "    </tr>\n",
       "    <tr>\n",
       "      <th>7</th>\n",
       "      <td>Asst Clinical Data Analyst</td>\n",
       "      <td>Bangalore/Bengaluru</td>\n",
       "      <td>LabCorp</td>\n",
       "    </tr>\n",
       "    <tr>\n",
       "      <th>8</th>\n",
       "      <td>Lead Data Analyst</td>\n",
       "      <td>Bangalore/Bengaluru</td>\n",
       "      <td>McAfee</td>\n",
       "    </tr>\n",
       "    <tr>\n",
       "      <th>9</th>\n",
       "      <td>Data Analyst</td>\n",
       "      <td>Bangalore/Bengaluru</td>\n",
       "      <td>milestone internet marketing pvt ltd</td>\n",
       "    </tr>\n",
       "  </tbody>\n",
       "</table>\n",
       "</div>"
      ],
      "text/plain": [
       "                                           TITLE             LOCATION  \\\n",
       "0                            Senior Data Analyst  Bangalore/Bengaluru   \n",
       "1                            Senior Data Analyst  Bangalore/Bengaluru   \n",
       "2                               Sr. Data Analyst  Bangalore/Bengaluru   \n",
       "3                       Sr Clinical Data Analyst  Bangalore/Bengaluru   \n",
       "4        Master Data Management Business Analyst  Bangalore/Bengaluru   \n",
       "5                            Intern Data Analyst  Bangalore/Bengaluru   \n",
       "6  Data Analyst - Python/Artificial Intelligence  Bangalore/Bengaluru   \n",
       "7                     Asst Clinical Data Analyst  Bangalore/Bengaluru   \n",
       "8                              Lead Data Analyst  Bangalore/Bengaluru   \n",
       "9                                   Data Analyst  Bangalore/Bengaluru   \n",
       "\n",
       "                                   COMPANY  \n",
       "0                                 KrazyBee  \n",
       "1          Qualitest India Private Limited  \n",
       "2  Global Indian School Education Services  \n",
       "3                                  LabCorp  \n",
       "4                                Accenture  \n",
       "5                         FullStackTechies  \n",
       "6                        iMindYourBusiness  \n",
       "7                                  LabCorp  \n",
       "8                                   McAfee  \n",
       "9     milestone internet marketing pvt ltd  "
      ]
     },
     "execution_count": 202,
     "metadata": {},
     "output_type": "execute_result"
    }
   ],
   "source": [
    "naukri"
   ]
  },
  {
   "cell_type": "markdown",
   "id": "4e782553",
   "metadata": {},
   "source": [
    "Q3: In this question you have to scrape data using the filters available on the webpage as shown below:\n",
    "        \n",
    "You have to use the location and salary filter.\n",
    "You have to scrape data for “Data Scientist” designation for first 10 job results.\n",
    "You have to scrape the job-title, job-location, company name, experience required. \n",
    "The location filter to be used is “Delhi/NCR”. The salary filter to be used is “3-6” lakhs\n",
    "The task will be done as shown in the below steps:\n",
    "1. first get the webpage https://www.naukri.com/\n",
    "2. Enter “Data Scientist” in “Skill, Designations, and Companies” field.\n",
    "3. Then click the search button.\n",
    "4. Then apply the location filter and salary filter by checking the respective boxes\n",
    "5. Then scrape the data for the first 10 jobs results you get.\n",
    "6. Finally create a dataframe of the scraped data.    "
   ]
  },
  {
   "cell_type": "code",
   "execution_count": 47,
   "id": "a8732db8",
   "metadata": {},
   "outputs": [],
   "source": [
    "driver.get(\"https://www.naukri.com/\")"
   ]
  },
  {
   "cell_type": "code",
   "execution_count": 212,
   "id": "5cf55efb",
   "metadata": {},
   "outputs": [],
   "source": [
    "jt=[]\n",
    "jl=[]\n",
    "jc=[]\n",
    "je=[]"
   ]
  },
  {
   "cell_type": "code",
   "execution_count": 213,
   "id": "126e0dd6",
   "metadata": {},
   "outputs": [],
   "source": [
    "t=driver.find_elements(By.XPATH,'//a[@class=\"title fw500 ellipsis\"]')\n",
    "for i in t[0:10]:\n",
    "    jt.append(i.text)"
   ]
  },
  {
   "cell_type": "code",
   "execution_count": 214,
   "id": "efd2e183",
   "metadata": {},
   "outputs": [],
   "source": [
    "c=driver.find_elements(By.XPATH,'//A[@class=\"subTitle ellipsis fleft\"]')\n",
    "for i in c[0:10]:\n",
    "    jc.append(i.text)"
   ]
  },
  {
   "cell_type": "code",
   "execution_count": 215,
   "id": "7c593f97",
   "metadata": {},
   "outputs": [],
   "source": [
    "e=driver.find_elements(By.XPATH,'//li[@class=\"fleft grey-text br2 placeHolderLi experience\"]')\n",
    "for i in e[0:10]:\n",
    "    je.append(i.text)"
   ]
  },
  {
   "cell_type": "code",
   "execution_count": 216,
   "id": "745250dd",
   "metadata": {},
   "outputs": [],
   "source": [
    "l=driver.find_elements(By.XPATH,'//li[@class=\"fleft grey-text br2 placeHolderLi location\"]')\n",
    "for i in l[0:10]:\n",
    "    jl.append(i.text)"
   ]
  },
  {
   "cell_type": "code",
   "execution_count": 217,
   "id": "9b0d4126",
   "metadata": {},
   "outputs": [
    {
     "name": "stdout",
     "output_type": "stream",
     "text": [
      "10 10 10 10\n"
     ]
    }
   ],
   "source": [
    "print(len(jt),len(jl),len(je),len(jc))"
   ]
  },
  {
   "cell_type": "code",
   "execution_count": 220,
   "id": "ed27f76d",
   "metadata": {},
   "outputs": [],
   "source": [
    "dc=pd.DataFrame({'TITLE':jt,'LOCATION':jl,'COMPANY':jc,'EXPERIENCE':je})"
   ]
  },
  {
   "cell_type": "code",
   "execution_count": 221,
   "id": "e823cc33",
   "metadata": {},
   "outputs": [
    {
     "data": {
      "text/html": [
       "<div>\n",
       "<style scoped>\n",
       "    .dataframe tbody tr th:only-of-type {\n",
       "        vertical-align: middle;\n",
       "    }\n",
       "\n",
       "    .dataframe tbody tr th {\n",
       "        vertical-align: top;\n",
       "    }\n",
       "\n",
       "    .dataframe thead th {\n",
       "        text-align: right;\n",
       "    }\n",
       "</style>\n",
       "<table border=\"1\" class=\"dataframe\">\n",
       "  <thead>\n",
       "    <tr style=\"text-align: right;\">\n",
       "      <th></th>\n",
       "      <th>TITLE</th>\n",
       "      <th>LOCATION</th>\n",
       "      <th>COMPANY</th>\n",
       "      <th>EXPERIENCE</th>\n",
       "    </tr>\n",
       "  </thead>\n",
       "  <tbody>\n",
       "    <tr>\n",
       "      <th>0</th>\n",
       "      <td>Senior Data Analyst</td>\n",
       "      <td>Bangalore/Bengaluru(Old Madras Road)</td>\n",
       "      <td>KrazyBee</td>\n",
       "      <td>3-6 Yrs</td>\n",
       "    </tr>\n",
       "    <tr>\n",
       "      <th>1</th>\n",
       "      <td>Senior Data Analyst</td>\n",
       "      <td>Bangalore/Bengaluru</td>\n",
       "      <td>Qualitest India Private Limited</td>\n",
       "      <td>5-8 Yrs</td>\n",
       "    </tr>\n",
       "    <tr>\n",
       "      <th>2</th>\n",
       "      <td>Sr. Data Analyst</td>\n",
       "      <td>Bangalore/Bengaluru, Pune</td>\n",
       "      <td>Global Indian School Education Services</td>\n",
       "      <td>6-11 Yrs</td>\n",
       "    </tr>\n",
       "    <tr>\n",
       "      <th>3</th>\n",
       "      <td>Sr Clinical Data Analyst</td>\n",
       "      <td>Bangalore/Bengaluru</td>\n",
       "      <td>LabCorp</td>\n",
       "      <td>2-5 Yrs</td>\n",
       "    </tr>\n",
       "    <tr>\n",
       "      <th>4</th>\n",
       "      <td>Master Data Management Business Analyst</td>\n",
       "      <td>Bangalore/Bengaluru</td>\n",
       "      <td>Accenture</td>\n",
       "      <td>6-8 Yrs</td>\n",
       "    </tr>\n",
       "    <tr>\n",
       "      <th>5</th>\n",
       "      <td>Intern Data Analyst</td>\n",
       "      <td>Bangalore/Bengaluru</td>\n",
       "      <td>FullStackTechies</td>\n",
       "      <td>0-1 Yrs</td>\n",
       "    </tr>\n",
       "    <tr>\n",
       "      <th>6</th>\n",
       "      <td>Data Analyst - Python/Artificial Intelligence</td>\n",
       "      <td>Bangalore/Bengaluru, Mumbai, Hyderabad/Secunde...</td>\n",
       "      <td>iMindYourBusiness</td>\n",
       "      <td>0-2 Yrs</td>\n",
       "    </tr>\n",
       "    <tr>\n",
       "      <th>7</th>\n",
       "      <td>Asst Clinical Data Analyst</td>\n",
       "      <td>Bangalore/Bengaluru</td>\n",
       "      <td>LabCorp</td>\n",
       "      <td>1-3 Yrs</td>\n",
       "    </tr>\n",
       "    <tr>\n",
       "      <th>8</th>\n",
       "      <td>Lead Data Analyst</td>\n",
       "      <td>Bangalore/Bengaluru</td>\n",
       "      <td>McAfee</td>\n",
       "      <td>5-9 Yrs</td>\n",
       "    </tr>\n",
       "    <tr>\n",
       "      <th>9</th>\n",
       "      <td>Data Analyst</td>\n",
       "      <td>Bangalore/Bengaluru, Ahmedabad</td>\n",
       "      <td>milestone internet marketing pvt ltd</td>\n",
       "      <td>2-7 Yrs</td>\n",
       "    </tr>\n",
       "  </tbody>\n",
       "</table>\n",
       "</div>"
      ],
      "text/plain": [
       "                                           TITLE  \\\n",
       "0                            Senior Data Analyst   \n",
       "1                            Senior Data Analyst   \n",
       "2                               Sr. Data Analyst   \n",
       "3                       Sr Clinical Data Analyst   \n",
       "4        Master Data Management Business Analyst   \n",
       "5                            Intern Data Analyst   \n",
       "6  Data Analyst - Python/Artificial Intelligence   \n",
       "7                     Asst Clinical Data Analyst   \n",
       "8                              Lead Data Analyst   \n",
       "9                                   Data Analyst   \n",
       "\n",
       "                                            LOCATION  \\\n",
       "0               Bangalore/Bengaluru(Old Madras Road)   \n",
       "1                                Bangalore/Bengaluru   \n",
       "2                          Bangalore/Bengaluru, Pune   \n",
       "3                                Bangalore/Bengaluru   \n",
       "4                                Bangalore/Bengaluru   \n",
       "5                                Bangalore/Bengaluru   \n",
       "6  Bangalore/Bengaluru, Mumbai, Hyderabad/Secunde...   \n",
       "7                                Bangalore/Bengaluru   \n",
       "8                                Bangalore/Bengaluru   \n",
       "9                     Bangalore/Bengaluru, Ahmedabad   \n",
       "\n",
       "                                   COMPANY EXPERIENCE  \n",
       "0                                 KrazyBee    3-6 Yrs  \n",
       "1          Qualitest India Private Limited    5-8 Yrs  \n",
       "2  Global Indian School Education Services   6-11 Yrs  \n",
       "3                                  LabCorp    2-5 Yrs  \n",
       "4                                Accenture    6-8 Yrs  \n",
       "5                         FullStackTechies    0-1 Yrs  \n",
       "6                        iMindYourBusiness    0-2 Yrs  \n",
       "7                                  LabCorp    1-3 Yrs  \n",
       "8                                   McAfee    5-9 Yrs  \n",
       "9     milestone internet marketing pvt ltd    2-7 Yrs  "
      ]
     },
     "execution_count": 221,
     "metadata": {},
     "output_type": "execute_result"
    }
   ],
   "source": [
    "dc"
   ]
  },
  {
   "cell_type": "markdown",
   "id": "5fc9c70d",
   "metadata": {},
   "source": [
    "Q4: Scrape data of first 100 sunglasses listings on flipkart.com. You have to scrape four attributes:\n",
    "1. Brand\n",
    "2. Product Description\n",
    "3. Price\n",
    "\n",
    "The attributes which you have to scrape is ticked marked in the below image.\n",
    "\n",
    "To scrape the data you have to go through following steps:\n",
    "1. Go to Flipkart webpage by url : https://www.flipkart.com/\n",
    "2. Enter “sunglasses” in the search field where “search for products, brands and more” is written and \n",
    "click the search icon\n",
    "3. After that you will reach to the page having a lot of sunglasses. From this page you can scrap the \n",
    "required data as usual"
   ]
  },
  {
   "cell_type": "code",
   "execution_count": 226,
   "id": "63ea13ae",
   "metadata": {},
   "outputs": [],
   "source": [
    "driver.get('https://www.flipkart.com/search?q=sunglasses&as=on&as-show=on&otracker=AS_Query_HistoryAutoSuggest_1_10_na_na_na&otracker1=AS_Query_HistoryAutoSuggest_1_10_na_na_na&as-pos=1&as-type=HISTORY&suggestionId=sunglasses&requestId=635a7b5a-3b44-4b53-bab4-d298652d4122&as-searchtext=SUNGLASSES')"
   ]
  },
  {
   "cell_type": "code",
   "execution_count": 227,
   "id": "2f26df48",
   "metadata": {},
   "outputs": [],
   "source": [
    "jbt=[]\n",
    "start=0\n",
    "end=3\n",
    "\n",
    "for page in range(start,end):\n",
    "    tts=driver.find_elements(By.XPATH,'//div[@class=\"_2WkVRV\"]')\n",
    "    for i in tts:\n",
    "        jbt.append(i.text)\n",
    "    nextt=driver.find_element(By.XPATH,'//a[@class=\"_1LKTO3\"]') \n",
    "    nextt.click()\n",
    "    time.sleep(5)"
   ]
  },
  {
   "cell_type": "code",
   "execution_count": 228,
   "id": "be5bcf42",
   "metadata": {},
   "outputs": [
    {
     "data": {
      "text/plain": [
       "120"
      ]
     },
     "execution_count": 228,
     "metadata": {},
     "output_type": "execute_result"
    }
   ],
   "source": [
    "len(jbt)"
   ]
  },
  {
   "cell_type": "code",
   "execution_count": 229,
   "id": "651e4a3f",
   "metadata": {},
   "outputs": [],
   "source": [
    "dsc=[]\n",
    "start=0\n",
    "end=3\n",
    "\n",
    "for page in range(start,end):\n",
    "    sst=driver.find_elements(By.XPATH,'//a[@class=\"IRpwTa\"]')\n",
    "    for i in sst:\n",
    "        dsc.append(i.text)\n",
    "    ne=driver.find_element(By.XPATH,'//a[@class=\"_1LKTO3\"]') \n",
    "    ne.click()\n",
    "    time.sleep(2)   "
   ]
  },
  {
   "cell_type": "code",
   "execution_count": 230,
   "id": "a2bc28ed",
   "metadata": {},
   "outputs": [],
   "source": [
    "mrp=[]\n",
    "start=0\n",
    "end=3\n",
    "\n",
    "for page in range(start,end):\n",
    "    ps=driver.find_elements(By.XPATH,'//div[@class=\"_30jeq3\"]')\n",
    "    for i in ps:\n",
    "        mrp.append(i.text)\n",
    "    nxt=driver.find_element(By.XPATH,'//a[@class=\"_1LKTO3\"]') \n",
    "    nxt.click()\n",
    "    time.sleep(2)      "
   ]
  },
  {
   "cell_type": "code",
   "execution_count": 231,
   "id": "81e0042e",
   "metadata": {},
   "outputs": [],
   "source": [
    "prc=[]\n",
    "start=0\n",
    "end=3\n",
    "\n",
    "for page in range(start,end):\n",
    "    pr=driver.find_elements(By.XPATH,'//div[@class=\"_3I9_wc\"]')\n",
    "    for i in pr:\n",
    "        prc.append(i.text)\n",
    "    nt=driver.find_element(By.XPATH,'//a[@class=\"_1LKTO3\"]') \n",
    "    nt.click()\n",
    "    time.sleep(2)     "
   ]
  },
  {
   "cell_type": "code",
   "execution_count": 232,
   "id": "70a376cf",
   "metadata": {},
   "outputs": [],
   "source": [
    "per=[]\n",
    "start=0\n",
    "end=3\n",
    "\n",
    "for page in range(start,end):\n",
    "    dr=driver.find_elements(By.XPATH,'//div[@class=\"_3Ay6Sb\"]')\n",
    "    for i in dr:\n",
    "        per.append(i.text)\n",
    "    nx=driver.find_element(By.XPATH,'//a[@class=\"_1LKTO3\"]') \n",
    "    nx.click()\n",
    "    time.sleep(2)         "
   ]
  },
  {
   "cell_type": "code",
   "execution_count": 233,
   "id": "886279bb",
   "metadata": {},
   "outputs": [],
   "source": [
    "a=jbt[0:100]\n",
    "b=dsc[0:100]\n",
    "c=mrp[0:100]\n",
    "d=per[0:100]\n",
    "e=prc[0:100]"
   ]
  },
  {
   "cell_type": "code",
   "execution_count": 234,
   "id": "c64d7351",
   "metadata": {},
   "outputs": [
    {
     "name": "stdout",
     "output_type": "stream",
     "text": [
      "100 100 100 100 100\n"
     ]
    }
   ],
   "source": [
    "print(len(a),len(b),len(c),len(d),len(e))"
   ]
  },
  {
   "cell_type": "code",
   "execution_count": 235,
   "id": "70834135",
   "metadata": {},
   "outputs": [],
   "source": [
    "dp=pd.DataFrame({'BRAND':a,'DESCR':b,'MRP':c,'DISC_PRICE':e,'DISC_%':d})"
   ]
  },
  {
   "cell_type": "code",
   "execution_count": 236,
   "id": "7d1bbb36",
   "metadata": {},
   "outputs": [
    {
     "data": {
      "text/html": [
       "<div>\n",
       "<style scoped>\n",
       "    .dataframe tbody tr th:only-of-type {\n",
       "        vertical-align: middle;\n",
       "    }\n",
       "\n",
       "    .dataframe tbody tr th {\n",
       "        vertical-align: top;\n",
       "    }\n",
       "\n",
       "    .dataframe thead th {\n",
       "        text-align: right;\n",
       "    }\n",
       "</style>\n",
       "<table border=\"1\" class=\"dataframe\">\n",
       "  <thead>\n",
       "    <tr style=\"text-align: right;\">\n",
       "      <th></th>\n",
       "      <th>BRAND</th>\n",
       "      <th>DESCR</th>\n",
       "      <th>MRP</th>\n",
       "      <th>DISC_PRICE</th>\n",
       "      <th>DISC_%</th>\n",
       "    </tr>\n",
       "  </thead>\n",
       "  <tbody>\n",
       "    <tr>\n",
       "      <th>0</th>\n",
       "      <td>VINCENT CHASE</td>\n",
       "      <td>UV Protection Retro Square Sunglasses (54)</td>\n",
       "      <td>₹949</td>\n",
       "      <td>₹699</td>\n",
       "      <td>52% off</td>\n",
       "    </tr>\n",
       "    <tr>\n",
       "      <th>1</th>\n",
       "      <td>VINCENT CHASE</td>\n",
       "      <td>UV Protection, Mirrored Retro Square Sunglasse...</td>\n",
       "      <td>₹849</td>\n",
       "      <td>₹1,999</td>\n",
       "      <td>57% off</td>\n",
       "    </tr>\n",
       "    <tr>\n",
       "      <th>2</th>\n",
       "      <td>Fastrack</td>\n",
       "      <td>UV Protection Wayfarer Sunglasses (Free Size)</td>\n",
       "      <td>₹799</td>\n",
       "      <td>₹1,499</td>\n",
       "      <td>20% off</td>\n",
       "    </tr>\n",
       "    <tr>\n",
       "      <th>3</th>\n",
       "      <td>Fastrack</td>\n",
       "      <td>by Lenskart Polarized, UV Protection Aviator S...</td>\n",
       "      <td>₹639</td>\n",
       "      <td>₹1,999</td>\n",
       "      <td>20% off</td>\n",
       "    </tr>\n",
       "    <tr>\n",
       "      <th>4</th>\n",
       "      <td>PIRASO</td>\n",
       "      <td>by Lenskart Polarized, UV Protection Rectangul...</td>\n",
       "      <td>₹224</td>\n",
       "      <td>₹1,999</td>\n",
       "      <td>85% off</td>\n",
       "    </tr>\n",
       "    <tr>\n",
       "      <th>...</th>\n",
       "      <td>...</td>\n",
       "      <td>...</td>\n",
       "      <td>...</td>\n",
       "      <td>...</td>\n",
       "      <td>...</td>\n",
       "    </tr>\n",
       "    <tr>\n",
       "      <th>95</th>\n",
       "      <td>VINCENT CHASE</td>\n",
       "      <td>by Lenskart Polarized, UV Protection Aviator S...</td>\n",
       "      <td>₹475</td>\n",
       "      <td>₹1,199</td>\n",
       "      <td>69% off</td>\n",
       "    </tr>\n",
       "    <tr>\n",
       "      <th>96</th>\n",
       "      <td>PHENOMENAL</td>\n",
       "      <td>UV Protection, Gradient Butterfly Sunglasses (62)</td>\n",
       "      <td>₹267</td>\n",
       "      <td>₹1,599</td>\n",
       "      <td>73% off</td>\n",
       "    </tr>\n",
       "    <tr>\n",
       "      <th>97</th>\n",
       "      <td>ROZZETTA CRAFT</td>\n",
       "      <td>UV Protection Wrap-around Sunglasses (63)</td>\n",
       "      <td>₹499</td>\n",
       "      <td>₹1,299</td>\n",
       "      <td>75% off</td>\n",
       "    </tr>\n",
       "    <tr>\n",
       "      <th>98</th>\n",
       "      <td>LIZA ANGEL</td>\n",
       "      <td>UV Protection, Gradient Rectangular Sunglasses...</td>\n",
       "      <td>₹199</td>\n",
       "      <td>₹1,499</td>\n",
       "      <td>80% off</td>\n",
       "    </tr>\n",
       "    <tr>\n",
       "      <th>99</th>\n",
       "      <td>VINCENT CHASE</td>\n",
       "      <td>by Lenskart Polarized, UV Protection Cat-eye S...</td>\n",
       "      <td>₹648</td>\n",
       "      <td>₹1,999</td>\n",
       "      <td>62% off</td>\n",
       "    </tr>\n",
       "  </tbody>\n",
       "</table>\n",
       "<p>100 rows × 5 columns</p>\n",
       "</div>"
      ],
      "text/plain": [
       "             BRAND                                              DESCR   MRP  \\\n",
       "0    VINCENT CHASE         UV Protection Retro Square Sunglasses (54)  ₹949   \n",
       "1    VINCENT CHASE  UV Protection, Mirrored Retro Square Sunglasse...  ₹849   \n",
       "2         Fastrack      UV Protection Wayfarer Sunglasses (Free Size)  ₹799   \n",
       "3         Fastrack  by Lenskart Polarized, UV Protection Aviator S...  ₹639   \n",
       "4           PIRASO  by Lenskart Polarized, UV Protection Rectangul...  ₹224   \n",
       "..             ...                                                ...   ...   \n",
       "95   VINCENT CHASE  by Lenskart Polarized, UV Protection Aviator S...  ₹475   \n",
       "96      PHENOMENAL  UV Protection, Gradient Butterfly Sunglasses (62)  ₹267   \n",
       "97  ROZZETTA CRAFT          UV Protection Wrap-around Sunglasses (63)  ₹499   \n",
       "98      LIZA ANGEL  UV Protection, Gradient Rectangular Sunglasses...  ₹199   \n",
       "99   VINCENT CHASE  by Lenskart Polarized, UV Protection Cat-eye S...  ₹648   \n",
       "\n",
       "   DISC_PRICE   DISC_%  \n",
       "0        ₹699  52% off  \n",
       "1      ₹1,999  57% off  \n",
       "2      ₹1,499  20% off  \n",
       "3      ₹1,999  20% off  \n",
       "4      ₹1,999  85% off  \n",
       "..        ...      ...  \n",
       "95     ₹1,199  69% off  \n",
       "96     ₹1,599  73% off  \n",
       "97     ₹1,299  75% off  \n",
       "98     ₹1,499  80% off  \n",
       "99     ₹1,999  62% off  \n",
       "\n",
       "[100 rows x 5 columns]"
      ]
     },
     "execution_count": 236,
     "metadata": {},
     "output_type": "execute_result"
    }
   ],
   "source": [
    "dp"
   ]
  },
  {
   "cell_type": "markdown",
   "id": "c8bf058d",
   "metadata": {},
   "source": [
    "Q5: Scrape 100 reviews data from flipkart.com for iphone11 phone.\n",
    "This task will be done in following steps:\n",
    "1. First get the webpage https://www.flipkart.com/\n",
    "2. Enter “iphone 11” in “Search” field . \n",
    "3. Then click the search button.\n",
    "You will reach to the below shown webpage \n",
    "\n",
    "\n",
    "As shown in the above page you have to scrape the tick marked attributes.These are:\n",
    "1. Rating\n",
    "2. Review summary\n",
    "3. Full review\n",
    "4. You have to scrape this data for first 100 reviews.\n"
   ]
  },
  {
   "cell_type": "code",
   "execution_count": 237,
   "id": "2e102694",
   "metadata": {},
   "outputs": [],
   "source": [
    "driver.get('https://www.flipkart.com/apple-iphone-11-white-64-gb/product-reviews/itmfc6a7091eb20b?pid=MOBFWQ6BVWVEH3XE&lid=LSTMOBFWQ6BVWVEH3XEMXQMLO&marketplace=FLIPKART')"
   ]
  },
  {
   "cell_type": "code",
   "execution_count": 238,
   "id": "266b9ccd",
   "metadata": {},
   "outputs": [],
   "source": [
    "rating=[]\n",
    "start=0\n",
    "end=11\n",
    "\n",
    "for page in range(start,end):\n",
    "    rr=driver.find_elements(By.XPATH,'//div[@class=\"_3LWZlK _1BLPMq\"]')\n",
    "    for i in rr:\n",
    "            rating.append(i.text)\n",
    "    nnn=driver.find_element(By.XPATH,'//a[@class=\"_1LKTO3\"]')\n",
    "    nnn.click()\n",
    "    time.sleep(2)"
   ]
  },
  {
   "cell_type": "code",
   "execution_count": 239,
   "id": "753636a8",
   "metadata": {},
   "outputs": [],
   "source": [
    "overview=[]\n",
    "start=0\n",
    "end=11\n",
    "\n",
    "for page in range(start,end):\n",
    "    ppp=driver.find_elements(By.XPATH,'//p[@class=\"_2-N8zT\"]')\n",
    "    for i in ppp:\n",
    "            overview.append(i.text)\n",
    "    ntt=driver.find_element(By.XPATH,'//a[@class=\"_1LKTO3\"]')\n",
    "    ntt.click()\n",
    "    time.sleep(2)\n"
   ]
  },
  {
   "cell_type": "code",
   "execution_count": 240,
   "id": "14924019",
   "metadata": {},
   "outputs": [],
   "source": [
    "fr=[]\n",
    "start=0\n",
    "end=11\n",
    "\n",
    "for page in range(start,end):\n",
    "    ss=driver.find_elements(By.XPATH,'//div[@class=\"t-ZTKy\"]')\n",
    "    for i in ss:\n",
    "            fr.append(i.text)\n",
    "    ntt=driver.find_element(By.XPATH,'//a[@class=\"_1LKTO3\"]')\n",
    "    ntt.click()\n",
    "    time.sleep(2)"
   ]
  },
  {
   "cell_type": "code",
   "execution_count": 241,
   "id": "0dafad65",
   "metadata": {},
   "outputs": [],
   "source": [
    "r=rating[0:100]\n",
    "s=overview[0:100]\n",
    "f=fr[0:100]"
   ]
  },
  {
   "cell_type": "code",
   "execution_count": 242,
   "id": "a456b706",
   "metadata": {},
   "outputs": [],
   "source": [
    "fg=pd.DataFrame({'RATING':r,'REVIEW':s,'FULL_SUMMARY':f})"
   ]
  },
  {
   "cell_type": "code",
   "execution_count": 243,
   "id": "626517cc",
   "metadata": {},
   "outputs": [
    {
     "data": {
      "text/html": [
       "<div>\n",
       "<style scoped>\n",
       "    .dataframe tbody tr th:only-of-type {\n",
       "        vertical-align: middle;\n",
       "    }\n",
       "\n",
       "    .dataframe tbody tr th {\n",
       "        vertical-align: top;\n",
       "    }\n",
       "\n",
       "    .dataframe thead th {\n",
       "        text-align: right;\n",
       "    }\n",
       "</style>\n",
       "<table border=\"1\" class=\"dataframe\">\n",
       "  <thead>\n",
       "    <tr style=\"text-align: right;\">\n",
       "      <th></th>\n",
       "      <th>RATING</th>\n",
       "      <th>REVIEW</th>\n",
       "      <th>FULL_SUMMARY</th>\n",
       "    </tr>\n",
       "  </thead>\n",
       "  <tbody>\n",
       "    <tr>\n",
       "      <th>0</th>\n",
       "      <td>5</td>\n",
       "      <td>Highly recommended</td>\n",
       "      <td>Really satisfied with the Product I received.....</td>\n",
       "    </tr>\n",
       "    <tr>\n",
       "      <th>1</th>\n",
       "      <td>5</td>\n",
       "      <td>Perfect product!</td>\n",
       "      <td>Amazing phone with great cameras and better ba...</td>\n",
       "    </tr>\n",
       "    <tr>\n",
       "      <th>2</th>\n",
       "      <td>5</td>\n",
       "      <td>Perfect product!</td>\n",
       "      <td>Great iPhone very snappy experience as apple k...</td>\n",
       "    </tr>\n",
       "    <tr>\n",
       "      <th>3</th>\n",
       "      <td>5</td>\n",
       "      <td>Worth every penny</td>\n",
       "      <td>Previously I was using one plus 3t it was a gr...</td>\n",
       "    </tr>\n",
       "    <tr>\n",
       "      <th>4</th>\n",
       "      <td>5</td>\n",
       "      <td>Perfect product!</td>\n",
       "      <td>What a camera .....just awesome ..you can feel...</td>\n",
       "    </tr>\n",
       "    <tr>\n",
       "      <th>...</th>\n",
       "      <td>...</td>\n",
       "      <td>...</td>\n",
       "      <td>...</td>\n",
       "    </tr>\n",
       "    <tr>\n",
       "      <th>95</th>\n",
       "      <td>5</td>\n",
       "      <td>Fabulous!</td>\n",
       "      <td>Iphone is just awesome.. battery backup is ver...</td>\n",
       "    </tr>\n",
       "    <tr>\n",
       "      <th>96</th>\n",
       "      <td>5</td>\n",
       "      <td>Great product</td>\n",
       "      <td>Really worth of money. i just love it. It is t...</td>\n",
       "    </tr>\n",
       "    <tr>\n",
       "      <th>97</th>\n",
       "      <td>5</td>\n",
       "      <td>Worth every penny</td>\n",
       "      <td>This is my first ever I phone. Before this I w...</td>\n",
       "    </tr>\n",
       "    <tr>\n",
       "      <th>98</th>\n",
       "      <td>5</td>\n",
       "      <td>Highly recommended</td>\n",
       "      <td>Best budget Iphone till date ❤️ go for it guys...</td>\n",
       "    </tr>\n",
       "    <tr>\n",
       "      <th>99</th>\n",
       "      <td>4</td>\n",
       "      <td>Good choice</td>\n",
       "      <td>I was using Iphone 6s and also Oneplus 6t. Bot...</td>\n",
       "    </tr>\n",
       "  </tbody>\n",
       "</table>\n",
       "<p>100 rows × 3 columns</p>\n",
       "</div>"
      ],
      "text/plain": [
       "   RATING              REVIEW  \\\n",
       "0       5  Highly recommended   \n",
       "1       5    Perfect product!   \n",
       "2       5    Perfect product!   \n",
       "3       5   Worth every penny   \n",
       "4       5    Perfect product!   \n",
       "..    ...                 ...   \n",
       "95      5           Fabulous!   \n",
       "96      5       Great product   \n",
       "97      5   Worth every penny   \n",
       "98      5  Highly recommended   \n",
       "99      4         Good choice   \n",
       "\n",
       "                                         FULL_SUMMARY  \n",
       "0   Really satisfied with the Product I received.....  \n",
       "1   Amazing phone with great cameras and better ba...  \n",
       "2   Great iPhone very snappy experience as apple k...  \n",
       "3   Previously I was using one plus 3t it was a gr...  \n",
       "4   What a camera .....just awesome ..you can feel...  \n",
       "..                                                ...  \n",
       "95  Iphone is just awesome.. battery backup is ver...  \n",
       "96  Really worth of money. i just love it. It is t...  \n",
       "97  This is my first ever I phone. Before this I w...  \n",
       "98  Best budget Iphone till date ❤️ go for it guys...  \n",
       "99  I was using Iphone 6s and also Oneplus 6t. Bot...  \n",
       "\n",
       "[100 rows x 3 columns]"
      ]
     },
     "execution_count": 243,
     "metadata": {},
     "output_type": "execute_result"
    }
   ],
   "source": [
    "fg"
   ]
  },
  {
   "cell_type": "markdown",
   "id": "ad4d841d",
   "metadata": {},
   "source": [
    "Q6: Scrape data for first 100 sneakers you find when you visit flipkart.com and search for “sneakers” in the \n",
    "search field.\n",
    "You have to scrape 4 attributes of each sneaker:\n",
    "1. Brand\n",
    "2. Product Description\n",
    "3. Price\n",
    "As shown in the below image, you have to scrape the tick marked attributes\n",
    "\n",
    "\n"
   ]
  },
  {
   "cell_type": "code",
   "execution_count": 3,
   "id": "374c8d42",
   "metadata": {},
   "outputs": [],
   "source": [
    "driver.get('https://www.flipkart.com/search?q=sneakers&as=on&as-show=on&otracker=AS_Query_OrganicAutoSuggest_3_8_na_na_na&otracker1=AS_Query_OrganicAutoSuggest_3_8_na_na_na&as-pos=3&as-type=RECENT&suggestionId=sneakers&requestId=c313ab81-93c2-42be-87e7-b56b991e556e&as-searchtext=SNEAKERS')"
   ]
  },
  {
   "cell_type": "code",
   "execution_count": 6,
   "id": "77d0cdfd",
   "metadata": {},
   "outputs": [],
   "source": [
    "brand=[]\n",
    "\n",
    "start=0\n",
    "end=3\n",
    "\n",
    "for page in range(start,end):\n",
    "    link=driver.find_elements(By.XPATH,'//div[@class=\"_2WkVRV\"]')\n",
    "    for i in link:\n",
    "        brand.append(i.text)\n",
    "    bn=driver.find_element(By.XPATH,'//a[@class=\"_1LKTO3\"]')\n",
    "    bn.click()\n",
    "    time.sleep(2)"
   ]
  },
  {
   "cell_type": "code",
   "execution_count": 7,
   "id": "64e5e4cf",
   "metadata": {},
   "outputs": [],
   "source": [
    "price=[]\n",
    "start=0\n",
    "end=3\n",
    "\n",
    "for page in range(start,end):\n",
    "    prce=driver.find_elements(By.XPATH,'//div[@class=\"_30jeq3\"]')\n",
    "    for i in prce:\n",
    "        price.append(i.text)\n",
    "    bb=driver.find_element(By.XPATH,'//a[@class=\"_1LKTO3\"]')\n",
    "    bb.click()\n",
    "    time.sleep(2)    "
   ]
  },
  {
   "cell_type": "code",
   "execution_count": 8,
   "id": "45d25ed7",
   "metadata": {},
   "outputs": [],
   "source": [
    "mr=[]\n",
    "start=0\n",
    "end=3\n",
    "\n",
    "for page in range(start,end):\n",
    "    pe=driver.find_elements(By.XPATH,'//div[@class=\"_3I9_wc\"]')\n",
    "    for i in pe:\n",
    "        mr.append(i.text)\n",
    "    bt=driver.find_element(By.XPATH,'//a[@class=\"_1LKTO3\"]')\n",
    "    bt.click()\n",
    "    time.sleep(2)    "
   ]
  },
  {
   "cell_type": "code",
   "execution_count": 9,
   "id": "d44fb279",
   "metadata": {},
   "outputs": [],
   "source": [
    "ppr=[]\n",
    "start=0\n",
    "end=3\n",
    "\n",
    "for page in range(start,end):\n",
    "    eq=driver.find_elements(By.XPATH,'//div[@class=\"_3Ay6Sb\"]')\n",
    "    for i in eq:\n",
    "        ppr.append(i.text)\n",
    "    ot=driver.find_element(By.XPATH,'//a[@class=\"_1LKTO3\"]')\n",
    "    ot.click()\n",
    "    time.sleep(2)  "
   ]
  },
  {
   "cell_type": "code",
   "execution_count": 16,
   "id": "37e6bf3e",
   "metadata": {},
   "outputs": [],
   "source": [
    "dess=[]\n",
    "start=0\n",
    "end=3\n",
    "\n",
    "for page in range(start,end):\n",
    "    tff=driver.find_elements(By.XPATH,'//a[@class=\"IRpwTa\" or @class=\"IRpwTa _2-ICcC\"]')\n",
    "    for i in tff:\n",
    "        dess.append(i.text)\n",
    "    mk=driver.find_element(By.XPATH,'//a[@class=\"_1LKTO3\"]')\n",
    "    mk.click()\n",
    "    time.sleep(2)      "
   ]
  },
  {
   "cell_type": "code",
   "execution_count": 17,
   "id": "12491899",
   "metadata": {},
   "outputs": [
    {
     "name": "stdout",
     "output_type": "stream",
     "text": [
      "120 120 120 120 120\n"
     ]
    }
   ],
   "source": [
    "print(len(brand),len(price),len(mr),len(ppr),len(dess))"
   ]
  },
  {
   "cell_type": "code",
   "execution_count": 18,
   "id": "649c49b7",
   "metadata": {},
   "outputs": [],
   "source": [
    "oj=pd.DataFrame({'BRAND':brand,'DESC':dess,'MRP':mr,'OFFER_PRICE':price,'%OFF':ppr})"
   ]
  },
  {
   "cell_type": "code",
   "execution_count": 19,
   "id": "7cf258de",
   "metadata": {},
   "outputs": [
    {
     "data": {
      "text/html": [
       "<div>\n",
       "<style scoped>\n",
       "    .dataframe tbody tr th:only-of-type {\n",
       "        vertical-align: middle;\n",
       "    }\n",
       "\n",
       "    .dataframe tbody tr th {\n",
       "        vertical-align: top;\n",
       "    }\n",
       "\n",
       "    .dataframe thead th {\n",
       "        text-align: right;\n",
       "    }\n",
       "</style>\n",
       "<table border=\"1\" class=\"dataframe\">\n",
       "  <thead>\n",
       "    <tr style=\"text-align: right;\">\n",
       "      <th></th>\n",
       "      <th>BRAND</th>\n",
       "      <th>DESC</th>\n",
       "      <th>MRP</th>\n",
       "      <th>OFFER_PRICE</th>\n",
       "      <th>%OFF</th>\n",
       "    </tr>\n",
       "  </thead>\n",
       "  <tbody>\n",
       "    <tr>\n",
       "      <th>0</th>\n",
       "      <td>RapidBox</td>\n",
       "      <td>Sneakers For Men</td>\n",
       "      <td>₹999</td>\n",
       "      <td>₹314</td>\n",
       "      <td>68% off</td>\n",
       "    </tr>\n",
       "    <tr>\n",
       "      <th>1</th>\n",
       "      <td>RapidBox</td>\n",
       "      <td>Stylish Sneakers For Women</td>\n",
       "      <td>₹999</td>\n",
       "      <td>₹259</td>\n",
       "      <td>67% off</td>\n",
       "    </tr>\n",
       "    <tr>\n",
       "      <th>2</th>\n",
       "      <td>PUMA</td>\n",
       "      <td>Glory Sneakers For Men</td>\n",
       "      <td>₹2,999</td>\n",
       "      <td>₹351</td>\n",
       "      <td>64% off</td>\n",
       "    </tr>\n",
       "    <tr>\n",
       "      <th>3</th>\n",
       "      <td>Deals4you</td>\n",
       "      <td>Mesh | Ultralightweight | Comfortable | Breath...</td>\n",
       "      <td>₹999</td>\n",
       "      <td>₹799</td>\n",
       "      <td>65% off</td>\n",
       "    </tr>\n",
       "    <tr>\n",
       "      <th>4</th>\n",
       "      <td>PUMA</td>\n",
       "      <td>Sneakers For Women</td>\n",
       "      <td>₹5,499</td>\n",
       "      <td>₹1,892</td>\n",
       "      <td>62% off</td>\n",
       "    </tr>\n",
       "    <tr>\n",
       "      <th>...</th>\n",
       "      <td>...</td>\n",
       "      <td>...</td>\n",
       "      <td>...</td>\n",
       "      <td>...</td>\n",
       "      <td>...</td>\n",
       "    </tr>\n",
       "    <tr>\n",
       "      <th>115</th>\n",
       "      <td>BIG FOX</td>\n",
       "      <td>Mens Casual Lase-ups Tube Shoker Sole Sneaker ...</td>\n",
       "      <td>₹2,499</td>\n",
       "      <td>₹1,723</td>\n",
       "      <td>56% off</td>\n",
       "    </tr>\n",
       "    <tr>\n",
       "      <th>116</th>\n",
       "      <td>AMICO</td>\n",
       "      <td>Unique &amp; Perfect Collection Combo Pack of 02 S...</td>\n",
       "      <td>₹999</td>\n",
       "      <td>₹1,749</td>\n",
       "      <td>50% off</td>\n",
       "    </tr>\n",
       "    <tr>\n",
       "      <th>117</th>\n",
       "      <td>LEVI'S</td>\n",
       "      <td>Sneakers For Men</td>\n",
       "      <td>₹2,799</td>\n",
       "      <td>₹265</td>\n",
       "      <td>46% off</td>\n",
       "    </tr>\n",
       "    <tr>\n",
       "      <th>118</th>\n",
       "      <td>PUMA</td>\n",
       "      <td>Levi's Men's Henry Sneakers Sneakers For Men</td>\n",
       "      <td>₹4,999</td>\n",
       "      <td>₹959</td>\n",
       "      <td>70% off</td>\n",
       "    </tr>\n",
       "    <tr>\n",
       "      <th>119</th>\n",
       "      <td>RESNAPSHOEZONE</td>\n",
       "      <td>Sneakers For Men</td>\n",
       "      <td>₹1,250</td>\n",
       "      <td>₹296</td>\n",
       "      <td>55% off</td>\n",
       "    </tr>\n",
       "  </tbody>\n",
       "</table>\n",
       "<p>120 rows × 5 columns</p>\n",
       "</div>"
      ],
      "text/plain": [
       "              BRAND                                               DESC  \\\n",
       "0          RapidBox                                   Sneakers For Men   \n",
       "1          RapidBox                         Stylish Sneakers For Women   \n",
       "2              PUMA                             Glory Sneakers For Men   \n",
       "3         Deals4you  Mesh | Ultralightweight | Comfortable | Breath...   \n",
       "4              PUMA                                 Sneakers For Women   \n",
       "..              ...                                                ...   \n",
       "115         BIG FOX  Mens Casual Lase-ups Tube Shoker Sole Sneaker ...   \n",
       "116           AMICO  Unique & Perfect Collection Combo Pack of 02 S...   \n",
       "117          LEVI'S                                   Sneakers For Men   \n",
       "118            PUMA       Levi's Men's Henry Sneakers Sneakers For Men   \n",
       "119  RESNAPSHOEZONE                                   Sneakers For Men   \n",
       "\n",
       "        MRP OFFER_PRICE     %OFF  \n",
       "0      ₹999        ₹314  68% off  \n",
       "1      ₹999        ₹259  67% off  \n",
       "2    ₹2,999        ₹351  64% off  \n",
       "3      ₹999        ₹799  65% off  \n",
       "4    ₹5,499      ₹1,892  62% off  \n",
       "..      ...         ...      ...  \n",
       "115  ₹2,499      ₹1,723  56% off  \n",
       "116    ₹999      ₹1,749  50% off  \n",
       "117  ₹2,799        ₹265  46% off  \n",
       "118  ₹4,999        ₹959  70% off  \n",
       "119  ₹1,250        ₹296  55% off  \n",
       "\n",
       "[120 rows x 5 columns]"
      ]
     },
     "execution_count": 19,
     "metadata": {},
     "output_type": "execute_result"
    }
   ],
   "source": [
    "oj"
   ]
  },
  {
   "cell_type": "code",
   "execution_count": 20,
   "id": "f0131b76",
   "metadata": {},
   "outputs": [],
   "source": [
    "newoj=oj.iloc[0:100,:]"
   ]
  },
  {
   "cell_type": "code",
   "execution_count": 21,
   "id": "f62a440b",
   "metadata": {},
   "outputs": [
    {
     "data": {
      "text/html": [
       "<div>\n",
       "<style scoped>\n",
       "    .dataframe tbody tr th:only-of-type {\n",
       "        vertical-align: middle;\n",
       "    }\n",
       "\n",
       "    .dataframe tbody tr th {\n",
       "        vertical-align: top;\n",
       "    }\n",
       "\n",
       "    .dataframe thead th {\n",
       "        text-align: right;\n",
       "    }\n",
       "</style>\n",
       "<table border=\"1\" class=\"dataframe\">\n",
       "  <thead>\n",
       "    <tr style=\"text-align: right;\">\n",
       "      <th></th>\n",
       "      <th>BRAND</th>\n",
       "      <th>DESC</th>\n",
       "      <th>MRP</th>\n",
       "      <th>OFFER_PRICE</th>\n",
       "      <th>%OFF</th>\n",
       "    </tr>\n",
       "  </thead>\n",
       "  <tbody>\n",
       "    <tr>\n",
       "      <th>0</th>\n",
       "      <td>RapidBox</td>\n",
       "      <td>Sneakers For Men</td>\n",
       "      <td>₹999</td>\n",
       "      <td>₹314</td>\n",
       "      <td>68% off</td>\n",
       "    </tr>\n",
       "    <tr>\n",
       "      <th>1</th>\n",
       "      <td>RapidBox</td>\n",
       "      <td>Stylish Sneakers For Women</td>\n",
       "      <td>₹999</td>\n",
       "      <td>₹259</td>\n",
       "      <td>67% off</td>\n",
       "    </tr>\n",
       "    <tr>\n",
       "      <th>2</th>\n",
       "      <td>PUMA</td>\n",
       "      <td>Glory Sneakers For Men</td>\n",
       "      <td>₹2,999</td>\n",
       "      <td>₹351</td>\n",
       "      <td>64% off</td>\n",
       "    </tr>\n",
       "    <tr>\n",
       "      <th>3</th>\n",
       "      <td>Deals4you</td>\n",
       "      <td>Mesh | Ultralightweight | Comfortable | Breath...</td>\n",
       "      <td>₹999</td>\n",
       "      <td>₹799</td>\n",
       "      <td>65% off</td>\n",
       "    </tr>\n",
       "    <tr>\n",
       "      <th>4</th>\n",
       "      <td>PUMA</td>\n",
       "      <td>Sneakers For Women</td>\n",
       "      <td>₹5,499</td>\n",
       "      <td>₹1,892</td>\n",
       "      <td>62% off</td>\n",
       "    </tr>\n",
       "    <tr>\n",
       "      <th>...</th>\n",
       "      <td>...</td>\n",
       "      <td>...</td>\n",
       "      <td>...</td>\n",
       "      <td>...</td>\n",
       "      <td>...</td>\n",
       "    </tr>\n",
       "    <tr>\n",
       "      <th>95</th>\n",
       "      <td>MAFLO</td>\n",
       "      <td>Trendy Lace Up Sneakers For Men</td>\n",
       "      <td>₹1,299</td>\n",
       "      <td>₹549</td>\n",
       "      <td>63% off</td>\n",
       "    </tr>\n",
       "    <tr>\n",
       "      <th>96</th>\n",
       "      <td>Robbie jones</td>\n",
       "      <td>Puma Smash Wns v2 L Sneakers For Women</td>\n",
       "      <td>₹999</td>\n",
       "      <td>₹458</td>\n",
       "      <td>54% off</td>\n",
       "    </tr>\n",
       "    <tr>\n",
       "      <th>97</th>\n",
       "      <td>Layasa</td>\n",
       "      <td>Casual Sneakers Black Outdoor Shoes For Boys A...</td>\n",
       "      <td>₹999</td>\n",
       "      <td>₹499</td>\n",
       "      <td>75% off</td>\n",
       "    </tr>\n",
       "    <tr>\n",
       "      <th>98</th>\n",
       "      <td>World Wear Footwear</td>\n",
       "      <td>supr Sneakers For Men</td>\n",
       "      <td>₹499</td>\n",
       "      <td>₹299</td>\n",
       "      <td>40% off</td>\n",
       "    </tr>\n",
       "    <tr>\n",
       "      <th>99</th>\n",
       "      <td>MAFLO</td>\n",
       "      <td>White &amp; Black Sneakers For Men Casual Shoes Fo...</td>\n",
       "      <td>₹1,299</td>\n",
       "      <td>₹366</td>\n",
       "      <td>71% off</td>\n",
       "    </tr>\n",
       "  </tbody>\n",
       "</table>\n",
       "<p>100 rows × 5 columns</p>\n",
       "</div>"
      ],
      "text/plain": [
       "                  BRAND                                               DESC  \\\n",
       "0              RapidBox                                   Sneakers For Men   \n",
       "1              RapidBox                         Stylish Sneakers For Women   \n",
       "2                  PUMA                             Glory Sneakers For Men   \n",
       "3             Deals4you  Mesh | Ultralightweight | Comfortable | Breath...   \n",
       "4                  PUMA                                 Sneakers For Women   \n",
       "..                  ...                                                ...   \n",
       "95                MAFLO                    Trendy Lace Up Sneakers For Men   \n",
       "96         Robbie jones             Puma Smash Wns v2 L Sneakers For Women   \n",
       "97               Layasa  Casual Sneakers Black Outdoor Shoes For Boys A...   \n",
       "98  World Wear Footwear                              supr Sneakers For Men   \n",
       "99                MAFLO  White & Black Sneakers For Men Casual Shoes Fo...   \n",
       "\n",
       "       MRP OFFER_PRICE     %OFF  \n",
       "0     ₹999        ₹314  68% off  \n",
       "1     ₹999        ₹259  67% off  \n",
       "2   ₹2,999        ₹351  64% off  \n",
       "3     ₹999        ₹799  65% off  \n",
       "4   ₹5,499      ₹1,892  62% off  \n",
       "..     ...         ...      ...  \n",
       "95  ₹1,299        ₹549  63% off  \n",
       "96    ₹999        ₹458  54% off  \n",
       "97    ₹999        ₹499  75% off  \n",
       "98    ₹499        ₹299  40% off  \n",
       "99  ₹1,299        ₹366  71% off  \n",
       "\n",
       "[100 rows x 5 columns]"
      ]
     },
     "execution_count": 21,
     "metadata": {},
     "output_type": "execute_result"
    }
   ],
   "source": [
    "newoj"
   ]
  },
  {
   "cell_type": "markdown",
   "id": "0a9adbb9",
   "metadata": {},
   "source": [
    "Q7: Go to the link - https://www.myntra.com/shoes\n",
    "Set second Price filter and Color filter to “Black”, as shown in the below image.\n",
    "\n",
    "And then scrape First 100 shoes data you get. The data should include “Brand” of the shoes , Short Shoe \n",
    "description, price of the shoe as shown in the below image"
   ]
  },
  {
   "cell_type": "markdown",
   "id": "06e077b8",
   "metadata": {},
   "source": [
    "scrapping of the data for this question is not possible as the option to inspect is not available. The wishlish pop up is popping each time the cursor is on the BRAND,PRICE OR DESC box.\n",
    "\n",
    "The screenshot of the same is already shared on the ticket\n",
    "\n",
    "Moreover while checking if at all we can scrap the data from this website ,errors are being displayed"
   ]
  },
  {
   "cell_type": "markdown",
   "id": "7804c4e1",
   "metadata": {},
   "source": [
    "Q8: Go to webpage https://www.amazon.in/\n",
    "Enter “Laptop” in the search field and then click the search icon.\n",
    "Then set CPU Type filter to “Intel Core i7” as shown in the below image:\n",
    "\n",
    "After setting the filters scrape first 10 laptops data. You have to scrape 3 attributesfor each laptop:\n",
    "1. Title\n",
    "2. Ratings\n",
    "3. Price\n"
   ]
  },
  {
   "cell_type": "code",
   "execution_count": 6,
   "id": "48117324",
   "metadata": {},
   "outputs": [],
   "source": [
    "driver.get('https://www.amazon.in/s?k=LAPTOP&rh=n%3A1375424031%2Cp_n_feature_thirteen_browse-bin%3A12598163031&dc&ds=v1%3A1FPln8raarCq5T6YKyL9x%2B8NyJF9XVBToJ3amkbNu3I&crid=1FT6MV2XCTWMN&qid=1660810860&rnid=12598141031&sprefix=laptop%2Caps%2C281&ref=sr_nr_p_n_feature_thirteen_browse-bin_12')"
   ]
  },
  {
   "cell_type": "code",
   "execution_count": 7,
   "id": "e71ef765",
   "metadata": {},
   "outputs": [],
   "source": [
    "namee=[]\n",
    "gy=driver.find_elements(By.XPATH,'//h2[@class=\"a-size-mini a-spacing-none a-color-base s-line-clamp-2\"]')\n",
    "\n",
    "for i in gy[0:10]:\n",
    "    namee.append(i.text)"
   ]
  },
  {
   "cell_type": "code",
   "execution_count": 33,
   "id": "2ee9f103",
   "metadata": {},
   "outputs": [],
   "source": [
    "MRP=[]\n",
    "jj=driver.find_elements(By.XPATH,'//span[@class=\"a-price a-text-price\"]')\n",
    "\n",
    "for i in jj[0:10]:\n",
    "    MRP.append(i.text)"
   ]
  },
  {
   "cell_type": "code",
   "execution_count": 36,
   "id": "70195520",
   "metadata": {},
   "outputs": [],
   "source": [
    "OFFER=[]\n",
    "op=driver.find_elements(By.XPATH,'//span[@class=\"a-price-whole\"]')\n",
    "\n",
    "for i in op[0:10]:\n",
    "    OFFER.append(i.text)"
   ]
  },
  {
   "cell_type": "code",
   "execution_count": 158,
   "id": "74366453",
   "metadata": {},
   "outputs": [],
   "source": [
    "gt=pd.DataFrame({'NAME':namee,'MRP':MRP,'DISCOUNTED_PRICE':OFFER})"
   ]
  },
  {
   "cell_type": "code",
   "execution_count": 159,
   "id": "9fcef618",
   "metadata": {},
   "outputs": [
    {
     "data": {
      "text/html": [
       "<div>\n",
       "<style scoped>\n",
       "    .dataframe tbody tr th:only-of-type {\n",
       "        vertical-align: middle;\n",
       "    }\n",
       "\n",
       "    .dataframe tbody tr th {\n",
       "        vertical-align: top;\n",
       "    }\n",
       "\n",
       "    .dataframe thead th {\n",
       "        text-align: right;\n",
       "    }\n",
       "</style>\n",
       "<table border=\"1\" class=\"dataframe\">\n",
       "  <thead>\n",
       "    <tr style=\"text-align: right;\">\n",
       "      <th></th>\n",
       "      <th>NAME</th>\n",
       "      <th>MRP</th>\n",
       "      <th>DISCOUNTED_PRICE</th>\n",
       "    </tr>\n",
       "  </thead>\n",
       "  <tbody>\n",
       "    <tr>\n",
       "      <th>0</th>\n",
       "      <td>ASUS Vivobook 15, 15.6-inch (39.62 cms) FHD, I...</td>\n",
       "      <td>₹80,990</td>\n",
       "      <td>56,589</td>\n",
       "    </tr>\n",
       "    <tr>\n",
       "      <th>1</th>\n",
       "      <td>Samsung Galaxy Book2 Intel 12th Gen core i7 39...</td>\n",
       "      <td>₹95,990</td>\n",
       "      <td>79,490</td>\n",
       "    </tr>\n",
       "    <tr>\n",
       "      <th>2</th>\n",
       "      <td>Lenovo Ideapad Gaming 3 Intel Core i7 10th Gen...</td>\n",
       "      <td>₹1,02,090</td>\n",
       "      <td>62,990</td>\n",
       "    </tr>\n",
       "    <tr>\n",
       "      <th>3</th>\n",
       "      <td>Hp Pavilion 15 12Th Gen Intel Core I7 16Gb Sdr...</td>\n",
       "      <td>₹1,00,687</td>\n",
       "      <td>93,290</td>\n",
       "    </tr>\n",
       "    <tr>\n",
       "      <th>4</th>\n",
       "      <td>ASUS TUF Gaming F15 (2022), 15.6-inch (39.62 c...</td>\n",
       "      <td>₹1,44,990</td>\n",
       "      <td>1,09,990</td>\n",
       "    </tr>\n",
       "    <tr>\n",
       "      <th>5</th>\n",
       "      <td>HP Pavilion Plus, 12th Gen Intel Core i7 16GB ...</td>\n",
       "      <td>₹1,04,114</td>\n",
       "      <td>89,990</td>\n",
       "    </tr>\n",
       "    <tr>\n",
       "      <th>6</th>\n",
       "      <td>Lenovo ThinkPad E14 Intel Core i7 11th Gen 14-...</td>\n",
       "      <td>₹1,45,800</td>\n",
       "      <td>94,990</td>\n",
       "    </tr>\n",
       "    <tr>\n",
       "      <th>7</th>\n",
       "      <td>ASUS TUF Gaming F15 (2022), 15.6\" (39.62 cms) ...</td>\n",
       "      <td>₹1,44,990</td>\n",
       "      <td>1,09,990</td>\n",
       "    </tr>\n",
       "    <tr>\n",
       "      <th>8</th>\n",
       "      <td>Lenovo IdeaPad Slim 5 Intel Core i7 12th Gen 1...</td>\n",
       "      <td>₹1,20,990</td>\n",
       "      <td>81,990</td>\n",
       "    </tr>\n",
       "    <tr>\n",
       "      <th>9</th>\n",
       "      <td>HP Victus 11th Gen Intel Core i7-11800H 16.1\" ...</td>\n",
       "      <td>₹1,25,143</td>\n",
       "      <td>1,07,990</td>\n",
       "    </tr>\n",
       "  </tbody>\n",
       "</table>\n",
       "</div>"
      ],
      "text/plain": [
       "                                                NAME        MRP  \\\n",
       "0  ASUS Vivobook 15, 15.6-inch (39.62 cms) FHD, I...    ₹80,990   \n",
       "1  Samsung Galaxy Book2 Intel 12th Gen core i7 39...    ₹95,990   \n",
       "2  Lenovo Ideapad Gaming 3 Intel Core i7 10th Gen...  ₹1,02,090   \n",
       "3  Hp Pavilion 15 12Th Gen Intel Core I7 16Gb Sdr...  ₹1,00,687   \n",
       "4  ASUS TUF Gaming F15 (2022), 15.6-inch (39.62 c...  ₹1,44,990   \n",
       "5  HP Pavilion Plus, 12th Gen Intel Core i7 16GB ...  ₹1,04,114   \n",
       "6  Lenovo ThinkPad E14 Intel Core i7 11th Gen 14-...  ₹1,45,800   \n",
       "7  ASUS TUF Gaming F15 (2022), 15.6\" (39.62 cms) ...  ₹1,44,990   \n",
       "8  Lenovo IdeaPad Slim 5 Intel Core i7 12th Gen 1...  ₹1,20,990   \n",
       "9  HP Victus 11th Gen Intel Core i7-11800H 16.1\" ...  ₹1,25,143   \n",
       "\n",
       "  DISCOUNTED_PRICE  \n",
       "0           56,589  \n",
       "1           79,490  \n",
       "2           62,990  \n",
       "3           93,290  \n",
       "4         1,09,990  \n",
       "5           89,990  \n",
       "6           94,990  \n",
       "7         1,09,990  \n",
       "8           81,990  \n",
       "9         1,07,990  "
      ]
     },
     "execution_count": 159,
     "metadata": {},
     "output_type": "execute_result"
    }
   ],
   "source": [
    "gt"
   ]
  },
  {
   "cell_type": "code",
   "execution_count": null,
   "id": "52d7a318",
   "metadata": {},
   "outputs": [],
   "source": [
    "Q9: Write a python program to scrape data for first 10 job results for Data Scientist Designation in Noida \n",
    "location. You have to scrape company name, No. of days ago when job was posted, Rating of the company. \n",
    "This task will be done in following steps:\n",
    "1. First get the webpage https://www.ambitionbox.com/\n",
    "2. Click on the Job option as shown in the image\n",
    "3. After reaching to the next webpage, In place of “Search by Designations, Companies, Skills” enter\n",
    "“Data Scientist” and click on search button.\n",
    "4. You will reach to the following web page click on location and in place of “Search location” enter\n",
    "“Noida” and select location “Noida”.\n",
    "5. Then scrape the data for the first 10 jobs results you get on the above shown page.\n",
    "6. Finally create a dataframe of the scraped data."
   ]
  },
  {
   "cell_type": "code",
   "execution_count": 65,
   "id": "82fd6cc1",
   "metadata": {},
   "outputs": [],
   "source": [
    "driver.get('https://www.ambitionbox.com/')"
   ]
  },
  {
   "cell_type": "code",
   "execution_count": 68,
   "id": "c94ed0d0",
   "metadata": {},
   "outputs": [],
   "source": [
    "company=[]\n",
    "lm=driver.find_elements(By.XPATH,'//p[@class=\"company body-medium\"]')\n",
    "for i in lm[0:10]:\n",
    "    company.append(i.text)"
   ]
  },
  {
   "cell_type": "code",
   "execution_count": 72,
   "id": "2e6a3d02",
   "metadata": {},
   "outputs": [],
   "source": [
    "ratt=[]\n",
    "jn=driver.find_elements(By.XPATH,'//a[@class=\"rating rating-4\"]')\n",
    "\n",
    "for i in jn[0:10]:\n",
    "    ratt.append(i.text)"
   ]
  },
  {
   "cell_type": "code",
   "execution_count": 84,
   "id": "0ef0074b",
   "metadata": {},
   "outputs": [],
   "source": [
    "time=[]\n",
    "hb=driver.find_elements(By.XPATH,'//span[@class=\"body-small-l\"]')\n",
    "\n",
    "for i in hb[0:20]:\n",
    "    time.append(i.text)"
   ]
  },
  {
   "cell_type": "code",
   "execution_count": 86,
   "id": "8feeb3f5",
   "metadata": {},
   "outputs": [],
   "source": [
    "times=time[0:20:2]"
   ]
  },
  {
   "cell_type": "code",
   "execution_count": 88,
   "id": "977fba92",
   "metadata": {},
   "outputs": [],
   "source": [
    "FR=pd.DataFrame({'NAME':company,'RATING':ratt,'TIME':times})"
   ]
  },
  {
   "cell_type": "code",
   "execution_count": 89,
   "id": "5c09c2fd",
   "metadata": {},
   "outputs": [
    {
     "data": {
      "text/html": [
       "<div>\n",
       "<style scoped>\n",
       "    .dataframe tbody tr th:only-of-type {\n",
       "        vertical-align: middle;\n",
       "    }\n",
       "\n",
       "    .dataframe tbody tr th {\n",
       "        vertical-align: top;\n",
       "    }\n",
       "\n",
       "    .dataframe thead th {\n",
       "        text-align: right;\n",
       "    }\n",
       "</style>\n",
       "<table border=\"1\" class=\"dataframe\">\n",
       "  <thead>\n",
       "    <tr style=\"text-align: right;\">\n",
       "      <th></th>\n",
       "      <th>NAME</th>\n",
       "      <th>RATING</th>\n",
       "      <th>TIME</th>\n",
       "    </tr>\n",
       "  </thead>\n",
       "  <tbody>\n",
       "    <tr>\n",
       "      <th>0</th>\n",
       "      <td>CBRE South Asia Pvt Ltd</td>\n",
       "      <td>4.3</td>\n",
       "      <td>7d ago</td>\n",
       "    </tr>\n",
       "    <tr>\n",
       "      <th>1</th>\n",
       "      <td>GENPACT India Private Limited</td>\n",
       "      <td>4.3</td>\n",
       "      <td>3hr ago</td>\n",
       "    </tr>\n",
       "    <tr>\n",
       "      <th>2</th>\n",
       "      <td>Genpact</td>\n",
       "      <td>4.0</td>\n",
       "      <td>2d ago</td>\n",
       "    </tr>\n",
       "    <tr>\n",
       "      <th>3</th>\n",
       "      <td>Ericsson India Global Services Pvt. Ltd.</td>\n",
       "      <td>4.0</td>\n",
       "      <td>17d ago</td>\n",
       "    </tr>\n",
       "    <tr>\n",
       "      <th>4</th>\n",
       "      <td>GENPACT India Private Limited</td>\n",
       "      <td>4.3</td>\n",
       "      <td>10d ago</td>\n",
       "    </tr>\n",
       "    <tr>\n",
       "      <th>5</th>\n",
       "      <td>Optum Global Solutions (India) Private Limited</td>\n",
       "      <td>4.0</td>\n",
       "      <td>14d ago</td>\n",
       "    </tr>\n",
       "    <tr>\n",
       "      <th>6</th>\n",
       "      <td>Optum Global Solutions (India) Private Limited</td>\n",
       "      <td>4.1</td>\n",
       "      <td>15d ago</td>\n",
       "    </tr>\n",
       "    <tr>\n",
       "      <th>7</th>\n",
       "      <td>Ericsson India Global Services Pvt. Ltd.</td>\n",
       "      <td>4.1</td>\n",
       "      <td>27d ago</td>\n",
       "    </tr>\n",
       "    <tr>\n",
       "      <th>8</th>\n",
       "      <td>SOPRA STERIA INDIA LIMITED</td>\n",
       "      <td>4.3</td>\n",
       "      <td>16d ago</td>\n",
       "    </tr>\n",
       "    <tr>\n",
       "      <th>9</th>\n",
       "      <td>EXL Services.com ( I ) Pvt. Ltd.</td>\n",
       "      <td>4.2</td>\n",
       "      <td>16d ago</td>\n",
       "    </tr>\n",
       "  </tbody>\n",
       "</table>\n",
       "</div>"
      ],
      "text/plain": [
       "                                             NAME RATING     TIME\n",
       "0                         CBRE South Asia Pvt Ltd    4.3   7d ago\n",
       "1                   GENPACT India Private Limited    4.3  3hr ago\n",
       "2                                         Genpact    4.0   2d ago\n",
       "3        Ericsson India Global Services Pvt. Ltd.    4.0  17d ago\n",
       "4                   GENPACT India Private Limited    4.3  10d ago\n",
       "5  Optum Global Solutions (India) Private Limited    4.0  14d ago\n",
       "6  Optum Global Solutions (India) Private Limited    4.1  15d ago\n",
       "7        Ericsson India Global Services Pvt. Ltd.    4.1  27d ago\n",
       "8                      SOPRA STERIA INDIA LIMITED    4.3  16d ago\n",
       "9                EXL Services.com ( I ) Pvt. Ltd.    4.2  16d ago"
      ]
     },
     "execution_count": 89,
     "metadata": {},
     "output_type": "execute_result"
    }
   ],
   "source": [
    "FR"
   ]
  },
  {
   "cell_type": "markdown",
   "id": "42dd0994",
   "metadata": {},
   "source": [
    "Q10: Write a python program to scrape the salary data for Data Scientist designation.\n",
    "You have to scrape Company name, Number of salaries, Average salary, Minsalary, Max Salary. \n",
    "The above task will be, done as shown in the below steps:\n",
    "1. First get the webpage https://www.ambitionbox.com/\n",
    "2. Click on the salaries option as shown in the image.\n",
    "3. After reaching to the following webpage, In place of “Search Job Profile” enters “Data Scientist” and \n",
    "then click on “Data Scientist”.\n",
    "You have to scrape the data ticked in the above image.\n",
    "4. Scrape the data for the first 10 companies. Scrape the company name, total salary record, average \n",
    "salary, minimum salary, maximum salary, experience required.\n",
    "5. Store the data in a dataframe."
   ]
  },
  {
   "cell_type": "code",
   "execution_count": 5,
   "id": "92fcf1c0",
   "metadata": {},
   "outputs": [],
   "source": [
    "driver.get('https://www.ambitionbox.com/')"
   ]
  },
  {
   "cell_type": "code",
   "execution_count": 38,
   "id": "a89476e8",
   "metadata": {},
   "outputs": [],
   "source": [
    "com=[]\n",
    "zz=driver.find_elements(By.XPATH,'//a[@data-v-4c07f399]')\n",
    "\n",
    "for i in zz[0:10]:\n",
    "    com.append(i.text.replace('\\nData Scientist Salary',''))"
   ]
  },
  {
   "cell_type": "code",
   "execution_count": 17,
   "id": "f1b48850",
   "metadata": {},
   "outputs": [],
   "source": [
    "exp=[]\n",
    "ss=driver.find_elements(By.XPATH,'//div[@class=\"sbold-list-header\"]')\n",
    "\n",
    "for i in ss[0:10]:\n",
    "    exp.append(i.text)"
   ]
  },
  {
   "cell_type": "code",
   "execution_count": 20,
   "id": "be0d656b",
   "metadata": {},
   "outputs": [],
   "source": [
    "m=[]\n",
    "\n",
    "ed=driver.find_elements(By.XPATH,'//div[@data-v-3d36b24d]')\n",
    "\n",
    "for i in ed:\n",
    "    m.append(i.text.replace('\\n',''))"
   ]
  },
  {
   "cell_type": "code",
   "execution_count": 33,
   "id": "81306758",
   "metadata": {},
   "outputs": [],
   "source": [
    "mo=m[0:-1:7]"
   ]
  },
  {
   "cell_type": "code",
   "execution_count": 40,
   "id": "a44553f5",
   "metadata": {},
   "outputs": [],
   "source": [
    "ui=pd.DataFrame({'NAME':com,'EXPERIENCE':exp,'AVG_MIN_MAX_SALARY':mo})"
   ]
  },
  {
   "cell_type": "code",
   "execution_count": 39,
   "id": "bf0299c6",
   "metadata": {},
   "outputs": [
    {
     "name": "stdout",
     "output_type": "stream",
     "text": [
      "10 10 10\n"
     ]
    }
   ],
   "source": [
    "print(len(com),len(exp),len(mo))"
   ]
  },
  {
   "cell_type": "code",
   "execution_count": 41,
   "id": "59c56f87",
   "metadata": {},
   "outputs": [
    {
     "data": {
      "text/html": [
       "<div>\n",
       "<style scoped>\n",
       "    .dataframe tbody tr th:only-of-type {\n",
       "        vertical-align: middle;\n",
       "    }\n",
       "\n",
       "    .dataframe tbody tr th {\n",
       "        vertical-align: top;\n",
       "    }\n",
       "\n",
       "    .dataframe thead th {\n",
       "        text-align: right;\n",
       "    }\n",
       "</style>\n",
       "<table border=\"1\" class=\"dataframe\">\n",
       "  <thead>\n",
       "    <tr style=\"text-align: right;\">\n",
       "      <th></th>\n",
       "      <th>NAME</th>\n",
       "      <th>EXPERIENCE</th>\n",
       "      <th>AVG_MIN_MAX_SALARY</th>\n",
       "    </tr>\n",
       "  </thead>\n",
       "  <tbody>\n",
       "    <tr>\n",
       "      <th>0</th>\n",
       "      <td>Walmart</td>\n",
       "      <td>3-4 yrs experience (based on 22 salaries)</td>\n",
       "      <td>₹ 31.7L₹ 25.0L₹ 45.0L</td>\n",
       "    </tr>\n",
       "    <tr>\n",
       "      <th>1</th>\n",
       "      <td>Ab Inbev</td>\n",
       "      <td>2-4 yrs experience (based on 53 salaries)</td>\n",
       "      <td>₹ 19.7L₹ 15.0L₹ 25.5L</td>\n",
       "    </tr>\n",
       "    <tr>\n",
       "      <th>2</th>\n",
       "      <td>Optum</td>\n",
       "      <td>2-4 yrs experience (based on 48 salaries)</td>\n",
       "      <td>₹ 16.5L₹ 11.0L₹ 22.6L</td>\n",
       "    </tr>\n",
       "    <tr>\n",
       "      <th>3</th>\n",
       "      <td>ZS</td>\n",
       "      <td>1-2 yrs experience (based on 33 salaries)</td>\n",
       "      <td>₹ 15.7L₹ 11.0L₹ 22.0L</td>\n",
       "    </tr>\n",
       "    <tr>\n",
       "      <th>4</th>\n",
       "      <td>Fractal Analytics</td>\n",
       "      <td>2-4 yrs experience (based on 109 salaries)</td>\n",
       "      <td>₹ 15.2L₹ 9.0L₹ 23.0L</td>\n",
       "    </tr>\n",
       "    <tr>\n",
       "      <th>5</th>\n",
       "      <td>Tiger Analytics</td>\n",
       "      <td>2-4 yrs experience (based on 65 salaries)</td>\n",
       "      <td>₹ 14.7L₹ 9.0L₹ 20.0L</td>\n",
       "    </tr>\n",
       "    <tr>\n",
       "      <th>6</th>\n",
       "      <td>Legato Health Technologies</td>\n",
       "      <td>4 yrs experience (based on 11 salaries)</td>\n",
       "      <td>₹ 14.5L₹ 11.0L₹ 20.0L</td>\n",
       "    </tr>\n",
       "    <tr>\n",
       "      <th>7</th>\n",
       "      <td>Tredence</td>\n",
       "      <td>3 yrs experience (based on 12 salaries)</td>\n",
       "      <td>₹ 14.1L₹ 8.8L₹ 17.5L</td>\n",
       "    </tr>\n",
       "    <tr>\n",
       "      <th>8</th>\n",
       "      <td>UnitedHealth</td>\n",
       "      <td>2-4 yrs experience (based on 91 salaries)</td>\n",
       "      <td>₹ 13.6L₹ 8.0L₹ 20.5L</td>\n",
       "    </tr>\n",
       "    <tr>\n",
       "      <th>9</th>\n",
       "      <td>Ford Motor</td>\n",
       "      <td>3-4 yrs experience (based on 21 salaries)</td>\n",
       "      <td>₹ 13.5L₹ 10.0L₹ 18.0L</td>\n",
       "    </tr>\n",
       "  </tbody>\n",
       "</table>\n",
       "</div>"
      ],
      "text/plain": [
       "                         NAME                                  EXPERIENCE  \\\n",
       "0                     Walmart   3-4 yrs experience (based on 22 salaries)   \n",
       "1                    Ab Inbev   2-4 yrs experience (based on 53 salaries)   \n",
       "2                       Optum   2-4 yrs experience (based on 48 salaries)   \n",
       "3                          ZS   1-2 yrs experience (based on 33 salaries)   \n",
       "4           Fractal Analytics  2-4 yrs experience (based on 109 salaries)   \n",
       "5             Tiger Analytics   2-4 yrs experience (based on 65 salaries)   \n",
       "6  Legato Health Technologies     4 yrs experience (based on 11 salaries)   \n",
       "7                    Tredence     3 yrs experience (based on 12 salaries)   \n",
       "8                UnitedHealth   2-4 yrs experience (based on 91 salaries)   \n",
       "9                  Ford Motor   3-4 yrs experience (based on 21 salaries)   \n",
       "\n",
       "      AVG_MIN_MAX_SALARY  \n",
       "0  ₹ 31.7L₹ 25.0L₹ 45.0L  \n",
       "1  ₹ 19.7L₹ 15.0L₹ 25.5L  \n",
       "2  ₹ 16.5L₹ 11.0L₹ 22.6L  \n",
       "3  ₹ 15.7L₹ 11.0L₹ 22.0L  \n",
       "4   ₹ 15.2L₹ 9.0L₹ 23.0L  \n",
       "5   ₹ 14.7L₹ 9.0L₹ 20.0L  \n",
       "6  ₹ 14.5L₹ 11.0L₹ 20.0L  \n",
       "7   ₹ 14.1L₹ 8.8L₹ 17.5L  \n",
       "8   ₹ 13.6L₹ 8.0L₹ 20.5L  \n",
       "9  ₹ 13.5L₹ 10.0L₹ 18.0L  "
      ]
     },
     "execution_count": 41,
     "metadata": {},
     "output_type": "execute_result"
    }
   ],
   "source": [
    "ui"
   ]
  },
  {
   "cell_type": "code",
   "execution_count": null,
   "id": "c6044e1e",
   "metadata": {},
   "outputs": [],
   "source": []
  }
 ],
 "metadata": {
  "kernelspec": {
   "display_name": "Python 3 (ipykernel)",
   "language": "python",
   "name": "python3"
  },
  "language_info": {
   "codemirror_mode": {
    "name": "ipython",
    "version": 3
   },
   "file_extension": ".py",
   "mimetype": "text/x-python",
   "name": "python",
   "nbconvert_exporter": "python",
   "pygments_lexer": "ipython3",
   "version": "3.9.7"
  }
 },
 "nbformat": 4,
 "nbformat_minor": 5
}
