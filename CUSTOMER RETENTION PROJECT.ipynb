{
 "cells": [
  {
   "cell_type": "markdown",
   "id": "5c6f9a0d",
   "metadata": {},
   "source": [
    "# CUSTOMER RETENTION ANALYSIS"
   ]
  },
  {
   "cell_type": "code",
   "execution_count": 3,
   "id": "64d68643",
   "metadata": {},
   "outputs": [],
   "source": [
    "import pandas as pd\n",
    "import numpy as np"
   ]
  },
  {
   "cell_type": "code",
   "execution_count": 5,
   "id": "886202d3",
   "metadata": {},
   "outputs": [],
   "source": [
    "dd=pd.read_excel(r'C:\\Users\\DELL\\Desktop\\customer retention.xlsx')"
   ]
  },
  {
   "cell_type": "code",
   "execution_count": 7,
   "id": "2d1934e7",
   "metadata": {},
   "outputs": [],
   "source": [
    "df=pd.DataFrame(data=dd)"
   ]
  },
  {
   "cell_type": "code",
   "execution_count": 8,
   "id": "e77e18a1",
   "metadata": {},
   "outputs": [
    {
     "data": {
      "text/html": [
       "<div>\n",
       "<style scoped>\n",
       "    .dataframe tbody tr th:only-of-type {\n",
       "        vertical-align: middle;\n",
       "    }\n",
       "\n",
       "    .dataframe tbody tr th {\n",
       "        vertical-align: top;\n",
       "    }\n",
       "\n",
       "    .dataframe thead th {\n",
       "        text-align: right;\n",
       "    }\n",
       "</style>\n",
       "<table border=\"1\" class=\"dataframe\">\n",
       "  <thead>\n",
       "    <tr style=\"text-align: right;\">\n",
       "      <th></th>\n",
       "      <th>1Gender of respondent</th>\n",
       "      <th>2 How old are you?</th>\n",
       "      <th>3 Which city do you shop online from?</th>\n",
       "      <th>4 What is the Pin Code of where you shop online from?</th>\n",
       "      <th>5 Since How Long You are Shopping Online ?</th>\n",
       "      <th>6 How many times you have made an online purchase in the past 1 year?</th>\n",
       "      <th>7 How do you access the internet while shopping on-line?</th>\n",
       "      <th>8 Which device do you use to access the online shopping?</th>\n",
       "      <th>9 What is the screen size of your mobile device?\\t\\t\\t\\t\\t\\t</th>\n",
       "      <th>10 What is the operating system (OS) of your device?\\t\\t\\t\\t</th>\n",
       "      <th>...</th>\n",
       "      <th>Longer time to get logged in (promotion, sales period)</th>\n",
       "      <th>Longer time in displaying graphics and photos (promotion, sales period)</th>\n",
       "      <th>Late declaration of price (promotion, sales period)</th>\n",
       "      <th>Longer page loading time (promotion, sales period)</th>\n",
       "      <th>Limited mode of payment on most products (promotion, sales period)</th>\n",
       "      <th>Longer delivery period</th>\n",
       "      <th>Change in website/Application design</th>\n",
       "      <th>Frequent disruption when moving from one page to another</th>\n",
       "      <th>Website is as efficient as before</th>\n",
       "      <th>Which of the Indian online retailer would you recommend to a friend?</th>\n",
       "    </tr>\n",
       "  </thead>\n",
       "  <tbody>\n",
       "    <tr>\n",
       "      <th>0</th>\n",
       "      <td>Male</td>\n",
       "      <td>31-40 years</td>\n",
       "      <td>Delhi</td>\n",
       "      <td>110009</td>\n",
       "      <td>Above 4 years</td>\n",
       "      <td>31-40 times</td>\n",
       "      <td>Dial-up</td>\n",
       "      <td>Desktop</td>\n",
       "      <td>Others</td>\n",
       "      <td>Window/windows Mobile</td>\n",
       "      <td>...</td>\n",
       "      <td>Amazon.in</td>\n",
       "      <td>Amazon.in</td>\n",
       "      <td>Flipkart.com</td>\n",
       "      <td>Flipkart.com</td>\n",
       "      <td>Amazon.in</td>\n",
       "      <td>Paytm.com</td>\n",
       "      <td>Flipkart.com</td>\n",
       "      <td>Amazon.in</td>\n",
       "      <td>Amazon.in</td>\n",
       "      <td>Flipkart.com</td>\n",
       "    </tr>\n",
       "    <tr>\n",
       "      <th>1</th>\n",
       "      <td>Female</td>\n",
       "      <td>21-30 years</td>\n",
       "      <td>Delhi</td>\n",
       "      <td>110030</td>\n",
       "      <td>Above 4 years</td>\n",
       "      <td>41 times and above</td>\n",
       "      <td>Wi-Fi</td>\n",
       "      <td>Smartphone</td>\n",
       "      <td>4.7 inches</td>\n",
       "      <td>IOS/Mac</td>\n",
       "      <td>...</td>\n",
       "      <td>Amazon.in, Flipkart.com</td>\n",
       "      <td>Myntra.com</td>\n",
       "      <td>snapdeal.com</td>\n",
       "      <td>Snapdeal.com</td>\n",
       "      <td>Snapdeal.com</td>\n",
       "      <td>Snapdeal.com</td>\n",
       "      <td>Amazon.in</td>\n",
       "      <td>Myntra.com</td>\n",
       "      <td>Amazon.in, Flipkart.com</td>\n",
       "      <td>Amazon.in, Myntra.com</td>\n",
       "    </tr>\n",
       "    <tr>\n",
       "      <th>2</th>\n",
       "      <td>Female</td>\n",
       "      <td>21-30 years</td>\n",
       "      <td>Greater Noida</td>\n",
       "      <td>201308</td>\n",
       "      <td>3-4 years</td>\n",
       "      <td>41 times and above</td>\n",
       "      <td>Mobile Internet</td>\n",
       "      <td>Smartphone</td>\n",
       "      <td>5.5 inches</td>\n",
       "      <td>Android</td>\n",
       "      <td>...</td>\n",
       "      <td>Myntra.com</td>\n",
       "      <td>Myntra.com</td>\n",
       "      <td>Myntra.com</td>\n",
       "      <td>Myntra.com</td>\n",
       "      <td>Amazon.in</td>\n",
       "      <td>Paytm.com</td>\n",
       "      <td>Paytm.com</td>\n",
       "      <td>Paytm.com</td>\n",
       "      <td>Amazon.in</td>\n",
       "      <td>Amazon.in, Paytm.com, Myntra.com</td>\n",
       "    </tr>\n",
       "    <tr>\n",
       "      <th>3</th>\n",
       "      <td>Male</td>\n",
       "      <td>21-30 years</td>\n",
       "      <td>Karnal</td>\n",
       "      <td>132001</td>\n",
       "      <td>3-4 years</td>\n",
       "      <td>Less than 10 times</td>\n",
       "      <td>Mobile Internet</td>\n",
       "      <td>Smartphone</td>\n",
       "      <td>5.5 inches</td>\n",
       "      <td>IOS/Mac</td>\n",
       "      <td>...</td>\n",
       "      <td>Snapdeal.com</td>\n",
       "      <td>Myntra.com, Snapdeal.com</td>\n",
       "      <td>Myntra.com</td>\n",
       "      <td>Paytm.com</td>\n",
       "      <td>Paytm.com</td>\n",
       "      <td>Paytm.com</td>\n",
       "      <td>Amazon.in, Flipkart.com</td>\n",
       "      <td>Amazon.in, Flipkart.com</td>\n",
       "      <td>Amazon.in, Flipkart.com, Paytm.com</td>\n",
       "      <td>Amazon.in, Flipkart.com</td>\n",
       "    </tr>\n",
       "    <tr>\n",
       "      <th>4</th>\n",
       "      <td>Female</td>\n",
       "      <td>21-30 years</td>\n",
       "      <td>Bangalore</td>\n",
       "      <td>530068</td>\n",
       "      <td>2-3 years</td>\n",
       "      <td>11-20 times</td>\n",
       "      <td>Wi-Fi</td>\n",
       "      <td>Smartphone</td>\n",
       "      <td>4.7 inches</td>\n",
       "      <td>IOS/Mac</td>\n",
       "      <td>...</td>\n",
       "      <td>Flipkart.com, Paytm.com</td>\n",
       "      <td>Paytm.com</td>\n",
       "      <td>Paytm.com</td>\n",
       "      <td>Paytm.com</td>\n",
       "      <td>Snapdeal.com</td>\n",
       "      <td>Paytm.com</td>\n",
       "      <td>Amazon.in</td>\n",
       "      <td>Snapdeal.com</td>\n",
       "      <td>Paytm.com</td>\n",
       "      <td>Amazon.in, Myntra.com</td>\n",
       "    </tr>\n",
       "    <tr>\n",
       "      <th>...</th>\n",
       "      <td>...</td>\n",
       "      <td>...</td>\n",
       "      <td>...</td>\n",
       "      <td>...</td>\n",
       "      <td>...</td>\n",
       "      <td>...</td>\n",
       "      <td>...</td>\n",
       "      <td>...</td>\n",
       "      <td>...</td>\n",
       "      <td>...</td>\n",
       "      <td>...</td>\n",
       "      <td>...</td>\n",
       "      <td>...</td>\n",
       "      <td>...</td>\n",
       "      <td>...</td>\n",
       "      <td>...</td>\n",
       "      <td>...</td>\n",
       "      <td>...</td>\n",
       "      <td>...</td>\n",
       "      <td>...</td>\n",
       "      <td>...</td>\n",
       "    </tr>\n",
       "    <tr>\n",
       "      <th>264</th>\n",
       "      <td>Female</td>\n",
       "      <td>21-30 years</td>\n",
       "      <td>Solan</td>\n",
       "      <td>173212</td>\n",
       "      <td>1-2 years</td>\n",
       "      <td>Less than 10 times</td>\n",
       "      <td>Mobile Internet</td>\n",
       "      <td>Smartphone</td>\n",
       "      <td>5.5 inches</td>\n",
       "      <td>Android</td>\n",
       "      <td>...</td>\n",
       "      <td>Amazon.in</td>\n",
       "      <td>Amazon.in</td>\n",
       "      <td>Amazon.in</td>\n",
       "      <td>Amazon.in</td>\n",
       "      <td>Amazon.in</td>\n",
       "      <td>Amazon.in</td>\n",
       "      <td>Amazon.in</td>\n",
       "      <td>Amazon.in</td>\n",
       "      <td>Amazon.in</td>\n",
       "      <td>Amazon.in</td>\n",
       "    </tr>\n",
       "    <tr>\n",
       "      <th>265</th>\n",
       "      <td>Female</td>\n",
       "      <td>31-40 years</td>\n",
       "      <td>Ghaziabad</td>\n",
       "      <td>201008</td>\n",
       "      <td>1-2 years</td>\n",
       "      <td>31-40 times</td>\n",
       "      <td>Mobile Internet</td>\n",
       "      <td>Smartphone</td>\n",
       "      <td>Others</td>\n",
       "      <td>Android</td>\n",
       "      <td>...</td>\n",
       "      <td>Flipkart.com</td>\n",
       "      <td>Flipkart.com</td>\n",
       "      <td>Flipkart.com</td>\n",
       "      <td>Flipkart.com</td>\n",
       "      <td>Flipkart.com</td>\n",
       "      <td>Flipkart.com</td>\n",
       "      <td>Flipkart.com</td>\n",
       "      <td>Flipkart.com</td>\n",
       "      <td>Flipkart.com</td>\n",
       "      <td>Flipkart.com</td>\n",
       "    </tr>\n",
       "    <tr>\n",
       "      <th>266</th>\n",
       "      <td>Female</td>\n",
       "      <td>41-50 yaers</td>\n",
       "      <td>Bangalore</td>\n",
       "      <td>560010</td>\n",
       "      <td>2-3 years</td>\n",
       "      <td>Less than 10 times</td>\n",
       "      <td>Mobile internet</td>\n",
       "      <td>Laptop</td>\n",
       "      <td>Others</td>\n",
       "      <td>Window/windows Mobile</td>\n",
       "      <td>...</td>\n",
       "      <td>Amazon.in</td>\n",
       "      <td>Snapdeal.com</td>\n",
       "      <td>Amazon.in</td>\n",
       "      <td>Snapdeal.com</td>\n",
       "      <td>Snapdeal.com</td>\n",
       "      <td>Snapdeal.com</td>\n",
       "      <td>Snapdeal.com</td>\n",
       "      <td>Snapdeal.com</td>\n",
       "      <td>Amazon.in</td>\n",
       "      <td>Amazon.in</td>\n",
       "    </tr>\n",
       "    <tr>\n",
       "      <th>267</th>\n",
       "      <td>Female</td>\n",
       "      <td>Less than 20 years</td>\n",
       "      <td>Solan</td>\n",
       "      <td>173229</td>\n",
       "      <td>2-3 years</td>\n",
       "      <td>Less than 10 times</td>\n",
       "      <td>Wi-Fi</td>\n",
       "      <td>Smartphone</td>\n",
       "      <td>5.5 inches</td>\n",
       "      <td>Android</td>\n",
       "      <td>...</td>\n",
       "      <td>Amazon.in</td>\n",
       "      <td>Amazon.in, Myntra.com, Snapdeal.com</td>\n",
       "      <td>Amazon.in</td>\n",
       "      <td>Amazon.in, Snapdeal.com</td>\n",
       "      <td>Amazon.in</td>\n",
       "      <td>Amazon.in</td>\n",
       "      <td>Amazon.in</td>\n",
       "      <td>Myntra.com, Snapdeal.com</td>\n",
       "      <td>Myntra.com, Snapdeal.com</td>\n",
       "      <td>Amazon.in</td>\n",
       "    </tr>\n",
       "    <tr>\n",
       "      <th>268</th>\n",
       "      <td>Female</td>\n",
       "      <td>41-50 yaers</td>\n",
       "      <td>Ghaziabad</td>\n",
       "      <td>201009</td>\n",
       "      <td>2-3 years</td>\n",
       "      <td>31-40 times</td>\n",
       "      <td>Mobile Internet</td>\n",
       "      <td>Smartphone</td>\n",
       "      <td>5.5 inches</td>\n",
       "      <td>Android</td>\n",
       "      <td>...</td>\n",
       "      <td>Amazon.in</td>\n",
       "      <td>Amazon.in</td>\n",
       "      <td>Amazon.in</td>\n",
       "      <td>Amazon.in</td>\n",
       "      <td>Amazon.in</td>\n",
       "      <td>Amazon.in</td>\n",
       "      <td>Amazon.in</td>\n",
       "      <td>Amazon.in</td>\n",
       "      <td>Amazon.in</td>\n",
       "      <td>Amazon.in</td>\n",
       "    </tr>\n",
       "  </tbody>\n",
       "</table>\n",
       "<p>269 rows × 71 columns</p>\n",
       "</div>"
      ],
      "text/plain": [
       "    1Gender of respondent 2 How old are you?   \\\n",
       "0                    Male         31-40 years   \n",
       "1                  Female         21-30 years   \n",
       "2                  Female         21-30 years   \n",
       "3                    Male         21-30 years   \n",
       "4                  Female         21-30 years   \n",
       "..                    ...                 ...   \n",
       "264                Female         21-30 years   \n",
       "265                Female         31-40 years   \n",
       "266                Female         41-50 yaers   \n",
       "267                Female  Less than 20 years   \n",
       "268                Female         41-50 yaers   \n",
       "\n",
       "    3 Which city do you shop online from?  \\\n",
       "0                                   Delhi   \n",
       "1                                   Delhi   \n",
       "2                           Greater Noida   \n",
       "3                                 Karnal    \n",
       "4                              Bangalore    \n",
       "..                                    ...   \n",
       "264                                 Solan   \n",
       "265                             Ghaziabad   \n",
       "266                            Bangalore    \n",
       "267                                 Solan   \n",
       "268                             Ghaziabad   \n",
       "\n",
       "     4 What is the Pin Code of where you shop online from?  \\\n",
       "0                                               110009       \n",
       "1                                               110030       \n",
       "2                                               201308       \n",
       "3                                               132001       \n",
       "4                                               530068       \n",
       "..                                                 ...       \n",
       "264                                             173212       \n",
       "265                                             201008       \n",
       "266                                             560010       \n",
       "267                                             173229       \n",
       "268                                             201009       \n",
       "\n",
       "    5 Since How Long You are Shopping Online ?  \\\n",
       "0                                Above 4 years   \n",
       "1                                Above 4 years   \n",
       "2                                    3-4 years   \n",
       "3                                    3-4 years   \n",
       "4                                    2-3 years   \n",
       "..                                         ...   \n",
       "264                                  1-2 years   \n",
       "265                                  1-2 years   \n",
       "266                                  2-3 years   \n",
       "267                                  2-3 years   \n",
       "268                                  2-3 years   \n",
       "\n",
       "    6 How many times you have made an online purchase in the past 1 year?  \\\n",
       "0                                          31-40 times                      \n",
       "1                                   41 times and above                      \n",
       "2                                   41 times and above                      \n",
       "3                                   Less than 10 times                      \n",
       "4                                          11-20 times                      \n",
       "..                                                 ...                      \n",
       "264                                 Less than 10 times                      \n",
       "265                                        31-40 times                      \n",
       "266                                 Less than 10 times                      \n",
       "267                                 Less than 10 times                      \n",
       "268                                        31-40 times                      \n",
       "\n",
       "    7 How do you access the internet while shopping on-line?  \\\n",
       "0                                              Dial-up         \n",
       "1                                                Wi-Fi         \n",
       "2                                      Mobile Internet         \n",
       "3                                      Mobile Internet         \n",
       "4                                                Wi-Fi         \n",
       "..                                                 ...         \n",
       "264                                    Mobile Internet         \n",
       "265                                    Mobile Internet         \n",
       "266                                    Mobile internet         \n",
       "267                                              Wi-Fi         \n",
       "268                                    Mobile Internet         \n",
       "\n",
       "    8 Which device do you use to access the online shopping?  \\\n",
       "0                                              Desktop         \n",
       "1                                           Smartphone         \n",
       "2                                           Smartphone         \n",
       "3                                           Smartphone         \n",
       "4                                           Smartphone         \n",
       "..                                                 ...         \n",
       "264                                         Smartphone         \n",
       "265                                         Smartphone         \n",
       "266                                             Laptop         \n",
       "267                                         Smartphone         \n",
       "268                                         Smartphone         \n",
       "\n",
       "    9 What is the screen size of your mobile device?\\t\\t\\t\\t\\t\\t                                          \\\n",
       "0                                               Others                                                     \n",
       "1                                           4.7 inches                                                     \n",
       "2                                           5.5 inches                                                     \n",
       "3                                           5.5 inches                                                     \n",
       "4                                           4.7 inches                                                     \n",
       "..                                                 ...                                                     \n",
       "264                                         5.5 inches                                                     \n",
       "265                                             Others                                                     \n",
       "266                                             Others                                                     \n",
       "267                                         5.5 inches                                                     \n",
       "268                                         5.5 inches                                                     \n",
       "\n",
       "    10 What is the operating system (OS) of your device?\\t\\t\\t\\t                                            \\\n",
       "0                                Window/windows Mobile                                                       \n",
       "1                                              IOS/Mac                                                       \n",
       "2                                              Android                                                       \n",
       "3                                              IOS/Mac                                                       \n",
       "4                                              IOS/Mac                                                       \n",
       "..                                                 ...                                                       \n",
       "264                                            Android                                                       \n",
       "265                                            Android                                                       \n",
       "266                              Window/windows Mobile                                                       \n",
       "267                                            Android                                                       \n",
       "268                                            Android                                                       \n",
       "\n",
       "     ... Longer time to get logged in (promotion, sales period)  \\\n",
       "0    ...                                          Amazon.in       \n",
       "1    ...                            Amazon.in, Flipkart.com       \n",
       "2    ...                                         Myntra.com       \n",
       "3    ...                                       Snapdeal.com       \n",
       "4    ...                            Flipkart.com, Paytm.com       \n",
       "..   ...                                                ...       \n",
       "264  ...                                          Amazon.in       \n",
       "265  ...                                       Flipkart.com       \n",
       "266  ...                                          Amazon.in       \n",
       "267  ...                                          Amazon.in       \n",
       "268  ...                                          Amazon.in       \n",
       "\n",
       "    Longer time in displaying graphics and photos (promotion, sales period)  \\\n",
       "0                                            Amazon.in                        \n",
       "1                                           Myntra.com                        \n",
       "2                                           Myntra.com                        \n",
       "3                             Myntra.com, Snapdeal.com                        \n",
       "4                                            Paytm.com                        \n",
       "..                                                 ...                        \n",
       "264                                          Amazon.in                        \n",
       "265                                       Flipkart.com                        \n",
       "266                                       Snapdeal.com                        \n",
       "267                Amazon.in, Myntra.com, Snapdeal.com                        \n",
       "268                                          Amazon.in                        \n",
       "\n",
       "    Late declaration of price (promotion, sales period)  \\\n",
       "0                                         Flipkart.com    \n",
       "1                                         snapdeal.com    \n",
       "2                                           Myntra.com    \n",
       "3                                           Myntra.com    \n",
       "4                                            Paytm.com    \n",
       "..                                                 ...    \n",
       "264                                          Amazon.in    \n",
       "265                                       Flipkart.com    \n",
       "266                                          Amazon.in    \n",
       "267                                          Amazon.in    \n",
       "268                                          Amazon.in    \n",
       "\n",
       "    Longer page loading time (promotion, sales period)  \\\n",
       "0                                         Flipkart.com   \n",
       "1                                         Snapdeal.com   \n",
       "2                                           Myntra.com   \n",
       "3                                            Paytm.com   \n",
       "4                                            Paytm.com   \n",
       "..                                                 ...   \n",
       "264                                          Amazon.in   \n",
       "265                                       Flipkart.com   \n",
       "266                                       Snapdeal.com   \n",
       "267                            Amazon.in, Snapdeal.com   \n",
       "268                                          Amazon.in   \n",
       "\n",
       "    Limited mode of payment on most products (promotion, sales period)  \\\n",
       "0                                            Amazon.in                   \n",
       "1                                         Snapdeal.com                   \n",
       "2                                            Amazon.in                   \n",
       "3                                            Paytm.com                   \n",
       "4                                         Snapdeal.com                   \n",
       "..                                                 ...                   \n",
       "264                                          Amazon.in                   \n",
       "265                                       Flipkart.com                   \n",
       "266                                       Snapdeal.com                   \n",
       "267                                          Amazon.in                   \n",
       "268                                          Amazon.in                   \n",
       "\n",
       "    Longer delivery period Change in website/Application design  \\\n",
       "0                Paytm.com                         Flipkart.com   \n",
       "1             Snapdeal.com                            Amazon.in   \n",
       "2                Paytm.com                            Paytm.com   \n",
       "3                Paytm.com              Amazon.in, Flipkart.com   \n",
       "4                Paytm.com                            Amazon.in   \n",
       "..                     ...                                  ...   \n",
       "264              Amazon.in                            Amazon.in   \n",
       "265           Flipkart.com                         Flipkart.com   \n",
       "266           Snapdeal.com                         Snapdeal.com   \n",
       "267              Amazon.in                            Amazon.in   \n",
       "268              Amazon.in                            Amazon.in   \n",
       "\n",
       "    Frequent disruption when moving from one page to another  \\\n",
       "0                                            Amazon.in         \n",
       "1                                           Myntra.com         \n",
       "2                                            Paytm.com         \n",
       "3                              Amazon.in, Flipkart.com         \n",
       "4                                         Snapdeal.com         \n",
       "..                                                 ...         \n",
       "264                                          Amazon.in         \n",
       "265                                       Flipkart.com         \n",
       "266                                       Snapdeal.com         \n",
       "267                           Myntra.com, Snapdeal.com         \n",
       "268                                          Amazon.in         \n",
       "\n",
       "      Website is as efficient as before  \\\n",
       "0                             Amazon.in   \n",
       "1               Amazon.in, Flipkart.com   \n",
       "2                             Amazon.in   \n",
       "3    Amazon.in, Flipkart.com, Paytm.com   \n",
       "4                             Paytm.com   \n",
       "..                                  ...   \n",
       "264                           Amazon.in   \n",
       "265                        Flipkart.com   \n",
       "266                           Amazon.in   \n",
       "267            Myntra.com, Snapdeal.com   \n",
       "268                           Amazon.in   \n",
       "\n",
       "    Which of the Indian online retailer would you recommend to a friend?  \n",
       "0                                         Flipkart.com                    \n",
       "1                                Amazon.in, Myntra.com                    \n",
       "2                     Amazon.in, Paytm.com, Myntra.com                    \n",
       "3                              Amazon.in, Flipkart.com                    \n",
       "4                                Amazon.in, Myntra.com                    \n",
       "..                                                 ...                    \n",
       "264                                          Amazon.in                    \n",
       "265                                       Flipkart.com                    \n",
       "266                                          Amazon.in                    \n",
       "267                                          Amazon.in                    \n",
       "268                                          Amazon.in                    \n",
       "\n",
       "[269 rows x 71 columns]"
      ]
     },
     "execution_count": 8,
     "metadata": {},
     "output_type": "execute_result"
    }
   ],
   "source": [
    "df"
   ]
  },
  {
   "cell_type": "markdown",
   "id": "6a441973",
   "metadata": {},
   "source": [
    "## DUPLICATE VALUES CHECK "
   ]
  },
  {
   "cell_type": "code",
   "execution_count": 9,
   "id": "7bf5ce3f",
   "metadata": {},
   "outputs": [],
   "source": [
    "newdf=df.drop_duplicates()"
   ]
  },
  {
   "cell_type": "code",
   "execution_count": 10,
   "id": "300b0ad2",
   "metadata": {},
   "outputs": [
    {
     "data": {
      "text/html": [
       "<div>\n",
       "<style scoped>\n",
       "    .dataframe tbody tr th:only-of-type {\n",
       "        vertical-align: middle;\n",
       "    }\n",
       "\n",
       "    .dataframe tbody tr th {\n",
       "        vertical-align: top;\n",
       "    }\n",
       "\n",
       "    .dataframe thead th {\n",
       "        text-align: right;\n",
       "    }\n",
       "</style>\n",
       "<table border=\"1\" class=\"dataframe\">\n",
       "  <thead>\n",
       "    <tr style=\"text-align: right;\">\n",
       "      <th></th>\n",
       "      <th>1Gender of respondent</th>\n",
       "      <th>2 How old are you?</th>\n",
       "      <th>3 Which city do you shop online from?</th>\n",
       "      <th>4 What is the Pin Code of where you shop online from?</th>\n",
       "      <th>5 Since How Long You are Shopping Online ?</th>\n",
       "      <th>6 How many times you have made an online purchase in the past 1 year?</th>\n",
       "      <th>7 How do you access the internet while shopping on-line?</th>\n",
       "      <th>8 Which device do you use to access the online shopping?</th>\n",
       "      <th>9 What is the screen size of your mobile device?\\t\\t\\t\\t\\t\\t</th>\n",
       "      <th>10 What is the operating system (OS) of your device?\\t\\t\\t\\t</th>\n",
       "      <th>...</th>\n",
       "      <th>Longer time to get logged in (promotion, sales period)</th>\n",
       "      <th>Longer time in displaying graphics and photos (promotion, sales period)</th>\n",
       "      <th>Late declaration of price (promotion, sales period)</th>\n",
       "      <th>Longer page loading time (promotion, sales period)</th>\n",
       "      <th>Limited mode of payment on most products (promotion, sales period)</th>\n",
       "      <th>Longer delivery period</th>\n",
       "      <th>Change in website/Application design</th>\n",
       "      <th>Frequent disruption when moving from one page to another</th>\n",
       "      <th>Website is as efficient as before</th>\n",
       "      <th>Which of the Indian online retailer would you recommend to a friend?</th>\n",
       "    </tr>\n",
       "  </thead>\n",
       "  <tbody>\n",
       "    <tr>\n",
       "      <th>0</th>\n",
       "      <td>Male</td>\n",
       "      <td>31-40 years</td>\n",
       "      <td>Delhi</td>\n",
       "      <td>110009</td>\n",
       "      <td>Above 4 years</td>\n",
       "      <td>31-40 times</td>\n",
       "      <td>Dial-up</td>\n",
       "      <td>Desktop</td>\n",
       "      <td>Others</td>\n",
       "      <td>Window/windows Mobile</td>\n",
       "      <td>...</td>\n",
       "      <td>Amazon.in</td>\n",
       "      <td>Amazon.in</td>\n",
       "      <td>Flipkart.com</td>\n",
       "      <td>Flipkart.com</td>\n",
       "      <td>Amazon.in</td>\n",
       "      <td>Paytm.com</td>\n",
       "      <td>Flipkart.com</td>\n",
       "      <td>Amazon.in</td>\n",
       "      <td>Amazon.in</td>\n",
       "      <td>Flipkart.com</td>\n",
       "    </tr>\n",
       "    <tr>\n",
       "      <th>1</th>\n",
       "      <td>Female</td>\n",
       "      <td>21-30 years</td>\n",
       "      <td>Delhi</td>\n",
       "      <td>110030</td>\n",
       "      <td>Above 4 years</td>\n",
       "      <td>41 times and above</td>\n",
       "      <td>Wi-Fi</td>\n",
       "      <td>Smartphone</td>\n",
       "      <td>4.7 inches</td>\n",
       "      <td>IOS/Mac</td>\n",
       "      <td>...</td>\n",
       "      <td>Amazon.in, Flipkart.com</td>\n",
       "      <td>Myntra.com</td>\n",
       "      <td>snapdeal.com</td>\n",
       "      <td>Snapdeal.com</td>\n",
       "      <td>Snapdeal.com</td>\n",
       "      <td>Snapdeal.com</td>\n",
       "      <td>Amazon.in</td>\n",
       "      <td>Myntra.com</td>\n",
       "      <td>Amazon.in, Flipkart.com</td>\n",
       "      <td>Amazon.in, Myntra.com</td>\n",
       "    </tr>\n",
       "    <tr>\n",
       "      <th>2</th>\n",
       "      <td>Female</td>\n",
       "      <td>21-30 years</td>\n",
       "      <td>Greater Noida</td>\n",
       "      <td>201308</td>\n",
       "      <td>3-4 years</td>\n",
       "      <td>41 times and above</td>\n",
       "      <td>Mobile Internet</td>\n",
       "      <td>Smartphone</td>\n",
       "      <td>5.5 inches</td>\n",
       "      <td>Android</td>\n",
       "      <td>...</td>\n",
       "      <td>Myntra.com</td>\n",
       "      <td>Myntra.com</td>\n",
       "      <td>Myntra.com</td>\n",
       "      <td>Myntra.com</td>\n",
       "      <td>Amazon.in</td>\n",
       "      <td>Paytm.com</td>\n",
       "      <td>Paytm.com</td>\n",
       "      <td>Paytm.com</td>\n",
       "      <td>Amazon.in</td>\n",
       "      <td>Amazon.in, Paytm.com, Myntra.com</td>\n",
       "    </tr>\n",
       "    <tr>\n",
       "      <th>3</th>\n",
       "      <td>Male</td>\n",
       "      <td>21-30 years</td>\n",
       "      <td>Karnal</td>\n",
       "      <td>132001</td>\n",
       "      <td>3-4 years</td>\n",
       "      <td>Less than 10 times</td>\n",
       "      <td>Mobile Internet</td>\n",
       "      <td>Smartphone</td>\n",
       "      <td>5.5 inches</td>\n",
       "      <td>IOS/Mac</td>\n",
       "      <td>...</td>\n",
       "      <td>Snapdeal.com</td>\n",
       "      <td>Myntra.com, Snapdeal.com</td>\n",
       "      <td>Myntra.com</td>\n",
       "      <td>Paytm.com</td>\n",
       "      <td>Paytm.com</td>\n",
       "      <td>Paytm.com</td>\n",
       "      <td>Amazon.in, Flipkart.com</td>\n",
       "      <td>Amazon.in, Flipkart.com</td>\n",
       "      <td>Amazon.in, Flipkart.com, Paytm.com</td>\n",
       "      <td>Amazon.in, Flipkart.com</td>\n",
       "    </tr>\n",
       "    <tr>\n",
       "      <th>4</th>\n",
       "      <td>Female</td>\n",
       "      <td>21-30 years</td>\n",
       "      <td>Bangalore</td>\n",
       "      <td>530068</td>\n",
       "      <td>2-3 years</td>\n",
       "      <td>11-20 times</td>\n",
       "      <td>Wi-Fi</td>\n",
       "      <td>Smartphone</td>\n",
       "      <td>4.7 inches</td>\n",
       "      <td>IOS/Mac</td>\n",
       "      <td>...</td>\n",
       "      <td>Flipkart.com, Paytm.com</td>\n",
       "      <td>Paytm.com</td>\n",
       "      <td>Paytm.com</td>\n",
       "      <td>Paytm.com</td>\n",
       "      <td>Snapdeal.com</td>\n",
       "      <td>Paytm.com</td>\n",
       "      <td>Amazon.in</td>\n",
       "      <td>Snapdeal.com</td>\n",
       "      <td>Paytm.com</td>\n",
       "      <td>Amazon.in, Myntra.com</td>\n",
       "    </tr>\n",
       "    <tr>\n",
       "      <th>...</th>\n",
       "      <td>...</td>\n",
       "      <td>...</td>\n",
       "      <td>...</td>\n",
       "      <td>...</td>\n",
       "      <td>...</td>\n",
       "      <td>...</td>\n",
       "      <td>...</td>\n",
       "      <td>...</td>\n",
       "      <td>...</td>\n",
       "      <td>...</td>\n",
       "      <td>...</td>\n",
       "      <td>...</td>\n",
       "      <td>...</td>\n",
       "      <td>...</td>\n",
       "      <td>...</td>\n",
       "      <td>...</td>\n",
       "      <td>...</td>\n",
       "      <td>...</td>\n",
       "      <td>...</td>\n",
       "      <td>...</td>\n",
       "      <td>...</td>\n",
       "    </tr>\n",
       "    <tr>\n",
       "      <th>105</th>\n",
       "      <td>Female</td>\n",
       "      <td>41-50 yaers</td>\n",
       "      <td>Ghaziabad</td>\n",
       "      <td>201009</td>\n",
       "      <td>2-3 years</td>\n",
       "      <td>31-40 times</td>\n",
       "      <td>Mobile Internet</td>\n",
       "      <td>Smartphone</td>\n",
       "      <td>5.5 inches</td>\n",
       "      <td>Android</td>\n",
       "      <td>...</td>\n",
       "      <td>Amazon.in</td>\n",
       "      <td>Amazon.in</td>\n",
       "      <td>Amazon.in</td>\n",
       "      <td>Amazon.in</td>\n",
       "      <td>Amazon.in</td>\n",
       "      <td>Amazon.in</td>\n",
       "      <td>Amazon.in</td>\n",
       "      <td>Amazon.in</td>\n",
       "      <td>Amazon.in</td>\n",
       "      <td>Amazon.in</td>\n",
       "    </tr>\n",
       "    <tr>\n",
       "      <th>106</th>\n",
       "      <td>Female</td>\n",
       "      <td>31-40 years</td>\n",
       "      <td>Ghaziabad</td>\n",
       "      <td>201008</td>\n",
       "      <td>1-2 years</td>\n",
       "      <td>31-40 times</td>\n",
       "      <td>Mobile Internet</td>\n",
       "      <td>Smartphone</td>\n",
       "      <td>Others</td>\n",
       "      <td>Android</td>\n",
       "      <td>...</td>\n",
       "      <td>Flipkart.com</td>\n",
       "      <td>Flipkart.com</td>\n",
       "      <td>Flipkart.com</td>\n",
       "      <td>Flipkart.com</td>\n",
       "      <td>Flipkart.com</td>\n",
       "      <td>Flipkart.com</td>\n",
       "      <td>Flipkart.com</td>\n",
       "      <td>Flipkart.com</td>\n",
       "      <td>Flipkart.com</td>\n",
       "      <td>Flipkart.com</td>\n",
       "    </tr>\n",
       "    <tr>\n",
       "      <th>107</th>\n",
       "      <td>Female</td>\n",
       "      <td>Less than 20 years</td>\n",
       "      <td>Ghaziabad</td>\n",
       "      <td>201001</td>\n",
       "      <td>Less than 1 year</td>\n",
       "      <td>Less than 10 times</td>\n",
       "      <td>Wi-Fi</td>\n",
       "      <td>Smartphone</td>\n",
       "      <td>5.5 inches</td>\n",
       "      <td>Window/windows Mobile</td>\n",
       "      <td>...</td>\n",
       "      <td>Amazon.in</td>\n",
       "      <td>Flipkart.com</td>\n",
       "      <td>Flipkart.com</td>\n",
       "      <td>Flipkart.com</td>\n",
       "      <td>Flipkart.com</td>\n",
       "      <td>Amazon.in</td>\n",
       "      <td>Amazon.in</td>\n",
       "      <td>Amazon.in</td>\n",
       "      <td>Amazon.in</td>\n",
       "      <td>Amazon.in</td>\n",
       "    </tr>\n",
       "    <tr>\n",
       "      <th>112</th>\n",
       "      <td>Male</td>\n",
       "      <td>31-40 years</td>\n",
       "      <td>Bulandshahr</td>\n",
       "      <td>203001</td>\n",
       "      <td>1-2 years</td>\n",
       "      <td>Less than 10 times</td>\n",
       "      <td>Mobile Internet</td>\n",
       "      <td>Smartphone</td>\n",
       "      <td>5 inches</td>\n",
       "      <td>Android</td>\n",
       "      <td>...</td>\n",
       "      <td>Amazon.in, Flipkart.com</td>\n",
       "      <td>Amazon.in, Flipkart.com</td>\n",
       "      <td>Amazon.in, Flipkart.com</td>\n",
       "      <td>Flipkart.com</td>\n",
       "      <td>Flipkart.com</td>\n",
       "      <td>Flipkart.com</td>\n",
       "      <td>Amazon.in, Flipkart.com</td>\n",
       "      <td>Flipkart.com</td>\n",
       "      <td>Flipkart.com</td>\n",
       "      <td>Amazon.in</td>\n",
       "    </tr>\n",
       "    <tr>\n",
       "      <th>116</th>\n",
       "      <td>Female</td>\n",
       "      <td>21-30 years</td>\n",
       "      <td>Bangalore</td>\n",
       "      <td>560037</td>\n",
       "      <td>2-3 years</td>\n",
       "      <td>11-20 times</td>\n",
       "      <td>Wi-Fi</td>\n",
       "      <td>Smartphone</td>\n",
       "      <td>4.7 inches</td>\n",
       "      <td>IOS/Mac</td>\n",
       "      <td>...</td>\n",
       "      <td>Flipkart.com, Paytm.com</td>\n",
       "      <td>Paytm.com</td>\n",
       "      <td>Paytm.com</td>\n",
       "      <td>Paytm.com</td>\n",
       "      <td>Snapdeal.com</td>\n",
       "      <td>Paytm.com</td>\n",
       "      <td>Amazon.in</td>\n",
       "      <td>Snapdeal.com</td>\n",
       "      <td>Paytm.com</td>\n",
       "      <td>Amazon.in, Myntra.com</td>\n",
       "    </tr>\n",
       "  </tbody>\n",
       "</table>\n",
       "<p>103 rows × 71 columns</p>\n",
       "</div>"
      ],
      "text/plain": [
       "    1Gender of respondent 2 How old are you?   \\\n",
       "0                    Male         31-40 years   \n",
       "1                  Female         21-30 years   \n",
       "2                  Female         21-30 years   \n",
       "3                    Male         21-30 years   \n",
       "4                  Female         21-30 years   \n",
       "..                    ...                 ...   \n",
       "105                Female         41-50 yaers   \n",
       "106                Female         31-40 years   \n",
       "107                Female  Less than 20 years   \n",
       "112                  Male         31-40 years   \n",
       "116                Female         21-30 years   \n",
       "\n",
       "    3 Which city do you shop online from?  \\\n",
       "0                                   Delhi   \n",
       "1                                   Delhi   \n",
       "2                           Greater Noida   \n",
       "3                                 Karnal    \n",
       "4                              Bangalore    \n",
       "..                                    ...   \n",
       "105                             Ghaziabad   \n",
       "106                             Ghaziabad   \n",
       "107                             Ghaziabad   \n",
       "112                           Bulandshahr   \n",
       "116                            Bangalore    \n",
       "\n",
       "     4 What is the Pin Code of where you shop online from?  \\\n",
       "0                                               110009       \n",
       "1                                               110030       \n",
       "2                                               201308       \n",
       "3                                               132001       \n",
       "4                                               530068       \n",
       "..                                                 ...       \n",
       "105                                             201009       \n",
       "106                                             201008       \n",
       "107                                             201001       \n",
       "112                                             203001       \n",
       "116                                             560037       \n",
       "\n",
       "    5 Since How Long You are Shopping Online ?  \\\n",
       "0                                Above 4 years   \n",
       "1                                Above 4 years   \n",
       "2                                    3-4 years   \n",
       "3                                    3-4 years   \n",
       "4                                    2-3 years   \n",
       "..                                         ...   \n",
       "105                                  2-3 years   \n",
       "106                                  1-2 years   \n",
       "107                           Less than 1 year   \n",
       "112                                  1-2 years   \n",
       "116                                  2-3 years   \n",
       "\n",
       "    6 How many times you have made an online purchase in the past 1 year?  \\\n",
       "0                                          31-40 times                      \n",
       "1                                   41 times and above                      \n",
       "2                                   41 times and above                      \n",
       "3                                   Less than 10 times                      \n",
       "4                                          11-20 times                      \n",
       "..                                                 ...                      \n",
       "105                                        31-40 times                      \n",
       "106                                        31-40 times                      \n",
       "107                                 Less than 10 times                      \n",
       "112                                 Less than 10 times                      \n",
       "116                                        11-20 times                      \n",
       "\n",
       "    7 How do you access the internet while shopping on-line?  \\\n",
       "0                                              Dial-up         \n",
       "1                                                Wi-Fi         \n",
       "2                                      Mobile Internet         \n",
       "3                                      Mobile Internet         \n",
       "4                                                Wi-Fi         \n",
       "..                                                 ...         \n",
       "105                                    Mobile Internet         \n",
       "106                                    Mobile Internet         \n",
       "107                                              Wi-Fi         \n",
       "112                                    Mobile Internet         \n",
       "116                                              Wi-Fi         \n",
       "\n",
       "    8 Which device do you use to access the online shopping?  \\\n",
       "0                                              Desktop         \n",
       "1                                           Smartphone         \n",
       "2                                           Smartphone         \n",
       "3                                           Smartphone         \n",
       "4                                           Smartphone         \n",
       "..                                                 ...         \n",
       "105                                         Smartphone         \n",
       "106                                         Smartphone         \n",
       "107                                         Smartphone         \n",
       "112                                         Smartphone         \n",
       "116                                         Smartphone         \n",
       "\n",
       "    9 What is the screen size of your mobile device?\\t\\t\\t\\t\\t\\t                                          \\\n",
       "0                                               Others                                                     \n",
       "1                                           4.7 inches                                                     \n",
       "2                                           5.5 inches                                                     \n",
       "3                                           5.5 inches                                                     \n",
       "4                                           4.7 inches                                                     \n",
       "..                                                 ...                                                     \n",
       "105                                         5.5 inches                                                     \n",
       "106                                             Others                                                     \n",
       "107                                         5.5 inches                                                     \n",
       "112                                           5 inches                                                     \n",
       "116                                         4.7 inches                                                     \n",
       "\n",
       "    10 What is the operating system (OS) of your device?\\t\\t\\t\\t                                            \\\n",
       "0                                Window/windows Mobile                                                       \n",
       "1                                              IOS/Mac                                                       \n",
       "2                                              Android                                                       \n",
       "3                                              IOS/Mac                                                       \n",
       "4                                              IOS/Mac                                                       \n",
       "..                                                 ...                                                       \n",
       "105                                            Android                                                       \n",
       "106                                            Android                                                       \n",
       "107                              Window/windows Mobile                                                       \n",
       "112                                            Android                                                       \n",
       "116                                            IOS/Mac                                                       \n",
       "\n",
       "     ... Longer time to get logged in (promotion, sales period)  \\\n",
       "0    ...                                          Amazon.in       \n",
       "1    ...                            Amazon.in, Flipkart.com       \n",
       "2    ...                                         Myntra.com       \n",
       "3    ...                                       Snapdeal.com       \n",
       "4    ...                            Flipkart.com, Paytm.com       \n",
       "..   ...                                                ...       \n",
       "105  ...                                          Amazon.in       \n",
       "106  ...                                       Flipkart.com       \n",
       "107  ...                                          Amazon.in       \n",
       "112  ...                            Amazon.in, Flipkart.com       \n",
       "116  ...                            Flipkart.com, Paytm.com       \n",
       "\n",
       "    Longer time in displaying graphics and photos (promotion, sales period)  \\\n",
       "0                                            Amazon.in                        \n",
       "1                                           Myntra.com                        \n",
       "2                                           Myntra.com                        \n",
       "3                             Myntra.com, Snapdeal.com                        \n",
       "4                                            Paytm.com                        \n",
       "..                                                 ...                        \n",
       "105                                          Amazon.in                        \n",
       "106                                       Flipkart.com                        \n",
       "107                                       Flipkart.com                        \n",
       "112                            Amazon.in, Flipkart.com                        \n",
       "116                                          Paytm.com                        \n",
       "\n",
       "    Late declaration of price (promotion, sales period)  \\\n",
       "0                                         Flipkart.com    \n",
       "1                                         snapdeal.com    \n",
       "2                                           Myntra.com    \n",
       "3                                           Myntra.com    \n",
       "4                                            Paytm.com    \n",
       "..                                                 ...    \n",
       "105                                          Amazon.in    \n",
       "106                                       Flipkart.com    \n",
       "107                                       Flipkart.com    \n",
       "112                            Amazon.in, Flipkart.com    \n",
       "116                                          Paytm.com    \n",
       "\n",
       "    Longer page loading time (promotion, sales period)  \\\n",
       "0                                         Flipkart.com   \n",
       "1                                         Snapdeal.com   \n",
       "2                                           Myntra.com   \n",
       "3                                            Paytm.com   \n",
       "4                                            Paytm.com   \n",
       "..                                                 ...   \n",
       "105                                          Amazon.in   \n",
       "106                                       Flipkart.com   \n",
       "107                                       Flipkart.com   \n",
       "112                                       Flipkart.com   \n",
       "116                                          Paytm.com   \n",
       "\n",
       "    Limited mode of payment on most products (promotion, sales period)  \\\n",
       "0                                            Amazon.in                   \n",
       "1                                         Snapdeal.com                   \n",
       "2                                            Amazon.in                   \n",
       "3                                            Paytm.com                   \n",
       "4                                         Snapdeal.com                   \n",
       "..                                                 ...                   \n",
       "105                                          Amazon.in                   \n",
       "106                                       Flipkart.com                   \n",
       "107                                       Flipkart.com                   \n",
       "112                                       Flipkart.com                   \n",
       "116                                       Snapdeal.com                   \n",
       "\n",
       "    Longer delivery period Change in website/Application design  \\\n",
       "0                Paytm.com                         Flipkart.com   \n",
       "1             Snapdeal.com                            Amazon.in   \n",
       "2                Paytm.com                            Paytm.com   \n",
       "3                Paytm.com              Amazon.in, Flipkart.com   \n",
       "4                Paytm.com                            Amazon.in   \n",
       "..                     ...                                  ...   \n",
       "105              Amazon.in                            Amazon.in   \n",
       "106           Flipkart.com                         Flipkart.com   \n",
       "107              Amazon.in                            Amazon.in   \n",
       "112           Flipkart.com              Amazon.in, Flipkart.com   \n",
       "116              Paytm.com                            Amazon.in   \n",
       "\n",
       "    Frequent disruption when moving from one page to another  \\\n",
       "0                                            Amazon.in         \n",
       "1                                           Myntra.com         \n",
       "2                                            Paytm.com         \n",
       "3                              Amazon.in, Flipkart.com         \n",
       "4                                         Snapdeal.com         \n",
       "..                                                 ...         \n",
       "105                                          Amazon.in         \n",
       "106                                       Flipkart.com         \n",
       "107                                          Amazon.in         \n",
       "112                                       Flipkart.com         \n",
       "116                                       Snapdeal.com         \n",
       "\n",
       "      Website is as efficient as before  \\\n",
       "0                             Amazon.in   \n",
       "1               Amazon.in, Flipkart.com   \n",
       "2                             Amazon.in   \n",
       "3    Amazon.in, Flipkart.com, Paytm.com   \n",
       "4                             Paytm.com   \n",
       "..                                  ...   \n",
       "105                           Amazon.in   \n",
       "106                        Flipkart.com   \n",
       "107                           Amazon.in   \n",
       "112                        Flipkart.com   \n",
       "116                           Paytm.com   \n",
       "\n",
       "    Which of the Indian online retailer would you recommend to a friend?  \n",
       "0                                         Flipkart.com                    \n",
       "1                                Amazon.in, Myntra.com                    \n",
       "2                     Amazon.in, Paytm.com, Myntra.com                    \n",
       "3                              Amazon.in, Flipkart.com                    \n",
       "4                                Amazon.in, Myntra.com                    \n",
       "..                                                 ...                    \n",
       "105                                          Amazon.in                    \n",
       "106                                       Flipkart.com                    \n",
       "107                                          Amazon.in                    \n",
       "112                                          Amazon.in                    \n",
       "116                              Amazon.in, Myntra.com                    \n",
       "\n",
       "[103 rows x 71 columns]"
      ]
     },
     "execution_count": 10,
     "metadata": {},
     "output_type": "execute_result"
    }
   ],
   "source": [
    "newdf"
   ]
  },
  {
   "cell_type": "markdown",
   "id": "d5466017",
   "metadata": {},
   "source": [
    "### SEVERAL DUPLICATE ROWS ARE FOUND "
   ]
  },
  {
   "cell_type": "markdown",
   "id": "9cb36dc1",
   "metadata": {},
   "source": [
    "## IDENTIFICATION OF VARIABLES & DATA TYPES"
   ]
  },
  {
   "cell_type": "code",
   "execution_count": 13,
   "id": "171c28f5",
   "metadata": {},
   "outputs": [
    {
     "name": "stdout",
     "output_type": "stream",
     "text": [
      "<class 'pandas.core.frame.DataFrame'>\n",
      "Int64Index: 103 entries, 0 to 116\n",
      "Data columns (total 71 columns):\n",
      " #   Column                                                                                                                                                                                                          Non-Null Count  Dtype \n",
      "---  ------                                                                                                                                                                                                          --------------  ----- \n",
      " 0   1Gender of respondent                                                                                                                                                                                           103 non-null    object\n",
      " 1   2 How old are you?                                                                                                                                                                                              103 non-null    object\n",
      " 2   3 Which city do you shop online from?                                                                                                                                                                           103 non-null    object\n",
      " 3   4 What is the Pin Code of where you shop online from?                                                                                                                                                           103 non-null    int64 \n",
      " 4   5 Since How Long You are Shopping Online ?                                                                                                                                                                      103 non-null    object\n",
      " 5   6 How many times you have made an online purchase in the past 1 year?                                                                                                                                           103 non-null    object\n",
      " 6   7 How do you access the internet while shopping on-line?                                                                                                                                                        103 non-null    object\n",
      " 7   8 Which device do you use to access the online shopping?                                                                                                                                                        103 non-null    object\n",
      " 8   9 What is the screen size of your mobile device?\t\t\t\t\t\t                                                                                                                                                          103 non-null    object\n",
      " 9   10 What is the operating system (OS) of your device?\t\t\t\t                                                                                                                                                        103 non-null    object\n",
      " 10  11 What browser do you run on your device to access the website?\t\t\t                                                                                                                                             103 non-null    object\n",
      " 11  12 Which channel did you follow to arrive at your favorite online store for the first time?                                                                                                                     103 non-null    object\n",
      " 12  13 After first visit, how do you reach the online retail store?\t\t\t\t                                                                                                                                             103 non-null    object\n",
      " 13  14 How much time do you explore the e- retail store before making a purchase decision?                                                                                                                          103 non-null    object\n",
      " 14  15 What is your preferred payment Option?\t\t\t\t\t                                                                                                                                                                  103 non-null    object\n",
      " 15  16 How frequently do you abandon (selecting an items and leaving without making payment) your shopping cart?\t\t\t\t\t\t\t                                                                                             103 non-null    object\n",
      " 16  17 Why did you abandon the “Bag”, “Shopping Cart”?\t\t\t\t\t                                                                                                                                                         103 non-null    object\n",
      " 17  18 The content on the website must be easy to read and understand                                                                                                                                               103 non-null    object\n",
      " 18  19 Information on similar product to the one highlighted  is important for product comparison                                                                                                                   103 non-null    object\n",
      " 19  20 Complete information on listed seller and product being offered is important for purchase decision.                                                                                                          103 non-null    object\n",
      " 20  21 All relevant information on listed products must be stated clearly                                                                                                                                           103 non-null    object\n",
      " 21  22 Ease of navigation in website                                                                                                                                                                                103 non-null    object\n",
      " 22  23 Loading and processing speed                                                                                                                                                                                 103 non-null    object\n",
      " 23  24 User friendly Interface of the website                                                                                                                                                                       103 non-null    object\n",
      " 24  25 Convenient Payment methods                                                                                                                                                                                   103 non-null    object\n",
      " 25  26 Trust that the online retail store will fulfill its part of the transaction at the stipulated time                                                                                                           103 non-null    object\n",
      " 26  27 Empathy (readiness to assist with queries) towards the customers                                                                                                                                             103 non-null    object\n",
      " 27  28 Being able to guarantee the privacy of the customer                                                                                                                                                          103 non-null    object\n",
      " 28  29 Responsiveness, availability of several communication channels (email, online rep, twitter, phone etc.)                                                                                                      103 non-null    object\n",
      " 29  30 Online shopping gives monetary benefit and discounts                                                                                                                                                         103 non-null    object\n",
      " 30  31 Enjoyment is derived from shopping online                                                                                                                                                                    103 non-null    object\n",
      " 31  32 Shopping online is convenient and flexible                                                                                                                                                                   103 non-null    object\n",
      " 32  33 Return and replacement policy of the e-tailer is important for purchase decision                                                                                                                             103 non-null    object\n",
      " 33  34 Gaining access to loyalty programs is a benefit of shopping online                                                                                                                                           103 non-null    object\n",
      " 34  35 Displaying quality Information on the website improves satisfaction of customers                                                                                                                             103 non-null    object\n",
      " 35  36 User derive satisfaction while shopping on a good quality website or application                                                                                                                             103 non-null    object\n",
      " 36  37 Net Benefit derived from shopping online can lead to users satisfaction                                                                                                                                      103 non-null    object\n",
      " 37  38 User satisfaction cannot exist without trust                                                                                                                                                                 103 non-null    object\n",
      " 38  39 Offering a wide variety of listed product in several category                                                                                                                                                103 non-null    object\n",
      " 39  40 Provision of complete and relevant product information                                                                                                                                                       103 non-null    object\n",
      " 40  41 Monetary savings                                                                                                                                                                                             103 non-null    object\n",
      " 41  42 The Convenience of patronizing the online retailer                                                                                                                                                           103 non-null    object\n",
      " 42  43 Shopping on the website gives you the sense of adventure                                                                                                                                                     103 non-null    object\n",
      " 43  44 Shopping on your preferred e-tailer enhances your social status                                                                                                                                              103 non-null    object\n",
      " 44  45 You feel gratification shopping on your favorite e-tailer                                                                                                                                                    103 non-null    object\n",
      " 45  46 Shopping on the website helps you fulfill certain roles                                                                                                                                                      103 non-null    object\n",
      " 46  47 Getting value for money spent                                                                                                                                                                                103 non-null    object\n",
      " 47  From the following, tick any (or all) of the online retailers you have shopped from;                                                                                                                            103 non-null    object\n",
      " 48  Easy to use website or application                                                                                                                                                                              103 non-null    object\n",
      " 49  Visual appealing web-page layout                                                                                                                                                                                103 non-null    object\n",
      " 50  Wild variety of product on offer                                                                                                                                                                                103 non-null    object\n",
      " 51  Complete, relevant description information of products                                                                                                                                                          103 non-null    object\n",
      " 52  Fast loading website speed of website and application                                                                                                                                                           103 non-null    object\n",
      " 53  Reliability of the website or application                                                                                                                                                                       103 non-null    object\n",
      " 54  Quickness to complete purchase                                                                                                                                                                                  103 non-null    object\n",
      " 55  Availability of several payment options                                                                                                                                                                         103 non-null    object\n",
      " 56  Speedy order delivery                                                                                                                                                                                           103 non-null    object\n",
      " 57  Privacy of customers’ information                                                                                                                                                                               103 non-null    object\n",
      " 58  Security of customer financial information                                                                                                                                                                      103 non-null    object\n",
      " 59  Perceived Trustworthiness                                                                                                                                                                                       103 non-null    object\n",
      " 60  Presence of online assistance through multi-channel                                                                                                                                                             103 non-null    object\n",
      " 61  Longer time to get logged in (promotion, sales period)                                                                                                                                                          103 non-null    object\n",
      " 62  Longer time in displaying graphics and photos (promotion, sales period)                                                                                                                                         103 non-null    object\n",
      " 63  Late declaration of price (promotion, sales period)                                                                                                                                                             103 non-null    object\n",
      " 64  Longer page loading time (promotion, sales period)                                                                                                                                                              103 non-null    object\n",
      " 65  Limited mode of payment on most products (promotion, sales period)                                                                                                                                              103 non-null    object\n",
      " 66  Longer delivery period                                                                                                                                                                                          103 non-null    object\n",
      " 67  Change in website/Application design                                                                                                                                                                            103 non-null    object\n",
      " 68  Frequent disruption when moving from one page to another                                                                                                                                                        103 non-null    object\n",
      " 69  Website is as efficient as before                                                                                                                                                                               103 non-null    object\n",
      " 70  Which of the Indian online retailer would you recommend to a friend?                                                                                                                                            103 non-null    object\n",
      "dtypes: int64(1), object(70)\n",
      "memory usage: 57.9+ KB\n"
     ]
    }
   ],
   "source": [
    "newdf.info()"
   ]
  },
  {
   "cell_type": "code",
   "execution_count": 14,
   "id": "cfb94535",
   "metadata": {},
   "outputs": [
    {
     "data": {
      "text/plain": [
       "1Gender of respondent                                                   object\n",
       "2 How old are you?                                                      object\n",
       "3 Which city do you shop online from?                                   object\n",
       "4 What is the Pin Code of where you shop online from?                    int64\n",
       "5 Since How Long You are Shopping Online ?                              object\n",
       "                                                                         ...  \n",
       "Longer delivery period                                                  object\n",
       "Change in website/Application design                                    object\n",
       "Frequent disruption when moving from one page to another                object\n",
       "Website is as efficient as before                                       object\n",
       "Which of the Indian online retailer would you recommend to a friend?    object\n",
       "Length: 71, dtype: object"
      ]
     },
     "execution_count": 14,
     "metadata": {},
     "output_type": "execute_result"
    }
   ],
   "source": [
    "newdf.dtypes"
   ]
  },
  {
   "cell_type": "markdown",
   "id": "cdd392be",
   "metadata": {},
   "source": [
    "### WE HAVE A COMBINATION OF CATAGORICAL & OBJECT VARIABLES "
   ]
  },
  {
   "cell_type": "markdown",
   "id": "c5aa0ffa",
   "metadata": {},
   "source": [
    "## MISSING VALUES CHECK "
   ]
  },
  {
   "cell_type": "code",
   "execution_count": 15,
   "id": "21af2c3d",
   "metadata": {},
   "outputs": [
    {
     "data": {
      "text/plain": [
       "1Gender of respondent                                                   0\n",
       "2 How old are you?                                                      0\n",
       "3 Which city do you shop online from?                                   0\n",
       "4 What is the Pin Code of where you shop online from?                   0\n",
       "5 Since How Long You are Shopping Online ?                              0\n",
       "                                                                       ..\n",
       "Longer delivery period                                                  0\n",
       "Change in website/Application design                                    0\n",
       "Frequent disruption when moving from one page to another                0\n",
       "Website is as efficient as before                                       0\n",
       "Which of the Indian online retailer would you recommend to a friend?    0\n",
       "Length: 71, dtype: int64"
      ]
     },
     "execution_count": 15,
     "metadata": {},
     "output_type": "execute_result"
    }
   ],
   "source": [
    "newdf.isnull().sum()"
   ]
  },
  {
   "cell_type": "markdown",
   "id": "12e07b47",
   "metadata": {},
   "source": [
    "### NO NULL VALUES ARE PRESENT IN THE DATA"
   ]
  },
  {
   "cell_type": "markdown",
   "id": "77a7d1ef",
   "metadata": {},
   "source": [
    "## UNIQUE & COUNT CHECK OF ALL COLUMNS "
   ]
  },
  {
   "cell_type": "code",
   "execution_count": 16,
   "id": "6de45c93",
   "metadata": {},
   "outputs": [
    {
     "data": {
      "text/plain": [
       "array(['Male', 'Female'], dtype=object)"
      ]
     },
     "execution_count": 16,
     "metadata": {},
     "output_type": "execute_result"
    }
   ],
   "source": [
    "newdf['1Gender of respondent'].unique()"
   ]
  },
  {
   "cell_type": "code",
   "execution_count": 17,
   "id": "24db1839",
   "metadata": {},
   "outputs": [
    {
     "data": {
      "text/plain": [
       "Female    66\n",
       "Male      37\n",
       "Name: 1Gender of respondent, dtype: int64"
      ]
     },
     "execution_count": 17,
     "metadata": {},
     "output_type": "execute_result"
    }
   ],
   "source": [
    "newdf['1Gender of respondent'].value_counts()"
   ]
  },
  {
   "cell_type": "code",
   "execution_count": 20,
   "id": "a10b1428",
   "metadata": {},
   "outputs": [
    {
     "data": {
      "text/plain": [
       "array(['31-40 years', '21-30 years', '41-50 yaers', 'Less than 20 years',\n",
       "       '51 years and above'], dtype=object)"
      ]
     },
     "execution_count": 20,
     "metadata": {},
     "output_type": "execute_result"
    }
   ],
   "source": [
    "newdf['2 How old are you? '].unique()"
   ]
  },
  {
   "cell_type": "code",
   "execution_count": 21,
   "id": "c52b984f",
   "metadata": {},
   "outputs": [
    {
     "data": {
      "text/plain": [
       "21-30 years           32\n",
       "31-40 years           30\n",
       "41-50 yaers           29\n",
       "Less than 20 years     6\n",
       "51 years and above     6\n",
       "Name: 2 How old are you? , dtype: int64"
      ]
     },
     "execution_count": 21,
     "metadata": {},
     "output_type": "execute_result"
    }
   ],
   "source": [
    "newdf['2 How old are you? '].value_counts()"
   ]
  },
  {
   "cell_type": "code",
   "execution_count": 22,
   "id": "859d0b2d",
   "metadata": {},
   "outputs": [
    {
     "data": {
      "text/plain": [
       "array(['Delhi', 'Greater Noida', 'Karnal ', 'Bangalore ', 'Noida',\n",
       "       'Solan', 'Moradabad', 'Gurgaon ', 'Merrut', 'Ghaziabad',\n",
       "       'Bulandshahr'], dtype=object)"
      ]
     },
     "execution_count": 22,
     "metadata": {},
     "output_type": "execute_result"
    }
   ],
   "source": [
    "newdf['3 Which city do you shop online from?'].unique()"
   ]
  },
  {
   "cell_type": "code",
   "execution_count": 23,
   "id": "f04e9fde",
   "metadata": {},
   "outputs": [
    {
     "data": {
      "text/plain": [
       "Delhi            22\n",
       "Greater Noida    17\n",
       "Bangalore        17\n",
       "Noida            17\n",
       "Karnal           11\n",
       "Merrut            5\n",
       "Ghaziabad         5\n",
       "Solan             4\n",
       "Gurgaon           3\n",
       "Moradabad         1\n",
       "Bulandshahr       1\n",
       "Name: 3 Which city do you shop online from?, dtype: int64"
      ]
     },
     "execution_count": 23,
     "metadata": {},
     "output_type": "execute_result"
    }
   ],
   "source": [
    "newdf['3 Which city do you shop online from?'].value_counts()"
   ]
  },
  {
   "cell_type": "code",
   "execution_count": 24,
   "id": "b1c80e7c",
   "metadata": {},
   "outputs": [
    {
     "data": {
      "text/plain": [
       "array([110009, 110030, 201308, 132001, 530068, 110011, 110018, 173229,\n",
       "       110039, 244001, 122018, 201310, 560037, 203207, 250001, 201005,\n",
       "       110044, 201306, 560010, 201305, 110042, 132036, 560018, 110008,\n",
       "       560002, 201303, 201312, 203202, 560001, 201304, 560003, 110014,\n",
       "       560013, 173212, 122009, 201009, 201008, 201001, 203001],\n",
       "      dtype=int64)"
      ]
     },
     "execution_count": 24,
     "metadata": {},
     "output_type": "execute_result"
    }
   ],
   "source": [
    "newdf['4 What is the Pin Code of where you shop online from?'].unique()"
   ]
  },
  {
   "cell_type": "code",
   "execution_count": 25,
   "id": "8150695b",
   "metadata": {},
   "outputs": [
    {
     "data": {
      "text/plain": [
       "201308    13\n",
       "132001     7\n",
       "110044     7\n",
       "201310     6\n",
       "250001     5\n",
       "132036     4\n",
       "560037     4\n",
       "201305     3\n",
       "110008     3\n",
       "201306     3\n",
       "560010     3\n",
       "201312     3\n",
       "110011     3\n",
       "110042     2\n",
       "201303     2\n",
       "560018     2\n",
       "173212     2\n",
       "201304     2\n",
       "560002     2\n",
       "201005     2\n",
       "110014     2\n",
       "122018     2\n",
       "173229     2\n",
       "110018     2\n",
       "530068     2\n",
       "560003     2\n",
       "122009     1\n",
       "201009     1\n",
       "201008     1\n",
       "201001     1\n",
       "560013     1\n",
       "110009     1\n",
       "560001     1\n",
       "203202     1\n",
       "110030     1\n",
       "203207     1\n",
       "244001     1\n",
       "110039     1\n",
       "203001     1\n",
       "Name: 4 What is the Pin Code of where you shop online from?, dtype: int64"
      ]
     },
     "execution_count": 25,
     "metadata": {},
     "output_type": "execute_result"
    }
   ],
   "source": [
    "newdf['4 What is the Pin Code of where you shop online from?'].value_counts()"
   ]
  },
  {
   "cell_type": "code",
   "execution_count": 26,
   "id": "c2fe8222",
   "metadata": {},
   "outputs": [
    {
     "data": {
      "text/plain": [
       "array(['Above 4 years', '3-4 years', '2-3 years', 'Less than 1 year',\n",
       "       '1-2 years'], dtype=object)"
      ]
     },
     "execution_count": 26,
     "metadata": {},
     "output_type": "execute_result"
    }
   ],
   "source": [
    "newdf['5 Since How Long You are Shopping Online ?'].unique()"
   ]
  },
  {
   "cell_type": "code",
   "execution_count": 27,
   "id": "7f5c4cab",
   "metadata": {},
   "outputs": [
    {
     "data": {
      "text/plain": [
       "Above 4 years       39\n",
       "2-3 years           23\n",
       "Less than 1 year    18\n",
       "3-4 years           16\n",
       "1-2 years            7\n",
       "Name: 5 Since How Long You are Shopping Online ?, dtype: int64"
      ]
     },
     "execution_count": 27,
     "metadata": {},
     "output_type": "execute_result"
    }
   ],
   "source": [
    "newdf['5 Since How Long You are Shopping Online ?'].value_counts()"
   ]
  },
  {
   "cell_type": "code",
   "execution_count": 29,
   "id": "de27f81f",
   "metadata": {},
   "outputs": [
    {
     "data": {
      "text/plain": [
       "array(['31-40 times', '41 times and above', 'Less than 10 times',\n",
       "       '11-20 times', '21-30 times', '42 times and above'], dtype=object)"
      ]
     },
     "execution_count": 29,
     "metadata": {},
     "output_type": "execute_result"
    }
   ],
   "source": [
    "newdf['6 How many times you have made an online purchase in the past 1 year?'].unique()"
   ]
  },
  {
   "cell_type": "code",
   "execution_count": 30,
   "id": "c2d6d9a3",
   "metadata": {},
   "outputs": [
    {
     "data": {
      "text/plain": [
       "Less than 10 times    39\n",
       "31-40 times           24\n",
       "41 times and above    22\n",
       "11-20 times           12\n",
       "21-30 times            4\n",
       "42 times and above     2\n",
       "Name: 6 How many times you have made an online purchase in the past 1 year?, dtype: int64"
      ]
     },
     "execution_count": 30,
     "metadata": {},
     "output_type": "execute_result"
    }
   ],
   "source": [
    "newdf['6 How many times you have made an online purchase in the past 1 year?'].value_counts()"
   ]
  },
  {
   "cell_type": "code",
   "execution_count": 31,
   "id": "9b10d0ae",
   "metadata": {},
   "outputs": [
    {
     "data": {
      "text/plain": [
       "array(['Dial-up', 'Wi-Fi', 'Mobile Internet', 'Mobile internet'],\n",
       "      dtype=object)"
      ]
     },
     "execution_count": 31,
     "metadata": {},
     "output_type": "execute_result"
    }
   ],
   "source": [
    "newdf['7 How do you access the internet while shopping on-line?'].unique()"
   ]
  },
  {
   "cell_type": "code",
   "execution_count": 32,
   "id": "0cd3e0f6",
   "metadata": {},
   "outputs": [
    {
     "data": {
      "text/plain": [
       "Mobile internet    70\n",
       "Wi-Fi              21\n",
       "Mobile Internet    11\n",
       "Dial-up             1\n",
       "Name: 7 How do you access the internet while shopping on-line?, dtype: int64"
      ]
     },
     "execution_count": 32,
     "metadata": {},
     "output_type": "execute_result"
    }
   ],
   "source": [
    "newdf['7 How do you access the internet while shopping on-line?'].value_counts()"
   ]
  },
  {
   "cell_type": "code",
   "execution_count": 33,
   "id": "94acd68f",
   "metadata": {},
   "outputs": [
    {
     "data": {
      "text/plain": [
       "array(['Desktop', 'Smartphone', 'Tablet', 'Laptop'], dtype=object)"
      ]
     },
     "execution_count": 33,
     "metadata": {},
     "output_type": "execute_result"
    }
   ],
   "source": [
    "newdf['8 Which device do you use to access the online shopping?'].unique()"
   ]
  },
  {
   "cell_type": "code",
   "execution_count": 34,
   "id": "0b9c775b",
   "metadata": {},
   "outputs": [
    {
     "data": {
      "text/plain": [
       "Smartphone    52\n",
       "Laptop        32\n",
       "Desktop       13\n",
       "Tablet         6\n",
       "Name: 8 Which device do you use to access the online shopping?, dtype: int64"
      ]
     },
     "execution_count": 34,
     "metadata": {},
     "output_type": "execute_result"
    }
   ],
   "source": [
    "newdf['8 Which device do you use to access the online shopping?'].value_counts()"
   ]
  },
  {
   "cell_type": "code",
   "execution_count": 52,
   "id": "5d7b870e",
   "metadata": {},
   "outputs": [
    {
     "data": {
      "text/plain": [
       "array(['Search Engine', 'Via application', 'Direct URL', 'E-mail',\n",
       "       'Social Media'], dtype=object)"
      ]
     },
     "execution_count": 52,
     "metadata": {},
     "output_type": "execute_result"
    }
   ],
   "source": [
    "newdf['13 After first visit, how do you reach the online retail store?\t\t\t\t                                                   '].unique()"
   ]
  },
  {
   "cell_type": "code",
   "execution_count": 53,
   "id": "76059e2a",
   "metadata": {},
   "outputs": [
    {
     "data": {
      "text/plain": [
       "Via application    34\n",
       "Search Engine      33\n",
       "Direct URL         26\n",
       "E-mail              8\n",
       "Social Media        2\n",
       "Name: 13 After first visit, how do you reach the online retail store?\\t\\t\\t\\t                                                   , dtype: int64"
      ]
     },
     "execution_count": 53,
     "metadata": {},
     "output_type": "execute_result"
    }
   ],
   "source": [
    "newdf['13 After first visit, how do you reach the online retail store?\t\t\t\t                                                   '].value_counts()"
   ]
  },
  {
   "cell_type": "code",
   "execution_count": 54,
   "id": "3d5f912f",
   "metadata": {},
   "outputs": [
    {
     "data": {
      "text/plain": [
       "array(['Search Engine', 'Content Marketing', 'Display Adverts'],\n",
       "      dtype=object)"
      ]
     },
     "execution_count": 54,
     "metadata": {},
     "output_type": "execute_result"
    }
   ],
   "source": [
    "newdf['12 Which channel did you follow to arrive at your favorite online store for the first time?                                                                   '].unique()"
   ]
  },
  {
   "cell_type": "code",
   "execution_count": 55,
   "id": "b49a8792",
   "metadata": {},
   "outputs": [
    {
     "data": {
      "text/plain": [
       "Search Engine        86\n",
       "Content Marketing    10\n",
       "Display Adverts       7\n",
       "Name: 12 Which channel did you follow to arrive at your favorite online store for the first time?                                                                   , dtype: int64"
      ]
     },
     "execution_count": 55,
     "metadata": {},
     "output_type": "execute_result"
    }
   ],
   "source": [
    "newdf['12 Which channel did you follow to arrive at your favorite online store for the first time?                                                                   '].value_counts()"
   ]
  },
  {
   "cell_type": "code",
   "execution_count": 57,
   "id": "a8db3877",
   "metadata": {},
   "outputs": [
    {
     "data": {
      "text/plain": [
       "array(['Google chrome', 'Safari', 'Opera', 'Mozilla Firefox'],\n",
       "      dtype=object)"
      ]
     },
     "execution_count": 57,
     "metadata": {},
     "output_type": "execute_result"
    }
   ],
   "source": [
    "newdf['11 What browser do you run on your device to access the website?\t\t\t                                                          '].unique()"
   ]
  },
  {
   "cell_type": "code",
   "execution_count": 59,
   "id": "d9a3a59d",
   "metadata": {},
   "outputs": [
    {
     "data": {
      "text/plain": [
       "Google chrome      80\n",
       "Safari             19\n",
       "Opera               2\n",
       "Mozilla Firefox     2\n",
       "Name: 11 What browser do you run on your device to access the website?\\t\\t\\t                                                          , dtype: int64"
      ]
     },
     "execution_count": 59,
     "metadata": {},
     "output_type": "execute_result"
    }
   ],
   "source": [
    "newdf['11 What browser do you run on your device to access the website?\t\t\t                                                          '].value_counts()"
   ]
  },
  {
   "cell_type": "code",
   "execution_count": 60,
   "id": "e162e586",
   "metadata": {},
   "outputs": [
    {
     "data": {
      "text/plain": [
       "array(['Window/windows Mobile', 'IOS/Mac', 'Android'], dtype=object)"
      ]
     },
     "execution_count": 60,
     "metadata": {},
     "output_type": "execute_result"
    }
   ],
   "source": [
    "newdf['10 What is the operating system (OS) of your device?\t\t\t\t                                          '].unique()"
   ]
  },
  {
   "cell_type": "code",
   "execution_count": 61,
   "id": "bc47d1cc",
   "metadata": {},
   "outputs": [
    {
     "data": {
      "text/plain": [
       "Window/windows Mobile    46\n",
       "Android                  30\n",
       "IOS/Mac                  27\n",
       "Name: 10 What is the operating system (OS) of your device?\\t\\t\\t\\t                                          , dtype: int64"
      ]
     },
     "execution_count": 61,
     "metadata": {},
     "output_type": "execute_result"
    }
   ],
   "source": [
    "newdf['10 What is the operating system (OS) of your device?\t\t\t\t                                          '].value_counts()"
   ]
  },
  {
   "cell_type": "code",
   "execution_count": 62,
   "id": "c5015381",
   "metadata": {},
   "outputs": [
    {
     "data": {
      "text/plain": [
       "array(['Others', '4.7 inches', '5.5 inches', '5 inches'], dtype=object)"
      ]
     },
     "execution_count": 62,
     "metadata": {},
     "output_type": "execute_result"
    }
   ],
   "source": [
    "newdf['9 What is the screen size of your mobile device?\t\t\t\t\t\t                                        '].unique()"
   ]
  },
  {
   "cell_type": "code",
   "execution_count": 63,
   "id": "a79ceae0",
   "metadata": {},
   "outputs": [
    {
     "data": {
      "text/plain": [
       "Others        51\n",
       "5.5 inches    35\n",
       "4.7 inches    13\n",
       "5 inches       4\n",
       "Name: 9 What is the screen size of your mobile device?\\t\\t\\t\\t\\t\\t                                        , dtype: int64"
      ]
     },
     "execution_count": 63,
     "metadata": {},
     "output_type": "execute_result"
    }
   ],
   "source": [
    "newdf['9 What is the screen size of your mobile device?\t\t\t\t\t\t                                        '].value_counts()"
   ]
  },
  {
   "cell_type": "code",
   "execution_count": 64,
   "id": "258275dc",
   "metadata": {},
   "outputs": [
    {
     "data": {
      "text/plain": [
       "array(['6-10 mins', 'more than 15 mins', '11-15 mins', '1-5 mins',\n",
       "       'Less than 1 min'], dtype=object)"
      ]
     },
     "execution_count": 64,
     "metadata": {},
     "output_type": "execute_result"
    }
   ],
   "source": [
    "newdf['14 How much time do you explore the e- retail store before making a purchase decision?                                                                   '].unique()"
   ]
  },
  {
   "cell_type": "code",
   "execution_count": 66,
   "id": "4ce71ca8",
   "metadata": {},
   "outputs": [
    {
     "data": {
      "text/plain": [
       "more than 15 mins    48\n",
       "6-10 mins            31\n",
       "11-15 mins           15\n",
       "1-5 mins              5\n",
       "Less than 1 min       4\n",
       "Name: 14 How much time do you explore the e- retail store before making a purchase decision?                                                                   , dtype: int64"
      ]
     },
     "execution_count": 66,
     "metadata": {},
     "output_type": "execute_result"
    }
   ],
   "source": [
    "newdf['14 How much time do you explore the e- retail store before making a purchase decision?                                                                   '].value_counts()"
   ]
  },
  {
   "cell_type": "code",
   "execution_count": 67,
   "id": "e9e9baa1",
   "metadata": {},
   "outputs": [
    {
     "data": {
      "text/plain": [
       "array(['E-wallets (Paytm, Freecharge etc.)', 'Credit/Debit cards',\n",
       "       'Cash on delivery (CoD)'], dtype=object)"
      ]
     },
     "execution_count": 67,
     "metadata": {},
     "output_type": "execute_result"
    }
   ],
   "source": [
    "newdf['15 What is your preferred payment Option?\t\t\t\t\t                                                                                                                               '].unique()"
   ]
  },
  {
   "cell_type": "code",
   "execution_count": 68,
   "id": "4ab2a18d",
   "metadata": {},
   "outputs": [
    {
     "data": {
      "text/plain": [
       "Credit/Debit cards                    59\n",
       "Cash on delivery (CoD)                25\n",
       "E-wallets (Paytm, Freecharge etc.)    19\n",
       "Name: 15 What is your preferred payment Option?\\t\\t\\t\\t\\t                                                                                                                               , dtype: int64"
      ]
     },
     "execution_count": 68,
     "metadata": {},
     "output_type": "execute_result"
    }
   ],
   "source": [
    "newdf['15 What is your preferred payment Option?\t\t\t\t\t                                                                                                                               '].value_counts()"
   ]
  },
  {
   "cell_type": "code",
   "execution_count": 69,
   "id": "61db1104",
   "metadata": {},
   "outputs": [
    {
     "data": {
      "text/plain": [
       "array(['Sometimes', 'Very frequently', 'Never', 'Frequently'],\n",
       "      dtype=object)"
      ]
     },
     "execution_count": 69,
     "metadata": {},
     "output_type": "execute_result"
    }
   ],
   "source": [
    "newdf['16 How frequently do you abandon (selecting an items and leaving without making payment) your shopping cart?\t\t\t\t\t\t\t                                                   '].unique()"
   ]
  },
  {
   "cell_type": "code",
   "execution_count": 70,
   "id": "2e07864e",
   "metadata": {},
   "outputs": [
    {
     "data": {
      "text/plain": [
       "Sometimes          64\n",
       "Never              17\n",
       "Frequently         16\n",
       "Very frequently     6\n",
       "Name: 16 How frequently do you abandon (selecting an items and leaving without making payment) your shopping cart?\\t\\t\\t\\t\\t\\t\\t                                                   , dtype: int64"
      ]
     },
     "execution_count": 70,
     "metadata": {},
     "output_type": "execute_result"
    }
   ],
   "source": [
    "newdf['16 How frequently do you abandon (selecting an items and leaving without making payment) your shopping cart?\t\t\t\t\t\t\t                                                   '].value_counts()"
   ]
  },
  {
   "cell_type": "code",
   "execution_count": 71,
   "id": "ef42a2f5",
   "metadata": {},
   "outputs": [
    {
     "data": {
      "text/plain": [
       "array(['Lack of trust', 'Promo code not applicable',\n",
       "       'Better alternative offer', 'Change in price',\n",
       "       'No preferred mode of payment'], dtype=object)"
      ]
     },
     "execution_count": 71,
     "metadata": {},
     "output_type": "execute_result"
    }
   ],
   "source": [
    "newdf['17 Why did you abandon the “Bag”, “Shopping Cart”?\t\t\t\t\t                                                                                                                                                       '].unique()"
   ]
  },
  {
   "cell_type": "code",
   "execution_count": 72,
   "id": "414d30f1",
   "metadata": {},
   "outputs": [
    {
     "data": {
      "text/plain": [
       "Better alternative offer        49\n",
       "Promo code not applicable       21\n",
       "Change in price                 15\n",
       "Lack of trust                   13\n",
       "No preferred mode of payment     5\n",
       "Name: 17 Why did you abandon the “Bag”, “Shopping Cart”?\\t\\t\\t\\t\\t                                                                                                                                                       , dtype: int64"
      ]
     },
     "execution_count": 72,
     "metadata": {},
     "output_type": "execute_result"
    }
   ],
   "source": [
    "newdf['17 Why did you abandon the “Bag”, “Shopping Cart”?\t\t\t\t\t                                                                                                                                                       '].value_counts()"
   ]
  },
  {
   "cell_type": "code",
   "execution_count": 73,
   "id": "b1ae311f",
   "metadata": {},
   "outputs": [
    {
     "data": {
      "text/plain": [
       "array(['Agree (4)', 'Strongly agree (5)', 'Strongly disagree (1)',\n",
       "       'Indifferent (3)'], dtype=object)"
      ]
     },
     "execution_count": 73,
     "metadata": {},
     "output_type": "execute_result"
    }
   ],
   "source": [
    "newdf['18 The content on the website must be easy to read and understand'].unique()"
   ]
  },
  {
   "cell_type": "code",
   "execution_count": 74,
   "id": "bb86da53",
   "metadata": {},
   "outputs": [
    {
     "data": {
      "text/plain": [
       "Strongly agree (5)       60\n",
       "Agree (4)                33\n",
       "Strongly disagree (1)     8\n",
       "Indifferent (3)           2\n",
       "Name: 18 The content on the website must be easy to read and understand, dtype: int64"
      ]
     },
     "execution_count": 74,
     "metadata": {},
     "output_type": "execute_result"
    }
   ],
   "source": [
    "newdf['18 The content on the website must be easy to read and understand'].value_counts()"
   ]
  },
  {
   "cell_type": "code",
   "execution_count": 75,
   "id": "f195effb",
   "metadata": {},
   "outputs": [
    {
     "data": {
      "text/plain": [
       "array(['Indifferent (3)', 'Strongly agree (5)', 'Agree (4)',\n",
       "       'Dis-agree (2)'], dtype=object)"
      ]
     },
     "execution_count": 75,
     "metadata": {},
     "output_type": "execute_result"
    }
   ],
   "source": [
    "newdf['19 Information on similar product to the one highlighted  is important for product comparison'].unique()"
   ]
  },
  {
   "cell_type": "code",
   "execution_count": 76,
   "id": "b483b7d9",
   "metadata": {},
   "outputs": [
    {
     "data": {
      "text/plain": [
       "Strongly agree (5)    40\n",
       "Agree (4)             35\n",
       "Indifferent (3)       20\n",
       "Dis-agree (2)          8\n",
       "Name: 19 Information on similar product to the one highlighted  is important for product comparison, dtype: int64"
      ]
     },
     "execution_count": 76,
     "metadata": {},
     "output_type": "execute_result"
    }
   ],
   "source": [
    "newdf['19 Information on similar product to the one highlighted  is important for product comparison'].value_counts()"
   ]
  },
  {
   "cell_type": "code",
   "execution_count": 77,
   "id": "4dc110f4",
   "metadata": {},
   "outputs": [
    {
     "data": {
      "text/plain": [
       "array(['Indifferent (3)', 'Strongly agree (5)', 'Agree (4)',\n",
       "       'Dis-agree (2)', 'Strongly disagree (1)'], dtype=object)"
      ]
     },
     "execution_count": 77,
     "metadata": {},
     "output_type": "execute_result"
    }
   ],
   "source": [
    "newdf['20 Complete information on listed seller and product being offered is important for purchase decision.'].unique()"
   ]
  },
  {
   "cell_type": "code",
   "execution_count": 78,
   "id": "83d1e705",
   "metadata": {},
   "outputs": [
    {
     "data": {
      "text/plain": [
       "Agree (4)                38\n",
       "Strongly agree (5)       30\n",
       "Indifferent (3)          24\n",
       "Dis-agree (2)             8\n",
       "Strongly disagree (1)     3\n",
       "Name: 20 Complete information on listed seller and product being offered is important for purchase decision., dtype: int64"
      ]
     },
     "execution_count": 78,
     "metadata": {},
     "output_type": "execute_result"
    }
   ],
   "source": [
    "newdf['20 Complete information on listed seller and product being offered is important for purchase decision.'].value_counts()"
   ]
  },
  {
   "cell_type": "code",
   "execution_count": 79,
   "id": "7b6f9826",
   "metadata": {},
   "outputs": [
    {
     "data": {
      "text/plain": [
       "array(['Agree (4)', 'Strongly agree (5)', 'Strongly disagree (1)',\n",
       "       'Dis-agree (2)'], dtype=object)"
      ]
     },
     "execution_count": 79,
     "metadata": {},
     "output_type": "execute_result"
    }
   ],
   "source": [
    "newdf['21 All relevant information on listed products must be stated clearly'].unique()"
   ]
  },
  {
   "cell_type": "code",
   "execution_count": 80,
   "id": "2783576c",
   "metadata": {},
   "outputs": [
    {
     "data": {
      "text/plain": [
       "Agree (4)                54\n",
       "Strongly agree (5)       37\n",
       "Strongly disagree (1)     8\n",
       "Dis-agree (2)             4\n",
       "Name: 21 All relevant information on listed products must be stated clearly, dtype: int64"
      ]
     },
     "execution_count": 80,
     "metadata": {},
     "output_type": "execute_result"
    }
   ],
   "source": [
    "newdf['21 All relevant information on listed products must be stated clearly'].value_counts()"
   ]
  },
  {
   "cell_type": "code",
   "execution_count": 81,
   "id": "1fc88e6d",
   "metadata": {},
   "outputs": [
    {
     "data": {
      "text/plain": [
       "array(['Agree (4)', 'Strongly agree (5)', 'Strongly disagree (1)',\n",
       "       'Dis-agree (2)'], dtype=object)"
      ]
     },
     "execution_count": 81,
     "metadata": {},
     "output_type": "execute_result"
    }
   ],
   "source": [
    "newdf['22 Ease of navigation in website'].unique()"
   ]
  },
  {
   "cell_type": "code",
   "execution_count": 82,
   "id": "2e5f4207",
   "metadata": {},
   "outputs": [
    {
     "data": {
      "text/plain": [
       "Strongly agree (5)       51\n",
       "Agree (4)                42\n",
       "Strongly disagree (1)     8\n",
       "Dis-agree (2)             2\n",
       "Name: 22 Ease of navigation in website, dtype: int64"
      ]
     },
     "execution_count": 82,
     "metadata": {},
     "output_type": "execute_result"
    }
   ],
   "source": [
    "newdf['22 Ease of navigation in website'].value_counts()"
   ]
  },
  {
   "cell_type": "code",
   "execution_count": 83,
   "id": "b6f51930",
   "metadata": {},
   "outputs": [
    {
     "data": {
      "text/plain": [
       "array(['Strongly disagree (1)', 'Strongly agree (5)', 'Agree (4)',\n",
       "       'Dis-agree (2)', 'Indifferent (3)'], dtype=object)"
      ]
     },
     "execution_count": 83,
     "metadata": {},
     "output_type": "execute_result"
    }
   ],
   "source": [
    "newdf['23 Loading and processing speed'].unique()"
   ]
  },
  {
   "cell_type": "code",
   "execution_count": 84,
   "id": "8e6fc667",
   "metadata": {},
   "outputs": [
    {
     "data": {
      "text/plain": [
       "Strongly agree (5)       45\n",
       "Agree (4)                41\n",
       "Dis-agree (2)             8\n",
       "Strongly disagree (1)     5\n",
       "Indifferent (3)           4\n",
       "Name: 23 Loading and processing speed, dtype: int64"
      ]
     },
     "execution_count": 84,
     "metadata": {},
     "output_type": "execute_result"
    }
   ],
   "source": [
    "newdf['23 Loading and processing speed'].value_counts()"
   ]
  },
  {
   "cell_type": "code",
   "execution_count": 85,
   "id": "e10fefea",
   "metadata": {},
   "outputs": [
    {
     "data": {
      "text/plain": [
       "array(['Dis-agree (2)', 'Strongly agree (5)', 'Agree (4)',\n",
       "       'Strongly disagree (1)', 'Indifferent (3)'], dtype=object)"
      ]
     },
     "execution_count": 85,
     "metadata": {},
     "output_type": "execute_result"
    }
   ],
   "source": [
    "newdf['24 User friendly Interface of the website'].unique()"
   ]
  },
  {
   "cell_type": "code",
   "execution_count": 86,
   "id": "fa19721e",
   "metadata": {},
   "outputs": [
    {
     "data": {
      "text/plain": [
       "Strongly agree (5)       72\n",
       "Agree (4)                16\n",
       "Strongly disagree (1)     8\n",
       "Dis-agree (2)             5\n",
       "Indifferent (3)           2\n",
       "Name: 24 User friendly Interface of the website, dtype: int64"
      ]
     },
     "execution_count": 86,
     "metadata": {},
     "output_type": "execute_result"
    }
   ],
   "source": [
    "newdf['24 User friendly Interface of the website'].value_counts()"
   ]
  },
  {
   "cell_type": "code",
   "execution_count": 87,
   "id": "0f9855ff",
   "metadata": {},
   "outputs": [
    {
     "data": {
      "text/plain": [
       "array(['Dis-agree (2)', 'Strongly agree (5)', 'Agree (4)'], dtype=object)"
      ]
     },
     "execution_count": 87,
     "metadata": {},
     "output_type": "execute_result"
    }
   ],
   "source": [
    "newdf['25 Convenient Payment methods'].unique()"
   ]
  },
  {
   "cell_type": "code",
   "execution_count": 88,
   "id": "0333891a",
   "metadata": {},
   "outputs": [
    {
     "data": {
      "text/plain": [
       "Strongly agree (5)    60\n",
       "Agree (4)             30\n",
       "Dis-agree (2)         13\n",
       "Name: 25 Convenient Payment methods, dtype: int64"
      ]
     },
     "execution_count": 88,
     "metadata": {},
     "output_type": "execute_result"
    }
   ],
   "source": [
    "newdf['25 Convenient Payment methods'].value_counts()"
   ]
  },
  {
   "cell_type": "code",
   "execution_count": 89,
   "id": "9640f27f",
   "metadata": {},
   "outputs": [
    {
     "data": {
      "text/plain": [
       "array(['Disagree (2)', 'Strongly agree (5)', 'Agree (4)',\n",
       "       'indifferent  (3)'], dtype=object)"
      ]
     },
     "execution_count": 89,
     "metadata": {},
     "output_type": "execute_result"
    }
   ],
   "source": [
    "newdf['26 Trust that the online retail store will fulfill its part of the transaction at the stipulated time'].unique()"
   ]
  },
  {
   "cell_type": "code",
   "execution_count": 90,
   "id": "dd9f0908",
   "metadata": {},
   "outputs": [
    {
     "data": {
      "text/plain": [
       "Strongly agree (5)    52\n",
       "Agree (4)             34\n",
       "Disagree (2)          13\n",
       "indifferent  (3)       4\n",
       "Name: 26 Trust that the online retail store will fulfill its part of the transaction at the stipulated time, dtype: int64"
      ]
     },
     "execution_count": 90,
     "metadata": {},
     "output_type": "execute_result"
    }
   ],
   "source": [
    "newdf['26 Trust that the online retail store will fulfill its part of the transaction at the stipulated time'].value_counts()"
   ]
  },
  {
   "cell_type": "code",
   "execution_count": 91,
   "id": "710c3d4f",
   "metadata": {},
   "outputs": [
    {
     "data": {
      "text/plain": [
       "array(['Strongly agree (5)', 'Agree (4)', 'Strongly disagree (1)',\n",
       "       'indifferent (3)'], dtype=object)"
      ]
     },
     "execution_count": 91,
     "metadata": {},
     "output_type": "execute_result"
    }
   ],
   "source": [
    "newdf['27 Empathy (readiness to assist with queries) towards the customers'].unique()"
   ]
  },
  {
   "cell_type": "code",
   "execution_count": 92,
   "id": "8ddd5811",
   "metadata": {},
   "outputs": [
    {
     "data": {
      "text/plain": [
       "Strongly agree (5)       75\n",
       "Agree (4)                16\n",
       "Strongly disagree (1)     8\n",
       "indifferent (3)           4\n",
       "Name: 27 Empathy (readiness to assist with queries) towards the customers, dtype: int64"
      ]
     },
     "execution_count": 92,
     "metadata": {},
     "output_type": "execute_result"
    }
   ],
   "source": [
    "newdf['27 Empathy (readiness to assist with queries) towards the customers'].value_counts()"
   ]
  },
  {
   "cell_type": "code",
   "execution_count": 93,
   "id": "f3102c21",
   "metadata": {},
   "outputs": [
    {
     "data": {
      "text/plain": [
       "array(['Agree (4)', 'Strongly agree (5)', 'indifferent (3)'], dtype=object)"
      ]
     },
     "execution_count": 93,
     "metadata": {},
     "output_type": "execute_result"
    }
   ],
   "source": [
    "newdf['28 Being able to guarantee the privacy of the customer'].unique()"
   ]
  },
  {
   "cell_type": "code",
   "execution_count": 94,
   "id": "0656045c",
   "metadata": {},
   "outputs": [
    {
     "data": {
      "text/plain": [
       "Strongly agree (5)    69\n",
       "Agree (4)             24\n",
       "indifferent (3)       10\n",
       "Name: 28 Being able to guarantee the privacy of the customer, dtype: int64"
      ]
     },
     "execution_count": 94,
     "metadata": {},
     "output_type": "execute_result"
    }
   ],
   "source": [
    "newdf['28 Being able to guarantee the privacy of the customer'].value_counts()"
   ]
  },
  {
   "cell_type": "code",
   "execution_count": 95,
   "id": "ceac1368",
   "metadata": {},
   "outputs": [
    {
     "data": {
      "text/plain": [
       "array(['Agree (4)', 'Strongly agree (5)', 'indifferent (3)',\n",
       "       'Strongly disagree (1)'], dtype=object)"
      ]
     },
     "execution_count": 95,
     "metadata": {},
     "output_type": "execute_result"
    }
   ],
   "source": [
    "newdf['29 Responsiveness, availability of several communication channels (email, online rep, twitter, phone etc.)'].unique()"
   ]
  },
  {
   "cell_type": "code",
   "execution_count": 96,
   "id": "c57f382b",
   "metadata": {},
   "outputs": [
    {
     "data": {
      "text/plain": [
       "Strongly agree (5)       59\n",
       "Agree (4)                36\n",
       "indifferent (3)           5\n",
       "Strongly disagree (1)     3\n",
       "Name: 29 Responsiveness, availability of several communication channels (email, online rep, twitter, phone etc.), dtype: int64"
      ]
     },
     "execution_count": 96,
     "metadata": {},
     "output_type": "execute_result"
    }
   ],
   "source": [
    "newdf['29 Responsiveness, availability of several communication channels (email, online rep, twitter, phone etc.)'].value_counts()"
   ]
  },
  {
   "cell_type": "code",
   "execution_count": 97,
   "id": "95bdb462",
   "metadata": {},
   "outputs": [
    {
     "data": {
      "text/plain": [
       "array(['indifferent (3)', 'Strongly agree (5)', 'Agree (4)',\n",
       "       'Strongly disagree (1)', 'Dis-agree (2)'], dtype=object)"
      ]
     },
     "execution_count": 97,
     "metadata": {},
     "output_type": "execute_result"
    }
   ],
   "source": [
    "newdf['30 Online shopping gives monetary benefit and discounts'].unique()"
   ]
  },
  {
   "cell_type": "code",
   "execution_count": 98,
   "id": "cf23cadf",
   "metadata": {},
   "outputs": [
    {
     "data": {
      "text/plain": [
       "Strongly agree (5)       41\n",
       "Agree (4)                33\n",
       "indifferent (3)          16\n",
       "Strongly disagree (1)     8\n",
       "Dis-agree (2)             5\n",
       "Name: 30 Online shopping gives monetary benefit and discounts, dtype: int64"
      ]
     },
     "execution_count": 98,
     "metadata": {},
     "output_type": "execute_result"
    }
   ],
   "source": [
    "newdf['30 Online shopping gives monetary benefit and discounts'].value_counts()"
   ]
  },
  {
   "cell_type": "code",
   "execution_count": 99,
   "id": "b6aaced3",
   "metadata": {},
   "outputs": [
    {
     "data": {
      "text/plain": [
       "array(['Strongly disagree (1)', 'Strongly agree (5)', 'indifferent (3)',\n",
       "       'Agree (4)', 'Dis-agree (2)'], dtype=object)"
      ]
     },
     "execution_count": 99,
     "metadata": {},
     "output_type": "execute_result"
    }
   ],
   "source": [
    "newdf['31 Enjoyment is derived from shopping online'].unique()"
   ]
  },
  {
   "cell_type": "code",
   "execution_count": 100,
   "id": "026e8069",
   "metadata": {},
   "outputs": [
    {
     "data": {
      "text/plain": [
       "Strongly agree (5)       34\n",
       "indifferent (3)          27\n",
       "Agree (4)                23\n",
       "Strongly disagree (1)    13\n",
       "Dis-agree (2)             6\n",
       "Name: 31 Enjoyment is derived from shopping online, dtype: int64"
      ]
     },
     "execution_count": 100,
     "metadata": {},
     "output_type": "execute_result"
    }
   ],
   "source": [
    "newdf['31 Enjoyment is derived from shopping online'].value_counts()"
   ]
  },
  {
   "cell_type": "code",
   "execution_count": 101,
   "id": "fc9912c4",
   "metadata": {},
   "outputs": [
    {
     "data": {
      "text/plain": [
       "array(['Dis-agree (2)', 'Strongly agree (5)', 'indifferent (3)',\n",
       "       'Agree (4)'], dtype=object)"
      ]
     },
     "execution_count": 101,
     "metadata": {},
     "output_type": "execute_result"
    }
   ],
   "source": [
    "newdf['32 Shopping online is convenient and flexible'].unique()"
   ]
  },
  {
   "cell_type": "code",
   "execution_count": 102,
   "id": "821a7435",
   "metadata": {},
   "outputs": [
    {
     "data": {
      "text/plain": [
       "Strongly agree (5)    56\n",
       "Agree (4)             29\n",
       "indifferent (3)       13\n",
       "Dis-agree (2)          5\n",
       "Name: 32 Shopping online is convenient and flexible, dtype: int64"
      ]
     },
     "execution_count": 102,
     "metadata": {},
     "output_type": "execute_result"
    }
   ],
   "source": [
    "newdf['32 Shopping online is convenient and flexible'].value_counts()"
   ]
  },
  {
   "cell_type": "code",
   "execution_count": 103,
   "id": "a5704b9f",
   "metadata": {},
   "outputs": [
    {
     "data": {
      "text/plain": [
       "array(['Dis-agree (2)', 'Strongly agree (5)', 'Agree (4)'], dtype=object)"
      ]
     },
     "execution_count": 103,
     "metadata": {},
     "output_type": "execute_result"
    }
   ],
   "source": [
    "newdf['33 Return and replacement policy of the e-tailer is important for purchase decision'].unique()"
   ]
  },
  {
   "cell_type": "code",
   "execution_count": 104,
   "id": "cb031133",
   "metadata": {},
   "outputs": [
    {
     "data": {
      "text/plain": [
       "Strongly agree (5)    76\n",
       "Agree (4)             20\n",
       "Dis-agree (2)          7\n",
       "Name: 33 Return and replacement policy of the e-tailer is important for purchase decision, dtype: int64"
      ]
     },
     "execution_count": 104,
     "metadata": {},
     "output_type": "execute_result"
    }
   ],
   "source": [
    "newdf['33 Return and replacement policy of the e-tailer is important for purchase decision'].value_counts()"
   ]
  },
  {
   "cell_type": "code",
   "execution_count": 105,
   "id": "54a58f69",
   "metadata": {},
   "outputs": [
    {
     "data": {
      "text/plain": [
       "array(['Agree (4)', 'Strongly agree (5)', 'indifferent (3)',\n",
       "       'Dis-agree (2)', 'Strongly disagree (1)'], dtype=object)"
      ]
     },
     "execution_count": 105,
     "metadata": {},
     "output_type": "execute_result"
    }
   ],
   "source": [
    "newdf['34 Gaining access to loyalty programs is a benefit of shopping online'].unique()"
   ]
  },
  {
   "cell_type": "code",
   "execution_count": 106,
   "id": "512483d1",
   "metadata": {},
   "outputs": [
    {
     "data": {
      "text/plain": [
       "Strongly agree (5)       44\n",
       "Agree (4)                24\n",
       "indifferent (3)          22\n",
       "Dis-agree (2)             8\n",
       "Strongly disagree (1)     5\n",
       "Name: 34 Gaining access to loyalty programs is a benefit of shopping online, dtype: int64"
      ]
     },
     "execution_count": 106,
     "metadata": {},
     "output_type": "execute_result"
    }
   ],
   "source": [
    "newdf['34 Gaining access to loyalty programs is a benefit of shopping online'].value_counts()"
   ]
  },
  {
   "cell_type": "code",
   "execution_count": 107,
   "id": "eb837adc",
   "metadata": {},
   "outputs": [
    {
     "data": {
      "text/plain": [
       "array(['indifferent (3)', 'Strongly agree (5)', 'Agree (4)'], dtype=object)"
      ]
     },
     "execution_count": 107,
     "metadata": {},
     "output_type": "execute_result"
    }
   ],
   "source": [
    "newdf['35 Displaying quality Information on the website improves satisfaction of customers'].unique()"
   ]
  },
  {
   "cell_type": "code",
   "execution_count": 108,
   "id": "b8e1bc84",
   "metadata": {},
   "outputs": [
    {
     "data": {
      "text/plain": [
       "Strongly agree (5)    49\n",
       "Agree (4)             31\n",
       "indifferent (3)       23\n",
       "Name: 35 Displaying quality Information on the website improves satisfaction of customers, dtype: int64"
      ]
     },
     "execution_count": 108,
     "metadata": {},
     "output_type": "execute_result"
    }
   ],
   "source": [
    "newdf['35 Displaying quality Information on the website improves satisfaction of customers'].value_counts()"
   ]
  },
  {
   "cell_type": "code",
   "execution_count": 109,
   "id": "bd1e1735",
   "metadata": {},
   "outputs": [
    {
     "data": {
      "text/plain": [
       "array(['Strongly agree (5)', 'Agree (4)', 'Dis-agree (2)'], dtype=object)"
      ]
     },
     "execution_count": 109,
     "metadata": {},
     "output_type": "execute_result"
    }
   ],
   "source": [
    "newdf['36 User derive satisfaction while shopping on a good quality website or application'].unique()"
   ]
  },
  {
   "cell_type": "code",
   "execution_count": 110,
   "id": "704796b3",
   "metadata": {},
   "outputs": [
    {
     "data": {
      "text/plain": [
       "Strongly agree (5)    66\n",
       "Agree (4)             35\n",
       "Dis-agree (2)          2\n",
       "Name: 36 User derive satisfaction while shopping on a good quality website or application, dtype: int64"
      ]
     },
     "execution_count": 110,
     "metadata": {},
     "output_type": "execute_result"
    }
   ],
   "source": [
    "newdf['36 User derive satisfaction while shopping on a good quality website or application'].value_counts()"
   ]
  },
  {
   "cell_type": "code",
   "execution_count": 111,
   "id": "71670cd1",
   "metadata": {},
   "outputs": [
    {
     "data": {
      "text/plain": [
       "array(['Agree (4)', 'Strongly agree (5)', 'indifferent (3)',\n",
       "       'Dis-agree (2)'], dtype=object)"
      ]
     },
     "execution_count": 111,
     "metadata": {},
     "output_type": "execute_result"
    }
   ],
   "source": [
    "newdf['37 Net Benefit derived from shopping online can lead to users satisfaction'].unique()"
   ]
  },
  {
   "cell_type": "code",
   "execution_count": 112,
   "id": "1b687858",
   "metadata": {},
   "outputs": [
    {
     "data": {
      "text/plain": [
       "Strongly agree (5)    61\n",
       "Agree (4)             22\n",
       "indifferent (3)       15\n",
       "Dis-agree (2)          5\n",
       "Name: 37 Net Benefit derived from shopping online can lead to users satisfaction, dtype: int64"
      ]
     },
     "execution_count": 112,
     "metadata": {},
     "output_type": "execute_result"
    }
   ],
   "source": [
    "newdf['37 Net Benefit derived from shopping online can lead to users satisfaction'].value_counts()"
   ]
  },
  {
   "cell_type": "code",
   "execution_count": 113,
   "id": "e5ab1684",
   "metadata": {},
   "outputs": [
    {
     "data": {
      "text/plain": [
       "array(['Strongly agree (5)', 'Agree (4)', 'Strongly disagree (1)',\n",
       "       'Dis-agree (2)', 'indifferent (3)'], dtype=object)"
      ]
     },
     "execution_count": 113,
     "metadata": {},
     "output_type": "execute_result"
    }
   ],
   "source": [
    "newdf['38 User satisfaction cannot exist without trust'].unique()"
   ]
  },
  {
   "cell_type": "code",
   "execution_count": 114,
   "id": "67684404",
   "metadata": {},
   "outputs": [
    {
     "data": {
      "text/plain": [
       "Strongly agree (5)       47\n",
       "Agree (4)                44\n",
       "Strongly disagree (1)     8\n",
       "Dis-agree (2)             2\n",
       "indifferent (3)           2\n",
       "Name: 38 User satisfaction cannot exist without trust, dtype: int64"
      ]
     },
     "execution_count": 114,
     "metadata": {},
     "output_type": "execute_result"
    }
   ],
   "source": [
    "newdf['38 User satisfaction cannot exist without trust'].value_counts()"
   ]
  },
  {
   "cell_type": "code",
   "execution_count": 115,
   "id": "480a6415",
   "metadata": {},
   "outputs": [
    {
     "data": {
      "text/plain": [
       "array(['indifferent (3)', 'Strongly agree (5)', 'Agree (4)',\n",
       "       'Dis-agree (2)'], dtype=object)"
      ]
     },
     "execution_count": 115,
     "metadata": {},
     "output_type": "execute_result"
    }
   ],
   "source": [
    "newdf['39 Offering a wide variety of listed product in several category'].unique()"
   ]
  },
  {
   "cell_type": "code",
   "execution_count": 116,
   "id": "af8d471a",
   "metadata": {},
   "outputs": [
    {
     "data": {
      "text/plain": [
       "Strongly agree (5)    42\n",
       "Agree (4)             39\n",
       "indifferent (3)       20\n",
       "Dis-agree (2)          2\n",
       "Name: 39 Offering a wide variety of listed product in several category, dtype: int64"
      ]
     },
     "execution_count": 116,
     "metadata": {},
     "output_type": "execute_result"
    }
   ],
   "source": [
    "newdf['39 Offering a wide variety of listed product in several category'].value_counts()"
   ]
  },
  {
   "cell_type": "code",
   "execution_count": 117,
   "id": "c2c788fc",
   "metadata": {},
   "outputs": [
    {
     "data": {
      "text/plain": [
       "array(['indifferent (3)', 'Strongly agree (5)', 'Agree (4)',\n",
       "       'Disagree (2)'], dtype=object)"
      ]
     },
     "execution_count": 117,
     "metadata": {},
     "output_type": "execute_result"
    }
   ],
   "source": [
    "newdf['40 Provision of complete and relevant product information'].unique()"
   ]
  },
  {
   "cell_type": "code",
   "execution_count": 118,
   "id": "db7bfaff",
   "metadata": {},
   "outputs": [
    {
     "data": {
      "text/plain": [
       "Strongly agree (5)    48\n",
       "Agree (4)             41\n",
       "indifferent (3)       12\n",
       "Disagree (2)           2\n",
       "Name: 40 Provision of complete and relevant product information, dtype: int64"
      ]
     },
     "execution_count": 118,
     "metadata": {},
     "output_type": "execute_result"
    }
   ],
   "source": [
    "newdf['40 Provision of complete and relevant product information'].value_counts()"
   ]
  },
  {
   "cell_type": "code",
   "execution_count": 119,
   "id": "b0791ca3",
   "metadata": {},
   "outputs": [
    {
     "data": {
      "text/plain": [
       "array(['Disagree (2)', 'Strongly agree (5)', 'Agree (4)',\n",
       "       'indifferent (3)'], dtype=object)"
      ]
     },
     "execution_count": 119,
     "metadata": {},
     "output_type": "execute_result"
    }
   ],
   "source": [
    "newdf['41 Monetary savings'].unique()"
   ]
  },
  {
   "cell_type": "code",
   "execution_count": 120,
   "id": "5fc09926",
   "metadata": {},
   "outputs": [
    {
     "data": {
      "text/plain": [
       "Strongly agree (5)    59\n",
       "Agree (4)             27\n",
       "Disagree (2)          12\n",
       "indifferent (3)        5\n",
       "Name: 41 Monetary savings, dtype: int64"
      ]
     },
     "execution_count": 120,
     "metadata": {},
     "output_type": "execute_result"
    }
   ],
   "source": [
    "newdf['41 Monetary savings'].value_counts()"
   ]
  },
  {
   "cell_type": "code",
   "execution_count": 121,
   "id": "ded285c8",
   "metadata": {},
   "outputs": [
    {
     "data": {
      "text/plain": [
       "array(['indifferent (3)', 'Agree (4)', 'Strongly agree (5)'], dtype=object)"
      ]
     },
     "execution_count": 121,
     "metadata": {},
     "output_type": "execute_result"
    }
   ],
   "source": [
    "newdf['42 The Convenience of patronizing the online retailer'].unique()"
   ]
  },
  {
   "cell_type": "code",
   "execution_count": 122,
   "id": "19ec55ba",
   "metadata": {},
   "outputs": [
    {
     "data": {
      "text/plain": [
       "Agree (4)             55\n",
       "indifferent (3)       28\n",
       "Strongly agree (5)    20\n",
       "Name: 42 The Convenience of patronizing the online retailer, dtype: int64"
      ]
     },
     "execution_count": 122,
     "metadata": {},
     "output_type": "execute_result"
    }
   ],
   "source": [
    "newdf['42 The Convenience of patronizing the online retailer'].value_counts()"
   ]
  },
  {
   "cell_type": "code",
   "execution_count": 124,
   "id": "2e929f7b",
   "metadata": {},
   "outputs": [
    {
     "data": {
      "text/plain": [
       "array(['Agree (4)', 'indifferent (3)', 'Strongly agree (5)',\n",
       "       'Dis-agree (2)', 'Strongly disagree (1)'], dtype=object)"
      ]
     },
     "execution_count": 124,
     "metadata": {},
     "output_type": "execute_result"
    }
   ],
   "source": [
    "newdf['43 Shopping on the website gives you the sense of adventure'].unique()"
   ]
  },
  {
   "cell_type": "code",
   "execution_count": 125,
   "id": "74952482",
   "metadata": {},
   "outputs": [
    {
     "data": {
      "text/plain": [
       "Agree (4)                42\n",
       "indifferent (3)          24\n",
       "Strongly agree (5)       20\n",
       "Dis-agree (2)            15\n",
       "Strongly disagree (1)     2\n",
       "Name: 43 Shopping on the website gives you the sense of adventure, dtype: int64"
      ]
     },
     "execution_count": 125,
     "metadata": {},
     "output_type": "execute_result"
    }
   ],
   "source": [
    "newdf['43 Shopping on the website gives you the sense of adventure'].value_counts()"
   ]
  },
  {
   "cell_type": "code",
   "execution_count": 126,
   "id": "88bc412e",
   "metadata": {},
   "outputs": [
    {
     "data": {
      "text/plain": [
       "array(['Agree (4)', 'indifferent (3)', 'Strongly agree (5)',\n",
       "       'Strongly disagree (1)', 'Dis-agree (2)'], dtype=object)"
      ]
     },
     "execution_count": 126,
     "metadata": {},
     "output_type": "execute_result"
    }
   ],
   "source": [
    "newdf['44 Shopping on your preferred e-tailer enhances your social status'].unique()"
   ]
  },
  {
   "cell_type": "code",
   "execution_count": 127,
   "id": "93929ea2",
   "metadata": {},
   "outputs": [
    {
     "data": {
      "text/plain": [
       "indifferent (3)          39\n",
       "Agree (4)                21\n",
       "Strongly agree (5)       17\n",
       "Strongly disagree (1)    16\n",
       "Dis-agree (2)            10\n",
       "Name: 44 Shopping on your preferred e-tailer enhances your social status, dtype: int64"
      ]
     },
     "execution_count": 127,
     "metadata": {},
     "output_type": "execute_result"
    }
   ],
   "source": [
    "newdf['44 Shopping on your preferred e-tailer enhances your social status'].value_counts()"
   ]
  },
  {
   "cell_type": "code",
   "execution_count": 128,
   "id": "ab392e46",
   "metadata": {},
   "outputs": [
    {
     "data": {
      "text/plain": [
       "array(['Strongly agree (5)', 'indifferent (3)', 'Agree (4)',\n",
       "       'Strongly disagree (1)', 'Disagree (2)'], dtype=object)"
      ]
     },
     "execution_count": 128,
     "metadata": {},
     "output_type": "execute_result"
    }
   ],
   "source": [
    "newdf['45 You feel gratification shopping on your favorite e-tailer'].unique()"
   ]
  },
  {
   "cell_type": "code",
   "execution_count": 129,
   "id": "0cf4418e",
   "metadata": {},
   "outputs": [
    {
     "data": {
      "text/plain": [
       "indifferent (3)          38\n",
       "Strongly agree (5)       25\n",
       "Agree (4)                24\n",
       "Strongly disagree (1)     8\n",
       "Disagree (2)              8\n",
       "Name: 45 You feel gratification shopping on your favorite e-tailer, dtype: int64"
      ]
     },
     "execution_count": 129,
     "metadata": {},
     "output_type": "execute_result"
    }
   ],
   "source": [
    "newdf['45 You feel gratification shopping on your favorite e-tailer'].value_counts()"
   ]
  },
  {
   "cell_type": "code",
   "execution_count": 130,
   "id": "ea285f52",
   "metadata": {},
   "outputs": [
    {
     "data": {
      "text/plain": [
       "array(['Agree (4)', 'Strongly agree (5)', 'indifferent (3)',\n",
       "       'Strongly disagree (1)', 'Dis-agree (2)'], dtype=object)"
      ]
     },
     "execution_count": 130,
     "metadata": {},
     "output_type": "execute_result"
    }
   ],
   "source": [
    "newdf['46 Shopping on the website helps you fulfill certain roles'].unique()"
   ]
  },
  {
   "cell_type": "code",
   "execution_count": 131,
   "id": "389197d2",
   "metadata": {},
   "outputs": [
    {
     "data": {
      "text/plain": [
       "indifferent (3)          35\n",
       "Agree (4)                33\n",
       "Strongly disagree (1)    16\n",
       "Strongly agree (5)       12\n",
       "Dis-agree (2)             7\n",
       "Name: 46 Shopping on the website helps you fulfill certain roles, dtype: int64"
      ]
     },
     "execution_count": 131,
     "metadata": {},
     "output_type": "execute_result"
    }
   ],
   "source": [
    "newdf['46 Shopping on the website helps you fulfill certain roles'].value_counts()"
   ]
  },
  {
   "cell_type": "code",
   "execution_count": 132,
   "id": "78cc6dba",
   "metadata": {},
   "outputs": [
    {
     "data": {
      "text/plain": [
       "array(['Strongly agree (5)', 'Agree (4)', 'indifferent (3)'], dtype=object)"
      ]
     },
     "execution_count": 132,
     "metadata": {},
     "output_type": "execute_result"
    }
   ],
   "source": [
    "newdf['47 Getting value for money spent'].unique()"
   ]
  },
  {
   "cell_type": "code",
   "execution_count": 133,
   "id": "1e595ea0",
   "metadata": {},
   "outputs": [
    {
     "data": {
      "text/plain": [
       "Agree (4)             57\n",
       "Strongly agree (5)    32\n",
       "indifferent (3)       14\n",
       "Name: 47 Getting value for money spent, dtype: int64"
      ]
     },
     "execution_count": 133,
     "metadata": {},
     "output_type": "execute_result"
    }
   ],
   "source": [
    "newdf['47 Getting value for money spent'].value_counts()"
   ]
  },
  {
   "cell_type": "markdown",
   "id": "32524521",
   "metadata": {},
   "source": [
    "## FIRST 5 ROWS CHECK"
   ]
  },
  {
   "cell_type": "code",
   "execution_count": 134,
   "id": "26c73dad",
   "metadata": {},
   "outputs": [
    {
     "data": {
      "text/html": [
       "<div>\n",
       "<style scoped>\n",
       "    .dataframe tbody tr th:only-of-type {\n",
       "        vertical-align: middle;\n",
       "    }\n",
       "\n",
       "    .dataframe tbody tr th {\n",
       "        vertical-align: top;\n",
       "    }\n",
       "\n",
       "    .dataframe thead th {\n",
       "        text-align: right;\n",
       "    }\n",
       "</style>\n",
       "<table border=\"1\" class=\"dataframe\">\n",
       "  <thead>\n",
       "    <tr style=\"text-align: right;\">\n",
       "      <th></th>\n",
       "      <th>1Gender of respondent</th>\n",
       "      <th>2 How old are you?</th>\n",
       "      <th>3 Which city do you shop online from?</th>\n",
       "      <th>4 What is the Pin Code of where you shop online from?</th>\n",
       "      <th>5 Since How Long You are Shopping Online ?</th>\n",
       "      <th>6 How many times you have made an online purchase in the past 1 year?</th>\n",
       "      <th>7 How do you access the internet while shopping on-line?</th>\n",
       "      <th>8 Which device do you use to access the online shopping?</th>\n",
       "      <th>9 What is the screen size of your mobile device?\\t\\t\\t\\t\\t\\t</th>\n",
       "      <th>10 What is the operating system (OS) of your device?\\t\\t\\t\\t</th>\n",
       "      <th>...</th>\n",
       "      <th>Longer time to get logged in (promotion, sales period)</th>\n",
       "      <th>Longer time in displaying graphics and photos (promotion, sales period)</th>\n",
       "      <th>Late declaration of price (promotion, sales period)</th>\n",
       "      <th>Longer page loading time (promotion, sales period)</th>\n",
       "      <th>Limited mode of payment on most products (promotion, sales period)</th>\n",
       "      <th>Longer delivery period</th>\n",
       "      <th>Change in website/Application design</th>\n",
       "      <th>Frequent disruption when moving from one page to another</th>\n",
       "      <th>Website is as efficient as before</th>\n",
       "      <th>Which of the Indian online retailer would you recommend to a friend?</th>\n",
       "    </tr>\n",
       "  </thead>\n",
       "  <tbody>\n",
       "    <tr>\n",
       "      <th>0</th>\n",
       "      <td>Male</td>\n",
       "      <td>31-40 years</td>\n",
       "      <td>Delhi</td>\n",
       "      <td>110009</td>\n",
       "      <td>Above 4 years</td>\n",
       "      <td>31-40 times</td>\n",
       "      <td>Dial-up</td>\n",
       "      <td>Desktop</td>\n",
       "      <td>Others</td>\n",
       "      <td>Window/windows Mobile</td>\n",
       "      <td>...</td>\n",
       "      <td>Amazon.in</td>\n",
       "      <td>Amazon.in</td>\n",
       "      <td>Flipkart.com</td>\n",
       "      <td>Flipkart.com</td>\n",
       "      <td>Amazon.in</td>\n",
       "      <td>Paytm.com</td>\n",
       "      <td>Flipkart.com</td>\n",
       "      <td>Amazon.in</td>\n",
       "      <td>Amazon.in</td>\n",
       "      <td>Flipkart.com</td>\n",
       "    </tr>\n",
       "    <tr>\n",
       "      <th>1</th>\n",
       "      <td>Female</td>\n",
       "      <td>21-30 years</td>\n",
       "      <td>Delhi</td>\n",
       "      <td>110030</td>\n",
       "      <td>Above 4 years</td>\n",
       "      <td>41 times and above</td>\n",
       "      <td>Wi-Fi</td>\n",
       "      <td>Smartphone</td>\n",
       "      <td>4.7 inches</td>\n",
       "      <td>IOS/Mac</td>\n",
       "      <td>...</td>\n",
       "      <td>Amazon.in, Flipkart.com</td>\n",
       "      <td>Myntra.com</td>\n",
       "      <td>snapdeal.com</td>\n",
       "      <td>Snapdeal.com</td>\n",
       "      <td>Snapdeal.com</td>\n",
       "      <td>Snapdeal.com</td>\n",
       "      <td>Amazon.in</td>\n",
       "      <td>Myntra.com</td>\n",
       "      <td>Amazon.in, Flipkart.com</td>\n",
       "      <td>Amazon.in, Myntra.com</td>\n",
       "    </tr>\n",
       "    <tr>\n",
       "      <th>2</th>\n",
       "      <td>Female</td>\n",
       "      <td>21-30 years</td>\n",
       "      <td>Greater Noida</td>\n",
       "      <td>201308</td>\n",
       "      <td>3-4 years</td>\n",
       "      <td>41 times and above</td>\n",
       "      <td>Mobile Internet</td>\n",
       "      <td>Smartphone</td>\n",
       "      <td>5.5 inches</td>\n",
       "      <td>Android</td>\n",
       "      <td>...</td>\n",
       "      <td>Myntra.com</td>\n",
       "      <td>Myntra.com</td>\n",
       "      <td>Myntra.com</td>\n",
       "      <td>Myntra.com</td>\n",
       "      <td>Amazon.in</td>\n",
       "      <td>Paytm.com</td>\n",
       "      <td>Paytm.com</td>\n",
       "      <td>Paytm.com</td>\n",
       "      <td>Amazon.in</td>\n",
       "      <td>Amazon.in, Paytm.com, Myntra.com</td>\n",
       "    </tr>\n",
       "    <tr>\n",
       "      <th>3</th>\n",
       "      <td>Male</td>\n",
       "      <td>21-30 years</td>\n",
       "      <td>Karnal</td>\n",
       "      <td>132001</td>\n",
       "      <td>3-4 years</td>\n",
       "      <td>Less than 10 times</td>\n",
       "      <td>Mobile Internet</td>\n",
       "      <td>Smartphone</td>\n",
       "      <td>5.5 inches</td>\n",
       "      <td>IOS/Mac</td>\n",
       "      <td>...</td>\n",
       "      <td>Snapdeal.com</td>\n",
       "      <td>Myntra.com, Snapdeal.com</td>\n",
       "      <td>Myntra.com</td>\n",
       "      <td>Paytm.com</td>\n",
       "      <td>Paytm.com</td>\n",
       "      <td>Paytm.com</td>\n",
       "      <td>Amazon.in, Flipkart.com</td>\n",
       "      <td>Amazon.in, Flipkart.com</td>\n",
       "      <td>Amazon.in, Flipkart.com, Paytm.com</td>\n",
       "      <td>Amazon.in, Flipkart.com</td>\n",
       "    </tr>\n",
       "    <tr>\n",
       "      <th>4</th>\n",
       "      <td>Female</td>\n",
       "      <td>21-30 years</td>\n",
       "      <td>Bangalore</td>\n",
       "      <td>530068</td>\n",
       "      <td>2-3 years</td>\n",
       "      <td>11-20 times</td>\n",
       "      <td>Wi-Fi</td>\n",
       "      <td>Smartphone</td>\n",
       "      <td>4.7 inches</td>\n",
       "      <td>IOS/Mac</td>\n",
       "      <td>...</td>\n",
       "      <td>Flipkart.com, Paytm.com</td>\n",
       "      <td>Paytm.com</td>\n",
       "      <td>Paytm.com</td>\n",
       "      <td>Paytm.com</td>\n",
       "      <td>Snapdeal.com</td>\n",
       "      <td>Paytm.com</td>\n",
       "      <td>Amazon.in</td>\n",
       "      <td>Snapdeal.com</td>\n",
       "      <td>Paytm.com</td>\n",
       "      <td>Amazon.in, Myntra.com</td>\n",
       "    </tr>\n",
       "  </tbody>\n",
       "</table>\n",
       "<p>5 rows × 71 columns</p>\n",
       "</div>"
      ],
      "text/plain": [
       "  1Gender of respondent 2 How old are you?   \\\n",
       "0                  Male         31-40 years   \n",
       "1                Female         21-30 years   \n",
       "2                Female         21-30 years   \n",
       "3                  Male         21-30 years   \n",
       "4                Female         21-30 years   \n",
       "\n",
       "  3 Which city do you shop online from?  \\\n",
       "0                                 Delhi   \n",
       "1                                 Delhi   \n",
       "2                         Greater Noida   \n",
       "3                               Karnal    \n",
       "4                            Bangalore    \n",
       "\n",
       "   4 What is the Pin Code of where you shop online from?  \\\n",
       "0                                             110009       \n",
       "1                                             110030       \n",
       "2                                             201308       \n",
       "3                                             132001       \n",
       "4                                             530068       \n",
       "\n",
       "  5 Since How Long You are Shopping Online ?  \\\n",
       "0                              Above 4 years   \n",
       "1                              Above 4 years   \n",
       "2                                  3-4 years   \n",
       "3                                  3-4 years   \n",
       "4                                  2-3 years   \n",
       "\n",
       "  6 How many times you have made an online purchase in the past 1 year?  \\\n",
       "0                                        31-40 times                      \n",
       "1                                 41 times and above                      \n",
       "2                                 41 times and above                      \n",
       "3                                 Less than 10 times                      \n",
       "4                                        11-20 times                      \n",
       "\n",
       "  7 How do you access the internet while shopping on-line?  \\\n",
       "0                                            Dial-up         \n",
       "1                                              Wi-Fi         \n",
       "2                                    Mobile Internet         \n",
       "3                                    Mobile Internet         \n",
       "4                                              Wi-Fi         \n",
       "\n",
       "  8 Which device do you use to access the online shopping?  \\\n",
       "0                                            Desktop         \n",
       "1                                         Smartphone         \n",
       "2                                         Smartphone         \n",
       "3                                         Smartphone         \n",
       "4                                         Smartphone         \n",
       "\n",
       "  9 What is the screen size of your mobile device?\\t\\t\\t\\t\\t\\t                                          \\\n",
       "0                                             Others                                                     \n",
       "1                                         4.7 inches                                                     \n",
       "2                                         5.5 inches                                                     \n",
       "3                                         5.5 inches                                                     \n",
       "4                                         4.7 inches                                                     \n",
       "\n",
       "  10 What is the operating system (OS) of your device?\\t\\t\\t\\t                                            \\\n",
       "0                              Window/windows Mobile                                                       \n",
       "1                                            IOS/Mac                                                       \n",
       "2                                            Android                                                       \n",
       "3                                            IOS/Mac                                                       \n",
       "4                                            IOS/Mac                                                       \n",
       "\n",
       "   ... Longer time to get logged in (promotion, sales period)  \\\n",
       "0  ...                                          Amazon.in       \n",
       "1  ...                            Amazon.in, Flipkart.com       \n",
       "2  ...                                         Myntra.com       \n",
       "3  ...                                       Snapdeal.com       \n",
       "4  ...                            Flipkart.com, Paytm.com       \n",
       "\n",
       "  Longer time in displaying graphics and photos (promotion, sales period)  \\\n",
       "0                                          Amazon.in                        \n",
       "1                                         Myntra.com                        \n",
       "2                                         Myntra.com                        \n",
       "3                           Myntra.com, Snapdeal.com                        \n",
       "4                                          Paytm.com                        \n",
       "\n",
       "  Late declaration of price (promotion, sales period)  \\\n",
       "0                                       Flipkart.com    \n",
       "1                                       snapdeal.com    \n",
       "2                                         Myntra.com    \n",
       "3                                         Myntra.com    \n",
       "4                                          Paytm.com    \n",
       "\n",
       "  Longer page loading time (promotion, sales period)  \\\n",
       "0                                       Flipkart.com   \n",
       "1                                       Snapdeal.com   \n",
       "2                                         Myntra.com   \n",
       "3                                          Paytm.com   \n",
       "4                                          Paytm.com   \n",
       "\n",
       "  Limited mode of payment on most products (promotion, sales period)  \\\n",
       "0                                          Amazon.in                   \n",
       "1                                       Snapdeal.com                   \n",
       "2                                          Amazon.in                   \n",
       "3                                          Paytm.com                   \n",
       "4                                       Snapdeal.com                   \n",
       "\n",
       "  Longer delivery period Change in website/Application design  \\\n",
       "0              Paytm.com                         Flipkart.com   \n",
       "1           Snapdeal.com                            Amazon.in   \n",
       "2              Paytm.com                            Paytm.com   \n",
       "3              Paytm.com              Amazon.in, Flipkart.com   \n",
       "4              Paytm.com                            Amazon.in   \n",
       "\n",
       "  Frequent disruption when moving from one page to another  \\\n",
       "0                                          Amazon.in         \n",
       "1                                         Myntra.com         \n",
       "2                                          Paytm.com         \n",
       "3                            Amazon.in, Flipkart.com         \n",
       "4                                       Snapdeal.com         \n",
       "\n",
       "    Website is as efficient as before  \\\n",
       "0                           Amazon.in   \n",
       "1             Amazon.in, Flipkart.com   \n",
       "2                           Amazon.in   \n",
       "3  Amazon.in, Flipkart.com, Paytm.com   \n",
       "4                           Paytm.com   \n",
       "\n",
       "  Which of the Indian online retailer would you recommend to a friend?  \n",
       "0                                       Flipkart.com                    \n",
       "1                              Amazon.in, Myntra.com                    \n",
       "2                   Amazon.in, Paytm.com, Myntra.com                    \n",
       "3                            Amazon.in, Flipkart.com                    \n",
       "4                              Amazon.in, Myntra.com                    \n",
       "\n",
       "[5 rows x 71 columns]"
      ]
     },
     "execution_count": 134,
     "metadata": {},
     "output_type": "execute_result"
    }
   ],
   "source": [
    "newdf.head()"
   ]
  },
  {
   "cell_type": "markdown",
   "id": "0617bdce",
   "metadata": {},
   "source": [
    "## LAST 5 ROWS CHECK"
   ]
  },
  {
   "cell_type": "code",
   "execution_count": 135,
   "id": "ecbc441e",
   "metadata": {},
   "outputs": [
    {
     "data": {
      "text/html": [
       "<div>\n",
       "<style scoped>\n",
       "    .dataframe tbody tr th:only-of-type {\n",
       "        vertical-align: middle;\n",
       "    }\n",
       "\n",
       "    .dataframe tbody tr th {\n",
       "        vertical-align: top;\n",
       "    }\n",
       "\n",
       "    .dataframe thead th {\n",
       "        text-align: right;\n",
       "    }\n",
       "</style>\n",
       "<table border=\"1\" class=\"dataframe\">\n",
       "  <thead>\n",
       "    <tr style=\"text-align: right;\">\n",
       "      <th></th>\n",
       "      <th>1Gender of respondent</th>\n",
       "      <th>2 How old are you?</th>\n",
       "      <th>3 Which city do you shop online from?</th>\n",
       "      <th>4 What is the Pin Code of where you shop online from?</th>\n",
       "      <th>5 Since How Long You are Shopping Online ?</th>\n",
       "      <th>6 How many times you have made an online purchase in the past 1 year?</th>\n",
       "      <th>7 How do you access the internet while shopping on-line?</th>\n",
       "      <th>8 Which device do you use to access the online shopping?</th>\n",
       "      <th>9 What is the screen size of your mobile device?\\t\\t\\t\\t\\t\\t</th>\n",
       "      <th>10 What is the operating system (OS) of your device?\\t\\t\\t\\t</th>\n",
       "      <th>...</th>\n",
       "      <th>Longer time to get logged in (promotion, sales period)</th>\n",
       "      <th>Longer time in displaying graphics and photos (promotion, sales period)</th>\n",
       "      <th>Late declaration of price (promotion, sales period)</th>\n",
       "      <th>Longer page loading time (promotion, sales period)</th>\n",
       "      <th>Limited mode of payment on most products (promotion, sales period)</th>\n",
       "      <th>Longer delivery period</th>\n",
       "      <th>Change in website/Application design</th>\n",
       "      <th>Frequent disruption when moving from one page to another</th>\n",
       "      <th>Website is as efficient as before</th>\n",
       "      <th>Which of the Indian online retailer would you recommend to a friend?</th>\n",
       "    </tr>\n",
       "  </thead>\n",
       "  <tbody>\n",
       "    <tr>\n",
       "      <th>105</th>\n",
       "      <td>Female</td>\n",
       "      <td>41-50 yaers</td>\n",
       "      <td>Ghaziabad</td>\n",
       "      <td>201009</td>\n",
       "      <td>2-3 years</td>\n",
       "      <td>31-40 times</td>\n",
       "      <td>Mobile Internet</td>\n",
       "      <td>Smartphone</td>\n",
       "      <td>5.5 inches</td>\n",
       "      <td>Android</td>\n",
       "      <td>...</td>\n",
       "      <td>Amazon.in</td>\n",
       "      <td>Amazon.in</td>\n",
       "      <td>Amazon.in</td>\n",
       "      <td>Amazon.in</td>\n",
       "      <td>Amazon.in</td>\n",
       "      <td>Amazon.in</td>\n",
       "      <td>Amazon.in</td>\n",
       "      <td>Amazon.in</td>\n",
       "      <td>Amazon.in</td>\n",
       "      <td>Amazon.in</td>\n",
       "    </tr>\n",
       "    <tr>\n",
       "      <th>106</th>\n",
       "      <td>Female</td>\n",
       "      <td>31-40 years</td>\n",
       "      <td>Ghaziabad</td>\n",
       "      <td>201008</td>\n",
       "      <td>1-2 years</td>\n",
       "      <td>31-40 times</td>\n",
       "      <td>Mobile Internet</td>\n",
       "      <td>Smartphone</td>\n",
       "      <td>Others</td>\n",
       "      <td>Android</td>\n",
       "      <td>...</td>\n",
       "      <td>Flipkart.com</td>\n",
       "      <td>Flipkart.com</td>\n",
       "      <td>Flipkart.com</td>\n",
       "      <td>Flipkart.com</td>\n",
       "      <td>Flipkart.com</td>\n",
       "      <td>Flipkart.com</td>\n",
       "      <td>Flipkart.com</td>\n",
       "      <td>Flipkart.com</td>\n",
       "      <td>Flipkart.com</td>\n",
       "      <td>Flipkart.com</td>\n",
       "    </tr>\n",
       "    <tr>\n",
       "      <th>107</th>\n",
       "      <td>Female</td>\n",
       "      <td>Less than 20 years</td>\n",
       "      <td>Ghaziabad</td>\n",
       "      <td>201001</td>\n",
       "      <td>Less than 1 year</td>\n",
       "      <td>Less than 10 times</td>\n",
       "      <td>Wi-Fi</td>\n",
       "      <td>Smartphone</td>\n",
       "      <td>5.5 inches</td>\n",
       "      <td>Window/windows Mobile</td>\n",
       "      <td>...</td>\n",
       "      <td>Amazon.in</td>\n",
       "      <td>Flipkart.com</td>\n",
       "      <td>Flipkart.com</td>\n",
       "      <td>Flipkart.com</td>\n",
       "      <td>Flipkart.com</td>\n",
       "      <td>Amazon.in</td>\n",
       "      <td>Amazon.in</td>\n",
       "      <td>Amazon.in</td>\n",
       "      <td>Amazon.in</td>\n",
       "      <td>Amazon.in</td>\n",
       "    </tr>\n",
       "    <tr>\n",
       "      <th>112</th>\n",
       "      <td>Male</td>\n",
       "      <td>31-40 years</td>\n",
       "      <td>Bulandshahr</td>\n",
       "      <td>203001</td>\n",
       "      <td>1-2 years</td>\n",
       "      <td>Less than 10 times</td>\n",
       "      <td>Mobile Internet</td>\n",
       "      <td>Smartphone</td>\n",
       "      <td>5 inches</td>\n",
       "      <td>Android</td>\n",
       "      <td>...</td>\n",
       "      <td>Amazon.in, Flipkart.com</td>\n",
       "      <td>Amazon.in, Flipkart.com</td>\n",
       "      <td>Amazon.in, Flipkart.com</td>\n",
       "      <td>Flipkart.com</td>\n",
       "      <td>Flipkart.com</td>\n",
       "      <td>Flipkart.com</td>\n",
       "      <td>Amazon.in, Flipkart.com</td>\n",
       "      <td>Flipkart.com</td>\n",
       "      <td>Flipkart.com</td>\n",
       "      <td>Amazon.in</td>\n",
       "    </tr>\n",
       "    <tr>\n",
       "      <th>116</th>\n",
       "      <td>Female</td>\n",
       "      <td>21-30 years</td>\n",
       "      <td>Bangalore</td>\n",
       "      <td>560037</td>\n",
       "      <td>2-3 years</td>\n",
       "      <td>11-20 times</td>\n",
       "      <td>Wi-Fi</td>\n",
       "      <td>Smartphone</td>\n",
       "      <td>4.7 inches</td>\n",
       "      <td>IOS/Mac</td>\n",
       "      <td>...</td>\n",
       "      <td>Flipkart.com, Paytm.com</td>\n",
       "      <td>Paytm.com</td>\n",
       "      <td>Paytm.com</td>\n",
       "      <td>Paytm.com</td>\n",
       "      <td>Snapdeal.com</td>\n",
       "      <td>Paytm.com</td>\n",
       "      <td>Amazon.in</td>\n",
       "      <td>Snapdeal.com</td>\n",
       "      <td>Paytm.com</td>\n",
       "      <td>Amazon.in, Myntra.com</td>\n",
       "    </tr>\n",
       "  </tbody>\n",
       "</table>\n",
       "<p>5 rows × 71 columns</p>\n",
       "</div>"
      ],
      "text/plain": [
       "    1Gender of respondent 2 How old are you?   \\\n",
       "105                Female         41-50 yaers   \n",
       "106                Female         31-40 years   \n",
       "107                Female  Less than 20 years   \n",
       "112                  Male         31-40 years   \n",
       "116                Female         21-30 years   \n",
       "\n",
       "    3 Which city do you shop online from?  \\\n",
       "105                             Ghaziabad   \n",
       "106                             Ghaziabad   \n",
       "107                             Ghaziabad   \n",
       "112                           Bulandshahr   \n",
       "116                            Bangalore    \n",
       "\n",
       "     4 What is the Pin Code of where you shop online from?  \\\n",
       "105                                             201009       \n",
       "106                                             201008       \n",
       "107                                             201001       \n",
       "112                                             203001       \n",
       "116                                             560037       \n",
       "\n",
       "    5 Since How Long You are Shopping Online ?  \\\n",
       "105                                  2-3 years   \n",
       "106                                  1-2 years   \n",
       "107                           Less than 1 year   \n",
       "112                                  1-2 years   \n",
       "116                                  2-3 years   \n",
       "\n",
       "    6 How many times you have made an online purchase in the past 1 year?  \\\n",
       "105                                        31-40 times                      \n",
       "106                                        31-40 times                      \n",
       "107                                 Less than 10 times                      \n",
       "112                                 Less than 10 times                      \n",
       "116                                        11-20 times                      \n",
       "\n",
       "    7 How do you access the internet while shopping on-line?  \\\n",
       "105                                    Mobile Internet         \n",
       "106                                    Mobile Internet         \n",
       "107                                              Wi-Fi         \n",
       "112                                    Mobile Internet         \n",
       "116                                              Wi-Fi         \n",
       "\n",
       "    8 Which device do you use to access the online shopping?  \\\n",
       "105                                         Smartphone         \n",
       "106                                         Smartphone         \n",
       "107                                         Smartphone         \n",
       "112                                         Smartphone         \n",
       "116                                         Smartphone         \n",
       "\n",
       "    9 What is the screen size of your mobile device?\\t\\t\\t\\t\\t\\t                                          \\\n",
       "105                                         5.5 inches                                                     \n",
       "106                                             Others                                                     \n",
       "107                                         5.5 inches                                                     \n",
       "112                                           5 inches                                                     \n",
       "116                                         4.7 inches                                                     \n",
       "\n",
       "    10 What is the operating system (OS) of your device?\\t\\t\\t\\t                                            \\\n",
       "105                                            Android                                                       \n",
       "106                                            Android                                                       \n",
       "107                              Window/windows Mobile                                                       \n",
       "112                                            Android                                                       \n",
       "116                                            IOS/Mac                                                       \n",
       "\n",
       "     ... Longer time to get logged in (promotion, sales period)  \\\n",
       "105  ...                                          Amazon.in       \n",
       "106  ...                                       Flipkart.com       \n",
       "107  ...                                          Amazon.in       \n",
       "112  ...                            Amazon.in, Flipkart.com       \n",
       "116  ...                            Flipkart.com, Paytm.com       \n",
       "\n",
       "    Longer time in displaying graphics and photos (promotion, sales period)  \\\n",
       "105                                          Amazon.in                        \n",
       "106                                       Flipkart.com                        \n",
       "107                                       Flipkart.com                        \n",
       "112                            Amazon.in, Flipkart.com                        \n",
       "116                                          Paytm.com                        \n",
       "\n",
       "    Late declaration of price (promotion, sales period)  \\\n",
       "105                                          Amazon.in    \n",
       "106                                       Flipkart.com    \n",
       "107                                       Flipkart.com    \n",
       "112                            Amazon.in, Flipkart.com    \n",
       "116                                          Paytm.com    \n",
       "\n",
       "    Longer page loading time (promotion, sales period)  \\\n",
       "105                                          Amazon.in   \n",
       "106                                       Flipkart.com   \n",
       "107                                       Flipkart.com   \n",
       "112                                       Flipkart.com   \n",
       "116                                          Paytm.com   \n",
       "\n",
       "    Limited mode of payment on most products (promotion, sales period)  \\\n",
       "105                                          Amazon.in                   \n",
       "106                                       Flipkart.com                   \n",
       "107                                       Flipkart.com                   \n",
       "112                                       Flipkart.com                   \n",
       "116                                       Snapdeal.com                   \n",
       "\n",
       "    Longer delivery period Change in website/Application design  \\\n",
       "105              Amazon.in                            Amazon.in   \n",
       "106           Flipkart.com                         Flipkart.com   \n",
       "107              Amazon.in                            Amazon.in   \n",
       "112           Flipkart.com              Amazon.in, Flipkart.com   \n",
       "116              Paytm.com                            Amazon.in   \n",
       "\n",
       "    Frequent disruption when moving from one page to another  \\\n",
       "105                                          Amazon.in         \n",
       "106                                       Flipkart.com         \n",
       "107                                          Amazon.in         \n",
       "112                                       Flipkart.com         \n",
       "116                                       Snapdeal.com         \n",
       "\n",
       "    Website is as efficient as before  \\\n",
       "105                         Amazon.in   \n",
       "106                      Flipkart.com   \n",
       "107                         Amazon.in   \n",
       "112                      Flipkart.com   \n",
       "116                         Paytm.com   \n",
       "\n",
       "    Which of the Indian online retailer would you recommend to a friend?  \n",
       "105                                          Amazon.in                    \n",
       "106                                       Flipkart.com                    \n",
       "107                                          Amazon.in                    \n",
       "112                                          Amazon.in                    \n",
       "116                              Amazon.in, Myntra.com                    \n",
       "\n",
       "[5 rows x 71 columns]"
      ]
     },
     "execution_count": 135,
     "metadata": {},
     "output_type": "execute_result"
    }
   ],
   "source": [
    "newdf.tail()"
   ]
  },
  {
   "cell_type": "markdown",
   "id": "ca67d98f",
   "metadata": {},
   "source": [
    "## SAMPLE ROW CHECK"
   ]
  },
  {
   "cell_type": "code",
   "execution_count": 136,
   "id": "37e6a4c4",
   "metadata": {},
   "outputs": [
    {
     "data": {
      "text/html": [
       "<div>\n",
       "<style scoped>\n",
       "    .dataframe tbody tr th:only-of-type {\n",
       "        vertical-align: middle;\n",
       "    }\n",
       "\n",
       "    .dataframe tbody tr th {\n",
       "        vertical-align: top;\n",
       "    }\n",
       "\n",
       "    .dataframe thead th {\n",
       "        text-align: right;\n",
       "    }\n",
       "</style>\n",
       "<table border=\"1\" class=\"dataframe\">\n",
       "  <thead>\n",
       "    <tr style=\"text-align: right;\">\n",
       "      <th></th>\n",
       "      <th>1Gender of respondent</th>\n",
       "      <th>2 How old are you?</th>\n",
       "      <th>3 Which city do you shop online from?</th>\n",
       "      <th>4 What is the Pin Code of where you shop online from?</th>\n",
       "      <th>5 Since How Long You are Shopping Online ?</th>\n",
       "      <th>6 How many times you have made an online purchase in the past 1 year?</th>\n",
       "      <th>7 How do you access the internet while shopping on-line?</th>\n",
       "      <th>8 Which device do you use to access the online shopping?</th>\n",
       "      <th>9 What is the screen size of your mobile device?\\t\\t\\t\\t\\t\\t</th>\n",
       "      <th>10 What is the operating system (OS) of your device?\\t\\t\\t\\t</th>\n",
       "      <th>...</th>\n",
       "      <th>Longer time to get logged in (promotion, sales period)</th>\n",
       "      <th>Longer time in displaying graphics and photos (promotion, sales period)</th>\n",
       "      <th>Late declaration of price (promotion, sales period)</th>\n",
       "      <th>Longer page loading time (promotion, sales period)</th>\n",
       "      <th>Limited mode of payment on most products (promotion, sales period)</th>\n",
       "      <th>Longer delivery period</th>\n",
       "      <th>Change in website/Application design</th>\n",
       "      <th>Frequent disruption when moving from one page to another</th>\n",
       "      <th>Website is as efficient as before</th>\n",
       "      <th>Which of the Indian online retailer would you recommend to a friend?</th>\n",
       "    </tr>\n",
       "  </thead>\n",
       "  <tbody>\n",
       "    <tr>\n",
       "      <th>79</th>\n",
       "      <td>Female</td>\n",
       "      <td>31-40 years</td>\n",
       "      <td>Karnal</td>\n",
       "      <td>132036</td>\n",
       "      <td>Less than 1 year</td>\n",
       "      <td>31-40 times</td>\n",
       "      <td>Mobile internet</td>\n",
       "      <td>Smartphone</td>\n",
       "      <td>4.7 inches</td>\n",
       "      <td>IOS/Mac</td>\n",
       "      <td>...</td>\n",
       "      <td>Flipkart.com, Paytm.com</td>\n",
       "      <td>Paytm.com</td>\n",
       "      <td>Paytm.com</td>\n",
       "      <td>Paytm.com</td>\n",
       "      <td>Snapdeal.com</td>\n",
       "      <td>Paytm.com</td>\n",
       "      <td>Amazon.in</td>\n",
       "      <td>Snapdeal.com</td>\n",
       "      <td>Paytm.com</td>\n",
       "      <td>Amazon.in, Myntra.com</td>\n",
       "    </tr>\n",
       "  </tbody>\n",
       "</table>\n",
       "<p>1 rows × 71 columns</p>\n",
       "</div>"
      ],
      "text/plain": [
       "   1Gender of respondent 2 How old are you?   \\\n",
       "79                Female         31-40 years   \n",
       "\n",
       "   3 Which city do you shop online from?  \\\n",
       "79                               Karnal    \n",
       "\n",
       "    4 What is the Pin Code of where you shop online from?  \\\n",
       "79                                             132036       \n",
       "\n",
       "   5 Since How Long You are Shopping Online ?  \\\n",
       "79                           Less than 1 year   \n",
       "\n",
       "   6 How many times you have made an online purchase in the past 1 year?  \\\n",
       "79                                        31-40 times                      \n",
       "\n",
       "   7 How do you access the internet while shopping on-line?  \\\n",
       "79                                    Mobile internet         \n",
       "\n",
       "   8 Which device do you use to access the online shopping?  \\\n",
       "79                                         Smartphone         \n",
       "\n",
       "   9 What is the screen size of your mobile device?\\t\\t\\t\\t\\t\\t                                          \\\n",
       "79                                         4.7 inches                                                     \n",
       "\n",
       "   10 What is the operating system (OS) of your device?\\t\\t\\t\\t                                            \\\n",
       "79                                            IOS/Mac                                                       \n",
       "\n",
       "    ... Longer time to get logged in (promotion, sales period)  \\\n",
       "79  ...                            Flipkart.com, Paytm.com       \n",
       "\n",
       "   Longer time in displaying graphics and photos (promotion, sales period)  \\\n",
       "79                                          Paytm.com                        \n",
       "\n",
       "   Late declaration of price (promotion, sales period)  \\\n",
       "79                                          Paytm.com    \n",
       "\n",
       "   Longer page loading time (promotion, sales period)  \\\n",
       "79                                          Paytm.com   \n",
       "\n",
       "   Limited mode of payment on most products (promotion, sales period)  \\\n",
       "79                                       Snapdeal.com                   \n",
       "\n",
       "   Longer delivery period Change in website/Application design  \\\n",
       "79              Paytm.com                            Amazon.in   \n",
       "\n",
       "   Frequent disruption when moving from one page to another  \\\n",
       "79                                       Snapdeal.com         \n",
       "\n",
       "   Website is as efficient as before  \\\n",
       "79                         Paytm.com   \n",
       "\n",
       "   Which of the Indian online retailer would you recommend to a friend?  \n",
       "79                              Amazon.in, Myntra.com                    \n",
       "\n",
       "[1 rows x 71 columns]"
      ]
     },
     "execution_count": 136,
     "metadata": {},
     "output_type": "execute_result"
    }
   ],
   "source": [
    "newdf.sample()"
   ]
  },
  {
   "cell_type": "markdown",
   "id": "30176549",
   "metadata": {},
   "source": [
    "## NON GRAPHICAL UNIVARIATE ANALYSIS"
   ]
  },
  {
   "cell_type": "code",
   "execution_count": 137,
   "id": "172b3d46",
   "metadata": {},
   "outputs": [
    {
     "data": {
      "text/html": [
       "<div>\n",
       "<style scoped>\n",
       "    .dataframe tbody tr th:only-of-type {\n",
       "        vertical-align: middle;\n",
       "    }\n",
       "\n",
       "    .dataframe tbody tr th {\n",
       "        vertical-align: top;\n",
       "    }\n",
       "\n",
       "    .dataframe thead th {\n",
       "        text-align: right;\n",
       "    }\n",
       "</style>\n",
       "<table border=\"1\" class=\"dataframe\">\n",
       "  <thead>\n",
       "    <tr style=\"text-align: right;\">\n",
       "      <th></th>\n",
       "      <th>4 What is the Pin Code of where you shop online from?</th>\n",
       "    </tr>\n",
       "  </thead>\n",
       "  <tbody>\n",
       "    <tr>\n",
       "      <th>count</th>\n",
       "      <td>103.000000</td>\n",
       "    </tr>\n",
       "    <tr>\n",
       "      <th>mean</th>\n",
       "      <td>232449.844660</td>\n",
       "    </tr>\n",
       "    <tr>\n",
       "      <th>std</th>\n",
       "      <td>150755.596481</td>\n",
       "    </tr>\n",
       "    <tr>\n",
       "      <th>min</th>\n",
       "      <td>110008.000000</td>\n",
       "    </tr>\n",
       "    <tr>\n",
       "      <th>25%</th>\n",
       "      <td>132001.000000</td>\n",
       "    </tr>\n",
       "    <tr>\n",
       "      <th>50%</th>\n",
       "      <td>201305.000000</td>\n",
       "    </tr>\n",
       "    <tr>\n",
       "      <th>75%</th>\n",
       "      <td>202156.500000</td>\n",
       "    </tr>\n",
       "    <tr>\n",
       "      <th>max</th>\n",
       "      <td>560037.000000</td>\n",
       "    </tr>\n",
       "  </tbody>\n",
       "</table>\n",
       "</div>"
      ],
      "text/plain": [
       "       4 What is the Pin Code of where you shop online from?\n",
       "count                                         103.000000    \n",
       "mean                                       232449.844660    \n",
       "std                                        150755.596481    \n",
       "min                                        110008.000000    \n",
       "25%                                        132001.000000    \n",
       "50%                                        201305.000000    \n",
       "75%                                        202156.500000    \n",
       "max                                        560037.000000    "
      ]
     },
     "execution_count": 137,
     "metadata": {},
     "output_type": "execute_result"
    }
   ],
   "source": [
    "newdf.describe()"
   ]
  },
  {
   "cell_type": "markdown",
   "id": "e9abcc4f",
   "metadata": {},
   "source": [
    "## GRAPHICAL UNIVARIATE ANALYSIS"
   ]
  },
  {
   "cell_type": "code",
   "execution_count": 148,
   "id": "255bc136",
   "metadata": {},
   "outputs": [],
   "source": [
    "import seaborn as sns\n",
    "import matplotlib.pyplot as plt\n",
    "import warnings\n",
    "warnings.filterwarnings('ignore')"
   ]
  },
  {
   "cell_type": "code",
   "execution_count": 149,
   "id": "12dccb38",
   "metadata": {},
   "outputs": [
    {
     "data": {
      "text/plain": [
       "<AxesSubplot:xlabel='1Gender of respondent', ylabel='count'>"
      ]
     },
     "execution_count": 149,
     "metadata": {},
     "output_type": "execute_result"
    },
    {
     "data": {
      "image/png": "[encoded data removed]",
      "text/plain": [
       "<Figure size 432x288 with 1 Axes>"
      ]
     },
     "metadata": {
      "needs_background": "light"
     },
     "output_type": "display_data"
    }
   ],
   "source": [
    "sns.countplot(newdf['1Gender of respondent'])"
   ]
  },
  {
   "cell_type": "markdown",
   "id": "1d65a0c7",
   "metadata": {},
   "source": [
    "### FEMALE ONLINE CUSTOMERS ARE WAY HIGHER THAN MALE ONLINE CUSTOMERS"
   ]
  },
  {
   "cell_type": "code",
   "execution_count": 154,
   "id": "a3a47b4c",
   "metadata": {},
   "outputs": [
    {
     "data": {
      "text/plain": [
       "<AxesSubplot:xlabel='3 Which city do you shop online from?', ylabel='count'>"
      ]
     },
     "execution_count": 154,
     "metadata": {},
     "output_type": "execute_result"
    },
    {
     "data": {
      "image/png": "[encoded data removed]",
      "text/plain": [
       "<Figure size 1080x288 with 1 Axes>"
      ]
     },
     "metadata": {
      "needs_background": "light"
     },
     "output_type": "display_data"
    }
   ],
   "source": [
    "plt.figure(figsize=(15,4))\n",
    "sns.countplot(newdf['3 Which city do you shop online from?'])"
   ]
  },
  {
   "cell_type": "markdown",
   "id": "d1849cb4",
   "metadata": {},
   "source": [
    "### MAJORITY OF THE ONLINE CUSTOEMRS BELONG TO DELHI "
   ]
  },
  {
   "cell_type": "code",
   "execution_count": 158,
   "id": "80456cc5",
   "metadata": {},
   "outputs": [
    {
     "data": {
      "text/plain": [
       "<AxesSubplot:xlabel='6 How many times you have made an online purchase in the past 1 year?', ylabel='count'>"
      ]
     },
     "execution_count": 158,
     "metadata": {},
     "output_type": "execute_result"
    },
    {
     "data": {
      "image/png": "[encoded data removed]",
      "text/plain": [
       "<Figure size 1080x288 with 1 Axes>"
      ]
     },
     "metadata": {
      "needs_background": "light"
     },
     "output_type": "display_data"
    }
   ],
   "source": [
    "plt.figure(figsize=(15,4))\n",
    "sns.countplot(newdf['6 How many times you have made an online purchase in the past 1 year?'])"
   ]
  },
  {
   "cell_type": "markdown",
   "id": "a7b17ad0",
   "metadata": {},
   "source": [
    "### MAXIMUM NUMBER OF CUSTOMERS HAVE SHOPPED LESS THAN 10 TIMES IN A YEAR ONLINE "
   ]
  },
  {
   "cell_type": "code",
   "execution_count": 159,
   "id": "57a2b7e7",
   "metadata": {},
   "outputs": [
    {
     "data": {
      "text/plain": [
       "<AxesSubplot:xlabel='7 How do you access the internet while shopping on-line?', ylabel='count'>"
      ]
     },
     "execution_count": 159,
     "metadata": {},
     "output_type": "execute_result"
    },
    {
     "data": {
      "image/png": "[encoded data removed]",
      "text/plain": [
       "<Figure size 432x288 with 1 Axes>"
      ]
     },
     "metadata": {
      "needs_background": "light"
     },
     "output_type": "display_data"
    }
   ],
   "source": [
    "sns.countplot(newdf['7 How do you access the internet while shopping on-line?'])"
   ]
  },
  {
   "cell_type": "markdown",
   "id": "c11aeded",
   "metadata": {},
   "source": [
    "### MAXIMUM PEOPLE USE MOBILE INTERNET WHILE SHOPPING ONLINE"
   ]
  },
  {
   "cell_type": "code",
   "execution_count": 160,
   "id": "1d9c64d5",
   "metadata": {},
   "outputs": [
    {
     "data": {
      "text/plain": [
       "<AxesSubplot:xlabel='8 Which device do you use to access the online shopping?', ylabel='count'>"
      ]
     },
     "execution_count": 160,
     "metadata": {},
     "output_type": "execute_result"
    },
    {
     "data": {
      "image/png": "[encoded data removed]",
      "text/plain": [
       "<Figure size 432x288 with 1 Axes>"
      ]
     },
     "metadata": {
      "needs_background": "light"
     },
     "output_type": "display_data"
    }
   ],
   "source": [
    "sns.countplot(newdf['8 Which device do you use to access the online shopping?'])"
   ]
  },
  {
   "cell_type": "markdown",
   "id": "8e1fd7fd",
   "metadata": {},
   "source": [
    "### MAXIMUM CUSTOMERS USE THEIR SMARTPHONES TO ACCESS THE ONLINE SHOPPING "
   ]
  },
  {
   "cell_type": "code",
   "execution_count": 162,
   "id": "423df0a4",
   "metadata": {},
   "outputs": [
    {
     "data": {
      "text/plain": [
       "<AxesSubplot:xlabel='9 What is the screen size of your mobile device?\\t\\t\\t\\t\\t\\t                                        ', ylabel='count'>"
      ]
     },
     "execution_count": 162,
     "metadata": {},
     "output_type": "execute_result"
    },
    {
     "data": {
      "image/png": "[encoded data removed]",
      "text/plain": [
       "<Figure size 432x288 with 1 Axes>"
      ]
     },
     "metadata": {
      "needs_background": "light"
     },
     "output_type": "display_data"
    }
   ],
   "source": [
    "sns.countplot(newdf['9 What is the screen size of your mobile device?\t\t\t\t\t\t                                        '])"
   ]
  },
  {
   "cell_type": "markdown",
   "id": "0fcba14d",
   "metadata": {},
   "source": [
    "### MAJPRITY OF THE CUSTOMERS HAVE DIFFERENT SCREEN SIZES ON THEIR MOBILES "
   ]
  },
  {
   "cell_type": "code",
   "execution_count": 163,
   "id": "19adb217",
   "metadata": {},
   "outputs": [
    {
     "data": {
      "text/plain": [
       "<AxesSubplot:xlabel='10 What is the operating system (OS) of your device?\\t\\t\\t\\t                                          ', ylabel='count'>"
      ]
     },
     "execution_count": 163,
     "metadata": {},
     "output_type": "execute_result"
    },
    {
     "data": {
      "image/png": "[encoded data removed]",
      "text/plain": [
       "<Figure size 432x288 with 1 Axes>"
      ]
     },
     "metadata": {
      "needs_background": "light"
     },
     "output_type": "display_data"
    }
   ],
   "source": [
    "sns.countplot(newdf['10 What is the operating system (OS) of your device?\t\t\t\t                                          '])"
   ]
  },
  {
   "cell_type": "markdown",
   "id": "26729353",
   "metadata": {},
   "source": [
    "### WINDOWS / WINDOWS MOBILE IS THE MOST PREFFERED OS OF CUSTOMERS"
   ]
  },
  {
   "cell_type": "code",
   "execution_count": 164,
   "id": "d62ae409",
   "metadata": {},
   "outputs": [
    {
     "data": {
      "text/plain": [
       "<AxesSubplot:xlabel='11 What browser do you run on your device to access the website?\\t\\t\\t                                                          ', ylabel='count'>"
      ]
     },
     "execution_count": 164,
     "metadata": {},
     "output_type": "execute_result"
    },
    {
     "data": {
      "image/png": "[encoded data removed]",
      "text/plain": [
       "<Figure size 432x288 with 1 Axes>"
      ]
     },
     "metadata": {
      "needs_background": "light"
     },
     "output_type": "display_data"
    }
   ],
   "source": [
    "sns.countplot(newdf['11 What browser do you run on your device to access the website?\t\t\t                                                          '])"
   ]
  },
  {
   "cell_type": "markdown",
   "id": "2963701d",
   "metadata": {},
   "source": [
    "### MAXIMUM CUSTOMERS USE GOOGLE CHROME BROWSER TO ACCESS THE WEBSITE"
   ]
  },
  {
   "cell_type": "code",
   "execution_count": 165,
   "id": "77275f64",
   "metadata": {},
   "outputs": [
    {
     "data": {
      "text/plain": [
       "<AxesSubplot:xlabel='12 Which channel did you follow to arrive at your favorite online store for the first time?                                                                   ', ylabel='count'>"
      ]
     },
     "execution_count": 165,
     "metadata": {},
     "output_type": "execute_result"
    },
    {
     "data": {
      "image/png": "[encoded data removed]",
      "text/plain": [
       "<Figure size 432x288 with 1 Axes>"
      ]
     },
     "metadata": {
      "needs_background": "light"
     },
     "output_type": "display_data"
    }
   ],
   "source": [
    "sns.countplot(newdf['12 Which channel did you follow to arrive at your favorite online store for the first time?                                                                   '])"
   ]
  },
  {
   "cell_type": "markdown",
   "id": "cdf4218d",
   "metadata": {},
   "source": [
    "### MAXIMUM CUSTOMERS USED SEARCH ENGINE TO ARRIVE AT THEIR FAVORITE ONLINE STORE FOR THE FIRST TIME "
   ]
  },
  {
   "cell_type": "code",
   "execution_count": 174,
   "id": "10b8fb9f",
   "metadata": {},
   "outputs": [
    {
     "data": {
      "text/plain": [
       "<AxesSubplot:xlabel='16 How frequently do you abandon (selecting an items and leaving without making payment) your shopping cart?\\t\\t\\t\\t\\t\\t\\t                                                   ', ylabel='count'>"
      ]
     },
     "execution_count": 174,
     "metadata": {},
     "output_type": "execute_result"
    },
    {
     "data": {
      "image/png": "[encoded data removed]",
      "text/plain": [
       "<Figure size 432x288 with 1 Axes>"
      ]
     },
     "metadata": {
      "needs_background": "light"
     },
     "output_type": "display_data"
    }
   ],
   "source": [
    "sns.countplot(newdf['16 How frequently do you abandon (selecting an items and leaving without making payment) your shopping cart?\t\t\t\t\t\t\t                                                   '])"
   ]
  },
  {
   "cell_type": "markdown",
   "id": "bc4e81ae",
   "metadata": {},
   "source": [
    "### MAXIMUM CUSTOMERS ABANDON THEIR SHOPPING CART SOMETIMES "
   ]
  },
  {
   "cell_type": "code",
   "execution_count": 181,
   "id": "1b4a3038",
   "metadata": {},
   "outputs": [
    {
     "data": {
      "text/plain": [
       "<AxesSubplot:xlabel='19 Information on similar product to the one highlighted  is important for product comparison', ylabel='count'>"
      ]
     },
     "execution_count": 181,
     "metadata": {},
     "output_type": "execute_result"
    },
    {
     "data": {
      "image/png": "[encoded data removed]",
      "text/plain": [
       "<Figure size 432x288 with 1 Axes>"
      ]
     },
     "metadata": {
      "needs_background": "light"
     },
     "output_type": "display_data"
    }
   ],
   "source": [
    "sns.countplot(newdf['19 Information on similar product to the one highlighted  is important for product comparison'])"
   ]
  },
  {
   "cell_type": "markdown",
   "id": "41b42c7f",
   "metadata": {},
   "source": [
    "### MAX CUSTOMERS STRONGLY AGREE AND AGREE TO THE FACT THAT INFO ON IMILAR PRODUCT TO THE HIGHLIGHTED IS IMPORTANT FOR PRODUCT COMPARISON "
   ]
  },
  {
   "cell_type": "code",
   "execution_count": 184,
   "id": "5157f73d",
   "metadata": {},
   "outputs": [
    {
     "data": {
      "text/plain": [
       "<AxesSubplot:xlabel='20 Complete information on listed seller and product being offered is important for purchase decision.', ylabel='count'>"
      ]
     },
     "execution_count": 184,
     "metadata": {},
     "output_type": "execute_result"
    },
    {
     "data": {
      "image/png": "[encoded data removed]",
      "text/plain": [
       "<Figure size 720x288 with 1 Axes>"
      ]
     },
     "metadata": {
      "needs_background": "light"
     },
     "output_type": "display_data"
    }
   ],
   "source": [
    "plt.figure(figsize=(10,4))\n",
    "sns.countplot(newdf['20 Complete information on listed seller and product being offered is important for purchase decision.'])"
   ]
  },
  {
   "cell_type": "markdown",
   "id": "a88fc40d",
   "metadata": {},
   "source": [
    "### MOSTLY PEOPLE AGREE TO THE FACT THAT COMPLETE INFO ON LISTED SELLER AND PRODUCT BEING OFFERED IS IMPORTANT FOR PURCHASE DIRECTION "
   ]
  },
  {
   "cell_type": "code",
   "execution_count": 191,
   "id": "4add23f5",
   "metadata": {},
   "outputs": [
    {
     "data": {
      "text/plain": [
       "<AxesSubplot:xlabel='23 Loading and processing speed', ylabel='count'>"
      ]
     },
     "execution_count": 191,
     "metadata": {},
     "output_type": "execute_result"
    },
    {
     "data": {
      "image/png": "[encoded data removed]",
      "text/plain": [
       "<Figure size 720x288 with 1 Axes>"
      ]
     },
     "metadata": {
      "needs_background": "light"
     },
     "output_type": "display_data"
    }
   ],
   "source": [
    "plt.figure(figsize=(10,4))\n",
    "sns.countplot(newdf['23 Loading and processing speed'])"
   ]
  },
  {
   "cell_type": "markdown",
   "id": "89b5269c",
   "metadata": {},
   "source": [
    "### MOSTLY PEOPLE STRONGLY AGREE AND AGREE TO THE FACT THAT LOADING AND PROCEESING SPEED OF THE APP/WEBSITE  IS AN IMPORTANT  ASPECT OF ONLINE SHOPPING "
   ]
  },
  {
   "cell_type": "code",
   "execution_count": 205,
   "id": "d60e2542",
   "metadata": {},
   "outputs": [
    {
     "data": {
      "text/plain": [
       "<AxesSubplot:xlabel='29 Responsiveness, availability of several communication channels (email, online rep, twitter, phone etc.)', ylabel='count'>"
      ]
     },
     "execution_count": 205,
     "metadata": {},
     "output_type": "execute_result"
    },
    {
     "data": {
      "image/png": "[encoded data removed]",
      "text/plain": [
       "<Figure size 720x288 with 1 Axes>"
      ]
     },
     "metadata": {
      "needs_background": "light"
     },
     "output_type": "display_data"
    }
   ],
   "source": [
    "plt.figure(figsize=(10,4))\n",
    "sns.countplot(newdf['29 Responsiveness, availability of several communication channels (email, online rep, twitter, phone etc.)'])"
   ]
  },
  {
   "cell_type": "markdown",
   "id": "46e101d6",
   "metadata": {},
   "source": [
    "### MOSTLY PEOPLE STRONGLY AGREE AND AGREE TO THE FACT THAT RESPONSIVENESS , AVAILABILITY OF SEVERAL COMMUNICATION CHANNELS ARE IMPORTANT FOR MAKING AN ONLINE PURCHASE"
   ]
  },
  {
   "cell_type": "code",
   "execution_count": 207,
   "id": "6e8a2a59",
   "metadata": {},
   "outputs": [
    {
     "data": {
      "text/plain": [
       "<AxesSubplot:xlabel='30 Online shopping gives monetary benefit and discounts', ylabel='count'>"
      ]
     },
     "execution_count": 207,
     "metadata": {},
     "output_type": "execute_result"
    },
    {
     "data": {
      "image/png": "[encoded data removed]",
      "text/plain": [
       "<Figure size 720x288 with 1 Axes>"
      ]
     },
     "metadata": {
      "needs_background": "light"
     },
     "output_type": "display_data"
    }
   ],
   "source": [
    "plt.figure(figsize=(10,4))\n",
    "sns.countplot(newdf['30 Online shopping gives monetary benefit and discounts'])"
   ]
  },
  {
   "cell_type": "markdown",
   "id": "e6f4fdf6",
   "metadata": {},
   "source": [
    "### MOSTLY PEOPLE STRONGLY AGREE AND AGREE TO THE FACT THAT ONLINE SHOPPING GIVES MONETARY BENEFITS AND DISCOUNTS TO ITS BUYERS "
   ]
  },
  {
   "cell_type": "code",
   "execution_count": 209,
   "id": "04bcc63a",
   "metadata": {},
   "outputs": [
    {
     "data": {
      "text/plain": [
       "<AxesSubplot:xlabel='31 Enjoyment is derived from shopping online', ylabel='count'>"
      ]
     },
     "execution_count": 209,
     "metadata": {},
     "output_type": "execute_result"
    },
    {
     "data": {
      "image/png": "[encoded data removed]",
      "text/plain": [
       "<Figure size 720x288 with 1 Axes>"
      ]
     },
     "metadata": {
      "needs_background": "light"
     },
     "output_type": "display_data"
    }
   ],
   "source": [
    "plt.figure(figsize=(10,4))\n",
    "sns.countplot(newdf['31 Enjoyment is derived from shopping online'])"
   ]
  },
  {
   "cell_type": "markdown",
   "id": "7516cbd0",
   "metadata": {},
   "source": [
    "### MOSTLY PEOPLE STRONGLY AGREE AND ARE INDIFFERENT TO THE FACT THAT ENJOYMENT IS DERIVED FROM ONLINE SHOPPING "
   ]
  },
  {
   "cell_type": "code",
   "execution_count": 210,
   "id": "a36cb3d3",
   "metadata": {},
   "outputs": [
    {
     "data": {
      "text/plain": [
       "<AxesSubplot:xlabel='32 Shopping online is convenient and flexible', ylabel='count'>"
      ]
     },
     "execution_count": 210,
     "metadata": {},
     "output_type": "execute_result"
    },
    {
     "data": {
      "image/png": "[encoded data removed]",
      "text/plain": [
       "<Figure size 432x288 with 1 Axes>"
      ]
     },
     "metadata": {
      "needs_background": "light"
     },
     "output_type": "display_data"
    }
   ],
   "source": [
    "sns.countplot(newdf['32 Shopping online is convenient and flexible'])"
   ]
  },
  {
   "cell_type": "markdown",
   "id": "6cdd35a2",
   "metadata": {},
   "source": [
    "### MOSTLY PEOPLE STRONGLY AGREE TO THE FACT THAT ONLINE SHOPPING IS BOTH CONVENIENT AND FLEXIBLE"
   ]
  },
  {
   "cell_type": "code",
   "execution_count": 211,
   "id": "db37cb83",
   "metadata": {},
   "outputs": [
    {
     "data": {
      "text/plain": [
       "<AxesSubplot:xlabel='33 Return and replacement policy of the e-tailer is important for purchase decision', ylabel='count'>"
      ]
     },
     "execution_count": 211,
     "metadata": {},
     "output_type": "execute_result"
    },
    {
     "data": {
      "image/png": "[encoded data removed]",
      "text/plain": [
       "<Figure size 432x288 with 1 Axes>"
      ]
     },
     "metadata": {
      "needs_background": "light"
     },
     "output_type": "display_data"
    }
   ],
   "source": [
    "sns.countplot(newdf['33 Return and replacement policy of the e-tailer is important for purchase decision'])"
   ]
  },
  {
   "cell_type": "markdown",
   "id": "1626a6fc",
   "metadata": {},
   "source": [
    "### MOSTLY PEOPLE STRONGLY AGREE TO THE FACT THAT RETURN AND REPLACEMENT POLICY OF THE E-TAILER IS IMPORTANT FOR PURCHASE DECISION "
   ]
  },
  {
   "cell_type": "code",
   "execution_count": 215,
   "id": "9387becf",
   "metadata": {},
   "outputs": [
    {
     "data": {
      "text/plain": [
       "<AxesSubplot:xlabel='34 Gaining access to loyalty programs is a benefit of shopping online', ylabel='count'>"
      ]
     },
     "execution_count": 215,
     "metadata": {},
     "output_type": "execute_result"
    },
    {
     "data": {
      "image/png": "[encoded data removed]",
      "text/plain": [
       "<Figure size 720x288 with 1 Axes>"
      ]
     },
     "metadata": {
      "needs_background": "light"
     },
     "output_type": "display_data"
    }
   ],
   "source": [
    "plt.figure(figsize=(10,4))\n",
    "sns.countplot(newdf['34 Gaining access to loyalty programs is a benefit of shopping online'])"
   ]
  },
  {
   "cell_type": "markdown",
   "id": "82625966",
   "metadata": {},
   "source": [
    "### MOSTLY PEOPLE STRONGLY AGREE AND AGREE TO THE FACT THAT GAINING ACCESS TO LOYALTY PROGRAMS IS A BENEFIT OF SHOPPING ONLINE"
   ]
  },
  {
   "cell_type": "code",
   "execution_count": 216,
   "id": "a7448690",
   "metadata": {},
   "outputs": [
    {
     "data": {
      "text/plain": [
       "<AxesSubplot:xlabel='35 Displaying quality Information on the website improves satisfaction of customers', ylabel='count'>"
      ]
     },
     "execution_count": 216,
     "metadata": {},
     "output_type": "execute_result"
    },
    {
     "data": {
      "image/png": "[encoded data removed]",
      "text/plain": [
       "<Figure size 432x288 with 1 Axes>"
      ]
     },
     "metadata": {
      "needs_background": "light"
     },
     "output_type": "display_data"
    }
   ],
   "source": [
    "sns.countplot(newdf['35 Displaying quality Information on the website improves satisfaction of customers'])"
   ]
  },
  {
   "cell_type": "markdown",
   "id": "d8aa76b0",
   "metadata": {},
   "source": [
    "### MOSTLY PEOPLE STRONGLY AGREE AND AGREE TO THE FACT THAT DISPLAYING QUALITY INFO ON THE WEBSITE IMPROVES SATUSFACTION OF CUSTOMERS"
   ]
  },
  {
   "cell_type": "code",
   "execution_count": 217,
   "id": "bfd4aa75",
   "metadata": {},
   "outputs": [
    {
     "data": {
      "text/plain": [
       "<AxesSubplot:xlabel='36 User derive satisfaction while shopping on a good quality website or application', ylabel='count'>"
      ]
     },
     "execution_count": 217,
     "metadata": {},
     "output_type": "execute_result"
    },
    {
     "data": {
      "image/png": "[encoded data removed]",
      "text/plain": [
       "<Figure size 432x288 with 1 Axes>"
      ]
     },
     "metadata": {
      "needs_background": "light"
     },
     "output_type": "display_data"
    }
   ],
   "source": [
    "sns.countplot(newdf['36 User derive satisfaction while shopping on a good quality website or application'])"
   ]
  },
  {
   "cell_type": "markdown",
   "id": "2d8be1d8",
   "metadata": {},
   "source": [
    "### MOSTLY PEOPLE STRONGLY AGREE AND AGREE TO THE FACT THAT USER DERIVE SATISFACTION WHILE SHOPPING ON A GOOD QUALITY WEBSITE OR APP "
   ]
  },
  {
   "cell_type": "code",
   "execution_count": 218,
   "id": "8e161016",
   "metadata": {},
   "outputs": [
    {
     "data": {
      "text/plain": [
       "<AxesSubplot:xlabel='37 Net Benefit derived from shopping online can lead to users satisfaction', ylabel='count'>"
      ]
     },
     "execution_count": 218,
     "metadata": {},
     "output_type": "execute_result"
    },
    {
     "data": {
      "image/png": "[encoded data removed]",
      "text/plain": [
       "<Figure size 432x288 with 1 Axes>"
      ]
     },
     "metadata": {
      "needs_background": "light"
     },
     "output_type": "display_data"
    }
   ],
   "source": [
    "sns.countplot(newdf['37 Net Benefit derived from shopping online can lead to users satisfaction'])"
   ]
  },
  {
   "cell_type": "markdown",
   "id": "5bcc6287",
   "metadata": {},
   "source": [
    "### MOSTLY PEOPLE STRONGLY AGREE TO THE FACT THAT NET BENEFIT DERIVED FROM SHOPPING ONLN CAN LEAD TO USER SATISFACTION"
   ]
  },
  {
   "cell_type": "code",
   "execution_count": 220,
   "id": "7c3fc657",
   "metadata": {},
   "outputs": [
    {
     "data": {
      "text/plain": [
       "<AxesSubplot:xlabel='38 User satisfaction cannot exist without trust', ylabel='count'>"
      ]
     },
     "execution_count": 220,
     "metadata": {},
     "output_type": "execute_result"
    },
    {
     "data": {
      "image/png": "[encoded data removed]",
      "text/plain": [
       "<Figure size 720x288 with 1 Axes>"
      ]
     },
     "metadata": {
      "needs_background": "light"
     },
     "output_type": "display_data"
    }
   ],
   "source": [
    "plt.figure(figsize=(10,4))\n",
    "sns.countplot(newdf['38 User satisfaction cannot exist without trust'])"
   ]
  },
  {
   "cell_type": "markdown",
   "id": "5b7a8b45",
   "metadata": {},
   "source": [
    "### MOSTLY PEOPLE STRONGLY AGREE AND AGREE TO THE FACT THAT USER SATISFACTION CANNOT EXIST WITHOUT TRUST"
   ]
  },
  {
   "cell_type": "code",
   "execution_count": 144,
   "id": "9318619d",
   "metadata": {},
   "outputs": [
    {
     "data": {
      "text/plain": [
       "<AxesSubplot:xlabel='2 How old are you? ', ylabel='Count'>"
      ]
     },
     "execution_count": 144,
     "metadata": {},
     "output_type": "execute_result"
    },
    {
     "data": {
      "image/png": "[encoded data removed]",
      "text/plain": [
       "<Figure size 720x288 with 1 Axes>"
      ]
     },
     "metadata": {
      "needs_background": "light"
     },
     "output_type": "display_data"
    }
   ],
   "source": [
    "plt.figure(figsize=(10,4))\n",
    "sns.histplot(newdf['2 How old are you? '],bins=25)"
   ]
  },
  {
   "cell_type": "markdown",
   "id": "01d38445",
   "metadata": {},
   "source": [
    "### MAXIMUM PEOPLE BELONG TO THE AGE GROUP OF 21-30YEARS WHO SHOP ONLINE"
   ]
  },
  {
   "cell_type": "code",
   "execution_count": 156,
   "id": "f7629be5",
   "metadata": {},
   "outputs": [
    {
     "data": {
      "text/plain": [
       "<AxesSubplot:xlabel='5 Since How Long You are Shopping Online ?', ylabel='Count'>"
      ]
     },
     "execution_count": 156,
     "metadata": {},
     "output_type": "execute_result"
    },
    {
     "data": {
      "image/png": "[encoded data removed]",
      "text/plain": [
       "<Figure size 576x288 with 1 Axes>"
      ]
     },
     "metadata": {
      "needs_background": "light"
     },
     "output_type": "display_data"
    }
   ],
   "source": [
    "plt.figure(figsize=(8,4))\n",
    "sns.histplot(newdf['5 Since How Long You are Shopping Online ?'],bins=25)"
   ]
  },
  {
   "cell_type": "markdown",
   "id": "40f16cdb",
   "metadata": {},
   "source": [
    "### MAXIMUM CUSTOMERS HAVE BEEN SHOPPING ONLINE FOR MORE THAN 4 YEARS"
   ]
  },
  {
   "cell_type": "code",
   "execution_count": 169,
   "id": "982fac74",
   "metadata": {},
   "outputs": [
    {
     "data": {
      "text/plain": [
       "<AxesSubplot:xlabel='14 How much time do you explore the e- retail store before making a purchase decision?                                                                   ', ylabel='Count'>"
      ]
     },
     "execution_count": 169,
     "metadata": {},
     "output_type": "execute_result"
    },
    {
     "data": {
      "image/png": "[encoded data removed]",
      "text/plain": [
       "<Figure size 576x288 with 1 Axes>"
      ]
     },
     "metadata": {
      "needs_background": "light"
     },
     "output_type": "display_data"
    }
   ],
   "source": [
    "plt.figure(figsize=(8,4))\n",
    "sns.histplot(newdf['14 How much time do you explore the e- retail store before making a purchase decision?                                                                   '],bins=25)"
   ]
  },
  {
   "cell_type": "markdown",
   "id": "491ca2ae",
   "metadata": {},
   "source": [
    "### MAXIMUM PEOPLE SPEND MORE THAN 15 MINS EXPLORING THE E-RETAIL STORE BEFORE MAKING A PURCHASE DECISION"
   ]
  },
  {
   "cell_type": "code",
   "execution_count": 177,
   "id": "eae0160a",
   "metadata": {},
   "outputs": [
    {
     "data": {
      "text/plain": [
       "<AxesSubplot:xlabel='17 Why did you abandon the “Bag”, “Shopping Cart”?\\t\\t\\t\\t\\t                                                                                                                                                       ', ylabel='Count'>"
      ]
     },
     "execution_count": 177,
     "metadata": {},
     "output_type": "execute_result"
    },
    {
     "data": {
      "image/png": "[encoded data removed]",
      "text/plain": [
       "<Figure size 1296x288 with 1 Axes>"
      ]
     },
     "metadata": {
      "needs_background": "light"
     },
     "output_type": "display_data"
    }
   ],
   "source": [
    "plt.figure(figsize=(18,4))\n",
    "sns.histplot(newdf['17 Why did you abandon the “Bag”, “Shopping Cart”?\t\t\t\t\t                                                                                                                                                       '],bins=25)"
   ]
  },
  {
   "cell_type": "markdown",
   "id": "a1a23e48",
   "metadata": {},
   "source": [
    "### MAXIMUM PEOPLE ABANDON THEIR SHOPPING CART BECUASE THEY FIND BETTER ALTERNATE OPTIONS ELSEWHERE"
   ]
  },
  {
   "cell_type": "code",
   "execution_count": 180,
   "id": "a878f9d4",
   "metadata": {},
   "outputs": [
    {
     "data": {
      "text/plain": [
       "<AxesSubplot:xlabel='18 The content on the website must be easy to read and understand', ylabel='Count'>"
      ]
     },
     "execution_count": 180,
     "metadata": {},
     "output_type": "execute_result"
    },
    {
     "data": {
      "image/png": "[encoded data removed]",
      "text/plain": [
       "<Figure size 1296x288 with 1 Axes>"
      ]
     },
     "metadata": {
      "needs_background": "light"
     },
     "output_type": "display_data"
    }
   ],
   "source": [
    "plt.figure(figsize=(18,4))\n",
    "sns.histplot(newdf['18 The content on the website must be easy to read and understand'],bins=25)"
   ]
  },
  {
   "cell_type": "markdown",
   "id": "fec12663",
   "metadata": {},
   "source": [
    "### MAXIMUM PEOPLE STRONGLY AGREE TO THE FACT THAT THE CONTENT ON THE WEBSITE MUST BE EASY TO READ AND UNDERSTAND"
   ]
  },
  {
   "cell_type": "code",
   "execution_count": 200,
   "id": "09b38758",
   "metadata": {},
   "outputs": [
    {
     "data": {
      "text/plain": [
       "<AxesSubplot:xlabel='27 Empathy (readiness to assist with queries) towards the customers', ylabel='Count'>"
      ]
     },
     "execution_count": 200,
     "metadata": {},
     "output_type": "execute_result"
    },
    {
     "data": {
      "image/png": "[encoded data removed]",
      "text/plain": [
       "<Figure size 720x288 with 1 Axes>"
      ]
     },
     "metadata": {
      "needs_background": "light"
     },
     "output_type": "display_data"
    }
   ],
   "source": [
    "plt.figure(figsize=(10,4))\n",
    "sns.histplot(newdf['27 Empathy (readiness to assist with queries) towards the customers'],bins=25)"
   ]
  },
  {
   "cell_type": "markdown",
   "id": "01f7ea7c",
   "metadata": {},
   "source": [
    "### MOSTLY PEOPLE STRONGLY AGREETO THE FACT THAT EMPATY TOWARDS CUSTOMER IS VITAL FOR MAKING AN ONLINE PURCHASE"
   ]
  },
  {
   "cell_type": "code",
   "execution_count": 201,
   "id": "4d85f436",
   "metadata": {},
   "outputs": [
    {
     "data": {
      "text/plain": [
       "<AxesSubplot:xlabel='28 Being able to guarantee the privacy of the customer', ylabel='Count'>"
      ]
     },
     "execution_count": 201,
     "metadata": {},
     "output_type": "execute_result"
    },
    {
     "data": {
      "image/png": "[encoded data removed]",
      "text/plain": [
       "<Figure size 432x288 with 1 Axes>"
      ]
     },
     "metadata": {
      "needs_background": "light"
     },
     "output_type": "display_data"
    }
   ],
   "source": [
    "sns.histplot(newdf['28 Being able to guarantee the privacy of the customer'],bins=25)"
   ]
  },
  {
   "cell_type": "markdown",
   "id": "9ef288e2",
   "metadata": {},
   "source": [
    "### MOSTLY PEOPLE STRONGLY AGREE TO THE FACT THAT ONLINE PLATFORMS SHOULD BE ABLE TO GURANATEE THE PRIVACY OF THE CUSTOMERS"
   ]
  },
  {
   "cell_type": "code",
   "execution_count": 224,
   "id": "65c519ad",
   "metadata": {},
   "outputs": [
    {
     "data": {
      "text/plain": [
       "<AxesSubplot:xlabel='40 Provision of complete and relevant product information', ylabel='Count'>"
      ]
     },
     "execution_count": 224,
     "metadata": {},
     "output_type": "execute_result"
    },
    {
     "data": {
      "image/png": "[encoded data removed]",
      "text/plain": [
       "<Figure size 720x288 with 1 Axes>"
      ]
     },
     "metadata": {
      "needs_background": "light"
     },
     "output_type": "display_data"
    }
   ],
   "source": [
    "plt.figure(figsize=(10,4))\n",
    "sns.histplot(newdf['40 Provision of complete and relevant product information'],bins=25)"
   ]
  },
  {
   "cell_type": "markdown",
   "id": "70d576a5",
   "metadata": {},
   "source": [
    "### MOSTLY PEOPLE STRONGLY AGREE AND AGREE TO THE FACT THAT PROVISION OF COMPLETE AND RELEVANT PRODUCT INFO IS VITAL FOR MAKING AN ONLINE PURCHASE"
   ]
  },
  {
   "cell_type": "code",
   "execution_count": 222,
   "id": "2ca1db6a",
   "metadata": {},
   "outputs": [
    {
     "data": {
      "text/plain": [
       "<AxesSubplot:xlabel='39 Offering a wide variety of listed product in several category', ylabel='Count'>"
      ]
     },
     "execution_count": 222,
     "metadata": {},
     "output_type": "execute_result"
    },
    {
     "data": {
      "image/png": "[encoded data removed]",
      "text/plain": [
       "<Figure size 720x288 with 1 Axes>"
      ]
     },
     "metadata": {
      "needs_background": "light"
     },
     "output_type": "display_data"
    }
   ],
   "source": [
    "plt.figure(figsize=(10,4))\n",
    "sns.histplot(newdf['39 Offering a wide variety of listed product in several category'],bins=25)"
   ]
  },
  {
   "cell_type": "markdown",
   "id": "86e7fec2",
   "metadata": {},
   "source": [
    "### MAX PEOPLE STRONGLY AGREE AND AGREE TO THE FACT THAT ONLINE PLATFORMS OFFER A WIDE VARIETY OF LISTED PRODUCTS IN SEVERAL CATEGORIES "
   ]
  },
  {
   "cell_type": "code",
   "execution_count": 226,
   "id": "b3cde4d2",
   "metadata": {},
   "outputs": [
    {
     "data": {
      "text/plain": [
       "<AxesSubplot:xlabel='41 Monetary savings', ylabel='Count'>"
      ]
     },
     "execution_count": 226,
     "metadata": {},
     "output_type": "execute_result"
    },
    {
     "data": {
      "image/png": "[encoded data removed]",
      "text/plain": [
       "<Figure size 576x288 with 1 Axes>"
      ]
     },
     "metadata": {
      "needs_background": "light"
     },
     "output_type": "display_data"
    }
   ],
   "source": [
    "plt.figure(figsize=(8,4))\n",
    "sns.histplot(newdf['41 Monetary savings'],bins=25)"
   ]
  },
  {
   "cell_type": "markdown",
   "id": "a8701389",
   "metadata": {},
   "source": [
    "### MAXIMUM PEOPLE STRONGLY AGREE TO THE FACT THAT THEY DERIVE MONETARY SAVNGS BY PURCHASING ONLINE"
   ]
  },
  {
   "cell_type": "code",
   "execution_count": 227,
   "id": "1a2fad5d",
   "metadata": {},
   "outputs": [
    {
     "data": {
      "text/plain": [
       "<AxesSubplot:xlabel='42 The Convenience of patronizing the online retailer', ylabel='Count'>"
      ]
     },
     "execution_count": 227,
     "metadata": {},
     "output_type": "execute_result"
    },
    {
     "data": {
      "image/png": "[encoded data removed]",
      "text/plain": [
       "<Figure size 432x288 with 1 Axes>"
      ]
     },
     "metadata": {
      "needs_background": "light"
     },
     "output_type": "display_data"
    }
   ],
   "source": [
    "sns.histplot(newdf['42 The Convenience of patronizing the online retailer'],bins=25)"
   ]
  },
  {
   "cell_type": "code",
   "execution_count": null,
   "id": "b2046ab1",
   "metadata": {},
   "outputs": [],
   "source": [
    "### MAJORITY OF THE PEOPLE AGREE TO THE FACT THAT THEY FIND PATRONIZNG THE ONLINE RETAILER CONVENIENT "
   ]
  },
  {
   "cell_type": "markdown",
   "id": "b823f49b",
   "metadata": {},
   "source": [
    "plt.figure(figsize=(12,4))\n",
    "sns.histplot(newdf['43 Shopping on the website gives you the sense of adventure'],bins=25)"
   ]
  },
  {
   "cell_type": "markdown",
   "id": "f10bd762",
   "metadata": {},
   "source": [
    "### MOSTLY PEOPLE AGREE TO THE FACT SHOPPING ON THE WEBSITE GIVES THEM A SENSE OF ADVENTURE"
   ]
  },
  {
   "cell_type": "code",
   "execution_count": 231,
   "id": "b457a206",
   "metadata": {},
   "outputs": [
    {
     "data": {
      "text/plain": [
       "<AxesSubplot:xlabel='44 Shopping on your preferred e-tailer enhances your social status'>"
      ]
     },
     "execution_count": 231,
     "metadata": {},
     "output_type": "execute_result"
    },
    {
     "data": {
      "image/png": "[encoded data removed]",
      "text/plain": [
       "<Figure size 720x288 with 1 Axes>"
      ]
     },
     "metadata": {
      "needs_background": "light"
     },
     "output_type": "display_data"
    }
   ],
   "source": [
    "plt.figure(figsize=(10,4))\n",
    "sns.swarmplot(newdf['44 Shopping on your preferred e-tailer enhances your social status'])"
   ]
  },
  {
   "cell_type": "markdown",
   "id": "34fdbccb",
   "metadata": {},
   "source": [
    "### MAJORITY OF THE PEOPLE ARE INDIFFERENT TO THE FACT THAT SHOPPING ON THE PREFERRD E-TAILER ENHANCES THEIR SOCIAL STATUS"
   ]
  },
  {
   "cell_type": "code",
   "execution_count": 186,
   "id": "545f6ca4",
   "metadata": {},
   "outputs": [
    {
     "data": {
      "text/plain": [
       "<AxesSubplot:xlabel='21 All relevant information on listed products must be stated clearly'>"
      ]
     },
     "execution_count": 186,
     "metadata": {},
     "output_type": "execute_result"
    },
    {
     "data": {
      "image/png": "[encoded data removed]",
      "text/plain": [
       "<Figure size 432x288 with 1 Axes>"
      ]
     },
     "metadata": {
      "needs_background": "light"
     },
     "output_type": "display_data"
    }
   ],
   "source": [
    "sns.swarmplot(newdf['21 All relevant information on listed products must be stated clearly'])"
   ]
  },
  {
   "cell_type": "markdown",
   "id": "64886467",
   "metadata": {},
   "source": [
    "### MAJORITY OF THE PEOPLE STRONGLY AGREE AND AGREE THAT ALL THE RELEVANT INFORMATION ON THE LISTED PRODUCTS MUST BE STATED CLEARLY ON THE ONLINE PLATFORM"
   ]
  },
  {
   "cell_type": "code",
   "execution_count": 188,
   "id": "ac2bc1c5",
   "metadata": {},
   "outputs": [
    {
     "data": {
      "text/plain": [
       "<AxesSubplot:xlabel='22 Ease of navigation in website'>"
      ]
     },
     "execution_count": 188,
     "metadata": {},
     "output_type": "execute_result"
    },
    {
     "data": {
      "image/png": "[encoded data removed]",
      "text/plain": [
       "<Figure size 432x288 with 1 Axes>"
      ]
     },
     "metadata": {
      "needs_background": "light"
     },
     "output_type": "display_data"
    }
   ],
   "source": [
    "sns.swarmplot(newdf['22 Ease of navigation in website'])"
   ]
  },
  {
   "cell_type": "markdown",
   "id": "05c4bc93",
   "metadata": {},
   "source": [
    "### MAJORITY OF THE CUSTOMERS AGREE AND STRONGLY AGREE THAT THEY FIND IT EASY TO NAVIGATE THE WEBSITE "
   ]
  },
  {
   "cell_type": "code",
   "execution_count": 193,
   "id": "fddf4df3",
   "metadata": {},
   "outputs": [
    {
     "data": {
      "text/plain": [
       "<AxesSubplot:xlabel='24 User friendly Interface of the website'>"
      ]
     },
     "execution_count": 193,
     "metadata": {},
     "output_type": "execute_result"
    },
    {
     "data": {
      "image/png": "[encoded data removed]",
      "text/plain": [
       "<Figure size 576x288 with 1 Axes>"
      ]
     },
     "metadata": {
      "needs_background": "light"
     },
     "output_type": "display_data"
    }
   ],
   "source": [
    "plt.figure(figsize=(8,4))\n",
    "sns.swarmplot(newdf['24 User friendly Interface of the website'])"
   ]
  },
  {
   "cell_type": "markdown",
   "id": "4c05fc47",
   "metadata": {},
   "source": [
    "### MAXIMUM PEOPLE STRONGLY AGREE THAT THE INTERFACE OF THE WEBSITE IS USER FRIENDLY"
   ]
  },
  {
   "cell_type": "code",
   "execution_count": 194,
   "id": "123f2bbd",
   "metadata": {},
   "outputs": [
    {
     "data": {
      "text/plain": [
       "<AxesSubplot:xlabel='25 Convenient Payment methods'>"
      ]
     },
     "execution_count": 194,
     "metadata": {},
     "output_type": "execute_result"
    },
    {
     "data": {
      "image/png": "[encoded data removed]",
      "text/plain": [
       "<Figure size 432x288 with 1 Axes>"
      ]
     },
     "metadata": {
      "needs_background": "light"
     },
     "output_type": "display_data"
    }
   ],
   "source": [
    "sns.swarmplot(newdf['25 Convenient Payment methods'])"
   ]
  },
  {
   "cell_type": "markdown",
   "id": "8da78d9c",
   "metadata": {},
   "source": [
    "### MAXIMUM PEOPLE AGREE THAT THE PAYMENT METHODS PROVIDED ON THE ONLINE PLATFORM ARE CONVENIENT "
   ]
  },
  {
   "cell_type": "code",
   "execution_count": 195,
   "id": "dcd7a007",
   "metadata": {},
   "outputs": [
    {
     "data": {
      "text/plain": [
       "<AxesSubplot:xlabel='26 Trust that the online retail store will fulfill its part of the transaction at the stipulated time'>"
      ]
     },
     "execution_count": 195,
     "metadata": {},
     "output_type": "execute_result"
    },
    {
     "data": {
      "image/png": "[encoded data removed]",
      "text/plain": [
       "<Figure size 432x288 with 1 Axes>"
      ]
     },
     "metadata": {
      "needs_background": "light"
     },
     "output_type": "display_data"
    }
   ],
   "source": [
    "sns.swarmplot(newdf['26 Trust that the online retail store will fulfill its part of the transaction at the stipulated time'])"
   ]
  },
  {
   "cell_type": "markdown",
   "id": "d290b1fc",
   "metadata": {},
   "source": [
    "### MAXIMUM PEOPLE STRONGLY AGREE AND AGREE THAT THEY TRUST THE ONLINE RETAIL STORE AND THAT THEY WILL FULFILL THEIR PART OF THE TRANSACTION AT THE STIPULATED TIME"
   ]
  },
  {
   "cell_type": "code",
   "execution_count": 212,
   "id": "e00502cf",
   "metadata": {},
   "outputs": [
    {
     "data": {
      "text/plain": [
       "<AxesSubplot:xlabel='33 Return and replacement policy of the e-tailer is important for purchase decision'>"
      ]
     },
     "execution_count": 212,
     "metadata": {},
     "output_type": "execute_result"
    },
    {
     "data": {
      "image/png": "[encoded data removed]",
      "text/plain": [
       "<Figure size 432x288 with 1 Axes>"
      ]
     },
     "metadata": {
      "needs_background": "light"
     },
     "output_type": "display_data"
    }
   ],
   "source": [
    "sns.swarmplot(newdf['33 Return and replacement policy of the e-tailer is important for purchase decision'])"
   ]
  },
  {
   "cell_type": "markdown",
   "id": "913f2b98",
   "metadata": {},
   "source": [
    "### MAXIMUM PEOPLE STRONGLY AGREE TO THE FACT THAT RETURN AND REPLACEMENT POLICY OF THE E-TAILER IS IMPORTANT FOR PURCHASE DECISION"
   ]
  },
  {
   "cell_type": "code",
   "execution_count": 233,
   "id": "9110ce53",
   "metadata": {
    "scrolled": true
   },
   "outputs": [
    {
     "data": {
      "text/plain": [
       "<AxesSubplot:xlabel='45 You feel gratification shopping on your favorite e-tailer'>"
      ]
     },
     "execution_count": 233,
     "metadata": {},
     "output_type": "execute_result"
    },
    {
     "data": {
      "image/png": "[encoded data removed]",
      "text/plain": [
       "<Figure size 720x288 with 1 Axes>"
      ]
     },
     "metadata": {
      "needs_background": "light"
     },
     "output_type": "display_data"
    }
   ],
   "source": [
    "plt.figure(figsize=(10,4))\n",
    "sns.swarmplot(newdf['45 You feel gratification shopping on your favorite e-tailer'])"
   ]
  },
  {
   "cell_type": "markdown",
   "id": "b1137fe0",
   "metadata": {},
   "source": [
    "### MAJORLY PEOPLE ARE INDIFFERENT TO THE FACT THAT THEY FEEL GRATIFIED SHOPPING ON THEIR FAVOURITE E-TAILER"
   ]
  },
  {
   "cell_type": "code",
   "execution_count": 235,
   "id": "f1be9b53",
   "metadata": {},
   "outputs": [
    {
     "data": {
      "text/plain": [
       "<AxesSubplot:xlabel='46 Shopping on the website helps you fulfill certain roles'>"
      ]
     },
     "execution_count": 235,
     "metadata": {},
     "output_type": "execute_result"
    },
    {
     "data": {
      "image/png": "[encoded data removed]",
      "text/plain": [
       "<Figure size 720x288 with 1 Axes>"
      ]
     },
     "metadata": {
      "needs_background": "light"
     },
     "output_type": "display_data"
    }
   ],
   "source": [
    "plt.figure(figsize=(10,4))\n",
    "sns.swarmplot(newdf['46 Shopping on the website helps you fulfill certain roles'])"
   ]
  },
  {
   "cell_type": "markdown",
   "id": "74d2175a",
   "metadata": {},
   "source": [
    "### FAIRLY SAME PEOPLE AGREE AND ARE INDIFFERNET TO THE FACT THAT SHOPPING ON THE WEBSITE HELPS THEM FULFILL CERTAIN ROLES"
   ]
  },
  {
   "cell_type": "code",
   "execution_count": 236,
   "id": "d6ac9b96",
   "metadata": {},
   "outputs": [
    {
     "data": {
      "text/plain": [
       "<AxesSubplot:xlabel='47 Getting value for money spent'>"
      ]
     },
     "execution_count": 236,
     "metadata": {},
     "output_type": "execute_result"
    },
    {
     "data": {
      "image/png": "[encoded data removed]",
      "text/plain": [
       "<Figure size 432x288 with 1 Axes>"
      ]
     },
     "metadata": {
      "needs_background": "light"
     },
     "output_type": "display_data"
    }
   ],
   "source": [
    "sns.swarmplot(newdf['47 Getting value for money spent'])"
   ]
  },
  {
   "cell_type": "markdown",
   "id": "56310094",
   "metadata": {},
   "source": [
    "### MAJORITY OF THE PEOPLE FEEL THAT THEY ARE GETTING VALUE FOR MONEY SPENT"
   ]
  },
  {
   "cell_type": "code",
   "execution_count": null,
   "id": "5dfe2fbd",
   "metadata": {},
   "outputs": [],
   "source": []
  }
 ],
 "metadata": {
  "kernelspec": {
   "display_name": "Python 3 (ipykernel)",
   "language": "python",
   "name": "python3"
  },
  "language_info": {
   "codemirror_mode": {
    "name": "ipython",
    "version": 3
   },
   "file_extension": ".py",
   "mimetype": "text/x-python",
   "name": "python",
   "nbconvert_exporter": "python",
   "pygments_lexer": "ipython3",
   "version": "3.9.7"
  }
 },
 "nbformat": 4,
 "nbformat_minor": 5
}
